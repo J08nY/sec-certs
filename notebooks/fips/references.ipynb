{
 "cells": [
  {
   "cell_type": "code",
   "execution_count": 1,
   "id": "c720132b",
   "metadata": {},
   "outputs": [],
   "source": [
    "# import networkx as nx\n",
    "# import networkx.algorithms.community as nx_comm\n",
    "# import matplotlib\n",
    "# import matplotlib.pyplot as plt\n",
    "# import matplotlib.ticker as mtick\n",
    "# \n",
    "# import pandas as pd\n",
    "# import seaborn as sns\n",
    "# import numpy as np\n",
    "# from pysankey import sankey\n",
    "\n",
    "# %matplotlib inline\n",
    "\n",
    "# matplotlib.use(\"pgf\")\n",
    "# sns.set_theme(style='white')\n",
    "# plt.rcParams[\"axes.linewidth\"] = 0.5\n",
    "# plt.rcParams[\"legend.fontsize\"] = 6.5\n",
    "# plt.rcParams[\"xtick.labelsize\"] = 8\n",
    "# plt.rcParams[\"ytick.labelsize\"] = 8\n",
    "# plt.rcParams[\"ytick.left\"] = True\n",
    "# plt.rcParams['ytick.major.size'] = 5\n",
    "# plt.rcParams['ytick.major.width'] = 0.5\n",
    "# plt.rcParams['ytick.major.pad'] = 0\n",
    "# plt.rcParams[\"xtick.bottom\"] = True\n",
    "# plt.rcParams['xtick.major.size'] = 5\n",
    "# plt.rcParams['xtick.major.width'] = 0.5\n",
    "# plt.rcParams['xtick.major.pad'] = 0\n",
    "# plt.rcParams[\"pgf.texsystem\"] = \"pdflatex\"\n",
    "# plt.rcParams[\"font.family\"] = \"serif\"\n",
    "# plt.rcParams[\"text.usetex\"] = True\n",
    "# plt.rcParams[\"pgf.rcfonts\"] = False\n",
    "# plt.rcParams[\"axes.titlesize\"] = 8\n",
    "# plt.rcParams[\"legend.handletextpad\"] = 0.3\n",
    "# plt.rcParams['lines.markersize'] = 4\n",
    "# plt.rcParams['savefig.pad_inches'] = 0.01\n",
    "# \n",
    "\n",
    "#plt.style.use(\"seaborn-whitegrid\")\n",
    "#sns.set_palette(\"deep\")\n",
    "#sns.set_context(\"notebook\")  # Set to \"paper\" for use in paper :)\n",
    "\n",
    "#plt.rcParams['figure.figsize'] = (10, 6)"
   ]
  },
  {
   "cell_type": "code",
   "execution_count": 59,
   "id": "614850e2",
   "metadata": {},
   "outputs": [],
   "source": [
    "import pandas as pd\n",
    "import seaborn as sns\n",
    "import matplotlib.pyplot as plt\n",
    "\n",
    "from sec_certs.dataset.fips import FIPSDataset\n",
    "from collections import Counter\n",
    "\n",
    "sns.set_palette(\"deep\")"
   ]
  },
  {
   "cell_type": "code",
   "execution_count": 4,
   "id": "629aec45",
   "metadata": {},
   "outputs": [
    {
     "name": "stderr",
     "output_type": "stream",
     "text": [
      "Downloading FIPS Dataset: 100%|█████████████████████████████████████| 56.7M/56.7M [00:06<00:00, 9.84MB/s]\n"
     ]
    }
   ],
   "source": [
    "dset = FIPSDataset.from_web_latest()"
   ]
  },
  {
   "cell_type": "code",
   "execution_count": 5,
   "id": "96ad0831",
   "metadata": {},
   "outputs": [],
   "source": [
    "df = dset.to_pandas()"
   ]
  },
  {
   "cell_type": "code",
   "execution_count": 6,
   "id": "160b35a0",
   "metadata": {},
   "outputs": [
    {
     "data": {
      "text/html": [
       "<div>\n",
       "<style scoped>\n",
       "    .dataframe tbody tr th:only-of-type {\n",
       "        vertical-align: middle;\n",
       "    }\n",
       "\n",
       "    .dataframe tbody tr th {\n",
       "        vertical-align: top;\n",
       "    }\n",
       "\n",
       "    .dataframe thead th {\n",
       "        text-align: right;\n",
       "    }\n",
       "</style>\n",
       "<table border=\"1\" class=\"dataframe\">\n",
       "  <thead>\n",
       "    <tr style=\"text-align: right;\">\n",
       "      <th></th>\n",
       "      <th>cert_id</th>\n",
       "      <th>name</th>\n",
       "      <th>status</th>\n",
       "      <th>standard</th>\n",
       "      <th>type</th>\n",
       "      <th>level</th>\n",
       "      <th>embodiment</th>\n",
       "      <th>date_validation</th>\n",
       "      <th>date_sunset</th>\n",
       "      <th>algorithms</th>\n",
       "      <th>...</th>\n",
       "      <th>related_cves</th>\n",
       "      <th>module_directly_referenced_by</th>\n",
       "      <th>module_indirectly_referenced_by</th>\n",
       "      <th>module_directly_referencing</th>\n",
       "      <th>module_indirectly_referencing</th>\n",
       "      <th>policy_directly_referenced_by</th>\n",
       "      <th>policy_indirectly_referenced_by</th>\n",
       "      <th>policy_directly_referencing</th>\n",
       "      <th>policy_indirectly_referencing</th>\n",
       "      <th>year_from</th>\n",
       "    </tr>\n",
       "    <tr>\n",
       "      <th>dgst</th>\n",
       "      <th></th>\n",
       "      <th></th>\n",
       "      <th></th>\n",
       "      <th></th>\n",
       "      <th></th>\n",
       "      <th></th>\n",
       "      <th></th>\n",
       "      <th></th>\n",
       "      <th></th>\n",
       "      <th></th>\n",
       "      <th></th>\n",
       "      <th></th>\n",
       "      <th></th>\n",
       "      <th></th>\n",
       "      <th></th>\n",
       "      <th></th>\n",
       "      <th></th>\n",
       "      <th></th>\n",
       "      <th></th>\n",
       "      <th></th>\n",
       "      <th></th>\n",
       "    </tr>\n",
       "  </thead>\n",
       "  <tbody>\n",
       "    <tr>\n",
       "      <th>84bdcd156603935b</th>\n",
       "      <td>4150</td>\n",
       "      <td>Intel® Converged Security and Manageability En...</td>\n",
       "      <td>active</td>\n",
       "      <td>FIPS 140-2</td>\n",
       "      <td>Firmware-Hybrid</td>\n",
       "      <td>1.0</td>\n",
       "      <td>Single Chip</td>\n",
       "      <td>2022-02-10</td>\n",
       "      <td>2026-09-21</td>\n",
       "      <td>{DRBG#A667, AES#A668, SHS#A668, HMAC#A668, ECD...</td>\n",
       "      <td>...</td>\n",
       "      <td>NaN</td>\n",
       "      <td>NaN</td>\n",
       "      <td>NaN</td>\n",
       "      <td>NaN</td>\n",
       "      <td>NaN</td>\n",
       "      <td>NaN</td>\n",
       "      <td>NaN</td>\n",
       "      <td>{4025}</td>\n",
       "      <td>{4025}</td>\n",
       "      <td>2022</td>\n",
       "    </tr>\n",
       "    <tr>\n",
       "      <th>cd2ed2d000e7d0e9</th>\n",
       "      <td>4326</td>\n",
       "      <td>NaN</td>\n",
       "      <td>active</td>\n",
       "      <td>FIPS 140-2</td>\n",
       "      <td>Hardware</td>\n",
       "      <td>2.0</td>\n",
       "      <td>Multi-Chip Stand Alone</td>\n",
       "      <td>2022-10-11</td>\n",
       "      <td>2026-09-21</td>\n",
       "      <td>{}</td>\n",
       "      <td>...</td>\n",
       "      <td>NaN</td>\n",
       "      <td>NaN</td>\n",
       "      <td>NaN</td>\n",
       "      <td>NaN</td>\n",
       "      <td>NaN</td>\n",
       "      <td>NaN</td>\n",
       "      <td>NaN</td>\n",
       "      <td>NaN</td>\n",
       "      <td>NaN</td>\n",
       "      <td>2022</td>\n",
       "    </tr>\n",
       "    <tr>\n",
       "      <th>3320051c00a95198</th>\n",
       "      <td>4339</td>\n",
       "      <td>Windows OS Loader</td>\n",
       "      <td>active</td>\n",
       "      <td>FIPS 140-2</td>\n",
       "      <td>Software</td>\n",
       "      <td>1.0</td>\n",
       "      <td>Multi-Chip Stand Alone</td>\n",
       "      <td>2022-10-17</td>\n",
       "      <td>2026-09-21</td>\n",
       "      <td>{AES#C1946, SHS#C1897, AES#C1364, SHS#C785, AE...</td>\n",
       "      <td>...</td>\n",
       "      <td>NaN</td>\n",
       "      <td>{4457, 4511, 4512, 4515}</td>\n",
       "      <td>{4457, 4511, 4512, 4515}</td>\n",
       "      <td>{3923}</td>\n",
       "      <td>{3923}</td>\n",
       "      <td>{4457, 4511, 4512, 4515}</td>\n",
       "      <td>{4457, 4511, 4512, 4515}</td>\n",
       "      <td>{3923}</td>\n",
       "      <td>{3923}</td>\n",
       "      <td>2022</td>\n",
       "    </tr>\n",
       "    <tr>\n",
       "      <th>0252656a94fd2e92</th>\n",
       "      <td>4276</td>\n",
       "      <td>Ascom Smartphone BoringCrypto</td>\n",
       "      <td>active</td>\n",
       "      <td>FIPS 140-2</td>\n",
       "      <td>Software</td>\n",
       "      <td>1.0</td>\n",
       "      <td>Multi-Chip Stand Alone</td>\n",
       "      <td>2022-08-08</td>\n",
       "      <td>2025-12-01</td>\n",
       "      <td>{AES#C1314, CVL#C1314, DRBG#C1314, KTS#C1314, ...</td>\n",
       "      <td>...</td>\n",
       "      <td>NaN</td>\n",
       "      <td>NaN</td>\n",
       "      <td>NaN</td>\n",
       "      <td>NaN</td>\n",
       "      <td>NaN</td>\n",
       "      <td>NaN</td>\n",
       "      <td>NaN</td>\n",
       "      <td>NaN</td>\n",
       "      <td>NaN</td>\n",
       "      <td>2022</td>\n",
       "    </tr>\n",
       "    <tr>\n",
       "      <th>0b94cd5e95afb17f</th>\n",
       "      <td>4271</td>\n",
       "      <td>Red Hat Enterprise Linux 8 OpenSSL Cryptograph...</td>\n",
       "      <td>active</td>\n",
       "      <td>FIPS 140-2</td>\n",
       "      <td>Software</td>\n",
       "      <td>1.0</td>\n",
       "      <td>Multi-Chip Stand Alone</td>\n",
       "      <td>2022-07-18</td>\n",
       "      <td>2026-09-21</td>\n",
       "      <td>{KAS-SSC#A1133, RSA#A1135, PBKDF#A1133, AES#A1...</td>\n",
       "      <td>...</td>\n",
       "      <td>{CVE-1999-0037, CVE-2019-6109, CVE-2019-2798, ...</td>\n",
       "      <td>NaN</td>\n",
       "      <td>NaN</td>\n",
       "      <td>NaN</td>\n",
       "      <td>NaN</td>\n",
       "      <td>{4473}</td>\n",
       "      <td>{4473}</td>\n",
       "      <td>NaN</td>\n",
       "      <td>NaN</td>\n",
       "      <td>2022</td>\n",
       "    </tr>\n",
       "  </tbody>\n",
       "</table>\n",
       "<p>5 rows × 23 columns</p>\n",
       "</div>"
      ],
      "text/plain": [
       "                  cert_id                                               name  \\\n",
       "dgst                                                                           \n",
       "84bdcd156603935b     4150  Intel® Converged Security and Manageability En...   \n",
       "cd2ed2d000e7d0e9     4326                                                NaN   \n",
       "3320051c00a95198     4339                                  Windows OS Loader   \n",
       "0252656a94fd2e92     4276                      Ascom Smartphone BoringCrypto   \n",
       "0b94cd5e95afb17f     4271  Red Hat Enterprise Linux 8 OpenSSL Cryptograph...   \n",
       "\n",
       "                  status    standard             type  level  \\\n",
       "dgst                                                           \n",
       "84bdcd156603935b  active  FIPS 140-2  Firmware-Hybrid    1.0   \n",
       "cd2ed2d000e7d0e9  active  FIPS 140-2         Hardware    2.0   \n",
       "3320051c00a95198  active  FIPS 140-2         Software    1.0   \n",
       "0252656a94fd2e92  active  FIPS 140-2         Software    1.0   \n",
       "0b94cd5e95afb17f  active  FIPS 140-2         Software    1.0   \n",
       "\n",
       "                              embodiment date_validation date_sunset  \\\n",
       "dgst                                                                   \n",
       "84bdcd156603935b             Single Chip      2022-02-10  2026-09-21   \n",
       "cd2ed2d000e7d0e9  Multi-Chip Stand Alone      2022-10-11  2026-09-21   \n",
       "3320051c00a95198  Multi-Chip Stand Alone      2022-10-17  2026-09-21   \n",
       "0252656a94fd2e92  Multi-Chip Stand Alone      2022-08-08  2025-12-01   \n",
       "0b94cd5e95afb17f  Multi-Chip Stand Alone      2022-07-18  2026-09-21   \n",
       "\n",
       "                                                         algorithms  ...  \\\n",
       "dgst                                                                 ...   \n",
       "84bdcd156603935b  {DRBG#A667, AES#A668, SHS#A668, HMAC#A668, ECD...  ...   \n",
       "cd2ed2d000e7d0e9                                                 {}  ...   \n",
       "3320051c00a95198  {AES#C1946, SHS#C1897, AES#C1364, SHS#C785, AE...  ...   \n",
       "0252656a94fd2e92  {AES#C1314, CVL#C1314, DRBG#C1314, KTS#C1314, ...  ...   \n",
       "0b94cd5e95afb17f  {KAS-SSC#A1133, RSA#A1135, PBKDF#A1133, AES#A1...  ...   \n",
       "\n",
       "                                                       related_cves  \\\n",
       "dgst                                                                  \n",
       "84bdcd156603935b                                                NaN   \n",
       "cd2ed2d000e7d0e9                                                NaN   \n",
       "3320051c00a95198                                                NaN   \n",
       "0252656a94fd2e92                                                NaN   \n",
       "0b94cd5e95afb17f  {CVE-1999-0037, CVE-2019-6109, CVE-2019-2798, ...   \n",
       "\n",
       "                 module_directly_referenced_by  \\\n",
       "dgst                                             \n",
       "84bdcd156603935b                           NaN   \n",
       "cd2ed2d000e7d0e9                           NaN   \n",
       "3320051c00a95198      {4457, 4511, 4512, 4515}   \n",
       "0252656a94fd2e92                           NaN   \n",
       "0b94cd5e95afb17f                           NaN   \n",
       "\n",
       "                  module_indirectly_referenced_by module_directly_referencing  \\\n",
       "dgst                                                                            \n",
       "84bdcd156603935b                              NaN                         NaN   \n",
       "cd2ed2d000e7d0e9                              NaN                         NaN   \n",
       "3320051c00a95198         {4457, 4511, 4512, 4515}                      {3923}   \n",
       "0252656a94fd2e92                              NaN                         NaN   \n",
       "0b94cd5e95afb17f                              NaN                         NaN   \n",
       "\n",
       "                 module_indirectly_referencing policy_directly_referenced_by  \\\n",
       "dgst                                                                           \n",
       "84bdcd156603935b                           NaN                           NaN   \n",
       "cd2ed2d000e7d0e9                           NaN                           NaN   \n",
       "3320051c00a95198                        {3923}      {4457, 4511, 4512, 4515}   \n",
       "0252656a94fd2e92                           NaN                           NaN   \n",
       "0b94cd5e95afb17f                           NaN                        {4473}   \n",
       "\n",
       "                 policy_indirectly_referenced_by policy_directly_referencing  \\\n",
       "dgst                                                                           \n",
       "84bdcd156603935b                             NaN                      {4025}   \n",
       "cd2ed2d000e7d0e9                             NaN                         NaN   \n",
       "3320051c00a95198        {4457, 4511, 4512, 4515}                      {3923}   \n",
       "0252656a94fd2e92                             NaN                         NaN   \n",
       "0b94cd5e95afb17f                          {4473}                         NaN   \n",
       "\n",
       "                 policy_indirectly_referencing year_from  \n",
       "dgst                                                      \n",
       "84bdcd156603935b                        {4025}      2022  \n",
       "cd2ed2d000e7d0e9                           NaN      2022  \n",
       "3320051c00a95198                        {3923}      2022  \n",
       "0252656a94fd2e92                           NaN      2022  \n",
       "0b94cd5e95afb17f                           NaN      2022  \n",
       "\n",
       "[5 rows x 23 columns]"
      ]
     },
     "execution_count": 6,
     "metadata": {},
     "output_type": "execute_result"
    }
   ],
   "source": [
    "df.head()"
   ]
  },
  {
   "cell_type": "markdown",
   "id": "72142ff5",
   "metadata": {},
   "source": [
    "## Exploratory Data Analysis"
   ]
  },
  {
   "cell_type": "code",
   "execution_count": 7,
   "id": "14dfcca5",
   "metadata": {},
   "outputs": [
    {
     "name": "stdout",
     "output_type": "stream",
     "text": [
      "Dataset contains 4515 rows and 23 columns.\n"
     ]
    }
   ],
   "source": [
    "print(f\"Dataset contains {df.shape[0]} rows and {df.shape[1]} columns.\")"
   ]
  },
  {
   "cell_type": "code",
   "execution_count": 8,
   "id": "1c1e7211",
   "metadata": {
    "scrolled": true
   },
   "outputs": [
    {
     "name": "stdout",
     "output_type": "stream",
     "text": [
      "Total number of active certs: 941\n",
      "Total number of historical certs: 3550\n",
      "Total number of revoked certs: 24\n"
     ]
    }
   ],
   "source": [
    "total_active_certs: int = df[df[\"status\"] == \"active\"].shape[0]\n",
    "total_historical_certs: int = df[df[\"status\"] == \"historical\"].shape[0]\n",
    "total_revoked_certs: int = df[df[\"status\"] == \"revoked\"].shape[0]\n",
    "\n",
    "print(f\"Total number of active certs: {total_active_certs}\")\n",
    "print(f\"Total number of historical certs: {total_historical_certs}\")\n",
    "print(f\"Total number of revoked certs: {total_revoked_certs}\")"
   ]
  },
  {
   "cell_type": "markdown",
   "id": "53c2bcde",
   "metadata": {},
   "source": [
    "### Status distribution of certificates"
   ]
  },
  {
   "cell_type": "code",
   "execution_count": 32,
   "id": "006e436e",
   "metadata": {
    "scrolled": false
   },
   "outputs": [
    {
     "data": {
      "image/png": "[encoded data removed]",
      "text/plain": [
       "<Figure size 640x480 with 1 Axes>"
      ]
     },
     "metadata": {},
     "output_type": "display_data"
    }
   ],
   "source": [
    "sns.histplot(data=df[\"status\"])\n",
    "plt.title(\"Distribution of certificate statuses\")\n",
    "plt.xlabel(\"Certificate status\")\n",
    "plt.show()"
   ]
  },
  {
   "cell_type": "markdown",
   "id": "0b553d83",
   "metadata": {},
   "source": [
    "### Type distribution of certificates"
   ]
  },
  {
   "cell_type": "code",
   "execution_count": 31,
   "id": "382867bb",
   "metadata": {
    "scrolled": false
   },
   "outputs": [
    {
     "data": {
      "image/png": "[encoded data removed]",
      "text/plain": [
       "<Figure size 640x480 with 1 Axes>"
      ]
     },
     "metadata": {},
     "output_type": "display_data"
    }
   ],
   "source": [
    "sns.histplot(data=df[\"type\"])\n",
    "plt.title(\"Distribution of certificate types\")\n",
    "plt.xlabel(\"Certificate type\")\n",
    "plt.xticks(rotation=90) \n",
    "plt.show()"
   ]
  },
  {
   "cell_type": "markdown",
   "id": "7f365a8d",
   "metadata": {},
   "source": [
    "### Standard distribution of certificates"
   ]
  },
  {
   "cell_type": "code",
   "execution_count": 41,
   "id": "b9992b31",
   "metadata": {
    "scrolled": true
   },
   "outputs": [
    {
     "data": {
      "image/png": "[encoded data removed]",
      "text/plain": [
       "<Figure size 640x480 with 1 Axes>"
      ]
     },
     "metadata": {},
     "output_type": "display_data"
    }
   ],
   "source": [
    "sns.histplot(data=df[\"standard\"])\n",
    "plt.title(\"Distribution of certificate standards\")\n",
    "plt.show()"
   ]
  },
  {
   "cell_type": "markdown",
   "id": "1bfce80f",
   "metadata": {},
   "source": [
    "### Distribution of embodiment in the dataset"
   ]
  },
  {
   "cell_type": "code",
   "execution_count": 44,
   "id": "21e0709f",
   "metadata": {
    "scrolled": false
   },
   "outputs": [
    {
     "data": {
      "image/png": "[encoded data removed]",
      "text/plain": [
       "<Figure size 640x480 with 1 Axes>"
      ]
     },
     "metadata": {},
     "output_type": "display_data"
    }
   ],
   "source": [
    "sns.histplot(data=df[\"embodiment\"])\n",
    "plt.title(\"Distribution of certificate embodiments\")\n",
    "plt.xticks(rotation=90) \n",
    "plt.show()"
   ]
  },
  {
   "cell_type": "markdown",
   "id": "56e5bb3f",
   "metadata": {},
   "source": [
    "### Five most common CVEs in the dataset"
   ]
  },
  {
   "cell_type": "code",
   "execution_count": 52,
   "id": "728204b5",
   "metadata": {
    "scrolled": false
   },
   "outputs": [
    {
     "name": "stdout",
     "output_type": "stream",
     "text": [
      "Number of certificates with at least one CVE: 220\n"
     ]
    }
   ],
   "source": [
    "cve_certs_df = df[df[\"related_cves\"].notna()]\n",
    "\n",
    "print(f\"Number of certificates with at least one CVE: {cve_certs_df.shape[0]}\")"
   ]
  },
  {
   "cell_type": "code",
   "execution_count": 63,
   "id": "26f9f736",
   "metadata": {},
   "outputs": [
    {
     "data": {
      "text/plain": [
       "[('CVE-2016-7091', 49),\n",
       " ('CVE-1999-0037', 45),\n",
       " ('CVE-2001-0889', 45),\n",
       " ('CVE-2007-3103', 45),\n",
       " ('CVE-1999-1288', 45)]"
      ]
     },
     "execution_count": 63,
     "metadata": {},
     "output_type": "execute_result"
    }
   ],
   "source": [
    "cve_counter = Counter()\n",
    "\n",
    "for cves in cve_certs_df[\"related_cves\"]:\n",
    "    cve_counter.update(cves)\n",
    "\n",
    "cve_counter.most_common(5)"
   ]
  },
  {
   "cell_type": "markdown",
   "id": "98d90c4e",
   "metadata": {},
   "source": [
    "### Five most common crypto algorithms used"
   ]
  },
  {
   "cell_type": "code",
   "execution_count": 72,
   "id": "d10b1d10",
   "metadata": {
    "scrolled": true
   },
   "outputs": [
    {
     "data": {
      "text/plain": [
       "[('RSA#1', 180),\n",
       " ('Triple-DES#34', 45),\n",
       " ('ECDSA#368', 35),\n",
       " ('AES#2273', 35),\n",
       " ('DRBG#281', 35)]"
      ]
     },
     "execution_count": 72,
     "metadata": {},
     "output_type": "execute_result"
    }
   ],
   "source": [
    "crypto_algo_counter = Counter()\n",
    "\n",
    "for algorithms in df[\"algorithms\"]:\n",
    "    crypto_algo_counter.update(algorithms)\n",
    "\n",
    "crypto_algo_counter.most_common(5)"
   ]
  },
  {
   "cell_type": "code",
   "execution_count": null,
   "id": "35ae71e6",
   "metadata": {},
   "outputs": [],
   "source": []
  },
  {
   "cell_type": "markdown",
   "id": "14c1d307",
   "metadata": {},
   "source": [
    "## Analysis of FIPS references"
   ]
  },
  {
   "cell_type": "code",
   "execution_count": 46,
   "id": "b661c3ed",
   "metadata": {},
   "outputs": [],
   "source": [
    "# TODO"
   ]
  }
 ],
 "metadata": {
  "kernelspec": {
   "display_name": "Python 3 (ipykernel)",
   "language": "python",
   "name": "python3"
  },
  "language_info": {
   "codemirror_mode": {
    "name": "ipython",
    "version": 3
   },
   "file_extension": ".py",
   "mimetype": "text/x-python",
   "name": "python",
   "nbconvert_exporter": "python",
   "pygments_lexer": "ipython3",
   "version": "3.10.6"
  }
 },
 "nbformat": 4,
 "nbformat_minor": 5
}
