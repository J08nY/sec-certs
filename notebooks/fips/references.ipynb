{
 "cells": [
  {
   "cell_type": "markdown",
   "id": "3c944a8c",
   "metadata": {},
   "source": [
    "# FIPS References\n",
    "\n",
    "This notebook provides insights into the references of FIPS certificates."
   ]
  },
  {
   "cell_type": "code",
   "execution_count": 1,
   "id": "91a0cb1b",
   "metadata": {},
   "outputs": [],
   "source": [
    "import sys\n",
    "import pandas as pd\n",
    "import seaborn as sns\n",
    "import logging\n",
    "import networkx as nx\n",
    "import matplotlib\n",
    "import matplotlib.pyplot as plt\n",
    "\n",
    "from sec_certs.dataset.fips import FIPSDataset\n",
    "from collections import Counter\n",
    "from pprint import pprint\n",
    "\n",
    "# Typing imports\n",
    "from pandas.core.frame import DataFrame, Series\n",
    "\n",
    "#%matplotlib inline\n",
    "#matplotlib.use(\"pgf\")\n",
    "sns.set_theme(style='white')\n",
    "plt.rcParams[\"axes.linewidth\"] = 0.5\n",
    "plt.rcParams[\"legend.fontsize\"] = 6.5\n",
    "plt.rcParams[\"xtick.labelsize\"] = 8\n",
    "plt.rcParams[\"ytick.labelsize\"] = 8\n",
    "plt.rcParams[\"ytick.left\"] = True\n",
    "plt.rcParams[\"ytick.major.size\"] = 5\n",
    "plt.rcParams[\"ytick.major.width\"] = 0.5\n",
    "plt.rcParams[\"ytick.major.pad\"] = 0\n",
    "plt.rcParams[\"xtick.bottom\"] = True\n",
    "plt.rcParams[\"xtick.major.size\"] = 5\n",
    "plt.rcParams[\"xtick.major.width\"] = 0.5\n",
    "plt.rcParams[\"xtick.major.pad\"] = 0\n",
    "# plt.rcParams[\"pgf.texsystem\"] = \"pdflatex\"\n",
    "plt.rcParams[\"font.family\"] = \"serif\"\n",
    "# plt.rcParams[\"text.usetex\"] = True\n",
    "# plt.rcParams[\"pgf.rcfonts\"] = False\n",
    "plt.rcParams[\"axes.titlesize\"] = 10\n",
    "plt.rcParams[\"legend.handletextpad\"] = 0.3\n",
    "plt.rcParams[\"lines.markersize\"] = 4\n",
    "plt.rcParams[\"savefig.pad_inches\"] = 0.01\n",
    "sns.set_palette(\"deep\")"
   ]
  },
  {
   "cell_type": "code",
   "execution_count": null,
   "id": "629aec45",
   "metadata": {
    "scrolled": true
   },
   "outputs": [
    {
     "name": "stderr",
     "output_type": "stream",
     "text": [
      "Downloading FIPS Dataset:   4%|█▌                                    | 2.44M/57.2M [00:05<02:50, 338kB/s]"
     ]
    }
   ],
   "source": [
    "dset = FIPSDataset.from_web_latest()"
   ]
  },
  {
   "cell_type": "code",
   "execution_count": null,
   "id": "96ad0831",
   "metadata": {},
   "outputs": [],
   "source": [
    "df = dset.to_pandas()"
   ]
  },
  {
   "cell_type": "code",
   "execution_count": null,
   "id": "b76653bd",
   "metadata": {},
   "outputs": [],
   "source": [
    "def get_references_count(references: set[str] | float) -> int:\n",
    "    return 0 if pd.isna(references) else len(references)"
   ]
  },
  {
   "cell_type": "code",
   "execution_count": null,
   "id": "8fd8e127",
   "metadata": {},
   "outputs": [],
   "source": [
    "df[\"outgoing_direct_references_count\"] = df[\"module_directly_referencing\"].apply(get_references_count)\n",
    "df[\"incoming_direct_references_count\"] = df[\"module_directly_referenced_by\"].apply(get_references_count)\n",
    "df[\"outgoing_indirect_references_count\"] = df[\"module_indirectly_referencing\"].apply(get_references_count)\n",
    "df[\"incoming_indirect_references_count\"] = df[\"module_indirectly_referenced_by\"].apply(get_references_count)"
   ]
  },
  {
   "cell_type": "markdown",
   "id": "eff29c58",
   "metadata": {},
   "source": [
    "## Analysis of FIPS references"
   ]
  },
  {
   "cell_type": "code",
   "execution_count": null,
   "id": "6ceb86c7",
   "metadata": {},
   "outputs": [],
   "source": [
    "REFS_COLUMNS: list[str] = [\n",
    "    \"cert_id\",\n",
    "    \"status\",\n",
    "    \"standard\",\n",
    "    \"type\",\n",
    "    \"level\",\n",
    "    \"embodiment\",\n",
    "    \"year_from\",\n",
    "    \"related_cves\",\n",
    "    \"module_directly_referenced_by\", \n",
    "    \"module_indirectly_referenced_by\",\n",
    "    \"module_directly_referencing\",\n",
    "    \"module_indirectly_referencing\",\n",
    "    \"policy_directly_referenced_by\",\n",
    "    \"policy_indirectly_referenced_by\",\n",
    "    \"policy_directly_referencing\",\n",
    "    \"policy_indirectly_referencing\",\n",
    "    \"outgoing_direct_references_count\",\n",
    "    \"incoming_direct_references_count\",\n",
    "    \"outgoing_indirect_references_count\",\n",
    "    \"incoming_indirect_references_count\"\n",
    "]\n",
    "df = df[REFS_COLUMNS]"
   ]
  },
  {
   "cell_type": "markdown",
   "id": "9921ff15",
   "metadata": {},
   "source": [
    "### References EDA"
   ]
  },
  {
   "cell_type": "markdown",
   "id": "12f546d4",
   "metadata": {},
   "source": [
    "#### Direct module references"
   ]
  },
  {
   "cell_type": "code",
   "execution_count": null,
   "id": "28037bec",
   "metadata": {},
   "outputs": [],
   "source": [
    "df[df[\"outgoing_direct_references_count\"] > 0][\"outgoing_direct_references_count\"].describe()"
   ]
  },
  {
   "cell_type": "markdown",
   "id": "9276357b",
   "metadata": {},
   "source": [
    "#### Indirect module references"
   ]
  },
  {
   "cell_type": "code",
   "execution_count": null,
   "id": "f6e5e425",
   "metadata": {},
   "outputs": [],
   "source": [
    "df[df[\"outgoing_indirect_references_count\"] > 0][\"outgoing_indirect_references_count\"].describe()"
   ]
  },
  {
   "cell_type": "markdown",
   "id": "f7c8177f",
   "metadata": {},
   "source": [
    "#### Direct references per status"
   ]
  },
  {
   "cell_type": "code",
   "execution_count": null,
   "id": "b374ad5b",
   "metadata": {
    "scrolled": false
   },
   "outputs": [],
   "source": [
    "refs_direct_eda_df: DataFrame = df[df[\"outgoing_direct_references_count\"] > 0]\n",
    "refs_direct_eda_df[\"status\"].value_counts().loc[lambda x: x > 0].plot.pie(autopct=\"%.0f%%\")\n",
    "\n",
    "plt.title(\"Status distribution among directly referencing certificates\")\n",
    "plt.show()"
   ]
  },
  {
   "cell_type": "markdown",
   "id": "b78c8e28",
   "metadata": {},
   "source": [
    "#### Direct references per type\n"
   ]
  },
  {
   "cell_type": "code",
   "execution_count": null,
   "id": "cd503dd3",
   "metadata": {},
   "outputs": [],
   "source": [
    "refs_direct_eda_df[\"type\"].value_counts().loc[lambda x: x > 0].plot.pie(autopct=\"%.0f%%\")\n",
    "\n",
    "plt.title(\"Certificate type distribution among directly referencing certificates\")\n",
    "plt.show()"
   ]
  },
  {
   "cell_type": "markdown",
   "id": "f2640599",
   "metadata": {},
   "source": [
    "#### Direct references per level"
   ]
  },
  {
   "cell_type": "code",
   "execution_count": null,
   "id": "571b537b",
   "metadata": {
    "scrolled": true
   },
   "outputs": [],
   "source": [
    "refs_direct_eda_df[\"level\"].value_counts().loc[lambda x: x > 0].plot.pie(autopct=\"%.0f%%\")\n",
    "\n",
    "plt.title(\"Certificate level distribution among directly referencing certificates\")\n",
    "plt.show()"
   ]
  },
  {
   "cell_type": "markdown",
   "id": "c3954632",
   "metadata": {},
   "source": [
    "#### Direct references per embodiment"
   ]
  },
  {
   "cell_type": "code",
   "execution_count": null,
   "id": "61a9b016",
   "metadata": {},
   "outputs": [],
   "source": [
    "embodiment_counts_df = refs_direct_eda_df[\"embodiment\"].value_counts().loc[lambda x: x > 0].plot.pie(autopct=\"%.0f%%\")\n",
    "\n",
    "plt.title(\"Certificate embodiment distribution among directly referencing certificates\")\n",
    "plt.show()"
   ]
  },
  {
   "cell_type": "markdown",
   "id": "d6eb6ba2",
   "metadata": {},
   "source": [
    "#### Time analysis of mean of references per years"
   ]
  },
  {
   "cell_type": "code",
   "execution_count": null,
   "id": "60ae26c1",
   "metadata": {
    "scrolled": true
   },
   "outputs": [],
   "source": [
    "referencing_df = df[df[\"outgoing_direct_references_count\"] > 0][\n",
    "    [\"year_from\", \"outgoing_direct_references_count\"]\n",
    "]\n",
    "refs_grouped_by = referencing_df.select_dtypes(include=[\"number\"]).groupby([\"year_from\"]).mean()\n",
    "line = sns.lineplot(data=refs_grouped_by, x=\"year_from\", y=\"outgoing_direct_references_count\")\n",
    "\n",
    "plt.title(\"Time analysis of references mean per year\")\n",
    "plt.show()"
   ]
  },
  {
   "cell_type": "markdown",
   "id": "9a789e26",
   "metadata": {},
   "source": [
    "#### Distribution "
   ]
  },
  {
   "cell_type": "code",
   "execution_count": null,
   "id": "900a900b",
   "metadata": {},
   "outputs": [],
   "source": [
    "YEAR: int = 2016\n",
    "modern_refs = df[(df[\"outgoing_direct_references_count\"] > 0) & (df[\"year_from\"] >= YEAR)]\n",
    "sns.histplot(modern_refs[\"outgoing_direct_references_count\"], kde=True)\n",
    "\n",
    "plt.title(f\"Histogram of references count since {YEAR}\")\n",
    "plt.show()"
   ]
  },
  {
   "cell_type": "markdown",
   "id": "84572319",
   "metadata": {},
   "source": [
    "#### Distribution of embodiments with assigned at least one CVE"
   ]
  },
  {
   "cell_type": "code",
   "execution_count": null,
   "id": "86f9e1d4",
   "metadata": {},
   "outputs": [],
   "source": [
    "cve_df: DataFrame = df[df[\"related_cves\"].notna()]\n",
    "\n",
    "embodiments_counts = cve_df[\"embodiment\"].value_counts()\n",
    "sns.barplot(x=embodiments_counts.index, y=embodiments_counts.values)\n",
    "\n",
    "plt.title(\"Distribution of embodiments of certificates with at least one CVE\")\n",
    "plt.xlabel(\"Embodiment\")\n",
    "plt.ylabel(\"Count\")\n",
    "plt.show()"
   ]
  },
  {
   "cell_type": "markdown",
   "id": "165041da",
   "metadata": {},
   "source": [
    "#### Distribution of levels with assigned at least one CVE"
   ]
  },
  {
   "cell_type": "code",
   "execution_count": null,
   "id": "fb0dad90",
   "metadata": {},
   "outputs": [],
   "source": [
    "level_counts = cve_df[\"level\"].value_counts()\n",
    "sns.barplot(x=level_counts.index, y=level_counts.values)\n",
    "\n",
    "plt.title(\"Distribution of levels of certificates with at least one CVE\")\n",
    "plt.xlabel(\"Level\")\n",
    "plt.ylabel(\"Count\")\n",
    "plt.show()"
   ]
  },
  {
   "cell_type": "markdown",
   "id": "6fe98617",
   "metadata": {},
   "source": [
    "#### Distribution of types with assigned at least one CVE"
   ]
  },
  {
   "cell_type": "code",
   "execution_count": null,
   "id": "b1e1fe59",
   "metadata": {},
   "outputs": [],
   "source": [
    "type_counts = cve_df[\"type\"].value_counts()\n",
    "sns.barplot(x=type_counts.index, y=type_counts.values)\n",
    "\n",
    "plt.title(\"Distribution of types of certificates with at least one CVE\")\n",
    "plt.xlabel(\"Type\")\n",
    "plt.ylabel(\"Count\")\n",
    "plt.xticks(rotation=90)\n",
    "plt.show()"
   ]
  },
  {
   "cell_type": "markdown",
   "id": "0adc5009",
   "metadata": {},
   "source": [
    "#### Distribution of statuses with assigned at least one CVE"
   ]
  },
  {
   "cell_type": "code",
   "execution_count": null,
   "id": "39e0c5ef",
   "metadata": {},
   "outputs": [],
   "source": [
    "status_counts = cve_df[\"status\"].value_counts()\n",
    "sns.barplot(x=status_counts.index, y=status_counts.values)\n",
    "\n",
    "plt.title(\"Distribution of statuses of certificates with at least one CVE\")\n",
    "plt.xlabel(\"Status\")\n",
    "plt.ylabel(\"Count\")\n",
    "plt.show()"
   ]
  },
  {
   "cell_type": "markdown",
   "id": "480bc189",
   "metadata": {},
   "source": [
    "### Statistics how many certificates are referenced and have at least one CVE assigned"
   ]
  },
  {
   "cell_type": "code",
   "execution_count": null,
   "id": "678835dd",
   "metadata": {
    "scrolled": false
   },
   "outputs": [],
   "source": [
    "cve_ref_df: DataFrame = df[(df[\"related_cves\"].notna()) & (df[\"incoming_direct_references_count\"] > 0)]\n",
    "total_references: int = cve_ref_df[\"incoming_direct_references_count\"].sum()\n",
    "\n",
    "print(f\"Total number of certificates referencing at least one certificate with at least one assigned CVE: {total_references}\")"
   ]
  },
  {
   "cell_type": "markdown",
   "id": "15968ee7",
   "metadata": {},
   "source": [
    "#### The certificate with at least one CVE assigned and maximum of references from other certs"
   ]
  },
  {
   "cell_type": "code",
   "execution_count": null,
   "id": "3c17e838",
   "metadata": {
    "scrolled": false
   },
   "outputs": [],
   "source": [
    "maximum_references: int = cve_ref_df[\"incoming_direct_references_count\"].max()\n",
    "print(f\"Maximum amount of references from the other certificates referencing the vulnerable certificate: {maximum_references}\")"
   ]
  },
  {
   "cell_type": "code",
   "execution_count": null,
   "id": "6ca75914",
   "metadata": {},
   "outputs": [],
   "source": [
    "cve_ref_df[cve_ref_df[\"incoming_direct_references_count\"] == maximum_references]"
   ]
  },
  {
   "cell_type": "markdown",
   "id": "38e5b33d",
   "metadata": {},
   "source": [
    "### Active certificates which reference at least one historical cert"
   ]
  },
  {
   "cell_type": "code",
   "execution_count": null,
   "id": "b01d5d38",
   "metadata": {},
   "outputs": [],
   "source": [
    "def get_cert_property(df: DataFrame, cert_id: int, column: str) -> str | None:\n",
    "    if column not in df.columns:\n",
    "        raise ValueError(f\"Dataset does not have column '{column}'\")\n",
    "    \n",
    "    sub_df = df[df[\"cert_id\"] == int(cert_id)]\n",
    "    \n",
    "    if not sub_df.shape[0]:  # Certificate is not in the dataset\n",
    "        print(f\"Cert ID: {cert_id} not in dataset\")\n",
    "        return None\n",
    "    \n",
    "    if sub_df.shape[0] > 1:  # There are more than one occurence with same ID\n",
    "        print(f\"Error Cert ID: {cert_id} has {sub_df.shape[0]} occurrences.\")\n",
    "        return None\n",
    "    \n",
    "    return sub_df.iloc[0][column]"
   ]
  },
  {
   "cell_type": "code",
   "execution_count": null,
   "id": "2d3619d6",
   "metadata": {},
   "outputs": [],
   "source": [
    "active_certs_referencing_historical: list[int] = []\n",
    "# NOTE: \"cert_id\" field is represented as integer, however \"module_directly_referencing\" is set of strings\n",
    "historical_cert_ids: set[str] = set(df[df[\"status\"] == \"historical\"][\"cert_id\"].apply(str))\n",
    "active_referencing_certs: DataFrame = df[(df[\"status\"] == \"active\") & (df[\"outgoing_direct_references_count\"] > 0)]\n",
    "\n",
    "for _, rows in active_referencing_certs.iterrows():\n",
    "    referencing_ids = rows[\"module_directly_referencing\"]\n",
    "    intersection = referencing_ids & historical_cert_ids\n",
    "    \n",
    "    if intersection:\n",
    "        active_certs_referencing_historical.append(rows.cert_id)\n",
    "\n",
    "hit_ratio: float = len(active_certs_referencing_historical) / len(active_referencing_certs)\n",
    "print(f\"Total active certificates referencing at least one historical: {len(active_certs_referencing_historical)}\")\n",
    "print(f\"Total active certificates referencing at least one certificate: {len(active_referencing_certs)}\")\n",
    "print(f\"Hit ratio: {round(hit_ratio, 2)}\")"
   ]
  },
  {
   "cell_type": "markdown",
   "id": "39dcecd1",
   "metadata": {},
   "source": [
    "#### Active certificate referencing at least one historical certificate with assigned CVE"
   ]
  },
  {
   "cell_type": "code",
   "execution_count": null,
   "id": "f3402d08",
   "metadata": {
    "scrolled": true
   },
   "outputs": [],
   "source": [
    "active_cert_referencing_historical_with_cves: list[tuple[int, int]] = []\n",
    "\n",
    "\n",
    "for _, cert in df[df[\"cert_id\"].isin(active_certs_referencing_historical)].iterrows():\n",
    "    cert_id = cert[\"cert_id\"]\n",
    "    \n",
    "    for referenced_cert_id in cert[\"module_directly_referencing\"]:\n",
    "        referenced_cert_id_int = int(referenced_cert_id)\n",
    "        related_cves = get_cert_property(df, referenced_cert_id_int, \"related_cves\")\n",
    "        \n",
    "        if not pd.isna(related_cves):\n",
    "            print(f\"Active certificate {cert_id} is referencing historical certificate {referenced_cert_id} with assigned CVE\")\n",
    "            active_cert_referencing_historical_with_cves.append((cert_id, referenced_cert_id_int))\n",
    "            \n",
    "\n",
    "active_cert_referencing_historical_with_cves"
   ]
  },
  {
   "cell_type": "markdown",
   "id": "d343e55b",
   "metadata": {},
   "source": [
    "### Certificates with higher levels referencing certificates with lower levels"
   ]
  },
  {
   "cell_type": "code",
   "execution_count": null,
   "id": "b8225902",
   "metadata": {
    "scrolled": false
   },
   "outputs": [],
   "source": [
    "referencing_certs: DataFrame = df[df[\"outgoing_direct_references_count\"] > 0]\n",
    "cert_level_ids: dict[int, set[str]] = {}\n",
    "unique_levels: list[int] = df[\"level\"].apply(int).unique()\n",
    "\n",
    "for level in df[\"level\"].unique():\n",
    "    level_cert_ids: set[str] = set(df[df[\"level\"] == level][\"cert_id\"].apply(str))\n",
    "    cert_level_ids[int(level)] = level_cert_ids"
   ]
  },
  {
   "cell_type": "code",
   "execution_count": null,
   "id": "dfca806f",
   "metadata": {},
   "outputs": [],
   "source": [
    "def get_cert_ids_referencing_lower_level_cert(level_referencing_certs_df: DataFrame, lower_cert_ids: set[str]) -> list[int]:\n",
    "    cert_ids = []\n",
    "    \n",
    "    for _, cert in level_referencing_certs_df.iterrows():\n",
    "        if cert[\"module_directly_referencing\"] & lower_cert_ids:\n",
    "            cert_ids.append(cert[\"cert_id\"])\n",
    "    \n",
    "    return cert_ids            "
   ]
  },
  {
   "cell_type": "markdown",
   "id": "0f04580e",
   "metadata": {},
   "source": [
    "#### Level 2 referencing at least one certificate of level 1"
   ]
  },
  {
   "cell_type": "code",
   "execution_count": null,
   "id": "681996d3",
   "metadata": {},
   "outputs": [],
   "source": [
    "LEVEL2: int = 2 \n",
    "below_level2_cert_ids: set[str] = cert_level_ids[1]\n",
    "level2_ref_certs = referencing_certs[referencing_certs[\"level\"] == LEVEL2]\n",
    "level2_referencing_lower_level = get_cert_ids_referencing_lower_level_cert(level2_ref_certs, below_level2_cert_ids)\n",
    "ratio: float = len(level2_referencing_lower_level) / level2_ref_certs.shape[0]\n",
    "\n",
    "print(f\"Total amount of certificates with level {LEVEL2} referencing at least one certificate: {level2_ref_certs.shape[0]}\")\n",
    "print(f\"Total amount of certicates with reference at least one certificate with lower level: {len(level2_referencing_lower_level)}\")\n",
    "print(f\"Hit ratio: {round(ratio, 2)}\")"
   ]
  },
  {
   "cell_type": "markdown",
   "id": "27d269a3",
   "metadata": {},
   "source": [
    "#### Level 3 referencing at least one certificate of level 1 or 2"
   ]
  },
  {
   "cell_type": "code",
   "execution_count": null,
   "id": "88351957",
   "metadata": {},
   "outputs": [],
   "source": [
    "LEVEL3: int = 3\n",
    "below_level3_cert_ids = below_level2_cert_ids | cert_level_ids[2]\n",
    "level3_ref_certs = referencing_certs[referencing_certs[\"level\"] == LEVEL3]\n",
    "level3_referencing_lower_level = get_cert_ids_referencing_lower_level_cert(level3_ref_certs, below_level3_cert_ids)\n",
    "ratio: float = len(level3_referencing_lower_level) / level3_ref_certs.shape[0]\n",
    "\n",
    "print(f\"Total amount of certificates with level {LEVEL3} referencing at least one certificate: {level3_ref_certs.shape[0]}\")\n",
    "print(f\"Total amount of certicates with reference at least one certificate with lower level: {len(level3_referencing_lower_level)}\")\n",
    "print(f\"Hit ratio: {round(ratio, 2)}\")"
   ]
  },
  {
   "cell_type": "markdown",
   "id": "679fa9c7",
   "metadata": {},
   "source": [
    "#### Level 4 referencing at least one certificate of level 1, 2 or 3"
   ]
  },
  {
   "cell_type": "code",
   "execution_count": null,
   "id": "91db647f",
   "metadata": {
    "scrolled": true
   },
   "outputs": [],
   "source": [
    "LEVEL4: int = 4\n",
    "below_level4_cert_ids = below_level3_cert_ids | cert_level_ids[3]\n",
    "level4_ref_certs = referencing_certs[referencing_certs[\"level\"] == LEVEL4]\n",
    "level4_referencing_lower_level = get_cert_ids_referencing_lower_level_cert(level4_ref_certs, below_level4_cert_ids)\n",
    "print(f\"Total amount of certificates with level {LEVEL4} referencing at least one certificate: {level4_ref_certs.shape[0]}\")"
   ]
  },
  {
   "cell_type": "markdown",
   "id": "5c2fca19",
   "metadata": {},
   "source": [
    "### Distribution of references among embodiments"
   ]
  },
  {
   "cell_type": "code",
   "execution_count": null,
   "id": "34b5c83b",
   "metadata": {},
   "outputs": [],
   "source": [
    "def get_embodiment_references(df: DataFrame, embodiment: str) -> dict[str, int]:\n",
    "    result: dict[str, int] = {}\n",
    "    sub_df = df[(df[\"embodiment\"] == embodiment) & (df[\"outgoing_direct_references_count\"] > 0)]\n",
    "    \n",
    "    for references in sub_df[\"module_directly_referencing\"]:\n",
    "        for cert_id in references:\n",
    "            referenced_embodiment: str = get_cert_property(df, cert_id, \"embodiment\")\n",
    "            result[referenced_embodiment] = result.get(referenced_embodiment, 0) + 1\n",
    "    \n",
    "    return result"
   ]
  },
  {
   "cell_type": "code",
   "execution_count": null,
   "id": "6e69410d",
   "metadata": {
    "scrolled": true
   },
   "outputs": [],
   "source": [
    "final_embodiment_statistics: dict[str, dict[str, int]] = {} \n",
    "\n",
    "for embodiment in df[\"embodiment\"].unique():\n",
    "    final_embodiment_statistics[embodiment] = get_embodiment_references(df, embodiment)\n",
    "\n",
    "pprint(final_embodiment_statistics)"
   ]
  },
  {
   "cell_type": "code",
   "execution_count": null,
   "id": "0737ca41",
   "metadata": {},
   "outputs": [],
   "source": [
    "embodiment_df = pd.DataFrame(final_embodiment_statistics).fillna(0).astype(int).transpose()\n",
    "embodiment_df.plot(kind=\"bar\", stacked=True)\n",
    "\n",
    "plt.xlabel(\"Referencing cert embodiment\")\n",
    "plt.ylabel(\"Number of referenced certificates\")\n",
    "plt.title(\"Direct references among FIPS embodiments\")\n",
    "plt.show()"
   ]
  },
  {
   "cell_type": "markdown",
   "id": "d1743560",
   "metadata": {},
   "source": [
    "### Distribution of references among types"
   ]
  },
  {
   "cell_type": "code",
   "execution_count": null,
   "id": "72fb288b",
   "metadata": {},
   "outputs": [],
   "source": [
    "def get_type_references(df: DataFrame, cert_type: str) -> dict[str, int]:\n",
    "    result = {}\n",
    "    sub_df = df[(df[\"type\"] == cert_type) & (df[\"outgoing_direct_references_count\"] > 0)]\n",
    "    \n",
    "    for references in sub_df[\"module_directly_referencing\"]:\n",
    "        for cert_id in references:\n",
    "            referenced_type: str = get_cert_property(df, cert_id, \"type\")\n",
    "            result[referenced_type] =result.get(referenced_type, 0) + 1\n",
    "\n",
    "    return result"
   ]
  },
  {
   "cell_type": "code",
   "execution_count": null,
   "id": "79c3b7c8",
   "metadata": {
    "scrolled": false
   },
   "outputs": [],
   "source": [
    "final_type_statistics: dict[str, dict[str, int]] = {}\n",
    "\n",
    "for cert_type in df[\"type\"].unique():\n",
    "    final_type_statistics[cert_type] = get_type_references(df, cert_type)\n",
    "\n",
    "pprint(final_type_statistics)"
   ]
  },
  {
   "cell_type": "code",
   "execution_count": null,
   "id": "6694e4cd",
   "metadata": {},
   "outputs": [],
   "source": [
    "cert_type_df = pd.DataFrame(final_type_statistics).fillna(0).astype(int).transpose()\n",
    "cert_type_df.plot(kind=\"bar\", stacked=True)\n",
    "\n",
    "plt.xlabel(\"Referencing cert type\")\n",
    "plt.ylabel(\"Number of referenced certificates\")\n",
    "plt.title(\"Direct references among FIPS certificate types\")\n",
    "plt.show()"
   ]
  },
  {
   "cell_type": "markdown",
   "id": "c0bd6844",
   "metadata": {},
   "source": [
    "### Temporal evolution of references in time"
   ]
  },
  {
   "cell_type": "code",
   "execution_count": null,
   "id": "366103d5",
   "metadata": {},
   "outputs": [],
   "source": [
    "def convert_refences_count_to_relative(number: int, n_issued_certs: int) -> float:\n",
    "    return 100 * number / n_issued_certs\n",
    "\n",
    "THRESHOLD_YEAR: int = 2023\n",
    "\n",
    "temporal_df: DataFrame = df[(df[\"outgoing_direct_references_count\"] > 0) & (df[\"year_from\"] < THRESHOLD_YEAR)]\n",
    "total_referencing_certs: int = temporal_df.shape[0]\n",
    "grouped_df: DataFrame = temporal_df.groupby(\"year_from\")\n",
    "converted_df: DataFrame = grouped_df.size().reset_index(name=\"year_references\")\n",
    "\n",
    "# Fill missing years\n",
    "dataset_years: set[int] = set(converted_df[\"year_from\"])\n",
    "years_interval: set[int] = set(range(min(dataset_years), max(dataset_years) + 1))\n",
    "missing_years: set[int] = years_interval - dataset_years\n",
    "\n",
    "for year in missing_years:\n",
    "    converted_df.loc[len(converted_df.index)] = (year, 0)\n",
    "\n",
    "n_issues_certs = converted_df[\"year_references\"].sum()\n",
    "converted_df[\"percentage\"] = converted_df[\"year_references\"].apply(convert_refences_count_to_relative, args=(total_referencing_certs,))\n",
    "line = sns.lineplot(data=converted_df, x=\"year_from\", y=\"percentage\")\n",
    "\n",
    "plt.title(\"Temporal evolution of referenced certificate in time (percentages)\")\n",
    "plt.show()"
   ]
  },
  {
   "cell_type": "markdown",
   "id": "258c803c",
   "metadata": {},
   "source": [
    "### Cross-references among certificates\n",
    "\n",
    "Certificate A directly references certificate B and at the same time certificate B directly references certificate A.\n",
    "In other words intersection of `module_directly_referenced_by` and `module_directly_referencing` results into discovery of cross references in the dataset."
   ]
  },
  {
   "cell_type": "code",
   "execution_count": null,
   "id": "77a1db87",
   "metadata": {
    "scrolled": false
   },
   "outputs": [],
   "source": [
    "result: list[tuple[int, int]] = []\n",
    "cross_references_df: DataFrame = df[(df[\"incoming_direct_references_count\"] > 0) & (df[\"outgoing_direct_references_count\"] > 0)] \n",
    "\n",
    "\n",
    "for _, cert in cross_references_df.iterrows():\n",
    "    referenced_by = cert[\"module_directly_referenced_by\"]\n",
    "    referencing = cert[\"module_directly_referencing\"]\n",
    "    cert_id = cert[\"cert_id\"]\n",
    "    \n",
    "    intersection: set[str] = referenced_by & referencing\n",
    "    \n",
    "    \n",
    "    for another_cert_id in intersection:\n",
    "        another_cert_id_int = int(another_cert_id)\n",
    "        \n",
    "        if not (another_cert_id_int, cert_id) in result:\n",
    "            result.append((cert_id, int(another_cert_id)))\n",
    "\n",
    "print(result)\n",
    "# TODO - Investigate how are 3382, 3383, 3384 related"
   ]
  },
  {
   "cell_type": "code",
   "execution_count": null,
   "id": "bb8fed46",
   "metadata": {
    "scrolled": false
   },
   "outputs": [],
   "source": [
    "df[df[\"cert_id\"].isin([3382, 3383, 3384])]"
   ]
  },
  {
   "cell_type": "markdown",
   "id": "0bdcce5c",
   "metadata": {},
   "source": [
    "### Referenced certs, which are not referencing any other cert"
   ]
  },
  {
   "cell_type": "code",
   "execution_count": null,
   "id": "8545977e",
   "metadata": {
    "scrolled": true
   },
   "outputs": [],
   "source": [
    "not_referencing_df: DataFrame = df[(df[\"outgoing_direct_references_count\"] == 0) & (df[\"incoming_direct_references_count\"] > 0)]\n",
    "print(f\"In the dataset is total of {not_referencing_df.shape[0]} certificates which are referenced by at least one cert and not referencing any other certs.\")"
   ]
  },
  {
   "cell_type": "markdown",
   "id": "79ad426b",
   "metadata": {},
   "source": [
    "#### Status of the certificates"
   ]
  },
  {
   "cell_type": "code",
   "execution_count": null,
   "id": "a3026921",
   "metadata": {},
   "outputs": [],
   "source": [
    "not_referencing_df[\"status\"].value_counts().loc[lambda x: x > 0].plot.pie(autopct=\"%.0f%%\")\n",
    "\n",
    "plt.title(\"Distribution of statuses across referenced, not referencing certs\")\n",
    "plt.show()"
   ]
  },
  {
   "cell_type": "markdown",
   "id": "00fbae83",
   "metadata": {},
   "source": [
    "#### Histogram of CVEs"
   ]
  },
  {
   "cell_type": "code",
   "execution_count": null,
   "id": "d1e45d14",
   "metadata": {
    "scrolled": false
   },
   "outputs": [],
   "source": [
    "number_of_cves: int = 10\n",
    "counter: Counter = Counter()\n",
    "\n",
    "for cve_set in not_referencing_df[\"related_cves\"]:\n",
    "    if pd.isna(cve_set):\n",
    "        continue\n",
    "    counter.update(cve_set)\n",
    "\n",
    "not_referencing_cve_df: DataFrame = pd.DataFrame.from_dict(counter, orient=\"index\").reset_index()\n",
    "not_referencing_cve_df.columns = (\"CVE\", \"count\")\n",
    "not_referencing_cve_df.sort_values(by=\"count\", ascending=False, inplace=True)\n",
    "sns.barplot(x=\"CVE\", y=\"count\", data=not_referencing_cve_df.head(number_of_cves))\n",
    "\n",
    "plt.title(f\"The most common {number_of_cves} CVEs in the dataset\")\n",
    "plt.xticks(rotation=90)\n",
    "plt.show()"
   ]
  },
  {
   "cell_type": "markdown",
   "id": "7c8f743d",
   "metadata": {},
   "source": [
    "### Certificates which are referenced, but not referencing any other certificate"
   ]
  },
  {
   "cell_type": "code",
   "execution_count": null,
   "id": "6930a9d7",
   "metadata": {},
   "outputs": [],
   "source": [
    "not_referenced_df: DataFrame = df[(df[\"outgoing_direct_references_count\"] > 0) & (df[\"incoming_direct_references_count\"] == 0)]\n",
    "print(f\"There are total of {not_referenced_df.shape[0]} certs, which are referencing at least one other cert and referenced by no other cert\")"
   ]
  },
  {
   "cell_type": "code",
   "execution_count": null,
   "id": "4ebdcbd2",
   "metadata": {
    "scrolled": true
   },
   "outputs": [],
   "source": [
    "not_referenced_df[\"status\"].value_counts().loc[lambda x: x > 0].plot.pie(autopct=\"%.0f%%\")\n",
    "\n",
    "plt.title(\"Cert status distribution of referencing, no referenced by certs\")\n",
    "plt.show()"
   ]
  },
  {
   "cell_type": "markdown",
   "id": "670d6b80",
   "metadata": {},
   "source": [
    "#### Histogram of CVEs"
   ]
  },
  {
   "cell_type": "code",
   "execution_count": null,
   "id": "c79ba9f2",
   "metadata": {
    "scrolled": false
   },
   "outputs": [],
   "source": [
    "number_of_cves: int = 10\n",
    "counter: Counter = Counter()\n",
    "cve_rich_certs_df: DataFrame = not_referenced_df[not_referenced_df[\"related_cves\"].notna()]\n",
    "    \n",
    "for cve_set in cve_rich_certs_df[\"related_cves\"]:\n",
    "    counter.update(cve_set)\n",
    "    \n",
    "not_referenced_by_df: DataFrame = pd.DataFrame.from_dict(counter, orient=\"index\").reset_index()\n",
    "not_referenced_by_df.columns = (\"CVE\", \"count\")\n",
    "not_referenced_by_df.sort_values(by=\"count\", ascending=False, inplace=True)\n",
    "\n",
    "sns.barplot(x=\"CVE\", y=\"count\", data=not_referenced_by_df.head(number_of_cves))\n",
    "\n",
    "plt.xticks(rotation=90)\n",
    "plt.show()"
   ]
  },
  {
   "cell_type": "markdown",
   "id": "2811febc",
   "metadata": {},
   "source": [
    "### Certificate overview"
   ]
  },
  {
   "cell_type": "code",
   "execution_count": null,
   "id": "07cc51e6",
   "metadata": {},
   "outputs": [],
   "source": [
    "CHOSEN_CERT_COLOR: str = \"lightgreen\"\n",
    "REFERENCING_COLOR: str = \"lightblue\"\n",
    "REFERENCED_BY_COLOR: str = \"red\""
   ]
  },
  {
   "cell_type": "code",
   "execution_count": null,
   "id": "d0c1e3fe",
   "metadata": {},
   "outputs": [],
   "source": [
    "cert_id: int = 4512  # Enter the certificate ID you are interested in"
   ]
  },
  {
   "cell_type": "code",
   "execution_count": null,
   "id": "a6f97708",
   "metadata": {
    "scrolled": true
   },
   "outputs": [],
   "source": [
    "# TODO - Enrich graph with additional information (e.g. assigned CVEs to certificate, active/historical)\n",
    "refs_df: DataFrame = df[df[\"outgoing_direct_references_count\"] > 0]\n",
    "\n",
    "if not refs_df[refs_df[\"cert_id\"] == cert_id].shape[0]:\n",
    "    print(\"Cert ID is not in the dataset, or does not references any other certificates\")\n",
    "    sys.exit()\n",
    "\n",
    "cert_id_series: Series = refs_df[refs_df[\"cert_id\"] == cert_id].iloc[0]\n",
    "cert_dgst: str = refs_df[refs_df[\"cert_id\"] == cert_id].index[0]\n",
    "color_map: list[str] = [CHOSEN_CERT_COLOR]\n",
    "graph: nx.DiGraph = nx.DiGraph()\n",
    "graph.add_node(cert_id)\n",
    "\n",
    "# Display which certificates are directly referenced by the chosen certificate\n",
    "for referenced_cert_id in cert_id_series[\"module_directly_referencing\"]:\n",
    "    graph.add_node(referenced_cert_id)\n",
    "    graph.add_edge(cert_id, referenced_cert_id)\n",
    "    color_map.append(REFERENCING_COLOR)\n",
    "\n",
    "\n",
    "# Display which certificates are directly referencing the chosen certificate\n",
    "for referencing_cert_id in cert_id_series[\"module_directly_referenced_by\"]:\n",
    "    graph.add_node(referencing_cert_id)\n",
    "    graph.add_edge(referencing_cert_id, cert_id)\n",
    "    color_map.append(REFERENCED_BY_COLOR)\n",
    "\n",
    "\n",
    "pos = nx.circular_layout(graph)\n",
    "nx.draw(graph, pos, arrows=True, node_color=color_map, with_labels=True, node_size=900)"
   ]
  },
  {
   "cell_type": "code",
   "execution_count": null,
   "id": "986e0f57",
   "metadata": {
    "scrolled": true
   },
   "outputs": [],
   "source": [
    "print(f\"Certificate with id {cert_id}:\")\n",
    "print(f\" - references the certificates {cert_id_series['module_directly_referencing']}\")\n",
    "print(f\" - is referenced by certificates {cert_id_series['module_directly_referenced_by']}\")\n",
    "print(f\" - its page is at https://seccerts.org/fips/{cert_dgst}/\")"
   ]
  },
  {
   "cell_type": "markdown",
   "id": "d609cea7",
   "metadata": {},
   "source": [
    "### Graph of the most referenced certificate"
   ]
  },
  {
   "cell_type": "code",
   "execution_count": null,
   "id": "23433698",
   "metadata": {},
   "outputs": [],
   "source": [
    "STATUS_TO_COLOUR_MAPPING: dict[str, str] = {\n",
    "    \"active\": \"lightblue\",\n",
    "    \"historical\": \"red\",\n",
    "    \"revoked\": \"blue\",\n",
    "}"
   ]
  },
  {
   "cell_type": "code",
   "execution_count": null,
   "id": "fd18154a",
   "metadata": {
    "scrolled": false
   },
   "outputs": [],
   "source": [
    "# TODO - Enrich the graph nodes with assigned CVEs\n",
    "graph = nx.DiGraph()\n",
    "node_colors: list[str] = []\n",
    "max_referenced_by_num: int = df[\"incoming_direct_references_count\"].max()\n",
    "most_referenced_certificate: Series = df[df[\"incoming_direct_references_count\"] == max_referenced_by_num].iloc[0]\n",
    "\n",
    "origin_cert_id: int = most_referenced_certificate[\"cert_id\"]\n",
    "origin_cert_status: str = most_referenced_certificate[\"status\"]\n",
    "graph.add_node(origin_cert_id)\n",
    "node_colors.append(STATUS_TO_COLOUR_MAPPING[origin_cert_status])\n",
    "\n",
    "for cert_id_str in most_referenced_certificate[\"module_directly_referenced_by\"]:\n",
    "    cert_id_int = int(cert_id_str)\n",
    "    graph.add_node(cert_id_int)\n",
    "    graph.add_edge(cert_id_int, origin_cert_id)\n",
    "    cert_status: str = get_cert_property(df, cert_id_int, \"status\")\n",
    "    node_colors.append(STATUS_TO_COLOUR_MAPPING[cert_status])\n",
    "\n",
    "fig, ax = plt.subplots(figsize=(15, 15))\n",
    "pos = nx.circular_layout(graph)\n",
    "nx.draw(graph, pos, node_color=node_colors, arrows=True, with_labels=True, node_size=1000)\n",
    "plt.show()"
   ]
  },
  {
   "cell_type": "markdown",
   "id": "ab332b30",
   "metadata": {},
   "source": [
    "### Graph of the most referencing certitificate"
   ]
  },
  {
   "cell_type": "code",
   "execution_count": null,
   "id": "56d5a694",
   "metadata": {},
   "outputs": [],
   "source": [
    "# TODO - Enrich the graph nodes with assigned CVEs\n",
    "graph = nx.DiGraph()\n",
    "node_colors: list[str] = []\n",
    "max_referencing_num: int = df[\"outgoing_direct_references_count\"].max()\n",
    "most_referencing_cert: Series = df[df[\"outgoing_direct_references_count\"] == max_referencing_num].iloc[0]\n",
    "origin_cert_id: int = most_referencing_cert[\"cert_id\"]\n",
    "origin_cert_status: str = most_referencing_cert[\"status\"]\n",
    "node_colors.append(STATUS_TO_COLOUR_MAPPING[origin_cert_status])\n",
    "\n",
    "\n",
    "for cert_id_str in most_referencing_cert[\"module_directly_referencing\"]:\n",
    "    cert_id_int = int(cert_id_str)\n",
    "    graph.add_node(cert_id_int)\n",
    "    graph.add_edge(origin_cert_id, cert_id_int)\n",
    "    cert_status: str = get_cert_property(df, cert_id_int, \"status\")\n",
    "    node_colors.append(STATUS_TO_COLOUR_MAPPING[cert_status])\n",
    "\n",
    "    \n",
    "fig, ax = plt.subplots(figsize=(10, 10))\n",
    "pos = nx.circular_layout(graph)\n",
    "nx.draw(graph, pos, node_color=node_colors, arrows=True, with_labels=True, node_size=1000)\n",
    "plt.show()"
   ]
  }
 ],
 "metadata": {
  "kernelspec": {
   "display_name": "Python 3 (ipykernel)",
   "language": "python",
   "name": "python3"
  },
  "language_info": {
   "codemirror_mode": {
    "name": "ipython",
    "version": 3
   },
   "file_extension": ".py",
   "mimetype": "text/x-python",
   "name": "python",
   "nbconvert_exporter": "python",
   "pygments_lexer": "ipython3",
   "version": "3.10.12"
  }
 },
 "nbformat": 4,
 "nbformat_minor": 5
}
