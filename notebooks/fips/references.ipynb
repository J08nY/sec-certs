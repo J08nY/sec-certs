{
 "cells": [
  {
   "cell_type": "code",
   "execution_count": 1,
   "id": "c720132b",
   "metadata": {},
   "outputs": [],
   "source": [
    "# import networkx as nx\n",
    "# import networkx.algorithms.community as nx_comm\n",
    "# import matplotlib\n",
    "# import matplotlib.pyplot as plt\n",
    "# import matplotlib.ticker as mtick\n",
    "# \n",
    "# import pandas as pd\n",
    "# import seaborn as sns\n",
    "# import numpy as np\n",
    "# from pysankey import sankey\n",
    "\n",
    "# %matplotlib inline\n",
    "\n",
    "# matplotlib.use(\"pgf\")\n",
    "# sns.set_theme(style='white')\n",
    "# plt.rcParams[\"axes.linewidth\"] = 0.5\n",
    "# plt.rcParams[\"legend.fontsize\"] = 6.5\n",
    "# plt.rcParams[\"xtick.labelsize\"] = 8\n",
    "# plt.rcParams[\"ytick.labelsize\"] = 8\n",
    "# plt.rcParams[\"ytick.left\"] = True\n",
    "# plt.rcParams['ytick.major.size'] = 5\n",
    "# plt.rcParams['ytick.major.width'] = 0.5\n",
    "# plt.rcParams['ytick.major.pad'] = 0\n",
    "# plt.rcParams[\"xtick.bottom\"] = True\n",
    "# plt.rcParams['xtick.major.size'] = 5\n",
    "# plt.rcParams['xtick.major.width'] = 0.5\n",
    "# plt.rcParams['xtick.major.pad'] = 0\n",
    "# plt.rcParams[\"pgf.texsystem\"] = \"pdflatex\"\n",
    "# plt.rcParams[\"font.family\"] = \"serif\"\n",
    "# plt.rcParams[\"text.usetex\"] = True\n",
    "# plt.rcParams[\"pgf.rcfonts\"] = False\n",
    "# plt.rcParams[\"axes.titlesize\"] = 8\n",
    "# plt.rcParams[\"legend.handletextpad\"] = 0.3\n",
    "# plt.rcParams['lines.markersize'] = 4\n",
    "# plt.rcParams['savefig.pad_inches'] = 0.01\n",
    "# \n",
    "\n",
    "#plt.style.use(\"seaborn-whitegrid\")\n",
    "#sns.set_palette(\"deep\")\n",
    "#sns.set_context(\"notebook\")  # Set to \"paper\" for use in paper :)\n",
    "\n",
    "#plt.rcParams['figure.figsize'] = (10, 6)"
   ]
  },
  {
   "cell_type": "code",
   "execution_count": 2,
   "id": "91a0cb1b",
   "metadata": {},
   "outputs": [],
   "source": [
    "import pandas as pd\n",
    "import numpy as np\n",
    "import seaborn as sns\n",
    "import logging\n",
    "import matplotlib.pyplot as plt\n",
    "\n",
    "from sec_certs.dataset.fips import FIPSDataset\n",
    "from collections import Counter\n",
    "from pprint import pprint\n",
    "\n",
    "# Typing imports\n",
    "from pandas.core.frame import DataFrame\n",
    "from typing import Callable\n",
    "\n",
    "sns.set_palette(\"deep\")"
   ]
  },
  {
   "cell_type": "code",
   "execution_count": 3,
   "id": "629aec45",
   "metadata": {
    "scrolled": true
   },
   "outputs": [
    {
     "name": "stderr",
     "output_type": "stream",
     "text": [
      "Downloading FIPS Dataset: 100%|███████████████████████████████████████████████████| 57.1M/57.1M [01:55<00:00, 518kB/s]\n"
     ]
    }
   ],
   "source": [
    "dset = FIPSDataset.from_web_latest()"
   ]
  },
  {
   "cell_type": "code",
   "execution_count": 4,
   "id": "96ad0831",
   "metadata": {},
   "outputs": [],
   "source": [
    "df = dset.to_pandas()"
   ]
  },
  {
   "cell_type": "code",
   "execution_count": 5,
   "id": "160b35a0",
   "metadata": {},
   "outputs": [
    {
     "data": {
      "text/html": [
       "<div>\n",
       "<style scoped>\n",
       "    .dataframe tbody tr th:only-of-type {\n",
       "        vertical-align: middle;\n",
       "    }\n",
       "\n",
       "    .dataframe tbody tr th {\n",
       "        vertical-align: top;\n",
       "    }\n",
       "\n",
       "    .dataframe thead th {\n",
       "        text-align: right;\n",
       "    }\n",
       "</style>\n",
       "<table border=\"1\" class=\"dataframe\">\n",
       "  <thead>\n",
       "    <tr style=\"text-align: right;\">\n",
       "      <th></th>\n",
       "      <th>cert_id</th>\n",
       "      <th>name</th>\n",
       "      <th>status</th>\n",
       "      <th>standard</th>\n",
       "      <th>type</th>\n",
       "      <th>level</th>\n",
       "      <th>embodiment</th>\n",
       "      <th>date_validation</th>\n",
       "      <th>date_sunset</th>\n",
       "      <th>algorithms</th>\n",
       "      <th>...</th>\n",
       "      <th>related_cves</th>\n",
       "      <th>module_directly_referenced_by</th>\n",
       "      <th>module_indirectly_referenced_by</th>\n",
       "      <th>module_directly_referencing</th>\n",
       "      <th>module_indirectly_referencing</th>\n",
       "      <th>policy_directly_referenced_by</th>\n",
       "      <th>policy_indirectly_referenced_by</th>\n",
       "      <th>policy_directly_referencing</th>\n",
       "      <th>policy_indirectly_referencing</th>\n",
       "      <th>year_from</th>\n",
       "    </tr>\n",
       "    <tr>\n",
       "      <th>dgst</th>\n",
       "      <th></th>\n",
       "      <th></th>\n",
       "      <th></th>\n",
       "      <th></th>\n",
       "      <th></th>\n",
       "      <th></th>\n",
       "      <th></th>\n",
       "      <th></th>\n",
       "      <th></th>\n",
       "      <th></th>\n",
       "      <th></th>\n",
       "      <th></th>\n",
       "      <th></th>\n",
       "      <th></th>\n",
       "      <th></th>\n",
       "      <th></th>\n",
       "      <th></th>\n",
       "      <th></th>\n",
       "      <th></th>\n",
       "      <th></th>\n",
       "      <th></th>\n",
       "    </tr>\n",
       "  </thead>\n",
       "  <tbody>\n",
       "    <tr>\n",
       "      <th>803919e93ccac91d</th>\n",
       "      <td>4307</td>\n",
       "      <td>Cocoon Data Content Crypto Service</td>\n",
       "      <td>active</td>\n",
       "      <td>FIPS 140-2</td>\n",
       "      <td>Software</td>\n",
       "      <td>1.0</td>\n",
       "      <td>Multi-Chip Stand Alone</td>\n",
       "      <td>2022-09-20</td>\n",
       "      <td>2024-08-22</td>\n",
       "      <td>{CVL#A2113, KBKDF#A2113, HMAC#A2605, ECDSA#A21...</td>\n",
       "      <td>...</td>\n",
       "      <td>NaN</td>\n",
       "      <td>NaN</td>\n",
       "      <td>NaN</td>\n",
       "      <td>NaN</td>\n",
       "      <td>NaN</td>\n",
       "      <td>NaN</td>\n",
       "      <td>NaN</td>\n",
       "      <td>NaN</td>\n",
       "      <td>NaN</td>\n",
       "      <td>2022</td>\n",
       "    </tr>\n",
       "    <tr>\n",
       "      <th>ab86fe44dea15e7a</th>\n",
       "      <td>4143</td>\n",
       "      <td>Samsung NVMe TCG Opal SSC SEDs PM1733 Series</td>\n",
       "      <td>active</td>\n",
       "      <td>FIPS 140-2</td>\n",
       "      <td>Hardware</td>\n",
       "      <td>2.0</td>\n",
       "      <td>Multi-Chip Stand Alone</td>\n",
       "      <td>2022-02-03</td>\n",
       "      <td>2026-09-21</td>\n",
       "      <td>{SHS#C1272, RSA#C1293, DRBG#C1292, AES#C1271}</td>\n",
       "      <td>...</td>\n",
       "      <td>NaN</td>\n",
       "      <td>NaN</td>\n",
       "      <td>NaN</td>\n",
       "      <td>NaN</td>\n",
       "      <td>NaN</td>\n",
       "      <td>NaN</td>\n",
       "      <td>NaN</td>\n",
       "      <td>NaN</td>\n",
       "      <td>NaN</td>\n",
       "      <td>2022</td>\n",
       "    </tr>\n",
       "    <tr>\n",
       "      <th>705249ef258f9318</th>\n",
       "      <td>4078</td>\n",
       "      <td>Qualcomm® Trusted Execution Environment (TEE) ...</td>\n",
       "      <td>active</td>\n",
       "      <td>FIPS 140-2</td>\n",
       "      <td>Software-Hybrid</td>\n",
       "      <td>1.0</td>\n",
       "      <td>Single Chip</td>\n",
       "      <td>2021-11-29</td>\n",
       "      <td>2026-09-21</td>\n",
       "      <td>{AES#A984, ECDSA#A982, PBKDF#A984, CVL#A982, R...</td>\n",
       "      <td>...</td>\n",
       "      <td>NaN</td>\n",
       "      <td>NaN</td>\n",
       "      <td>NaN</td>\n",
       "      <td>{3114}</td>\n",
       "      <td>{3114}</td>\n",
       "      <td>NaN</td>\n",
       "      <td>NaN</td>\n",
       "      <td>{3114}</td>\n",
       "      <td>{3114}</td>\n",
       "      <td>2021</td>\n",
       "    </tr>\n",
       "    <tr>\n",
       "      <th>a2730bca63eff586</th>\n",
       "      <td>4195</td>\n",
       "      <td>Thales Luna Backup HSM Cryptographic Module</td>\n",
       "      <td>active</td>\n",
       "      <td>FIPS 140-2</td>\n",
       "      <td>Hardware</td>\n",
       "      <td>3.0</td>\n",
       "      <td>Multi-Chip Stand Alone</td>\n",
       "      <td>2022-04-14</td>\n",
       "      <td>2026-09-21</td>\n",
       "      <td>{RSA#C2021, RSA#C2022, AES#C2020, ECDSA#C2020,...</td>\n",
       "      <td>...</td>\n",
       "      <td>NaN</td>\n",
       "      <td>NaN</td>\n",
       "      <td>NaN</td>\n",
       "      <td>NaN</td>\n",
       "      <td>NaN</td>\n",
       "      <td>NaN</td>\n",
       "      <td>NaN</td>\n",
       "      <td>NaN</td>\n",
       "      <td>NaN</td>\n",
       "      <td>2022</td>\n",
       "    </tr>\n",
       "    <tr>\n",
       "      <th>c62b377fa3d3a0f4</th>\n",
       "      <td>3926</td>\n",
       "      <td>DIGISTOR TCG OPAL SSC FIPS SSD Series</td>\n",
       "      <td>active</td>\n",
       "      <td>FIPS 140-2</td>\n",
       "      <td>Hardware</td>\n",
       "      <td>2.0</td>\n",
       "      <td>Multi-Chip Embedded</td>\n",
       "      <td>2021-05-11</td>\n",
       "      <td>2026-05-10</td>\n",
       "      <td>{AES#C1358, HMAC#C1356, SHS#C1358, HMAC#C1358,...</td>\n",
       "      <td>...</td>\n",
       "      <td>NaN</td>\n",
       "      <td>NaN</td>\n",
       "      <td>NaN</td>\n",
       "      <td>NaN</td>\n",
       "      <td>NaN</td>\n",
       "      <td>NaN</td>\n",
       "      <td>NaN</td>\n",
       "      <td>NaN</td>\n",
       "      <td>NaN</td>\n",
       "      <td>2021</td>\n",
       "    </tr>\n",
       "  </tbody>\n",
       "</table>\n",
       "<p>5 rows × 23 columns</p>\n",
       "</div>"
      ],
      "text/plain": [
       "                  cert_id                                               name  \\\n",
       "dgst                                                                           \n",
       "803919e93ccac91d     4307                 Cocoon Data Content Crypto Service   \n",
       "ab86fe44dea15e7a     4143       Samsung NVMe TCG Opal SSC SEDs PM1733 Series   \n",
       "705249ef258f9318     4078  Qualcomm® Trusted Execution Environment (TEE) ...   \n",
       "a2730bca63eff586     4195        Thales Luna Backup HSM Cryptographic Module   \n",
       "c62b377fa3d3a0f4     3926              DIGISTOR TCG OPAL SSC FIPS SSD Series   \n",
       "\n",
       "                  status    standard             type  level  \\\n",
       "dgst                                                           \n",
       "803919e93ccac91d  active  FIPS 140-2         Software    1.0   \n",
       "ab86fe44dea15e7a  active  FIPS 140-2         Hardware    2.0   \n",
       "705249ef258f9318  active  FIPS 140-2  Software-Hybrid    1.0   \n",
       "a2730bca63eff586  active  FIPS 140-2         Hardware    3.0   \n",
       "c62b377fa3d3a0f4  active  FIPS 140-2         Hardware    2.0   \n",
       "\n",
       "                              embodiment date_validation date_sunset  \\\n",
       "dgst                                                                   \n",
       "803919e93ccac91d  Multi-Chip Stand Alone      2022-09-20  2024-08-22   \n",
       "ab86fe44dea15e7a  Multi-Chip Stand Alone      2022-02-03  2026-09-21   \n",
       "705249ef258f9318             Single Chip      2021-11-29  2026-09-21   \n",
       "a2730bca63eff586  Multi-Chip Stand Alone      2022-04-14  2026-09-21   \n",
       "c62b377fa3d3a0f4     Multi-Chip Embedded      2021-05-11  2026-05-10   \n",
       "\n",
       "                                                         algorithms  ...  \\\n",
       "dgst                                                                 ...   \n",
       "803919e93ccac91d  {CVL#A2113, KBKDF#A2113, HMAC#A2605, ECDSA#A21...  ...   \n",
       "ab86fe44dea15e7a      {SHS#C1272, RSA#C1293, DRBG#C1292, AES#C1271}  ...   \n",
       "705249ef258f9318  {AES#A984, ECDSA#A982, PBKDF#A984, CVL#A982, R...  ...   \n",
       "a2730bca63eff586  {RSA#C2021, RSA#C2022, AES#C2020, ECDSA#C2020,...  ...   \n",
       "c62b377fa3d3a0f4  {AES#C1358, HMAC#C1356, SHS#C1358, HMAC#C1358,...  ...   \n",
       "\n",
       "                 related_cves module_directly_referenced_by  \\\n",
       "dgst                                                          \n",
       "803919e93ccac91d          NaN                           NaN   \n",
       "ab86fe44dea15e7a          NaN                           NaN   \n",
       "705249ef258f9318          NaN                           NaN   \n",
       "a2730bca63eff586          NaN                           NaN   \n",
       "c62b377fa3d3a0f4          NaN                           NaN   \n",
       "\n",
       "                  module_indirectly_referenced_by module_directly_referencing  \\\n",
       "dgst                                                                            \n",
       "803919e93ccac91d                              NaN                         NaN   \n",
       "ab86fe44dea15e7a                              NaN                         NaN   \n",
       "705249ef258f9318                              NaN                      {3114}   \n",
       "a2730bca63eff586                              NaN                         NaN   \n",
       "c62b377fa3d3a0f4                              NaN                         NaN   \n",
       "\n",
       "                 module_indirectly_referencing policy_directly_referenced_by  \\\n",
       "dgst                                                                           \n",
       "803919e93ccac91d                           NaN                           NaN   \n",
       "ab86fe44dea15e7a                           NaN                           NaN   \n",
       "705249ef258f9318                        {3114}                           NaN   \n",
       "a2730bca63eff586                           NaN                           NaN   \n",
       "c62b377fa3d3a0f4                           NaN                           NaN   \n",
       "\n",
       "                 policy_indirectly_referenced_by policy_directly_referencing  \\\n",
       "dgst                                                                           \n",
       "803919e93ccac91d                             NaN                         NaN   \n",
       "ab86fe44dea15e7a                             NaN                         NaN   \n",
       "705249ef258f9318                             NaN                      {3114}   \n",
       "a2730bca63eff586                             NaN                         NaN   \n",
       "c62b377fa3d3a0f4                             NaN                         NaN   \n",
       "\n",
       "                 policy_indirectly_referencing year_from  \n",
       "dgst                                                      \n",
       "803919e93ccac91d                           NaN      2022  \n",
       "ab86fe44dea15e7a                           NaN      2022  \n",
       "705249ef258f9318                        {3114}      2021  \n",
       "a2730bca63eff586                           NaN      2022  \n",
       "c62b377fa3d3a0f4                           NaN      2021  \n",
       "\n",
       "[5 rows x 23 columns]"
      ]
     },
     "execution_count": 5,
     "metadata": {},
     "output_type": "execute_result"
    }
   ],
   "source": [
    "df.head()"
   ]
  },
  {
   "cell_type": "markdown",
   "id": "e7400f61",
   "metadata": {},
   "source": [
    "## Exploratory Data Analysis"
   ]
  },
  {
   "cell_type": "code",
   "execution_count": 6,
   "id": "14dfcca5",
   "metadata": {},
   "outputs": [
    {
     "name": "stdout",
     "output_type": "stream",
     "text": [
      "Dataset contains 4539 rows and 23 columns.\n"
     ]
    }
   ],
   "source": [
    "print(f\"Dataset contains {df.shape[0]} rows and {df.shape[1]} columns.\")"
   ]
  },
  {
   "cell_type": "code",
   "execution_count": 7,
   "id": "15f14e2d",
   "metadata": {
    "scrolled": true
   },
   "outputs": [
    {
     "name": "stdout",
     "output_type": "stream",
     "text": [
      "Total number of active certs: 946\n",
      "Total number of historical certs: 3569\n",
      "Total number of revoked certs: 24\n"
     ]
    }
   ],
   "source": [
    "total_active_certs: int = df[df[\"status\"] == \"active\"].shape[0]\n",
    "total_historical_certs: int = df[df[\"status\"] == \"historical\"].shape[0]\n",
    "total_revoked_certs: int = df[df[\"status\"] == \"revoked\"].shape[0]\n",
    "\n",
    "print(f\"Total number of active certs: {total_active_certs}\")\n",
    "print(f\"Total number of historical certs: {total_historical_certs}\")\n",
    "print(f\"Total number of revoked certs: {total_revoked_certs}\")"
   ]
  },
  {
   "cell_type": "markdown",
   "id": "de35178a",
   "metadata": {},
   "source": [
    "### Status distribution of certificates"
   ]
  },
  {
   "cell_type": "code",
   "execution_count": 8,
   "id": "b1ade08f",
   "metadata": {
    "scrolled": false
   },
   "outputs": [
    {
     "data": {
      "image/png": "[encoded data removed]",
      "text/plain": [
       "<Figure size 640x480 with 1 Axes>"
      ]
     },
     "metadata": {},
     "output_type": "display_data"
    }
   ],
   "source": [
    "sns.histplot(data=df[\"status\"])\n",
    "plt.title(\"Distribution of certificate statuses\")\n",
    "plt.xlabel(\"Certificate status\")\n",
    "plt.show()"
   ]
  },
  {
   "cell_type": "markdown",
   "id": "ee6a01a9",
   "metadata": {},
   "source": [
    "### Type distribution of certificates"
   ]
  },
  {
   "cell_type": "code",
   "execution_count": 9,
   "id": "49b9727e",
   "metadata": {
    "scrolled": false
   },
   "outputs": [
    {
     "data": {
      "image/png": "[encoded data removed]",
      "text/plain": [
       "<Figure size 640x480 with 1 Axes>"
      ]
     },
     "metadata": {},
     "output_type": "display_data"
    }
   ],
   "source": [
    "sns.histplot(data=df[\"type\"])\n",
    "plt.title(\"Distribution of certificate types\")\n",
    "plt.xlabel(\"Certificate type\")\n",
    "plt.xticks(rotation=90) \n",
    "plt.show()"
   ]
  },
  {
   "cell_type": "markdown",
   "id": "25e7095e",
   "metadata": {},
   "source": [
    "### Standard distribution of certificates"
   ]
  },
  {
   "cell_type": "code",
   "execution_count": 10,
   "id": "dcd5b8c8",
   "metadata": {
    "scrolled": true
   },
   "outputs": [
    {
     "data": {
      "image/png": "[encoded data removed]",
      "text/plain": [
       "<Figure size 640x480 with 1 Axes>"
      ]
     },
     "metadata": {},
     "output_type": "display_data"
    }
   ],
   "source": [
    "sns.histplot(data=df[\"standard\"])\n",
    "plt.title(\"Distribution of certificate standards\")\n",
    "plt.show()"
   ]
  },
  {
   "cell_type": "markdown",
   "id": "f6cbb42f",
   "metadata": {},
   "source": [
    "### Distribution of embodiment in the dataset"
   ]
  },
  {
   "cell_type": "code",
   "execution_count": 11,
   "id": "9a0a7b1c",
   "metadata": {
    "scrolled": false
   },
   "outputs": [
    {
     "data": {
      "image/png": "[encoded data removed]",
      "text/plain": [
       "<Figure size 640x480 with 1 Axes>"
      ]
     },
     "metadata": {},
     "output_type": "display_data"
    }
   ],
   "source": [
    "sns.histplot(data=df[\"embodiment\"])\n",
    "plt.title(\"Distribution of certificate embodiments\")\n",
    "plt.xticks(rotation=90) \n",
    "plt.show()"
   ]
  },
  {
   "cell_type": "markdown",
   "id": "2c1f9314",
   "metadata": {},
   "source": [
    "### Twenty most common CPEs in the dataset"
   ]
  },
  {
   "cell_type": "code",
   "execution_count": 12,
   "id": "a960fd10",
   "metadata": {
    "scrolled": true
   },
   "outputs": [
    {
     "name": "stdout",
     "output_type": "stream",
     "text": [
      "Number of certificates with at least one CPE match: 465\n"
     ]
    }
   ],
   "source": [
    "cpe_certs_df: DataFrame = df[df[\"cpe_matches\"].notna()]\n",
    "\n",
    "print(f\"Number of certificates with at least one CPE match: {cpe_certs_df.shape[0]}\")"
   ]
  },
  {
   "cell_type": "code",
   "execution_count": 13,
   "id": "12a2e03f",
   "metadata": {
    "scrolled": true
   },
   "outputs": [
    {
     "data": {
      "text/plain": [
       "[('cpe:2.3:o:redhat:enterprise_linux:8.0:*:*:*:*:*:*:*', 19),\n",
       " ('cpe:2.3:o:redhat:enterprise_linux:8.0:*:*:*:-:*:*:*', 19),\n",
       " ('cpe:2.3:o:redhat:enterprise_linux:8.5.0:*:*:*:*:*:*:*', 19),\n",
       " ('cpe:2.3:o:redhat:enterprise_linux:8.6:*:*:*:*:*:*:*', 19),\n",
       " ('cpe:2.3:o:redhat:linux:8.0:*:*:*:*:*:*:*', 19),\n",
       " ('cpe:2.3:o:redhat:enterprise_linux:8.4:*:*:*:*:*:*:*', 19),\n",
       " ('cpe:2.3:o:redhat:enterprise_linux:8.1:*:*:*:*:*:*:*', 19),\n",
       " ('cpe:2.3:o:oracle:linux:7:-:*:*:*:*:*:*', 19),\n",
       " ('cpe:2.3:o:oracle:linux:7:0:*:*:*:*:*:*', 19),\n",
       " ('cpe:2.3:o:oracle:linux:7:2:*:*:*:*:*:*', 19),\n",
       " ('cpe:2.3:o:oracle:linux:7:1:*:*:*:*:*:*', 19),\n",
       " ('cpe:2.3:o:oracle:linux:7:3:*:*:*:*:*:*', 19),\n",
       " ('cpe:2.3:h:cisco:catalyst_6506-e:-:*:*:*:*:*:*:*', 15),\n",
       " ('cpe:2.3:h:cisco:catalyst_6509-e:-:*:*:*:*:*:*:*', 15),\n",
       " ('cpe:2.3:a:mcafee:network_security_platform:9.1:*:*:*:*:*:*:*', 12),\n",
       " ('cpe:2.3:h:juniper:mx240:-:*:*:*:*:*:*:*', 11),\n",
       " ('cpe:2.3:h:juniper:mx480:-:*:*:*:*:*:*:*', 11),\n",
       " ('cpe:2.3:h:juniper:mx960:-:*:*:*:*:*:*:*', 11),\n",
       " ('cpe:2.3:o:amazon:linux_2:-:*:*:*:*:*:*:*', 9),\n",
       " ('cpe:2.3:o:redhat:enterprise_linux:7.1:*:*:*:*:*:*:*', 8)]"
      ]
     },
     "execution_count": 13,
     "metadata": {},
     "output_type": "execute_result"
    }
   ],
   "source": [
    "cpe_counter = Counter()\n",
    "cpe_matches_per_cert: list[int] = []\n",
    "\n",
    "for cpes in cpe_certs_df[\"cpe_matches\"]:\n",
    "    cpe_counter.update(cpes)\n",
    "    cpe_matches_per_cert.append(len(cpes))\n",
    "\n",
    "cpe_counter.most_common(20)"
   ]
  },
  {
   "cell_type": "markdown",
   "id": "f1fb99fe",
   "metadata": {},
   "source": [
    "### CPE matches data extraction"
   ]
  },
  {
   "cell_type": "code",
   "execution_count": 14,
   "id": "f66de442",
   "metadata": {
    "scrolled": true
   },
   "outputs": [
    {
     "data": {
      "text/plain": [
       "Text(0.5, 1.0, 'Boxplot of total cpe matches per certificate')"
      ]
     },
     "execution_count": 14,
     "metadata": {},
     "output_type": "execute_result"
    },
    {
     "data": {
      "image/png": "[encoded data removed]",
      "text/plain": [
       "<Figure size 640x480 with 1 Axes>"
      ]
     },
     "metadata": {},
     "output_type": "display_data"
    }
   ],
   "source": [
    "# Boxplot\n",
    "sns.boxplot(y=cpe_matches_per_cert)\n",
    "plt.title(\"Boxplot of total cpe matches per certificate\")"
   ]
  },
  {
   "cell_type": "code",
   "execution_count": 15,
   "id": "a0ad02e1",
   "metadata": {
    "scrolled": false
   },
   "outputs": [
    {
     "name": "stdout",
     "output_type": "stream",
     "text": [
      "Maximum cpe_matches: 74\n",
      "Minimum cpe_matches: 1\n",
      "Mean cpe_matches: 4.93\n",
      "Median cpe_matches: 2.0\n",
      "First quartile: 1.0\n",
      "Third quartile: 5.0\n",
      "IQR: 4.0\n"
     ]
    }
   ],
   "source": [
    "# NOTE: We are calculating over \"cpe_matches\", since every cert has \"verified_cpe_matches\" equal to NaN\n",
    "maximum_cpe_matches: int = max(cpe_matches_per_cert)\n",
    "minimum_cpe_matches: int = min(cpe_matches_per_cert)\n",
    "mean_cpe_matches: int = np.mean(cpe_matches_per_cert)\n",
    "median_cpe_matches: int = np.median(cpe_matches_per_cert)\n",
    "quantile_25 = np.percentile(cpe_matches_per_cert, 25)\n",
    "quantile_75 = np.percentile(cpe_matches_per_cert, 75)\n",
    "iqr = quantile_75 - quantile_25\n",
    "\n",
    "print(f\"Maximum cpe_matches: {maximum_cpe_matches}\")\n",
    "print(f\"Minimum cpe_matches: {minimum_cpe_matches}\")\n",
    "print(f\"Mean cpe_matches: {round(mean_cpe_matches, 2)}\")\n",
    "print(f\"Median cpe_matches: {median_cpe_matches}\")\n",
    "print(f\"First quartile: {quantile_25}\")\n",
    "print(f\"Third quartile: {quantile_75}\")\n",
    "print(f\"IQR: {iqr}\")"
   ]
  },
  {
   "cell_type": "code",
   "execution_count": 16,
   "id": "a92548f0",
   "metadata": {
    "scrolled": true
   },
   "outputs": [
    {
     "data": {
      "text/html": [
       "<div>\n",
       "<style scoped>\n",
       "    .dataframe tbody tr th:only-of-type {\n",
       "        vertical-align: middle;\n",
       "    }\n",
       "\n",
       "    .dataframe tbody tr th {\n",
       "        vertical-align: top;\n",
       "    }\n",
       "\n",
       "    .dataframe thead th {\n",
       "        text-align: right;\n",
       "    }\n",
       "</style>\n",
       "<table border=\"1\" class=\"dataframe\">\n",
       "  <thead>\n",
       "    <tr style=\"text-align: right;\">\n",
       "      <th></th>\n",
       "      <th>cert_id</th>\n",
       "      <th>name</th>\n",
       "      <th>status</th>\n",
       "      <th>standard</th>\n",
       "      <th>type</th>\n",
       "      <th>level</th>\n",
       "      <th>embodiment</th>\n",
       "      <th>date_validation</th>\n",
       "      <th>date_sunset</th>\n",
       "      <th>algorithms</th>\n",
       "      <th>...</th>\n",
       "      <th>related_cves</th>\n",
       "      <th>module_directly_referenced_by</th>\n",
       "      <th>module_indirectly_referenced_by</th>\n",
       "      <th>module_directly_referencing</th>\n",
       "      <th>module_indirectly_referencing</th>\n",
       "      <th>policy_directly_referenced_by</th>\n",
       "      <th>policy_indirectly_referenced_by</th>\n",
       "      <th>policy_directly_referencing</th>\n",
       "      <th>policy_indirectly_referencing</th>\n",
       "      <th>year_from</th>\n",
       "    </tr>\n",
       "    <tr>\n",
       "      <th>dgst</th>\n",
       "      <th></th>\n",
       "      <th></th>\n",
       "      <th></th>\n",
       "      <th></th>\n",
       "      <th></th>\n",
       "      <th></th>\n",
       "      <th></th>\n",
       "      <th></th>\n",
       "      <th></th>\n",
       "      <th></th>\n",
       "      <th></th>\n",
       "      <th></th>\n",
       "      <th></th>\n",
       "      <th></th>\n",
       "      <th></th>\n",
       "      <th></th>\n",
       "      <th></th>\n",
       "      <th></th>\n",
       "      <th></th>\n",
       "      <th></th>\n",
       "      <th></th>\n",
       "    </tr>\n",
       "  </thead>\n",
       "  <tbody>\n",
       "    <tr>\n",
       "      <th>926a7fc32c08e491</th>\n",
       "      <td>989</td>\n",
       "      <td>Windows XP Enhanced Cryptographic Provider (RS...</td>\n",
       "      <td>historical</td>\n",
       "      <td>FIPS 140-2</td>\n",
       "      <td>Software</td>\n",
       "      <td>1.0</td>\n",
       "      <td>Multi-Chip Stand Alone</td>\n",
       "      <td>2008-07-24</td>\n",
       "      <td>NaT</td>\n",
       "      <td>{Triple-DES MAC#675, AES#781, RNG#447, Triple-...</td>\n",
       "      <td>...</td>\n",
       "      <td>{CVE-2014-0323, CVE-2011-1967, CVE-2012-0013, ...</td>\n",
       "      <td>NaN</td>\n",
       "      <td>NaN</td>\n",
       "      <td>NaN</td>\n",
       "      <td>NaN</td>\n",
       "      <td>{2009}</td>\n",
       "      <td>{2009}</td>\n",
       "      <td>NaN</td>\n",
       "      <td>NaN</td>\n",
       "      <td>2008</td>\n",
       "    </tr>\n",
       "    <tr>\n",
       "      <th>fe50b64954720ccb</th>\n",
       "      <td>990</td>\n",
       "      <td>Windows XP Enhanced DSS and Diffie-Hellman Cry...</td>\n",
       "      <td>historical</td>\n",
       "      <td>FIPS 140-2</td>\n",
       "      <td>Software</td>\n",
       "      <td>1.0</td>\n",
       "      <td>Multi-Chip Stand Alone</td>\n",
       "      <td>2008-07-24</td>\n",
       "      <td>NaT</td>\n",
       "      <td>{RNG#448, DSA#292, Triple-DES#676, SHS#784, Tr...</td>\n",
       "      <td>...</td>\n",
       "      <td>{CVE-2014-0323, CVE-2011-1967, CVE-2012-0013, ...</td>\n",
       "      <td>NaN</td>\n",
       "      <td>NaN</td>\n",
       "      <td>NaN</td>\n",
       "      <td>NaN</td>\n",
       "      <td>NaN</td>\n",
       "      <td>NaN</td>\n",
       "      <td>NaN</td>\n",
       "      <td>NaN</td>\n",
       "      <td>2008</td>\n",
       "    </tr>\n",
       "    <tr>\n",
       "      <th>749fc650cacb0f06</th>\n",
       "      <td>241</td>\n",
       "      <td>Kernel Mode Cryptographic Module for Windows XP</td>\n",
       "      <td>historical</td>\n",
       "      <td>FIPS 140-1</td>\n",
       "      <td>Software</td>\n",
       "      <td>1.0</td>\n",
       "      <td>Multi-Chip Stand Alone</td>\n",
       "      <td>2002-08-01</td>\n",
       "      <td>NaT</td>\n",
       "      <td>{Triple-DES#16, DSA/SHA-1#35, HMAC-SHA-1#35}</td>\n",
       "      <td>...</td>\n",
       "      <td>{CVE-2014-0323, CVE-2011-1967, CVE-2012-0013, ...</td>\n",
       "      <td>NaN</td>\n",
       "      <td>NaN</td>\n",
       "      <td>NaN</td>\n",
       "      <td>NaN</td>\n",
       "      <td>NaN</td>\n",
       "      <td>NaN</td>\n",
       "      <td>{106}</td>\n",
       "      <td>{106}</td>\n",
       "      <td>2002</td>\n",
       "    </tr>\n",
       "    <tr>\n",
       "      <th>6af1f692e9496c6d</th>\n",
       "      <td>240</td>\n",
       "      <td>DSS/Diffie-Hellman Enhanced Cryptographic Prov...</td>\n",
       "      <td>historical</td>\n",
       "      <td>FIPS 140-1</td>\n",
       "      <td>Software</td>\n",
       "      <td>1.0</td>\n",
       "      <td>Multi-Chip Stand Alone</td>\n",
       "      <td>2002-08-01</td>\n",
       "      <td>NaT</td>\n",
       "      <td>{DSA/SHA-1#29, Triple-DES#16}</td>\n",
       "      <td>...</td>\n",
       "      <td>{CVE-2014-0323, CVE-2011-1967, CVE-2012-0013, ...</td>\n",
       "      <td>NaN</td>\n",
       "      <td>NaN</td>\n",
       "      <td>NaN</td>\n",
       "      <td>NaN</td>\n",
       "      <td>{433}</td>\n",
       "      <td>{433}</td>\n",
       "      <td>NaN</td>\n",
       "      <td>NaN</td>\n",
       "      <td>2002</td>\n",
       "    </tr>\n",
       "  </tbody>\n",
       "</table>\n",
       "<p>4 rows × 23 columns</p>\n",
       "</div>"
      ],
      "text/plain": [
       "                  cert_id                                               name  \\\n",
       "dgst                                                                           \n",
       "926a7fc32c08e491      989  Windows XP Enhanced Cryptographic Provider (RS...   \n",
       "fe50b64954720ccb      990  Windows XP Enhanced DSS and Diffie-Hellman Cry...   \n",
       "749fc650cacb0f06      241    Kernel Mode Cryptographic Module for Windows XP   \n",
       "6af1f692e9496c6d      240  DSS/Diffie-Hellman Enhanced Cryptographic Prov...   \n",
       "\n",
       "                      status    standard      type  level  \\\n",
       "dgst                                                        \n",
       "926a7fc32c08e491  historical  FIPS 140-2  Software    1.0   \n",
       "fe50b64954720ccb  historical  FIPS 140-2  Software    1.0   \n",
       "749fc650cacb0f06  historical  FIPS 140-1  Software    1.0   \n",
       "6af1f692e9496c6d  historical  FIPS 140-1  Software    1.0   \n",
       "\n",
       "                              embodiment date_validation date_sunset  \\\n",
       "dgst                                                                   \n",
       "926a7fc32c08e491  Multi-Chip Stand Alone      2008-07-24         NaT   \n",
       "fe50b64954720ccb  Multi-Chip Stand Alone      2008-07-24         NaT   \n",
       "749fc650cacb0f06  Multi-Chip Stand Alone      2002-08-01         NaT   \n",
       "6af1f692e9496c6d  Multi-Chip Stand Alone      2002-08-01         NaT   \n",
       "\n",
       "                                                         algorithms  ...  \\\n",
       "dgst                                                                 ...   \n",
       "926a7fc32c08e491  {Triple-DES MAC#675, AES#781, RNG#447, Triple-...  ...   \n",
       "fe50b64954720ccb  {RNG#448, DSA#292, Triple-DES#676, SHS#784, Tr...  ...   \n",
       "749fc650cacb0f06       {Triple-DES#16, DSA/SHA-1#35, HMAC-SHA-1#35}  ...   \n",
       "6af1f692e9496c6d                      {DSA/SHA-1#29, Triple-DES#16}  ...   \n",
       "\n",
       "                                                       related_cves  \\\n",
       "dgst                                                                  \n",
       "926a7fc32c08e491  {CVE-2014-0323, CVE-2011-1967, CVE-2012-0013, ...   \n",
       "fe50b64954720ccb  {CVE-2014-0323, CVE-2011-1967, CVE-2012-0013, ...   \n",
       "749fc650cacb0f06  {CVE-2014-0323, CVE-2011-1967, CVE-2012-0013, ...   \n",
       "6af1f692e9496c6d  {CVE-2014-0323, CVE-2011-1967, CVE-2012-0013, ...   \n",
       "\n",
       "                 module_directly_referenced_by  \\\n",
       "dgst                                             \n",
       "926a7fc32c08e491                           NaN   \n",
       "fe50b64954720ccb                           NaN   \n",
       "749fc650cacb0f06                           NaN   \n",
       "6af1f692e9496c6d                           NaN   \n",
       "\n",
       "                  module_indirectly_referenced_by module_directly_referencing  \\\n",
       "dgst                                                                            \n",
       "926a7fc32c08e491                              NaN                         NaN   \n",
       "fe50b64954720ccb                              NaN                         NaN   \n",
       "749fc650cacb0f06                              NaN                         NaN   \n",
       "6af1f692e9496c6d                              NaN                         NaN   \n",
       "\n",
       "                 module_indirectly_referencing policy_directly_referenced_by  \\\n",
       "dgst                                                                           \n",
       "926a7fc32c08e491                           NaN                        {2009}   \n",
       "fe50b64954720ccb                           NaN                           NaN   \n",
       "749fc650cacb0f06                           NaN                           NaN   \n",
       "6af1f692e9496c6d                           NaN                         {433}   \n",
       "\n",
       "                 policy_indirectly_referenced_by policy_directly_referencing  \\\n",
       "dgst                                                                           \n",
       "926a7fc32c08e491                          {2009}                         NaN   \n",
       "fe50b64954720ccb                             NaN                         NaN   \n",
       "749fc650cacb0f06                             NaN                       {106}   \n",
       "6af1f692e9496c6d                           {433}                         NaN   \n",
       "\n",
       "                 policy_indirectly_referencing year_from  \n",
       "dgst                                                      \n",
       "926a7fc32c08e491                           NaN      2008  \n",
       "fe50b64954720ccb                           NaN      2008  \n",
       "749fc650cacb0f06                         {106}      2002  \n",
       "6af1f692e9496c6d                           NaN      2002  \n",
       "\n",
       "[4 rows x 23 columns]"
      ]
     },
     "execution_count": 16,
     "metadata": {},
     "output_type": "execute_result"
    }
   ],
   "source": [
    "max_cpe_matches_df: DataFrame = cpe_certs_df[cpe_certs_df[\"cpe_matches\"].apply(lambda x: len(x) == maximum_cpe_matches)]\n",
    "max_cpe_matches_df"
   ]
  },
  {
   "cell_type": "code",
   "execution_count": 17,
   "id": "2b216157",
   "metadata": {
    "scrolled": true
   },
   "outputs": [
    {
     "data": {
      "text/html": [
       "<div>\n",
       "<style scoped>\n",
       "    .dataframe tbody tr th:only-of-type {\n",
       "        vertical-align: middle;\n",
       "    }\n",
       "\n",
       "    .dataframe tbody tr th {\n",
       "        vertical-align: top;\n",
       "    }\n",
       "\n",
       "    .dataframe thead th {\n",
       "        text-align: right;\n",
       "    }\n",
       "</style>\n",
       "<table border=\"1\" class=\"dataframe\">\n",
       "  <thead>\n",
       "    <tr style=\"text-align: right;\">\n",
       "      <th></th>\n",
       "      <th>cert_id</th>\n",
       "      <th>name</th>\n",
       "      <th>status</th>\n",
       "      <th>standard</th>\n",
       "      <th>type</th>\n",
       "      <th>level</th>\n",
       "      <th>embodiment</th>\n",
       "      <th>date_validation</th>\n",
       "      <th>date_sunset</th>\n",
       "      <th>algorithms</th>\n",
       "      <th>...</th>\n",
       "      <th>related_cves</th>\n",
       "      <th>module_directly_referenced_by</th>\n",
       "      <th>module_indirectly_referenced_by</th>\n",
       "      <th>module_directly_referencing</th>\n",
       "      <th>module_indirectly_referencing</th>\n",
       "      <th>policy_directly_referenced_by</th>\n",
       "      <th>policy_indirectly_referenced_by</th>\n",
       "      <th>policy_directly_referencing</th>\n",
       "      <th>policy_indirectly_referencing</th>\n",
       "      <th>year_from</th>\n",
       "    </tr>\n",
       "    <tr>\n",
       "      <th>dgst</th>\n",
       "      <th></th>\n",
       "      <th></th>\n",
       "      <th></th>\n",
       "      <th></th>\n",
       "      <th></th>\n",
       "      <th></th>\n",
       "      <th></th>\n",
       "      <th></th>\n",
       "      <th></th>\n",
       "      <th></th>\n",
       "      <th></th>\n",
       "      <th></th>\n",
       "      <th></th>\n",
       "      <th></th>\n",
       "      <th></th>\n",
       "      <th></th>\n",
       "      <th></th>\n",
       "      <th></th>\n",
       "      <th></th>\n",
       "      <th></th>\n",
       "      <th></th>\n",
       "    </tr>\n",
       "  </thead>\n",
       "  <tbody>\n",
       "    <tr>\n",
       "      <th>71cadd0c63e57249</th>\n",
       "      <td>4472</td>\n",
       "      <td>Amazon Linux 2 GnuTLS Cryptographic Module</td>\n",
       "      <td>active</td>\n",
       "      <td>FIPS 140-2</td>\n",
       "      <td>Software</td>\n",
       "      <td>1.0</td>\n",
       "      <td>Multi-Chip Stand Alone</td>\n",
       "      <td>2023-04-14</td>\n",
       "      <td>2025-04-19</td>\n",
       "      <td>{RSA#C792, Triple-DES#C792, HMAC#C792, CVL#C79...</td>\n",
       "      <td>...</td>\n",
       "      <td>NaN</td>\n",
       "      <td>NaN</td>\n",
       "      <td>NaN</td>\n",
       "      <td>NaN</td>\n",
       "      <td>NaN</td>\n",
       "      <td>NaN</td>\n",
       "      <td>NaN</td>\n",
       "      <td>NaN</td>\n",
       "      <td>NaN</td>\n",
       "      <td>2023</td>\n",
       "    </tr>\n",
       "    <tr>\n",
       "      <th>9931f287c490c562</th>\n",
       "      <td>3618</td>\n",
       "      <td>Amazon Linux 2 Libgcrypt Cryptographic Module</td>\n",
       "      <td>active</td>\n",
       "      <td>FIPS 140-2</td>\n",
       "      <td>Software</td>\n",
       "      <td>1.0</td>\n",
       "      <td>Multi-Chip Stand Alone</td>\n",
       "      <td>2020-02-19</td>\n",
       "      <td>2025-02-18</td>\n",
       "      <td>{SHS#C693, Triple-DES#C693, RSA#C693, HMAC#C69...</td>\n",
       "      <td>...</td>\n",
       "      <td>NaN</td>\n",
       "      <td>NaN</td>\n",
       "      <td>NaN</td>\n",
       "      <td>NaN</td>\n",
       "      <td>NaN</td>\n",
       "      <td>NaN</td>\n",
       "      <td>NaN</td>\n",
       "      <td>NaN</td>\n",
       "      <td>NaN</td>\n",
       "      <td>2020</td>\n",
       "    </tr>\n",
       "    <tr>\n",
       "      <th>03f65a290e11d786</th>\n",
       "      <td>3908</td>\n",
       "      <td>Juniper Networks NFX250 Network Services Platform</td>\n",
       "      <td>active</td>\n",
       "      <td>FIPS 140-2</td>\n",
       "      <td>Hardware</td>\n",
       "      <td>1.0</td>\n",
       "      <td>Multi-Chip Stand Alone</td>\n",
       "      <td>2021-04-23</td>\n",
       "      <td>2026-04-22</td>\n",
       "      <td>{KTS#C1981, Triple-DES#C1979, SHS#C1983, Tripl...</td>\n",
       "      <td>...</td>\n",
       "      <td>NaN</td>\n",
       "      <td>NaN</td>\n",
       "      <td>NaN</td>\n",
       "      <td>NaN</td>\n",
       "      <td>NaN</td>\n",
       "      <td>NaN</td>\n",
       "      <td>NaN</td>\n",
       "      <td>NaN</td>\n",
       "      <td>NaN</td>\n",
       "      <td>2021</td>\n",
       "    </tr>\n",
       "    <tr>\n",
       "      <th>7119d5d9637ddeeb</th>\n",
       "      <td>3717</td>\n",
       "      <td>Juniper Networks NFX150 Network Services Platform</td>\n",
       "      <td>active</td>\n",
       "      <td>FIPS 140-2</td>\n",
       "      <td>Hardware</td>\n",
       "      <td>1.0</td>\n",
       "      <td>Multi-Chip Stand Alone</td>\n",
       "      <td>2020-09-28</td>\n",
       "      <td>2025-09-27</td>\n",
       "      <td>{HMAC#C943, DRBG#C970, RSA#C947, ECDSA#C947, A...</td>\n",
       "      <td>...</td>\n",
       "      <td>NaN</td>\n",
       "      <td>NaN</td>\n",
       "      <td>NaN</td>\n",
       "      <td>NaN</td>\n",
       "      <td>NaN</td>\n",
       "      <td>NaN</td>\n",
       "      <td>NaN</td>\n",
       "      <td>NaN</td>\n",
       "      <td>NaN</td>\n",
       "      <td>2020</td>\n",
       "    </tr>\n",
       "    <tr>\n",
       "      <th>f36e412aea00d7c6</th>\n",
       "      <td>4519</td>\n",
       "      <td>Cisco Catalyst 9400 Series Switches</td>\n",
       "      <td>active</td>\n",
       "      <td>FIPS 140-2</td>\n",
       "      <td>Hardware</td>\n",
       "      <td>1.0</td>\n",
       "      <td>Multi-Chip Stand Alone</td>\n",
       "      <td>2023-05-11</td>\n",
       "      <td>2026-03-02</td>\n",
       "      <td>{SHS#A1462, SHS#C431, RSA#C431, CVL#A1462, KAS...</td>\n",
       "      <td>...</td>\n",
       "      <td>NaN</td>\n",
       "      <td>NaN</td>\n",
       "      <td>NaN</td>\n",
       "      <td>{3637}</td>\n",
       "      <td>{3637}</td>\n",
       "      <td>NaN</td>\n",
       "      <td>NaN</td>\n",
       "      <td>{3637}</td>\n",
       "      <td>{3637}</td>\n",
       "      <td>2023</td>\n",
       "    </tr>\n",
       "    <tr>\n",
       "      <th>...</th>\n",
       "      <td>...</td>\n",
       "      <td>...</td>\n",
       "      <td>...</td>\n",
       "      <td>...</td>\n",
       "      <td>...</td>\n",
       "      <td>...</td>\n",
       "      <td>...</td>\n",
       "      <td>...</td>\n",
       "      <td>...</td>\n",
       "      <td>...</td>\n",
       "      <td>...</td>\n",
       "      <td>...</td>\n",
       "      <td>...</td>\n",
       "      <td>...</td>\n",
       "      <td>...</td>\n",
       "      <td>...</td>\n",
       "      <td>...</td>\n",
       "      <td>...</td>\n",
       "      <td>...</td>\n",
       "      <td>...</td>\n",
       "      <td>...</td>\n",
       "    </tr>\n",
       "    <tr>\n",
       "      <th>9cbfc3c153a29e5c</th>\n",
       "      <td>2593</td>\n",
       "      <td>Network Security Platform Sensor NS-9300 S</td>\n",
       "      <td>historical</td>\n",
       "      <td>FIPS 140-2</td>\n",
       "      <td>Hardware</td>\n",
       "      <td>2.0</td>\n",
       "      <td>Multi-Chip Stand Alone</td>\n",
       "      <td>2016-03-29</td>\n",
       "      <td>NaT</td>\n",
       "      <td>{RSA#1600, SHS#2923, SHS#2612, DRBG#649, RSA#1...</td>\n",
       "      <td>...</td>\n",
       "      <td>NaN</td>\n",
       "      <td>NaN</td>\n",
       "      <td>NaN</td>\n",
       "      <td>NaN</td>\n",
       "      <td>NaN</td>\n",
       "      <td>NaN</td>\n",
       "      <td>NaN</td>\n",
       "      <td>NaN</td>\n",
       "      <td>NaN</td>\n",
       "      <td>2016</td>\n",
       "    </tr>\n",
       "    <tr>\n",
       "      <th>1625f9db144171f7</th>\n",
       "      <td>1750</td>\n",
       "      <td>IDProtect Key with LASER PKI</td>\n",
       "      <td>historical</td>\n",
       "      <td>FIPS 140-2</td>\n",
       "      <td>Hardware</td>\n",
       "      <td>3.0</td>\n",
       "      <td>Single Chip</td>\n",
       "      <td>2012-07-17</td>\n",
       "      <td>NaT</td>\n",
       "      <td>{ECDSA#214, DRBG#98, AES#1654, Triple-DES#1087...</td>\n",
       "      <td>...</td>\n",
       "      <td>{CVE-2019-15809}</td>\n",
       "      <td>NaN</td>\n",
       "      <td>NaN</td>\n",
       "      <td>NaN</td>\n",
       "      <td>NaN</td>\n",
       "      <td>NaN</td>\n",
       "      <td>NaN</td>\n",
       "      <td>NaN</td>\n",
       "      <td>NaN</td>\n",
       "      <td>2012</td>\n",
       "    </tr>\n",
       "    <tr>\n",
       "      <th>15bb14fd69723b98</th>\n",
       "      <td>3580</td>\n",
       "      <td>Network Security Platform Sensor NS9100 and NS...</td>\n",
       "      <td>historical</td>\n",
       "      <td>FIPS 140-2</td>\n",
       "      <td>Hardware</td>\n",
       "      <td>2.0</td>\n",
       "      <td>Multi-Chip Stand Alone</td>\n",
       "      <td>2019-12-09</td>\n",
       "      <td>NaT</td>\n",
       "      <td>{CVL#C409, CVL#C410, DRBG#C409, RSA#2638, SHS#...</td>\n",
       "      <td>...</td>\n",
       "      <td>NaN</td>\n",
       "      <td>NaN</td>\n",
       "      <td>NaN</td>\n",
       "      <td>NaN</td>\n",
       "      <td>NaN</td>\n",
       "      <td>NaN</td>\n",
       "      <td>NaN</td>\n",
       "      <td>NaN</td>\n",
       "      <td>NaN</td>\n",
       "      <td>2019</td>\n",
       "    </tr>\n",
       "    <tr>\n",
       "      <th>586540138f7cd7fd</th>\n",
       "      <td>3026</td>\n",
       "      <td>Aruba 7200 Series Controllers with ArubaOS FIP...</td>\n",
       "      <td>historical</td>\n",
       "      <td>FIPS 140-2</td>\n",
       "      <td>Hardware</td>\n",
       "      <td>2.0</td>\n",
       "      <td>Multi-Chip Stand Alone</td>\n",
       "      <td>2017-09-22</td>\n",
       "      <td>NaT</td>\n",
       "      <td>{SHS#3631, ECDSA#469, RSA#1268, HMAC#1522, HMA...</td>\n",
       "      <td>...</td>\n",
       "      <td>NaN</td>\n",
       "      <td>NaN</td>\n",
       "      <td>NaN</td>\n",
       "      <td>NaN</td>\n",
       "      <td>NaN</td>\n",
       "      <td>NaN</td>\n",
       "      <td>NaN</td>\n",
       "      <td>NaN</td>\n",
       "      <td>NaN</td>\n",
       "      <td>2017</td>\n",
       "    </tr>\n",
       "    <tr>\n",
       "      <th>6678394ac11e55af</th>\n",
       "      <td>3643</td>\n",
       "      <td>Amazon Linux 2 GnuTLS Cryptographic Module</td>\n",
       "      <td>historical</td>\n",
       "      <td>FIPS 140-2</td>\n",
       "      <td>Software</td>\n",
       "      <td>1.0</td>\n",
       "      <td>Multi-Chip Stand Alone</td>\n",
       "      <td>2020-04-20</td>\n",
       "      <td>NaT</td>\n",
       "      <td>{RSA#C792, Triple-DES#C792, HMAC#C792, CVL#C79...</td>\n",
       "      <td>...</td>\n",
       "      <td>NaN</td>\n",
       "      <td>NaN</td>\n",
       "      <td>NaN</td>\n",
       "      <td>NaN</td>\n",
       "      <td>NaN</td>\n",
       "      <td>NaN</td>\n",
       "      <td>NaN</td>\n",
       "      <td>NaN</td>\n",
       "      <td>NaN</td>\n",
       "      <td>2020</td>\n",
       "    </tr>\n",
       "  </tbody>\n",
       "</table>\n",
       "<p>159 rows × 23 columns</p>\n",
       "</div>"
      ],
      "text/plain": [
       "                  cert_id                                               name  \\\n",
       "dgst                                                                           \n",
       "71cadd0c63e57249     4472         Amazon Linux 2 GnuTLS Cryptographic Module   \n",
       "9931f287c490c562     3618      Amazon Linux 2 Libgcrypt Cryptographic Module   \n",
       "03f65a290e11d786     3908  Juniper Networks NFX250 Network Services Platform   \n",
       "7119d5d9637ddeeb     3717  Juniper Networks NFX150 Network Services Platform   \n",
       "f36e412aea00d7c6     4519                Cisco Catalyst 9400 Series Switches   \n",
       "...                   ...                                                ...   \n",
       "9cbfc3c153a29e5c     2593         Network Security Platform Sensor NS-9300 S   \n",
       "1625f9db144171f7     1750                       IDProtect Key with LASER PKI   \n",
       "15bb14fd69723b98     3580  Network Security Platform Sensor NS9100 and NS...   \n",
       "586540138f7cd7fd     3026  Aruba 7200 Series Controllers with ArubaOS FIP...   \n",
       "6678394ac11e55af     3643         Amazon Linux 2 GnuTLS Cryptographic Module   \n",
       "\n",
       "                      status    standard      type  level  \\\n",
       "dgst                                                        \n",
       "71cadd0c63e57249      active  FIPS 140-2  Software    1.0   \n",
       "9931f287c490c562      active  FIPS 140-2  Software    1.0   \n",
       "03f65a290e11d786      active  FIPS 140-2  Hardware    1.0   \n",
       "7119d5d9637ddeeb      active  FIPS 140-2  Hardware    1.0   \n",
       "f36e412aea00d7c6      active  FIPS 140-2  Hardware    1.0   \n",
       "...                      ...         ...       ...    ...   \n",
       "9cbfc3c153a29e5c  historical  FIPS 140-2  Hardware    2.0   \n",
       "1625f9db144171f7  historical  FIPS 140-2  Hardware    3.0   \n",
       "15bb14fd69723b98  historical  FIPS 140-2  Hardware    2.0   \n",
       "586540138f7cd7fd  historical  FIPS 140-2  Hardware    2.0   \n",
       "6678394ac11e55af  historical  FIPS 140-2  Software    1.0   \n",
       "\n",
       "                              embodiment date_validation date_sunset  \\\n",
       "dgst                                                                   \n",
       "71cadd0c63e57249  Multi-Chip Stand Alone      2023-04-14  2025-04-19   \n",
       "9931f287c490c562  Multi-Chip Stand Alone      2020-02-19  2025-02-18   \n",
       "03f65a290e11d786  Multi-Chip Stand Alone      2021-04-23  2026-04-22   \n",
       "7119d5d9637ddeeb  Multi-Chip Stand Alone      2020-09-28  2025-09-27   \n",
       "f36e412aea00d7c6  Multi-Chip Stand Alone      2023-05-11  2026-03-02   \n",
       "...                                  ...             ...         ...   \n",
       "9cbfc3c153a29e5c  Multi-Chip Stand Alone      2016-03-29         NaT   \n",
       "1625f9db144171f7             Single Chip      2012-07-17         NaT   \n",
       "15bb14fd69723b98  Multi-Chip Stand Alone      2019-12-09         NaT   \n",
       "586540138f7cd7fd  Multi-Chip Stand Alone      2017-09-22         NaT   \n",
       "6678394ac11e55af  Multi-Chip Stand Alone      2020-04-20         NaT   \n",
       "\n",
       "                                                         algorithms  ...  \\\n",
       "dgst                                                                 ...   \n",
       "71cadd0c63e57249  {RSA#C792, Triple-DES#C792, HMAC#C792, CVL#C79...  ...   \n",
       "9931f287c490c562  {SHS#C693, Triple-DES#C693, RSA#C693, HMAC#C69...  ...   \n",
       "03f65a290e11d786  {KTS#C1981, Triple-DES#C1979, SHS#C1983, Tripl...  ...   \n",
       "7119d5d9637ddeeb  {HMAC#C943, DRBG#C970, RSA#C947, ECDSA#C947, A...  ...   \n",
       "f36e412aea00d7c6  {SHS#A1462, SHS#C431, RSA#C431, CVL#A1462, KAS...  ...   \n",
       "...                                                             ...  ...   \n",
       "9cbfc3c153a29e5c  {RSA#1600, SHS#2923, SHS#2612, DRBG#649, RSA#1...  ...   \n",
       "1625f9db144171f7  {ECDSA#214, DRBG#98, AES#1654, Triple-DES#1087...  ...   \n",
       "15bb14fd69723b98  {CVL#C409, CVL#C410, DRBG#C409, RSA#2638, SHS#...  ...   \n",
       "586540138f7cd7fd  {SHS#3631, ECDSA#469, RSA#1268, HMAC#1522, HMA...  ...   \n",
       "6678394ac11e55af  {RSA#C792, Triple-DES#C792, HMAC#C792, CVL#C79...  ...   \n",
       "\n",
       "                      related_cves module_directly_referenced_by  \\\n",
       "dgst                                                               \n",
       "71cadd0c63e57249               NaN                           NaN   \n",
       "9931f287c490c562               NaN                           NaN   \n",
       "03f65a290e11d786               NaN                           NaN   \n",
       "7119d5d9637ddeeb               NaN                           NaN   \n",
       "f36e412aea00d7c6               NaN                           NaN   \n",
       "...                            ...                           ...   \n",
       "9cbfc3c153a29e5c               NaN                           NaN   \n",
       "1625f9db144171f7  {CVE-2019-15809}                           NaN   \n",
       "15bb14fd69723b98               NaN                           NaN   \n",
       "586540138f7cd7fd               NaN                           NaN   \n",
       "6678394ac11e55af               NaN                           NaN   \n",
       "\n",
       "                  module_indirectly_referenced_by module_directly_referencing  \\\n",
       "dgst                                                                            \n",
       "71cadd0c63e57249                              NaN                         NaN   \n",
       "9931f287c490c562                              NaN                         NaN   \n",
       "03f65a290e11d786                              NaN                         NaN   \n",
       "7119d5d9637ddeeb                              NaN                         NaN   \n",
       "f36e412aea00d7c6                              NaN                      {3637}   \n",
       "...                                           ...                         ...   \n",
       "9cbfc3c153a29e5c                              NaN                         NaN   \n",
       "1625f9db144171f7                              NaN                         NaN   \n",
       "15bb14fd69723b98                              NaN                         NaN   \n",
       "586540138f7cd7fd                              NaN                         NaN   \n",
       "6678394ac11e55af                              NaN                         NaN   \n",
       "\n",
       "                 module_indirectly_referencing policy_directly_referenced_by  \\\n",
       "dgst                                                                           \n",
       "71cadd0c63e57249                           NaN                           NaN   \n",
       "9931f287c490c562                           NaN                           NaN   \n",
       "03f65a290e11d786                           NaN                           NaN   \n",
       "7119d5d9637ddeeb                           NaN                           NaN   \n",
       "f36e412aea00d7c6                        {3637}                           NaN   \n",
       "...                                        ...                           ...   \n",
       "9cbfc3c153a29e5c                           NaN                           NaN   \n",
       "1625f9db144171f7                           NaN                           NaN   \n",
       "15bb14fd69723b98                           NaN                           NaN   \n",
       "586540138f7cd7fd                           NaN                           NaN   \n",
       "6678394ac11e55af                           NaN                           NaN   \n",
       "\n",
       "                 policy_indirectly_referenced_by policy_directly_referencing  \\\n",
       "dgst                                                                           \n",
       "71cadd0c63e57249                             NaN                         NaN   \n",
       "9931f287c490c562                             NaN                         NaN   \n",
       "03f65a290e11d786                             NaN                         NaN   \n",
       "7119d5d9637ddeeb                             NaN                         NaN   \n",
       "f36e412aea00d7c6                             NaN                      {3637}   \n",
       "...                                          ...                         ...   \n",
       "9cbfc3c153a29e5c                             NaN                         NaN   \n",
       "1625f9db144171f7                             NaN                         NaN   \n",
       "15bb14fd69723b98                             NaN                         NaN   \n",
       "586540138f7cd7fd                             NaN                         NaN   \n",
       "6678394ac11e55af                             NaN                         NaN   \n",
       "\n",
       "                 policy_indirectly_referencing year_from  \n",
       "dgst                                                      \n",
       "71cadd0c63e57249                           NaN      2023  \n",
       "9931f287c490c562                           NaN      2020  \n",
       "03f65a290e11d786                           NaN      2021  \n",
       "7119d5d9637ddeeb                           NaN      2020  \n",
       "f36e412aea00d7c6                        {3637}      2023  \n",
       "...                                        ...       ...  \n",
       "9cbfc3c153a29e5c                           NaN      2016  \n",
       "1625f9db144171f7                           NaN      2012  \n",
       "15bb14fd69723b98                           NaN      2019  \n",
       "586540138f7cd7fd                           NaN      2017  \n",
       "6678394ac11e55af                           NaN      2020  \n",
       "\n",
       "[159 rows x 23 columns]"
      ]
     },
     "execution_count": 17,
     "metadata": {},
     "output_type": "execute_result"
    }
   ],
   "source": [
    "min_cpe_matches_df: DataFrame = cpe_certs_df[cpe_certs_df[\"cpe_matches\"].apply(lambda x: len(x) == minimum_cpe_matches)]\n",
    "min_cpe_matches_df"
   ]
  },
  {
   "cell_type": "markdown",
   "id": "9f11c4d5",
   "metadata": {},
   "source": [
    "### Ten most common CVEs in the dataset"
   ]
  },
  {
   "cell_type": "code",
   "execution_count": 18,
   "id": "0ecd1b1c",
   "metadata": {
    "scrolled": false
   },
   "outputs": [
    {
     "name": "stdout",
     "output_type": "stream",
     "text": [
      "Number of certificates with at least one CVE: 220\n"
     ]
    }
   ],
   "source": [
    "cve_certs_df: DataFrame = df[df[\"related_cves\"].notna()]\n",
    "\n",
    "print(f\"Number of certificates with at least one CVE: {cve_certs_df.shape[0]}\")"
   ]
  },
  {
   "cell_type": "code",
   "execution_count": 19,
   "id": "dbac8629",
   "metadata": {},
   "outputs": [
    {
     "data": {
      "text/plain": [
       "[('CVE-2016-7091', 49),\n",
       " ('CVE-1999-0894', 45),\n",
       " ('CVE-2007-3103', 45),\n",
       " ('CVE-2001-0889', 45),\n",
       " ('CVE-2001-0690', 45),\n",
       " ('CVE-2000-1207', 45),\n",
       " ('CVE-2000-0017', 45),\n",
       " ('CVE-1999-1288', 45),\n",
       " ('CVE-1999-0798', 45),\n",
       " ('CVE-2000-0701', 45)]"
      ]
     },
     "execution_count": 19,
     "metadata": {},
     "output_type": "execute_result"
    }
   ],
   "source": [
    "cve_counter = Counter()\n",
    "\n",
    "for cves in cve_certs_df[\"related_cves\"]:\n",
    "    cve_counter.update(cves)\n",
    "\n",
    "cve_counter.most_common(10)"
   ]
  },
  {
   "cell_type": "markdown",
   "id": "5be2561b",
   "metadata": {},
   "source": [
    "### Ten most common crypto algorithms used"
   ]
  },
  {
   "cell_type": "code",
   "execution_count": 20,
   "id": "02306c40",
   "metadata": {
    "scrolled": true
   },
   "outputs": [
    {
     "data": {
      "text/plain": [
       "[('RSA#1', 180),\n",
       " ('Triple-DES#34', 45),\n",
       " ('RSA#1166', 35),\n",
       " ('SHS#1954', 35),\n",
       " ('DSA#709', 35),\n",
       " ('Triple-DES#1420', 35),\n",
       " ('ECDSA#368', 35),\n",
       " ('HMAC#1391', 35),\n",
       " ('AES#2273', 35),\n",
       " ('DRBG#281', 35)]"
      ]
     },
     "execution_count": 20,
     "metadata": {},
     "output_type": "execute_result"
    }
   ],
   "source": [
    "crypto_algo_counter = Counter()\n",
    "\n",
    "for algorithms in df[\"algorithms\"]:\n",
    "    crypto_algo_counter.update(algorithms)\n",
    "\n",
    "crypto_algo_counter.most_common(10)"
   ]
  },
  {
   "cell_type": "markdown",
   "id": "eff29c58",
   "metadata": {},
   "source": [
    "## Analysis of FIPS references"
   ]
  },
  {
   "cell_type": "code",
   "execution_count": 21,
   "id": "6ceb86c7",
   "metadata": {},
   "outputs": [],
   "source": [
    "refs_columns: list[str] = [\n",
    "    \"cert_id\", \n",
    "    \"status\",\n",
    "    \"standard\",\n",
    "    \"type\",\n",
    "    \"level\",\n",
    "    \"embodiment\",\n",
    "    \"module_directly_referenced_by\", \n",
    "    \"module_indirectly_referenced_by\",\n",
    "    \"module_directly_referencing\",\n",
    "    \"module_indirectly_referencing\",\n",
    "    \"policy_directly_referenced_by\",\n",
    "    \"policy_indirectly_referenced_by\",\n",
    "    \"policy_directly_referencing\",\n",
    "    \"policy_indirectly_referencing\",\n",
    "]"
   ]
  },
  {
   "cell_type": "markdown",
   "id": "9921ff15",
   "metadata": {},
   "source": [
    "### References EDA"
   ]
  },
  {
   "cell_type": "code",
   "execution_count": 22,
   "id": "287342a7",
   "metadata": {},
   "outputs": [],
   "source": [
    "refs_df = df[refs_columns]"
   ]
  },
  {
   "cell_type": "code",
   "execution_count": 23,
   "id": "685b2fd2",
   "metadata": {},
   "outputs": [],
   "source": [
    "refs_direct_eda_df = refs_df[refs_df[\"module_directly_referencing\"].notna()]\n",
    "refs_indirect_eda_df = refs_df[refs_df[\"module_indirectly_referencing\"].notna()]"
   ]
  },
  {
   "cell_type": "code",
   "execution_count": 24,
   "id": "c90bd114",
   "metadata": {},
   "outputs": [],
   "source": [
    "def process_direct_references(df: DataFrame, func: Callable[[list[int]], float]) -> float:\n",
    "    return func([len(refs) for refs in df[\"module_directly_referencing\"]])\n",
    "\n",
    "def process_indirect_references(df: DataFrame, func: Callable[[list[int]], float]) -> float:\n",
    "    return func([len(refs) for refs in df[\"module_indirectly_referencing\"]])"
   ]
  },
  {
   "cell_type": "markdown",
   "id": "12f546d4",
   "metadata": {},
   "source": [
    "#### Direct"
   ]
  },
  {
   "cell_type": "code",
   "execution_count": 25,
   "id": "eca9eb4d",
   "metadata": {},
   "outputs": [
    {
     "name": "stdout",
     "output_type": "stream",
     "text": [
      "Total directly referencing certs: 474\n",
      "Total direct references among all certs: 627\n",
      "Maximum directly referenced certs at once: 8\n",
      "Minimum directly referenced certs at once: 1\n",
      "Mean of all direct references: 1.32\n",
      "Median of all direct references: 1.0\n"
     ]
    }
   ],
   "source": [
    "total_directly_referencing_certs: int = refs_direct_eda_df.shape[0]\n",
    "total_direct_references: int = process_direct_references(refs_direct_eda_df, sum)\n",
    "maximum_direct_references: int = process_direct_references(refs_direct_eda_df, max)\n",
    "minimum_direct_references: int = process_direct_references(refs_direct_eda_df, min)\n",
    "mean_direct_references: float = round(process_direct_references(refs_direct_eda_df, np.mean), 2)\n",
    "median_direct_references: float = process_direct_references(refs_direct_eda_df, np.median)\n",
    "\n",
    "print(f\"Total directly referencing certs: {total_directly_referencing_certs}\")\n",
    "print(f\"Total direct references among all certs: {total_direct_references}\")\n",
    "print(f\"Maximum directly referenced certs at once: {maximum_direct_references}\")\n",
    "print(f\"Minimum directly referenced certs at once: {minimum_direct_references}\")\n",
    "print(f\"Mean of all direct references: {mean_direct_references}\")\n",
    "print(f\"Median of all direct references: {median_direct_references}\")"
   ]
  },
  {
   "cell_type": "markdown",
   "id": "9276357b",
   "metadata": {},
   "source": [
    "#### Indirect"
   ]
  },
  {
   "cell_type": "code",
   "execution_count": 26,
   "id": "ac66ad0f",
   "metadata": {},
   "outputs": [
    {
     "name": "stdout",
     "output_type": "stream",
     "text": [
      "Total indirectly referencing certs: 474\n",
      "Total indirect references among all certs: 1044\n",
      "Maximum indirectly referenced certs at once: 27\n",
      "Minimum indirectly referenced certs at once: 1\n",
      "Mean of all indirect references: 2.2\n",
      "Median of all indirect references: 1.0\n"
     ]
    }
   ],
   "source": [
    "total_indirectly_referencing_certs: int = refs_indirect_eda_df.shape[0]\n",
    "total_indirect_references: int = process_indirect_references(refs_indirect_eda_df, sum)\n",
    "maximum_indirect_references: int = process_indirect_references(refs_indirect_eda_df, max)\n",
    "minimum_indirect_references: int = process_indirect_references(refs_indirect_eda_df, min)\n",
    "mean_indirect_references: float = round(process_indirect_references(refs_indirect_eda_df, np.mean), 2)\n",
    "median_indirect_references: float = process_indirect_references(refs_indirect_eda_df, np.median)\n",
    "\n",
    "print(f\"Total indirectly referencing certs: {total_indirectly_referencing_certs}\")\n",
    "print(f\"Total indirect references among all certs: {total_indirect_references}\")\n",
    "print(f\"Maximum indirectly referenced certs at once: {maximum_indirect_references}\")\n",
    "print(f\"Minimum indirectly referenced certs at once: {minimum_indirect_references}\")\n",
    "print(f\"Mean of all indirect references: {mean_indirect_references}\")\n",
    "print(f\"Median of all indirect references: {median_indirect_references}\")"
   ]
  },
  {
   "cell_type": "markdown",
   "id": "38e5b33d",
   "metadata": {},
   "source": [
    "### Active certificates which reference at least one historical cert (=module refs)"
   ]
  },
  {
   "cell_type": "code",
   "execution_count": 27,
   "id": "b01d5d38",
   "metadata": {},
   "outputs": [],
   "source": [
    "def get_cert_status(dataset: DataFrame, cert_id: int) -> str | None:\n",
    "    sub_df = refs_df[refs_df[\"cert_id\"] == int(cert_id)]\n",
    "    \n",
    "    if sub_df.shape[0] == 0:  # Certificate is not in the dataset\n",
    "        print(f\"Cert ID: {cert_id} not in dataset\")\n",
    "        return None\n",
    "    \n",
    "    if sub_df.shape[0] > 1:  # There are more than one occurence with same ID\n",
    "        print(f\"Error Cert ID: {cert_id} has {sub_df.shape[0]} occurrences.\")\n",
    "        return None\n",
    "    \n",
    "    return sub_df.iloc[0][\"status\"]\n",
    "\n",
    "def is_cert_referencing_historical_cert(dataset: DataFrame, cert_ids: set[int]) -> bool:\n",
    "    return \"historical\" in [get_cert_status(dataset, cert_id) for cert_id in cert_ids]"
   ]
  },
  {
   "cell_type": "code",
   "execution_count": 28,
   "id": "9c05ffb2",
   "metadata": {
    "scrolled": true
   },
   "outputs": [
    {
     "name": "stdout",
     "output_type": "stream",
     "text": [
      "Total active certificates referencing at least one historical: 12\n",
      "Total active certificates referencing at least one certificate: 129\n",
      "Hit ratio: 0.09302325581395349\n"
     ]
    }
   ],
   "source": [
    "active_certs_referencing_historical: list[int] = []\n",
    "active_referencing_certs: DataFrame = refs_df[(refs_df[\"status\"] == \"active\") & (refs_df[\"module_directly_referencing\"].notna())]\n",
    "\n",
    "for _, rows in active_referencing_certs.iterrows():\n",
    "    referencing_ids = rows[\"module_directly_referencing\"]\n",
    "        \n",
    "    if is_cert_referencing_historical_cert(refs_df, referencing_ids):\n",
    "        active_certs_referencing_historical.append(rows.cert_id)\n",
    "\n",
    "print(f\"Total active certificates referencing at least one historical: {len(active_certs_referencing_historical)}\")\n",
    "print(f\"Total active certificates referencing at least one certificate: {len(active_referencing_certs)}\")\n",
    "print(f\"Hit ratio: {len(active_certs_referencing_historical) / len(active_referencing_certs)}\")"
   ]
  },
  {
   "cell_type": "markdown",
   "id": "d343e55b",
   "metadata": {},
   "source": [
    "### Certificates with higher levels referencing certficates with lower levels"
   ]
  },
  {
   "cell_type": "code",
   "execution_count": 29,
   "id": "b8225902",
   "metadata": {
    "scrolled": false
   },
   "outputs": [],
   "source": [
    "referencing_certs: DataFrame = refs_df[refs_df[\"module_directly_referencing\"].notna()]"
   ]
  },
  {
   "cell_type": "code",
   "execution_count": 30,
   "id": "7ab480c7",
   "metadata": {},
   "outputs": [],
   "source": [
    "def get_cert_level(dataset: DataFrame, cert_id) -> int:\n",
    "    sub_df = refs_df[refs_df[\"cert_id\"] == int(cert_id)]\n",
    "    return int(sub_df.iloc[0][\"level\"])\n",
    "    \n",
    "\n",
    "def compare_levels(dataset: DataFrame, cert_ids: set[int], compare_to_level: int) -> int:\n",
    "    is_referencing_any_lower_level = [get_cert_level(dataset, cert_id) < compare_to_level for cert_id in cert_ids]\n",
    "    return any(is_referencing_any_lower_level)"
   ]
  },
  {
   "cell_type": "code",
   "execution_count": 31,
   "id": "29c80ecd",
   "metadata": {},
   "outputs": [],
   "source": [
    "def get_certs_referencing_lower_level(refs_df: DataFrame, referencing_certs: DataFrame, compare_level: int) -> list[int]:\n",
    "    cert_ids = []\n",
    "    \n",
    "    for _, rows in referencing_certs.iterrows():\n",
    "        referencing_ids = rows[\"module_directly_referencing\"]\n",
    "        if compare_levels(refs_df, referencing_ids, compare_level):\n",
    "            cert_ids.append(rows.cert_id)\n",
    "\n",
    "    return cert_ids"
   ]
  },
  {
   "cell_type": "markdown",
   "id": "0f04580e",
   "metadata": {},
   "source": [
    "#### Level 2 referencing at least one certificate of level 1"
   ]
  },
  {
   "cell_type": "code",
   "execution_count": 33,
   "id": "e3a4e349",
   "metadata": {
    "scrolled": true
   },
   "outputs": [
    {
     "name": "stdout",
     "output_type": "stream",
     "text": [
      "Total amount of certificates with level 2 referencing at least one certificate: 40\n",
      "Total amount of certicates with reference at least one certificate with lower level: 16\n",
      "Hit ratio: 0.4\n"
     ]
    }
   ],
   "source": [
    "compare_level: int = 2\n",
    "level2_ref_certs = referencing_certs[referencing_certs[\"level\"] == compare_level]\n",
    "certificates_referencing_lower_level: list[int] = get_certs_referencing_lower_level(refs_df, level2_ref_certs, compare_level)\n",
    "ratio: float = len(certificates_referencing_lower_level) / level2_ref_certs.shape[0]\n",
    "print(f\"Total amount of certificates with level {compare_level} referencing at least one certificate: {level2_ref_certs.shape[0]}\")\n",
    "print(f\"Total amount of certicates with reference at least one certificate with lower level: {len(certificates_referencing_lower_level)}\")\n",
    "print(f\"Hit ratio: {round(ratio, 2)}\")"
   ]
  },
  {
   "cell_type": "markdown",
   "id": "27d269a3",
   "metadata": {},
   "source": [
    "#### Level 3 referencing at least one certificate of level 1 or 2"
   ]
  },
  {
   "cell_type": "code",
   "execution_count": 35,
   "id": "e83b845b",
   "metadata": {},
   "outputs": [
    {
     "name": "stdout",
     "output_type": "stream",
     "text": [
      "Total amount of certificates with level 3 referencing at least one certificate: 27\n",
      "Total amount of certicates with reference at least one certificate with lower level: 1\n",
      "Hit ratio: 0.04\n"
     ]
    }
   ],
   "source": [
    "compare_level: int = 3\n",
    "level3_ref_certs = referencing_certs[referencing_certs[\"level\"] == compare_level]\n",
    "certificates_referencing_lower_level: list[int] = get_certs_referencing_lower_level(refs_df, level3_ref_certs, compare_level)\n",
    "ratio: float = len(certificates_referencing_lower_level) / level3_ref_certs.shape[0]\n",
    "print(f\"Total amount of certificates with level {compare_level} referencing at least one certificate: {level3_ref_certs.shape[0]}\")\n",
    "print(f\"Total amount of certicates with reference at least one certificate with lower level: {len(certificates_referencing_lower_level)}\")\n",
    "print(f\"Hit ratio: {round(ratio, 2)}\")"
   ]
  },
  {
   "cell_type": "markdown",
   "id": "679fa9c7",
   "metadata": {},
   "source": [
    "#### Level 4 referencing at least one certificate of level 1, 2 or 3"
   ]
  },
  {
   "cell_type": "code",
   "execution_count": 36,
   "id": "91db647f",
   "metadata": {
    "scrolled": true
   },
   "outputs": [
    {
     "name": "stdout",
     "output_type": "stream",
     "text": [
      "Out of 26 references at least one certificates only 0\n"
     ]
    }
   ],
   "source": [
    "level4_ref_certs = referencing_certs[referencing_certs[\"level\"] == 4].shape[0]\n",
    "total_level4_certs: int = df[df[\"level\"] == 4].shape[0]\n",
    "    \n",
    "# TODO - Could be temporary due to constantly updated dataset\n",
    "print(f\"Out of {total_level4_certs} references at least one certificates only {level4_ref_certs}\")"
   ]
  },
  {
   "cell_type": "markdown",
   "id": "5c2fca19",
   "metadata": {},
   "source": [
    "### Distribution of references among embodiments"
   ]
  },
  {
   "cell_type": "code",
   "execution_count": 45,
   "id": "34b5c83b",
   "metadata": {},
   "outputs": [],
   "source": [
    "def get_cert_embodiment(df: DataFrame, cert_id: str) -> str:\n",
    "    sub_df = df[refs_df[\"cert_id\"] == int(cert_id)]\n",
    "    return sub_df.iloc[0][\"embodiment\"]\n",
    "\n",
    "# TODO - pass ref_df as argument, not as global var\n",
    "def get_embodiment_references(embodiment: str) -> dict[str, int]:\n",
    "    result = {}\n",
    "    sub_df = refs_df[(refs_df[\"embodiment\"] == embodiment) & (refs_df[\"module_directly_referencing\"].notna())]\n",
    "    \n",
    "    for references in sub_df[\"module_directly_referencing\"]:\n",
    "        for cert_id in references:\n",
    "            referenced_embodiment: str = get_cert_embodiment(refs_df, cert_id)\n",
    "            # TODO - here is fuck up imo\n",
    "            result[referenced_embodiment] = result.get(referenced_embodiment, 0) + 1\n",
    "    \n",
    "    return result"
   ]
  },
  {
   "cell_type": "code",
   "execution_count": 46,
   "id": "6e69410d",
   "metadata": {},
   "outputs": [
    {
     "name": "stdout",
     "output_type": "stream",
     "text": [
      "{'Multi-Chip Embedded': {'Multi-Chip Embedded': 13, 'Single Chip': 2},\n",
      " 'Multi-Chip Stand Alone': {'Multi-Chip Embedded': 7,\n",
      "                            'Multi-Chip Stand Alone': 546,\n",
      "                            'Single Chip': 28},\n",
      " 'Single Chip': {'Multi-Chip Embedded': 2,\n",
      "                 'Multi-Chip Stand Alone': 1,\n",
      "                 'Single Chip': 28}}\n"
     ]
    }
   ],
   "source": [
    "final_embodiment_statistics: dict[str, dict[str, int]] = {} \n",
    "\n",
    "for embodiment in refs_df[\"embodiment\"].unique():\n",
    "    final_embodiment_statistics[embodiment] = get_embodiment_references(embodiment)\n",
    "\n",
    "pprint(final_embodiment_statistics)"
   ]
  },
  {
   "cell_type": "markdown",
   "id": "2c872e23",
   "metadata": {},
   "source": [
    "### Distribution of references among types"
   ]
  },
  {
   "cell_type": "code",
   "execution_count": 53,
   "id": "46c988c1",
   "metadata": {},
   "outputs": [],
   "source": [
    "# TODO - refactor into one generic function later\n",
    "def get_cert_type(df: DataFrame, cert_id: str) -> str:\n",
    "    sub_df = df[df[\"cert_id\"] == int(cert_id)]\n",
    "    return sub_df.iloc[0][\"type\"]\n",
    "\n",
    "def get_type_references(refs_df: DataFrame, cert_type: str) -> dict[str, int]:\n",
    "    result = {}\n",
    "    sub_df = refs_df[(refs_df[\"type\"] == cert_type) & (refs_df[\"module_directly_referencing\"].notna())]\n",
    "    \n",
    "    for references in sub_df[\"module_directly_referencing\"]:\n",
    "        for cert_id in references:\n",
    "            referenced_type: str = get_cert_type(refs_df, cert_id)\n",
    "            result[referenced_type] =result.get(referenced_type, 0) + 1\n",
    "    \n",
    "    return result"
   ]
  },
  {
   "cell_type": "code",
   "execution_count": 54,
   "id": "f9016a07",
   "metadata": {},
   "outputs": [
    {
     "name": "stdout",
     "output_type": "stream",
     "text": [
      "{'Firmware': {'Firmware': 1, 'Hardware': 1},\n",
      " 'Firmware-Hybrid': {'Hardware': 2},\n",
      " 'Hardware': {'Firmware': 2,\n",
      "              'Firmware-Hybrid': 2,\n",
      "              'Hardware': 76,\n",
      "              'Software': 9},\n",
      " 'Hybrid': {},\n",
      " 'Software': {'Firmware': 1,\n",
      "              'Hardware': 1,\n",
      "              'Software': 502,\n",
      "              'Software-Hybrid': 3},\n",
      " 'Software hybrid': {},\n",
      " 'Software-Hybrid': {'Hardware': 5, 'Software': 6, 'Software-Hybrid': 16}}\n"
     ]
    }
   ],
   "source": [
    "final_type_statistics: dict[str, dict[str, int]] = {}\n",
    "\n",
    "for cert_type in refs_df[\"type\"].unique():\n",
    "    final_type_statistics[cert_type] = get_type_references(refs_df, cert_type)\n",
    "\n",
    "pprint(final_type_statistics)"
   ]
  }
 ],
 "metadata": {
  "kernelspec": {
   "display_name": "Python 3 (ipykernel)",
   "language": "python",
   "name": "python3"
  },
  "language_info": {
   "codemirror_mode": {
    "name": "ipython",
    "version": 3
   },
   "file_extension": ".py",
   "mimetype": "text/x-python",
   "name": "python",
   "nbconvert_exporter": "python",
   "pygments_lexer": "ipython3",
   "version": "3.10.6"
  }
 },
 "nbformat": 4,
 "nbformat_minor": 5
}
