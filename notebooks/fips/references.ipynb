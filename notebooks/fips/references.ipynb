{
 "cells": [
  {
   "cell_type": "markdown",
   "id": "3c944a8c",
   "metadata": {},
   "source": [
    "# FIPS References\n",
    "\n",
    "This notebook provides insights into the references of FIPS certificates."
   ]
  },
  {
   "cell_type": "code",
   "execution_count": 62,
   "id": "91a0cb1b",
   "metadata": {},
   "outputs": [],
   "source": [
    "import pandas as pd\n",
    "import numpy as np\n",
    "import seaborn as sns\n",
    "import logging\n",
    "import matplotlib\n",
    "import matplotlib.pyplot as plt\n",
    "\n",
    "from sec_certs.dataset.fips import FIPSDataset\n",
    "from collections import Counter\n",
    "from pprint import pprint\n",
    "\n",
    "# Typing imports\n",
    "from pandas.core.frame import DataFrame\n",
    "from typing import Callable\n",
    "\n",
    "\n",
    "#%matplotlib inline\n",
    "#matplotlib.use(\"pgf\")\n",
    "sns.set_theme(style='white')\n",
    "plt.rcParams[\"axes.linewidth\"] = 0.5\n",
    "plt.rcParams[\"legend.fontsize\"] = 6.5\n",
    "plt.rcParams[\"xtick.labelsize\"] = 8\n",
    "plt.rcParams[\"ytick.labelsize\"] = 8\n",
    "plt.rcParams[\"ytick.left\"] = True\n",
    "plt.rcParams[\"ytick.major.size\"] = 5\n",
    "plt.rcParams[\"ytick.major.width\"] = 0.5\n",
    "plt.rcParams[\"ytick.major.pad\"] = 0\n",
    "plt.rcParams[\"xtick.bottom\"] = True\n",
    "plt.rcParams[\"xtick.major.size\"] = 5\n",
    "plt.rcParams[\"xtick.major.width\"] = 0.5\n",
    "plt.rcParams[\"xtick.major.pad\"] = 0\n",
    "# plt.rcParams[\"pgf.texsystem\"] = \"pdflatex\"\n",
    "plt.rcParams[\"font.family\"] = \"serif\"\n",
    "# plt.rcParams[\"text.usetex\"] = True\n",
    "# plt.rcParams[\"pgf.rcfonts\"] = False\n",
    "plt.rcParams[\"axes.titlesize\"] = 8\n",
    "plt.rcParams[\"legend.handletextpad\"] = 0.3\n",
    "plt.rcParams[\"lines.markersize\"] = 4\n",
    "plt.rcParams[\"savefig.pad_inches\"] = 0.01\n",
    "sns.set_palette(\"deep\")"
   ]
  },
  {
   "cell_type": "code",
   "execution_count": 2,
   "id": "629aec45",
   "metadata": {
    "scrolled": true
   },
   "outputs": [
    {
     "name": "stderr",
     "output_type": "stream",
     "text": [
      "Downloading FIPS Dataset: 100%|█████████████████████████████████████| 57.1M/57.1M [00:06<00:00, 9.02MB/s]\n"
     ]
    }
   ],
   "source": [
    "dset = FIPSDataset.from_web_latest()"
   ]
  },
  {
   "cell_type": "code",
   "execution_count": 3,
   "id": "96ad0831",
   "metadata": {},
   "outputs": [],
   "source": [
    "df = dset.to_pandas()"
   ]
  },
  {
   "cell_type": "markdown",
   "id": "eff29c58",
   "metadata": {},
   "source": [
    "## Analysis of FIPS references"
   ]
  },
  {
   "cell_type": "code",
   "execution_count": 4,
   "id": "6ceb86c7",
   "metadata": {},
   "outputs": [],
   "source": [
    "refs_columns: list[str] = [\n",
    "    \"cert_id\",\n",
    "    \"status\",\n",
    "    \"standard\",\n",
    "    \"type\",\n",
    "    \"level\",\n",
    "    \"embodiment\",\n",
    "    \"module_directly_referenced_by\", \n",
    "    \"module_indirectly_referenced_by\",\n",
    "    \"module_directly_referencing\",\n",
    "    \"module_indirectly_referencing\",\n",
    "    \"policy_directly_referenced_by\",\n",
    "    \"policy_indirectly_referenced_by\",\n",
    "    \"policy_directly_referencing\",\n",
    "    \"policy_indirectly_referencing\",\n",
    "]"
   ]
  },
  {
   "cell_type": "markdown",
   "id": "9921ff15",
   "metadata": {},
   "source": [
    "### References EDA"
   ]
  },
  {
   "cell_type": "code",
   "execution_count": 5,
   "id": "287342a7",
   "metadata": {},
   "outputs": [],
   "source": [
    "refs_df = df[refs_columns]"
   ]
  },
  {
   "cell_type": "code",
   "execution_count": 6,
   "id": "685b2fd2",
   "metadata": {},
   "outputs": [],
   "source": [
    "refs_direct_eda_df = refs_df[refs_df[\"module_directly_referencing\"].notna()]\n",
    "refs_indirect_eda_df = refs_df[refs_df[\"module_indirectly_referencing\"].notna()]"
   ]
  },
  {
   "cell_type": "code",
   "execution_count": 7,
   "id": "c90bd114",
   "metadata": {},
   "outputs": [],
   "source": [
    "def process_references(df: DataFrame, reference_type: str, func: Callable[[list[int]], float]) -> float | int:\n",
    "    return func([len(refs) for refs in df[reference_type]])"
   ]
  },
  {
   "cell_type": "markdown",
   "id": "12f546d4",
   "metadata": {},
   "source": [
    "#### Direct module references"
   ]
  },
  {
   "cell_type": "code",
   "execution_count": 8,
   "id": "eca9eb4d",
   "metadata": {},
   "outputs": [
    {
     "name": "stdout",
     "output_type": "stream",
     "text": [
      "Total directly referencing certs: 474\n",
      "Total direct references among all certs: 627\n",
      "Maximum directly referenced certs at once: 8\n",
      "Minimum directly referenced certs at once: 1\n",
      "Mean of all direct references: 1.32\n",
      "Median of all direct references: 1.0\n"
     ]
    }
   ],
   "source": [
    "direct_reference_type: str = \"module_directly_referencing\"\n",
    "total_directly_referencing_certs: int = refs_direct_eda_df.shape[0]\n",
    "total_direct_references: int = process_references(refs_direct_eda_df, direct_reference_type, sum)\n",
    "maximum_direct_references: int = process_references(refs_direct_eda_df, direct_reference_type, max)\n",
    "minimum_direct_references: int = process_references(refs_direct_eda_df, direct_reference_type, min)\n",
    "mean_direct_references: float = round(process_references(refs_direct_eda_df, direct_reference_type, np.mean), 2)\n",
    "median_direct_references: float = process_references(refs_direct_eda_df, direct_reference_type, np.median)\n",
    "\n",
    "print(f\"Total directly referencing certs: {total_directly_referencing_certs}\")\n",
    "print(f\"Total direct references among all certs: {total_direct_references}\")\n",
    "print(f\"Maximum directly referenced certs at once: {maximum_direct_references}\")\n",
    "print(f\"Minimum directly referenced certs at once: {minimum_direct_references}\")\n",
    "print(f\"Mean of all direct references: {mean_direct_references}\")\n",
    "print(f\"Median of all direct references: {median_direct_references}\")"
   ]
  },
  {
   "cell_type": "markdown",
   "id": "9276357b",
   "metadata": {},
   "source": [
    "#### Indirect module references"
   ]
  },
  {
   "cell_type": "code",
   "execution_count": 9,
   "id": "ac66ad0f",
   "metadata": {},
   "outputs": [
    {
     "name": "stdout",
     "output_type": "stream",
     "text": [
      "Total indirectly referencing certs: 474\n",
      "Total indirect references among all certs: 1044\n",
      "Maximum indirectly referenced certs at once: 27\n",
      "Minimum indirectly referenced certs at once: 1\n",
      "Mean of all indirect references: 2.2\n",
      "Median of all indirect references: 1.0\n"
     ]
    }
   ],
   "source": [
    "indirect_reference_type: str = \"module_indirectly_referencing\"\n",
    "total_indirectly_referencing_certs: int = refs_indirect_eda_df.shape[0]\n",
    "total_indirect_references: int = process_references(refs_indirect_eda_df, indirect_reference_type, sum)\n",
    "maximum_indirect_references: int = process_references(refs_indirect_eda_df, indirect_reference_type, max)\n",
    "minimum_indirect_references: int = process_references(refs_indirect_eda_df, indirect_reference_type, min)\n",
    "mean_indirect_references: float = round(process_references(refs_indirect_eda_df, indirect_reference_type, np.mean), 2)\n",
    "median_indirect_references: float = process_references(refs_indirect_eda_df, indirect_reference_type, np.median)\n",
    "\n",
    "print(f\"Total indirectly referencing certs: {total_indirectly_referencing_certs}\")\n",
    "print(f\"Total indirect references among all certs: {total_indirect_references}\")\n",
    "print(f\"Maximum indirectly referenced certs at once: {maximum_indirect_references}\")\n",
    "print(f\"Minimum indirectly referenced certs at once: {minimum_indirect_references}\")\n",
    "print(f\"Mean of all indirect references: {mean_indirect_references}\")\n",
    "print(f\"Median of all indirect references: {median_indirect_references}\")"
   ]
  },
  {
   "cell_type": "markdown",
   "id": "f7c8177f",
   "metadata": {},
   "source": [
    "#### Direct references per status"
   ]
  },
  {
   "cell_type": "code",
   "execution_count": 10,
   "id": "b374ad5b",
   "metadata": {},
   "outputs": [
    {
     "data": {
      "text/plain": [
       "Text(0.5, 1.0, 'Status distribution among directly referencing certificates')"
      ]
     },
     "execution_count": 10,
     "metadata": {},
     "output_type": "execute_result"
    },
    {
     "data": {
      "image/png": "[encoded data removed]",
      "text/plain": [
       "<Figure size 640x480 with 1 Axes>"
      ]
     },
     "metadata": {},
     "output_type": "display_data"
    }
   ],
   "source": [
    "status_counts_df = refs_direct_eda_df[\"status\"].value_counts()\n",
    "status_counts_df.plot.pie()\n",
    "plt.title(\"Status distribution among directly referencing certificates\")"
   ]
  },
  {
   "cell_type": "markdown",
   "id": "b78c8e28",
   "metadata": {},
   "source": [
    "#### Direct references per type\n"
   ]
  },
  {
   "cell_type": "code",
   "execution_count": 11,
   "id": "cd503dd3",
   "metadata": {},
   "outputs": [
    {
     "data": {
      "text/plain": [
       "Text(0.5, 1.0, 'Certificate type distribution among directly referencing certificates')"
      ]
     },
     "execution_count": 11,
     "metadata": {},
     "output_type": "execute_result"
    },
    {
     "data": {
      "image/png": "[encoded data removed]",
      "text/plain": [
       "<Figure size 640x480 with 1 Axes>"
      ]
     },
     "metadata": {},
     "output_type": "display_data"
    }
   ],
   "source": [
    "status_counts_df = refs_direct_eda_df[\"type\"].value_counts()\n",
    "status_counts_df.plot.pie()\n",
    "plt.title(\"Certificate type distribution among directly referencing certificates\")"
   ]
  },
  {
   "cell_type": "markdown",
   "id": "f2640599",
   "metadata": {},
   "source": [
    "#### Direct references per level"
   ]
  },
  {
   "cell_type": "code",
   "execution_count": 12,
   "id": "571b537b",
   "metadata": {},
   "outputs": [
    {
     "data": {
      "text/plain": [
       "Text(0.5, 1.0, 'Certificate level distribution among directly referencing certificates')"
      ]
     },
     "execution_count": 12,
     "metadata": {},
     "output_type": "execute_result"
    },
    {
     "data": {
      "image/png": "[encoded data removed]",
      "text/plain": [
       "<Figure size 640x480 with 1 Axes>"
      ]
     },
     "metadata": {},
     "output_type": "display_data"
    }
   ],
   "source": [
    "status_counts_df = refs_direct_eda_df[\"level\"].value_counts()\n",
    "status_counts_df.plot.pie()\n",
    "plt.title(\"Certificate level distribution among directly referencing certificates\")"
   ]
  },
  {
   "cell_type": "markdown",
   "id": "c3954632",
   "metadata": {},
   "source": [
    "#### Direct references per embodiment"
   ]
  },
  {
   "cell_type": "code",
   "execution_count": 13,
   "id": "61a9b016",
   "metadata": {},
   "outputs": [
    {
     "data": {
      "text/plain": [
       "Text(0.5, 1.0, 'Certificate embodiment distribution among directly referencing certificates')"
      ]
     },
     "execution_count": 13,
     "metadata": {},
     "output_type": "execute_result"
    },
    {
     "data": {
      "image/png": "[encoded data removed]",
      "text/plain": [
       "<Figure size 640x480 with 1 Axes>"
      ]
     },
     "metadata": {},
     "output_type": "display_data"
    }
   ],
   "source": [
    "status_counts_df = refs_direct_eda_df[\"embodiment\"].value_counts()\n",
    "status_counts_df.plot.pie()\n",
    "plt.title(\"Certificate embodiment distribution among directly referencing certificates\")"
   ]
  },
  {
   "cell_type": "markdown",
   "id": "480bc189",
   "metadata": {},
   "source": [
    "### Statistics how many certificates reference certificate with at least one vulnerability"
   ]
  },
  {
   "cell_type": "code",
   "execution_count": 54,
   "id": "678835dd",
   "metadata": {
    "scrolled": false
   },
   "outputs": [
    {
     "name": "stdout",
     "output_type": "stream",
     "text": [
      "Total number of certificates referencing at least one certificate with at least one assigned CVE: 81\n"
     ]
    }
   ],
   "source": [
    "cve_ref_df: DataFrame = df[(df[\"related_cves\"].notna()) & (df[\"module_directly_referenced_by\"].notna())]\n",
    "total_references: int = cve_ref_df[\"module_directly_referenced_by\"].apply(len).sum()\n",
    "\n",
    "print(f\"Total number of certificates referencing at least one certificate with at least one assigned CVE: {total_references}\")"
   ]
  },
  {
   "cell_type": "markdown",
   "id": "15968ee7",
   "metadata": {},
   "source": [
    "#### The certificate with at least one CVE assigned and maximum of references from other certs"
   ]
  },
  {
   "cell_type": "code",
   "execution_count": 58,
   "id": "3c17e838",
   "metadata": {
    "scrolled": false
   },
   "outputs": [
    {
     "name": "stdout",
     "output_type": "stream",
     "text": [
      "Maximum amount of references from the other certificates referencing the vulnerable certificate: 7\n"
     ]
    }
   ],
   "source": [
    "maximum_references: int = cve_ref_df[\"module_directly_referenced_by\"].apply(len).max()\n",
    "\n",
    "print(f\"Maximum amount of references from the other certificates referencing the vulnerable certificate: {maximum_references}\")"
   ]
  },
  {
   "cell_type": "code",
   "execution_count": 61,
   "id": "6ca75914",
   "metadata": {},
   "outputs": [
    {
     "data": {
      "text/html": [
       "<div>\n",
       "<style scoped>\n",
       "    .dataframe tbody tr th:only-of-type {\n",
       "        vertical-align: middle;\n",
       "    }\n",
       "\n",
       "    .dataframe tbody tr th {\n",
       "        vertical-align: top;\n",
       "    }\n",
       "\n",
       "    .dataframe thead th {\n",
       "        text-align: right;\n",
       "    }\n",
       "</style>\n",
       "<table border=\"1\" class=\"dataframe\">\n",
       "  <thead>\n",
       "    <tr style=\"text-align: right;\">\n",
       "      <th></th>\n",
       "      <th>cert_id</th>\n",
       "      <th>name</th>\n",
       "      <th>status</th>\n",
       "      <th>standard</th>\n",
       "      <th>type</th>\n",
       "      <th>level</th>\n",
       "      <th>embodiment</th>\n",
       "      <th>date_validation</th>\n",
       "      <th>date_sunset</th>\n",
       "      <th>algorithms</th>\n",
       "      <th>...</th>\n",
       "      <th>related_cves</th>\n",
       "      <th>module_directly_referenced_by</th>\n",
       "      <th>module_indirectly_referenced_by</th>\n",
       "      <th>module_directly_referencing</th>\n",
       "      <th>module_indirectly_referencing</th>\n",
       "      <th>policy_directly_referenced_by</th>\n",
       "      <th>policy_indirectly_referenced_by</th>\n",
       "      <th>policy_directly_referencing</th>\n",
       "      <th>policy_indirectly_referencing</th>\n",
       "      <th>year_from</th>\n",
       "    </tr>\n",
       "    <tr>\n",
       "      <th>dgst</th>\n",
       "      <th></th>\n",
       "      <th></th>\n",
       "      <th></th>\n",
       "      <th></th>\n",
       "      <th></th>\n",
       "      <th></th>\n",
       "      <th></th>\n",
       "      <th></th>\n",
       "      <th></th>\n",
       "      <th></th>\n",
       "      <th></th>\n",
       "      <th></th>\n",
       "      <th></th>\n",
       "      <th></th>\n",
       "      <th></th>\n",
       "      <th></th>\n",
       "      <th></th>\n",
       "      <th></th>\n",
       "      <th></th>\n",
       "      <th></th>\n",
       "      <th></th>\n",
       "    </tr>\n",
       "  </thead>\n",
       "  <tbody>\n",
       "    <tr>\n",
       "      <th>10acb87b3040f4e1</th>\n",
       "      <td>3616</td>\n",
       "      <td>Oracle Linux 7 NSS Cryptographic Module</td>\n",
       "      <td>historical</td>\n",
       "      <td>FIPS 140-2</td>\n",
       "      <td>Software</td>\n",
       "      <td>1.0</td>\n",
       "      <td>Multi-Chip Stand Alone</td>\n",
       "      <td>2020-02-19</td>\n",
       "      <td>NaT</td>\n",
       "      <td>{ECDSA#C786, DRBG#C786, RSA#C786, KTS#C786, HM...</td>\n",
       "      <td>...</td>\n",
       "      <td>{CVE-2016-0647, CVE-2016-1908, CVE-2016-2793, ...</td>\n",
       "      <td>{3699, 4135, 3893, 4146, 3921, 4147, 4164}</td>\n",
       "      <td>{3699, 4135, 3893, 4146, 3921, 4147, 4164}</td>\n",
       "      <td>NaN</td>\n",
       "      <td>NaN</td>\n",
       "      <td>{3893, 3699, 3921}</td>\n",
       "      <td>{3893, 3699, 3921}</td>\n",
       "      <td>NaN</td>\n",
       "      <td>NaN</td>\n",
       "      <td>2020</td>\n",
       "    </tr>\n",
       "    <tr>\n",
       "      <th>3c4ee858b268931a</th>\n",
       "      <td>1336</td>\n",
       "      <td>Microsoft Windows Server 2008 R2 Cryptographic...</td>\n",
       "      <td>historical</td>\n",
       "      <td>FIPS 140-2</td>\n",
       "      <td>Software</td>\n",
       "      <td>1.0</td>\n",
       "      <td>Multi-Chip Stand Alone</td>\n",
       "      <td>2010-08-12</td>\n",
       "      <td>NaT</td>\n",
       "      <td>{RNG#649, Triple-DES#846, AES GMAC#1168, ECDSA...</td>\n",
       "      <td>...</td>\n",
       "      <td>{CVE-2009-0081, CVE-2009-0320, CVE-2009-1536, ...</td>\n",
       "      <td>{1805, 1808, 1806, 1817, 1807, 1339, 2736}</td>\n",
       "      <td>{1805, 1808, 1806, 1817, 1807, 1339, 2736}</td>\n",
       "      <td>{1334}</td>\n",
       "      <td>{1333, 1321, 1334}</td>\n",
       "      <td>{1805, 1808, 1806, 1817, 1807, 1339}</td>\n",
       "      <td>{1805, 1808, 1806, 1817, 1807, 1339}</td>\n",
       "      <td>{1334}</td>\n",
       "      <td>{1333, 1321, 1334}</td>\n",
       "      <td>2010</td>\n",
       "    </tr>\n",
       "  </tbody>\n",
       "</table>\n",
       "<p>2 rows × 23 columns</p>\n",
       "</div>"
      ],
      "text/plain": [
       "                  cert_id                                               name  \\\n",
       "dgst                                                                           \n",
       "10acb87b3040f4e1     3616            Oracle Linux 7 NSS Cryptographic Module   \n",
       "3c4ee858b268931a     1336  Microsoft Windows Server 2008 R2 Cryptographic...   \n",
       "\n",
       "                      status    standard      type  level  \\\n",
       "dgst                                                        \n",
       "10acb87b3040f4e1  historical  FIPS 140-2  Software    1.0   \n",
       "3c4ee858b268931a  historical  FIPS 140-2  Software    1.0   \n",
       "\n",
       "                              embodiment date_validation date_sunset  \\\n",
       "dgst                                                                   \n",
       "10acb87b3040f4e1  Multi-Chip Stand Alone      2020-02-19         NaT   \n",
       "3c4ee858b268931a  Multi-Chip Stand Alone      2010-08-12         NaT   \n",
       "\n",
       "                                                         algorithms  ...  \\\n",
       "dgst                                                                 ...   \n",
       "10acb87b3040f4e1  {ECDSA#C786, DRBG#C786, RSA#C786, KTS#C786, HM...  ...   \n",
       "3c4ee858b268931a  {RNG#649, Triple-DES#846, AES GMAC#1168, ECDSA...  ...   \n",
       "\n",
       "                                                       related_cves  \\\n",
       "dgst                                                                  \n",
       "10acb87b3040f4e1  {CVE-2016-0647, CVE-2016-1908, CVE-2016-2793, ...   \n",
       "3c4ee858b268931a  {CVE-2009-0081, CVE-2009-0320, CVE-2009-1536, ...   \n",
       "\n",
       "                               module_directly_referenced_by  \\\n",
       "dgst                                                           \n",
       "10acb87b3040f4e1  {3699, 4135, 3893, 4146, 3921, 4147, 4164}   \n",
       "3c4ee858b268931a  {1805, 1808, 1806, 1817, 1807, 1339, 2736}   \n",
       "\n",
       "                             module_indirectly_referenced_by  \\\n",
       "dgst                                                           \n",
       "10acb87b3040f4e1  {3699, 4135, 3893, 4146, 3921, 4147, 4164}   \n",
       "3c4ee858b268931a  {1805, 1808, 1806, 1817, 1807, 1339, 2736}   \n",
       "\n",
       "                 module_directly_referencing module_indirectly_referencing  \\\n",
       "dgst                                                                         \n",
       "10acb87b3040f4e1                         NaN                           NaN   \n",
       "3c4ee858b268931a                      {1334}            {1333, 1321, 1334}   \n",
       "\n",
       "                         policy_directly_referenced_by  \\\n",
       "dgst                                                     \n",
       "10acb87b3040f4e1                    {3893, 3699, 3921}   \n",
       "3c4ee858b268931a  {1805, 1808, 1806, 1817, 1807, 1339}   \n",
       "\n",
       "                       policy_indirectly_referenced_by  \\\n",
       "dgst                                                     \n",
       "10acb87b3040f4e1                    {3893, 3699, 3921}   \n",
       "3c4ee858b268931a  {1805, 1808, 1806, 1817, 1807, 1339}   \n",
       "\n",
       "                 policy_directly_referencing policy_indirectly_referencing  \\\n",
       "dgst                                                                         \n",
       "10acb87b3040f4e1                         NaN                           NaN   \n",
       "3c4ee858b268931a                      {1334}            {1333, 1321, 1334}   \n",
       "\n",
       "                 year_from  \n",
       "dgst                        \n",
       "10acb87b3040f4e1      2020  \n",
       "3c4ee858b268931a      2010  \n",
       "\n",
       "[2 rows x 23 columns]"
      ]
     },
     "execution_count": 61,
     "metadata": {},
     "output_type": "execute_result"
    }
   ],
   "source": [
    "cve_ref_df[cve_ref_df[\"module_directly_referenced_by\"].apply(len) == maximum_references]"
   ]
  },
  {
   "cell_type": "markdown",
   "id": "38e5b33d",
   "metadata": {},
   "source": [
    "### Active certificates which reference at least one historical cert"
   ]
  },
  {
   "cell_type": "code",
   "execution_count": 14,
   "id": "b01d5d38",
   "metadata": {},
   "outputs": [],
   "source": [
    "def get_cert_property(df: DataFrame, cert_id: int, column: str) -> str | None:\n",
    "    if column not in df.columns:\n",
    "        raise ValueError(f\"Dataset does not have column '{column}'\")\n",
    "    \n",
    "    sub_df = df[df[\"cert_id\"] == int(cert_id)]\n",
    "    \n",
    "    if not sub_df.shape[0]:  # Certificate is not in the dataset\n",
    "        print(f\"Cert ID: {cert_id} not in dataset\")\n",
    "        return None\n",
    "    \n",
    "    if sub_df.shape[0] > 1:  # There are more than one occurence with same ID\n",
    "        print(f\"Error Cert ID: {cert_id} has {sub_df.shape[0]} occurrences.\")\n",
    "        return None\n",
    "    \n",
    "    return sub_df.iloc[0][column]\n",
    "\n",
    "def is_cert_referencing_historical_cert(dataset: DataFrame, cert_ids: set[int]) -> bool:\n",
    "    return \"historical\" in [get_cert_property(dataset, cert_id, \"status\") for cert_id in cert_ids]"
   ]
  },
  {
   "cell_type": "code",
   "execution_count": 15,
   "id": "9c05ffb2",
   "metadata": {
    "scrolled": true
   },
   "outputs": [
    {
     "name": "stdout",
     "output_type": "stream",
     "text": [
      "Total active certificates referencing at least one historical: 12\n",
      "Total active certificates referencing at least one certificate: 129\n",
      "Hit ratio: 0.09\n"
     ]
    }
   ],
   "source": [
    "active_certs_referencing_historical: list[int] = []\n",
    "active_referencing_certs: DataFrame = refs_df[(refs_df[\"status\"] == \"active\") & (refs_df[\"module_directly_referencing\"].notna())]\n",
    "\n",
    "for _, rows in active_referencing_certs.iterrows():\n",
    "    referencing_ids = rows[\"module_directly_referencing\"]\n",
    "        \n",
    "    if is_cert_referencing_historical_cert(refs_df, referencing_ids):\n",
    "        active_certs_referencing_historical.append(rows.cert_id)\n",
    "\n",
    "hit_ratio: float = len(active_certs_referencing_historical) / len(active_referencing_certs)\n",
    "print(f\"Total active certificates referencing at least one historical: {len(active_certs_referencing_historical)}\")\n",
    "print(f\"Total active certificates referencing at least one certificate: {len(active_referencing_certs)}\")\n",
    "print(f\"Hit ratio: {round(hit_ratio, 2)}\")"
   ]
  },
  {
   "cell_type": "markdown",
   "id": "39dcecd1",
   "metadata": {},
   "source": [
    "#### Active certificate referencing at least one historical certificate with assigned CVE"
   ]
  },
  {
   "cell_type": "code",
   "execution_count": 93,
   "id": "f3402d08",
   "metadata": {
    "scrolled": true
   },
   "outputs": [
    {
     "data": {
      "text/plain": [
       "[(3939, 3860)]"
      ]
     },
     "execution_count": 93,
     "metadata": {},
     "output_type": "execute_result"
    }
   ],
   "source": [
    "active_cert_referencing_historical_with_cves: list[tuple[int, int]] = []\n",
    "\n",
    "\n",
    "for _, cert in refs_df[refs_df[\"cert_id\"].isin(active_certs_referencing_historical)].iterrows():\n",
    "    cert_id = cert[\"cert_id\"]\n",
    "    \n",
    "    for referenced_cert_id in cert[\"module_directly_referencing\"]:\n",
    "        referenced_cert_id_int = int(referenced_cert_id)\n",
    "        related_cves = get_cert_property(df, referenced_cert_id_int, \"related_cves\")\n",
    "        \n",
    "        if not pd.isna(related_cves):\n",
    "            active_cert_referencing_historical_with_cves.append((cert_id, referenced_cert_id_int))\n",
    "            \n",
    "\n",
    "active_cert_referencing_historical_with_cves"
   ]
  },
  {
   "cell_type": "code",
   "execution_count": 78,
   "id": "2a66a006",
   "metadata": {},
   "outputs": [
    {
     "data": {
      "text/plain": [
       "dgst\n",
       "86d3ce8c4f7dcd36    {CVE-2003-0370, CVE-2004-0902, CVE-2001-0128, ...\n",
       "Name: related_cves, dtype: object"
      ]
     },
     "execution_count": 78,
     "metadata": {},
     "output_type": "execute_result"
    }
   ],
   "source": [
    "df[df[\"cert_id\"] == 3860][\"related_cves\"]"
   ]
  },
  {
   "cell_type": "markdown",
   "id": "d343e55b",
   "metadata": {},
   "source": [
    "### Certificates with higher levels referencing certficates with lower levels"
   ]
  },
  {
   "cell_type": "code",
   "execution_count": 16,
   "id": "b8225902",
   "metadata": {
    "scrolled": false
   },
   "outputs": [],
   "source": [
    "referencing_certs: DataFrame = refs_df[refs_df[\"module_directly_referencing\"].notna()]"
   ]
  },
  {
   "cell_type": "code",
   "execution_count": 17,
   "id": "7ab480c7",
   "metadata": {},
   "outputs": [],
   "source": [
    "def compare_levels(dataset: DataFrame, cert_ids: set[int], compare_to_level: int) -> int:\n",
    "    is_referencing_any_lower_level = [get_cert_property(dataset, cert_id, \"level\") < compare_to_level for cert_id in cert_ids]\n",
    "    return any(is_referencing_any_lower_level)"
   ]
  },
  {
   "cell_type": "code",
   "execution_count": 18,
   "id": "29c80ecd",
   "metadata": {},
   "outputs": [],
   "source": [
    "def get_certs_referencing_lower_level(refs_df: DataFrame, referencing_certs: DataFrame, compare_level: int) -> list[int]:\n",
    "    cert_ids = []\n",
    "    \n",
    "    for _, rows in referencing_certs.iterrows():\n",
    "        referencing_ids = rows[\"module_directly_referencing\"]\n",
    "        if compare_levels(refs_df, referencing_ids, compare_level):\n",
    "            cert_ids.append(rows.cert_id)\n",
    "\n",
    "    return cert_ids"
   ]
  },
  {
   "cell_type": "markdown",
   "id": "0f04580e",
   "metadata": {},
   "source": [
    "#### Level 2 referencing at least one certificate of level 1"
   ]
  },
  {
   "cell_type": "code",
   "execution_count": 19,
   "id": "e3a4e349",
   "metadata": {
    "scrolled": true
   },
   "outputs": [
    {
     "name": "stdout",
     "output_type": "stream",
     "text": [
      "Total amount of certificates with level 2 referencing at least one certificate: 40\n",
      "Total amount of certicates with reference at least one certificate with lower level: 16\n",
      "Hit ratio: 0.4\n"
     ]
    }
   ],
   "source": [
    "compare_level: int = 2\n",
    "level2_ref_certs = referencing_certs[referencing_certs[\"level\"] == compare_level]\n",
    "certificates_referencing_lower_level: list[int] = get_certs_referencing_lower_level(refs_df, level2_ref_certs, compare_level)\n",
    "ratio: float = len(certificates_referencing_lower_level) / level2_ref_certs.shape[0]\n",
    "print(f\"Total amount of certificates with level {compare_level} referencing at least one certificate: {level2_ref_certs.shape[0]}\")\n",
    "print(f\"Total amount of certicates with reference at least one certificate with lower level: {len(certificates_referencing_lower_level)}\")\n",
    "print(f\"Hit ratio: {round(ratio, 2)}\")"
   ]
  },
  {
   "cell_type": "markdown",
   "id": "27d269a3",
   "metadata": {},
   "source": [
    "#### Level 3 referencing at least one certificate of level 1 or 2"
   ]
  },
  {
   "cell_type": "code",
   "execution_count": 20,
   "id": "e83b845b",
   "metadata": {},
   "outputs": [
    {
     "name": "stdout",
     "output_type": "stream",
     "text": [
      "Total amount of certificates with level 3 referencing at least one certificate: 27\n",
      "Total amount of certicates with reference at least one certificate with lower level: 1\n",
      "Hit ratio: 0.04\n"
     ]
    }
   ],
   "source": [
    "compare_level: int = 3\n",
    "level3_ref_certs = referencing_certs[referencing_certs[\"level\"] == compare_level]\n",
    "certificates_referencing_lower_level: list[int] = get_certs_referencing_lower_level(refs_df, level3_ref_certs, compare_level)\n",
    "ratio: float = len(certificates_referencing_lower_level) / level3_ref_certs.shape[0]\n",
    "print(f\"Total amount of certificates with level {compare_level} referencing at least one certificate: {level3_ref_certs.shape[0]}\")\n",
    "print(f\"Total amount of certicates with reference at least one certificate with lower level: {len(certificates_referencing_lower_level)}\")\n",
    "print(f\"Hit ratio: {round(ratio, 2)}\")"
   ]
  },
  {
   "cell_type": "markdown",
   "id": "679fa9c7",
   "metadata": {},
   "source": [
    "#### Level 4 referencing at least one certificate of level 1, 2 or 3"
   ]
  },
  {
   "cell_type": "code",
   "execution_count": 21,
   "id": "91db647f",
   "metadata": {
    "scrolled": true
   },
   "outputs": [
    {
     "name": "stdout",
     "output_type": "stream",
     "text": [
      "Total amount of certificates with level 4 referencing at least one certificate: 0\n"
     ]
    }
   ],
   "source": [
    "compare_level: int = 4\n",
    "level4_ref_certs = referencing_certs[referencing_certs[\"level\"] == compare_level]\n",
    "total_level4_certs: int = df[df[\"level\"] == 4].shape[0]\n",
    "certificates_referencing_lower_level: list[int] = get_certs_referencing_lower_level(refs_df, level4_ref_certs, compare_level)\n",
    "\n",
    "# TODO - implement the analysis and function needs to cope with empty df or something like that\n",
    "print(f\"Total amount of certificates with level {compare_level} referencing at least one certificate: {level4_ref_certs.shape[0]}\")\n"
   ]
  },
  {
   "cell_type": "markdown",
   "id": "5c2fca19",
   "metadata": {},
   "source": [
    "### Distribution of references among embodiments"
   ]
  },
  {
   "cell_type": "code",
   "execution_count": 22,
   "id": "34b5c83b",
   "metadata": {},
   "outputs": [],
   "source": [
    "def get_embodiment_references(refs_df: DataFrame, embodiment: str) -> dict[str, int]:\n",
    "    result: dict[str, int] = {}\n",
    "    sub_df = refs_df[(refs_df[\"embodiment\"] == embodiment) & (refs_df[\"module_directly_referencing\"].notna())]\n",
    "    \n",
    "    for references in sub_df[\"module_directly_referencing\"]:\n",
    "        for cert_id in references:\n",
    "            referenced_embodiment: str = get_cert_property(refs_df, cert_id, \"embodiment\")\n",
    "            result[referenced_embodiment] = result.get(referenced_embodiment, 0) + 1\n",
    "    \n",
    "    return result"
   ]
  },
  {
   "cell_type": "code",
   "execution_count": 23,
   "id": "6e69410d",
   "metadata": {
    "scrolled": true
   },
   "outputs": [
    {
     "name": "stdout",
     "output_type": "stream",
     "text": [
      "{'Multi-Chip Embedded': {'Multi-Chip Embedded': 13, 'Single Chip': 2},\n",
      " 'Multi-Chip Stand Alone': {'Multi-Chip Embedded': 7,\n",
      "                            'Multi-Chip Stand Alone': 546,\n",
      "                            'Single Chip': 28},\n",
      " 'Single Chip': {'Multi-Chip Embedded': 2,\n",
      "                 'Multi-Chip Stand Alone': 1,\n",
      "                 'Single Chip': 28}}\n"
     ]
    }
   ],
   "source": [
    "final_embodiment_statistics: dict[str, dict[str, int]] = {} \n",
    "\n",
    "for embodiment in refs_df[\"embodiment\"].unique():\n",
    "    final_embodiment_statistics[embodiment] = get_embodiment_references(refs_df, embodiment)\n",
    "\n",
    "pprint(final_embodiment_statistics)"
   ]
  },
  {
   "cell_type": "code",
   "execution_count": 24,
   "id": "0737ca41",
   "metadata": {},
   "outputs": [
    {
     "data": {
      "text/plain": [
       "Text(0.5, 1.0, 'Direct references among FIPS embodiments')"
      ]
     },
     "execution_count": 24,
     "metadata": {},
     "output_type": "execute_result"
    },
    {
     "data": {
      "image/png": "[encoded data removed]",
      "text/plain": [
       "<Figure size 640x480 with 1 Axes>"
      ]
     },
     "metadata": {},
     "output_type": "display_data"
    }
   ],
   "source": [
    "embodiment_df = pd.DataFrame(final_embodiment_statistics).fillna(0).astype(int).transpose()\n",
    "embodiment_df.plot(kind=\"bar\", stacked=True)\n",
    "\n",
    "plt.xlabel(\"Referencing cert embodiment\")\n",
    "plt.ylabel(\"Number of referenced certificates\")\n",
    "plt.title(\"Direct references among FIPS embodiments\")"
   ]
  },
  {
   "cell_type": "markdown",
   "id": "d1743560",
   "metadata": {},
   "source": [
    "### Distribution of references among types"
   ]
  },
  {
   "cell_type": "code",
   "execution_count": 25,
   "id": "72fb288b",
   "metadata": {},
   "outputs": [],
   "source": [
    "def get_type_references(refs_df: DataFrame, cert_type: str) -> dict[str, int]:\n",
    "    result = {}\n",
    "    sub_df = refs_df[(refs_df[\"type\"] == cert_type) & (refs_df[\"module_directly_referencing\"].notna())]\n",
    "    \n",
    "    for references in sub_df[\"module_directly_referencing\"]:\n",
    "        for cert_id in references:\n",
    "            referenced_type: str = get_cert_property(refs_df, cert_id, \"type\")\n",
    "            result[referenced_type] =result.get(referenced_type, 0) + 1\n",
    "\n",
    "    return result"
   ]
  },
  {
   "cell_type": "code",
   "execution_count": 26,
   "id": "79c3b7c8",
   "metadata": {
    "scrolled": false
   },
   "outputs": [
    {
     "name": "stdout",
     "output_type": "stream",
     "text": [
      "{'Firmware': {'Firmware': 1, 'Hardware': 1},\n",
      " 'Firmware-Hybrid': {'Hardware': 2},\n",
      " 'Hardware': {'Firmware': 2,\n",
      "              'Firmware-Hybrid': 2,\n",
      "              'Hardware': 76,\n",
      "              'Software': 9},\n",
      " 'Hybrid': {},\n",
      " 'Software': {'Firmware': 1,\n",
      "              'Hardware': 1,\n",
      "              'Software': 502,\n",
      "              'Software-Hybrid': 3},\n",
      " 'Software hybrid': {},\n",
      " 'Software-Hybrid': {'Hardware': 5, 'Software': 6, 'Software-Hybrid': 16}}\n"
     ]
    }
   ],
   "source": [
    "final_type_statistics: dict[str, dict[str, int]] = {}\n",
    "\n",
    "for cert_type in refs_df[\"type\"].unique():\n",
    "    final_type_statistics[cert_type] = get_type_references(refs_df, cert_type)\n",
    "\n",
    "pprint(final_type_statistics)"
   ]
  },
  {
   "cell_type": "code",
   "execution_count": 27,
   "id": "6694e4cd",
   "metadata": {},
   "outputs": [
    {
     "data": {
      "text/plain": [
       "Text(0.5, 1.0, 'Direct references among FIPS certificate types')"
      ]
     },
     "execution_count": 27,
     "metadata": {},
     "output_type": "execute_result"
    },
    {
     "data": {
      "image/png": "[encoded data removed]",
      "text/plain": [
       "<Figure size 640x480 with 1 Axes>"
      ]
     },
     "metadata": {},
     "output_type": "display_data"
    }
   ],
   "source": [
    "cert_type_df = pd.DataFrame(final_type_statistics).fillna(0).astype(int).transpose()\n",
    "cert_type_df.plot(kind=\"bar\", stacked=True)\n",
    "\n",
    "plt.xlabel(\"Referencing cert type\")\n",
    "plt.ylabel(\"Number of referenced certificates\")\n",
    "plt.title(\"Direct references among FIPS certificate types\")"
   ]
  },
  {
   "cell_type": "markdown",
   "id": "258c803c",
   "metadata": {},
   "source": [
    "### Cross-references among certificates\n",
    "\n",
    "Certificate A directly references certificate B and at the same time certificate B directly references certificate A.\n",
    "In other words intersection of `module_directly_referenced_by` and `module_directly_referencing` results into discovery of cross references in the dataset."
   ]
  },
  {
   "cell_type": "code",
   "execution_count": 28,
   "id": "77a1db87",
   "metadata": {
    "scrolled": false
   },
   "outputs": [
    {
     "name": "stdout",
     "output_type": "stream",
     "text": [
      "[(3384, 3382), (3382, 3383), (80, 63)]\n"
     ]
    }
   ],
   "source": [
    "result: list[tuple[int, int]] = []\n",
    "cross_references_df: DataFrame = df[(df[\"module_directly_referenced_by\"].notna()) & (df[\"module_directly_referencing\"].notna())]\n",
    "\n",
    "\n",
    "for _, cert in cross_references_df.iterrows():\n",
    "    referenced_by = cert[\"module_directly_referenced_by\"]\n",
    "    referencing = cert[\"module_directly_referencing\"]\n",
    "    cert_id = cert[\"cert_id\"]\n",
    "    \n",
    "    intersection: set[str] = referenced_by & referencing\n",
    "    \n",
    "    \n",
    "    for another_cert_id in intersection:\n",
    "        another_cert_id_int = int(another_cert_id)\n",
    "        \n",
    "        if not (another_cert_id_int, cert_id) in result:\n",
    "            result.append((cert_id, int(another_cert_id)))\n",
    "\n",
    "print(result)\n",
    "# TODO - Investigate how are 3382, 3383, 3384 related"
   ]
  },
  {
   "cell_type": "markdown",
   "id": "d3ed0d7c",
   "metadata": {},
   "source": []
  }
 ],
 "metadata": {
  "kernelspec": {
   "display_name": "Python 3 (ipykernel)",
   "language": "python",
   "name": "python3"
  },
  "language_info": {
   "codemirror_mode": {
    "name": "ipython",
    "version": 3
   },
   "file_extension": ".py",
   "mimetype": "text/x-python",
   "name": "python",
   "nbconvert_exporter": "python",
   "pygments_lexer": "ipython3",
   "version": "3.10.6"
  }
 },
 "nbformat": 4,
 "nbformat_minor": 5
}
