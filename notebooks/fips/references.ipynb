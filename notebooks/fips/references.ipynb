{
 "cells": [
  {
   "cell_type": "markdown",
   "id": "58096baa",
   "metadata": {},
   "source": [
    "# FIPS References\n",
    "\n",
    "This notebook provides insights into the references of FIPS certificates."
   ]
  },
  {
   "cell_type": "code",
   "execution_count": 1,
   "id": "91a0cb1b",
   "metadata": {},
   "outputs": [],
   "source": [
    "import pandas as pd\n",
    "import numpy as np\n",
    "import seaborn as sns\n",
    "import logging\n",
    "import matplotlib\n",
    "import matplotlib.pyplot as plt\n",
    "\n",
    "from sec_certs.dataset.fips import FIPSDataset\n",
    "from collections import Counter\n",
    "from pprint import pprint\n",
    "\n",
    "# Typing imports\n",
    "from pandas.core.frame import DataFrame\n",
    "from typing import Callable\n",
    "\n",
    "\n",
    "#%matplotlib inline\n",
    "#matplotlib.use(\"pgf\")\n",
    "sns.set_theme(style='white')\n",
    "plt.rcParams[\"axes.linewidth\"] = 0.5\n",
    "plt.rcParams[\"legend.fontsize\"] = 6.5\n",
    "plt.rcParams[\"xtick.labelsize\"] = 8\n",
    "plt.rcParams[\"ytick.labelsize\"] = 8\n",
    "plt.rcParams[\"ytick.left\"] = True\n",
    "plt.rcParams['ytick.major.size'] = 5\n",
    "plt.rcParams['ytick.major.width'] = 0.5\n",
    "plt.rcParams['ytick.major.pad'] = 0\n",
    "plt.rcParams[\"xtick.bottom\"] = True\n",
    "plt.rcParams['xtick.major.size'] = 5\n",
    "plt.rcParams['xtick.major.width'] = 0.5\n",
    "plt.rcParams['xtick.major.pad'] = 0\n",
    "# plt.rcParams[\"pgf.texsystem\"] = \"pdflatex\"\n",
    "plt.rcParams[\"font.family\"] = \"serif\"\n",
    "# plt.rcParams[\"text.usetex\"] = True\n",
    "# plt.rcParams[\"pgf.rcfonts\"] = False\n",
    "plt.rcParams[\"axes.titlesize\"] = 8\n",
    "plt.rcParams[\"legend.handletextpad\"] = 0.3\n",
    "plt.rcParams['lines.markersize'] = 4\n",
    "plt.rcParams['savefig.pad_inches'] = 0.01\n",
    "sns.set_palette(\"deep\")"
   ]
  },
  {
   "cell_type": "code",
   "execution_count": 2,
   "id": "629aec45",
   "metadata": {
    "scrolled": true
   },
   "outputs": [
    {
     "name": "stderr",
     "output_type": "stream",
     "text": [
      "Downloading FIPS Dataset: 100%|█████████████████████████████████████| 57.1M/57.1M [00:13<00:00, 4.57MB/s]\n"
     ]
    }
   ],
   "source": [
    "dset = FIPSDataset.from_web_latest()"
   ]
  },
  {
   "cell_type": "code",
   "execution_count": 3,
   "id": "96ad0831",
   "metadata": {},
   "outputs": [],
   "source": [
    "df = dset.to_pandas()"
   ]
  },
  {
   "cell_type": "markdown",
   "id": "eff29c58",
   "metadata": {},
   "source": [
    "## Analysis of FIPS references"
   ]
  },
  {
   "cell_type": "code",
   "execution_count": 4,
   "id": "6ceb86c7",
   "metadata": {},
   "outputs": [],
   "source": [
    "refs_columns: list[str] = [\n",
    "    \"cert_id\",\n",
    "    \"status\",\n",
    "    \"standard\",\n",
    "    \"type\",\n",
    "    \"level\",\n",
    "    \"embodiment\",\n",
    "    \"module_directly_referenced_by\", \n",
    "    \"module_indirectly_referenced_by\",\n",
    "    \"module_directly_referencing\",\n",
    "    \"module_indirectly_referencing\",\n",
    "    \"policy_directly_referenced_by\",\n",
    "    \"policy_indirectly_referenced_by\",\n",
    "    \"policy_directly_referencing\",\n",
    "    \"policy_indirectly_referencing\",\n",
    "]"
   ]
  },
  {
   "cell_type": "markdown",
   "id": "9921ff15",
   "metadata": {},
   "source": [
    "### References EDA"
   ]
  },
  {
   "cell_type": "code",
   "execution_count": 5,
   "id": "287342a7",
   "metadata": {},
   "outputs": [],
   "source": [
    "refs_df = df[refs_columns]"
   ]
  },
  {
   "cell_type": "code",
   "execution_count": 6,
   "id": "685b2fd2",
   "metadata": {},
   "outputs": [],
   "source": [
    "refs_direct_eda_df = refs_df[refs_df[\"module_directly_referencing\"].notna()]\n",
    "refs_indirect_eda_df = refs_df[refs_df[\"module_indirectly_referencing\"].notna()]"
   ]
  },
  {
   "cell_type": "code",
   "execution_count": 7,
   "id": "c90bd114",
   "metadata": {},
   "outputs": [],
   "source": [
    "def process_references(df: DataFrame, reference_type: str, func: Callable[[list[int]], float]) -> float | int:\n",
    "    return func([len(refs) for refs in df[reference_type]])"
   ]
  },
  {
   "cell_type": "markdown",
   "id": "12f546d4",
   "metadata": {},
   "source": [
    "#### Direct"
   ]
  },
  {
   "cell_type": "code",
   "execution_count": 8,
   "id": "eca9eb4d",
   "metadata": {},
   "outputs": [
    {
     "name": "stdout",
     "output_type": "stream",
     "text": [
      "Total directly referencing certs: 474\n",
      "Total direct references among all certs: 627\n",
      "Maximum directly referenced certs at once: 8\n",
      "Minimum directly referenced certs at once: 1\n",
      "Mean of all direct references: 1.32\n",
      "Median of all direct references: 1.0\n"
     ]
    }
   ],
   "source": [
    "direct_reference_type: str = \"module_directly_referencing\"\n",
    "total_directly_referencing_certs: int = refs_direct_eda_df.shape[0]\n",
    "total_direct_references: int = process_references(refs_direct_eda_df, direct_reference_type, sum)\n",
    "maximum_direct_references: int = process_references(refs_direct_eda_df, direct_reference_type, max)\n",
    "minimum_direct_references: int = process_references(refs_direct_eda_df, direct_reference_type, min)\n",
    "mean_direct_references: float = round(process_references(refs_direct_eda_df, direct_reference_type, np.mean), 2)\n",
    "median_direct_references: float = process_references(refs_direct_eda_df, direct_reference_type, np.median)\n",
    "\n",
    "print(f\"Total directly referencing certs: {total_directly_referencing_certs}\")\n",
    "print(f\"Total direct references among all certs: {total_direct_references}\")\n",
    "print(f\"Maximum directly referenced certs at once: {maximum_direct_references}\")\n",
    "print(f\"Minimum directly referenced certs at once: {minimum_direct_references}\")\n",
    "print(f\"Mean of all direct references: {mean_direct_references}\")\n",
    "print(f\"Median of all direct references: {median_direct_references}\")"
   ]
  },
  {
   "cell_type": "markdown",
   "id": "9276357b",
   "metadata": {},
   "source": [
    "#### Indirect"
   ]
  },
  {
   "cell_type": "code",
   "execution_count": 9,
   "id": "ac66ad0f",
   "metadata": {},
   "outputs": [
    {
     "name": "stdout",
     "output_type": "stream",
     "text": [
      "Total indirectly referencing certs: 474\n",
      "Total indirect references among all certs: 1044\n",
      "Maximum indirectly referenced certs at once: 27\n",
      "Minimum indirectly referenced certs at once: 1\n",
      "Mean of all indirect references: 2.2\n",
      "Median of all indirect references: 1.0\n"
     ]
    }
   ],
   "source": [
    "indirect_reference_type: str = \"module_indirectly_referencing\"\n",
    "total_indirectly_referencing_certs: int = refs_indirect_eda_df.shape[0]\n",
    "total_indirect_references: int = process_references(refs_indirect_eda_df, indirect_reference_type, sum)\n",
    "maximum_indirect_references: int = process_references(refs_indirect_eda_df, indirect_reference_type, max)\n",
    "minimum_indirect_references: int = process_references(refs_indirect_eda_df, indirect_reference_type, min)\n",
    "mean_indirect_references: float = round(process_references(refs_indirect_eda_df, indirect_reference_type, np.mean), 2)\n",
    "median_indirect_references: float = process_references(refs_indirect_eda_df, indirect_reference_type, np.median)\n",
    "\n",
    "print(f\"Total indirectly referencing certs: {total_indirectly_referencing_certs}\")\n",
    "print(f\"Total indirect references among all certs: {total_indirect_references}\")\n",
    "print(f\"Maximum indirectly referenced certs at once: {maximum_indirect_references}\")\n",
    "print(f\"Minimum indirectly referenced certs at once: {minimum_indirect_references}\")\n",
    "print(f\"Mean of all indirect references: {mean_indirect_references}\")\n",
    "print(f\"Median of all indirect references: {median_indirect_references}\")"
   ]
  },
  {
   "cell_type": "markdown",
   "id": "38e5b33d",
   "metadata": {},
   "source": [
    "### Active certificates which reference at least one historical cert"
   ]
  },
  {
   "cell_type": "code",
   "execution_count": 10,
   "id": "b01d5d38",
   "metadata": {},
   "outputs": [],
   "source": [
    "def get_cert_property(df: DataFrame, cert_id: int, column: str) -> str | None:\n",
    "    if column not in df.columns:\n",
    "        raise ValueError(f\"Dataset does not have column '{column}'\")\n",
    "    \n",
    "    sub_df = df[df[\"cert_id\"] == int(cert_id)]\n",
    "    \n",
    "    if not sub_df.shape[0]:  # Certificate is not in the dataset\n",
    "        print(f\"Cert ID: {cert_id} not in dataset\")\n",
    "        return None\n",
    "    \n",
    "    if sub_df.shape[0] > 1:  # There are more than one occurence with same ID\n",
    "        print(f\"Error Cert ID: {cert_id} has {sub_df.shape[0]} occurrences.\")\n",
    "        return None\n",
    "    \n",
    "    return sub_df.iloc[0][column]\n",
    "\n",
    "def is_cert_referencing_historical_cert(dataset: DataFrame, cert_ids: set[int]) -> bool:\n",
    "    return \"historical\" in [get_cert_property(dataset, cert_id, \"status\") for cert_id in cert_ids]"
   ]
  },
  {
   "cell_type": "code",
   "execution_count": 11,
   "id": "9c05ffb2",
   "metadata": {
    "scrolled": true
   },
   "outputs": [
    {
     "name": "stdout",
     "output_type": "stream",
     "text": [
      "Total active certificates referencing at least one historical: 12\n",
      "Total active certificates referencing at least one certificate: 129\n",
      "Hit ratio: 0.09\n"
     ]
    }
   ],
   "source": [
    "active_certs_referencing_historical: list[int] = []\n",
    "active_referencing_certs: DataFrame = refs_df[(refs_df[\"status\"] == \"active\") & (refs_df[\"module_directly_referencing\"].notna())]\n",
    "\n",
    "for _, rows in active_referencing_certs.iterrows():\n",
    "    referencing_ids = rows[\"module_directly_referencing\"]\n",
    "        \n",
    "    if is_cert_referencing_historical_cert(refs_df, referencing_ids):\n",
    "        active_certs_referencing_historical.append(rows.cert_id)\n",
    "\n",
    "hit_ratio: float = len(active_certs_referencing_historical) / len(active_referencing_certs)\n",
    "print(f\"Total active certificates referencing at least one historical: {len(active_certs_referencing_historical)}\")\n",
    "print(f\"Total active certificates referencing at least one certificate: {len(active_referencing_certs)}\")\n",
    "print(f\"Hit ratio: {round(hit_ratio, 2)}\")"
   ]
  },
  {
   "cell_type": "markdown",
   "id": "d343e55b",
   "metadata": {},
   "source": [
    "### Certificates with higher levels referencing certficates with lower levels"
   ]
  },
  {
   "cell_type": "code",
   "execution_count": 12,
   "id": "b8225902",
   "metadata": {
    "scrolled": false
   },
   "outputs": [],
   "source": [
    "referencing_certs: DataFrame = refs_df[refs_df[\"module_directly_referencing\"].notna()]"
   ]
  },
  {
   "cell_type": "code",
   "execution_count": 13,
   "id": "7ab480c7",
   "metadata": {},
   "outputs": [],
   "source": [
    "def compare_levels(dataset: DataFrame, cert_ids: set[int], compare_to_level: int) -> int:\n",
    "    is_referencing_any_lower_level = [get_cert_property(dataset, cert_id, \"level\") < compare_to_level for cert_id in cert_ids]\n",
    "    return any(is_referencing_any_lower_level)"
   ]
  },
  {
   "cell_type": "code",
   "execution_count": 14,
   "id": "29c80ecd",
   "metadata": {},
   "outputs": [],
   "source": [
    "def get_certs_referencing_lower_level(refs_df: DataFrame, referencing_certs: DataFrame, compare_level: int) -> list[int]:\n",
    "    cert_ids = []\n",
    "    \n",
    "    for _, rows in referencing_certs.iterrows():\n",
    "        referencing_ids = rows[\"module_directly_referencing\"]\n",
    "        if compare_levels(refs_df, referencing_ids, compare_level):\n",
    "            cert_ids.append(rows.cert_id)\n",
    "\n",
    "    return cert_ids"
   ]
  },
  {
   "cell_type": "markdown",
   "id": "0f04580e",
   "metadata": {},
   "source": [
    "#### Level 2 referencing at least one certificate of level 1"
   ]
  },
  {
   "cell_type": "code",
   "execution_count": 15,
   "id": "e3a4e349",
   "metadata": {
    "scrolled": true
   },
   "outputs": [
    {
     "name": "stdout",
     "output_type": "stream",
     "text": [
      "Total amount of certificates with level 2 referencing at least one certificate: 40\n",
      "Total amount of certicates with reference at least one certificate with lower level: 16\n",
      "Hit ratio: 0.4\n"
     ]
    }
   ],
   "source": [
    "compare_level: int = 2\n",
    "level2_ref_certs = referencing_certs[referencing_certs[\"level\"] == compare_level]\n",
    "certificates_referencing_lower_level: list[int] = get_certs_referencing_lower_level(refs_df, level2_ref_certs, compare_level)\n",
    "ratio: float = len(certificates_referencing_lower_level) / level2_ref_certs.shape[0]\n",
    "print(f\"Total amount of certificates with level {compare_level} referencing at least one certificate: {level2_ref_certs.shape[0]}\")\n",
    "print(f\"Total amount of certicates with reference at least one certificate with lower level: {len(certificates_referencing_lower_level)}\")\n",
    "print(f\"Hit ratio: {round(ratio, 2)}\")"
   ]
  },
  {
   "cell_type": "markdown",
   "id": "27d269a3",
   "metadata": {},
   "source": [
    "#### Level 3 referencing at least one certificate of level 1 or 2"
   ]
  },
  {
   "cell_type": "code",
   "execution_count": 16,
   "id": "e83b845b",
   "metadata": {},
   "outputs": [
    {
     "name": "stdout",
     "output_type": "stream",
     "text": [
      "Total amount of certificates with level 3 referencing at least one certificate: 27\n",
      "Total amount of certicates with reference at least one certificate with lower level: 1\n",
      "Hit ratio: 0.04\n"
     ]
    }
   ],
   "source": [
    "compare_level: int = 3\n",
    "level3_ref_certs = referencing_certs[referencing_certs[\"level\"] == compare_level]\n",
    "certificates_referencing_lower_level: list[int] = get_certs_referencing_lower_level(refs_df, level3_ref_certs, compare_level)\n",
    "ratio: float = len(certificates_referencing_lower_level) / level3_ref_certs.shape[0]\n",
    "print(f\"Total amount of certificates with level {compare_level} referencing at least one certificate: {level3_ref_certs.shape[0]}\")\n",
    "print(f\"Total amount of certicates with reference at least one certificate with lower level: {len(certificates_referencing_lower_level)}\")\n",
    "print(f\"Hit ratio: {round(ratio, 2)}\")"
   ]
  },
  {
   "cell_type": "markdown",
   "id": "679fa9c7",
   "metadata": {},
   "source": [
    "#### Level 4 referencing at least one certificate of level 1, 2 or 3"
   ]
  },
  {
   "cell_type": "code",
   "execution_count": 17,
   "id": "91db647f",
   "metadata": {
    "scrolled": true
   },
   "outputs": [
    {
     "name": "stdout",
     "output_type": "stream",
     "text": [
      "Total amount of certificates with level 4 referencing at least one certificate: 0\n"
     ]
    }
   ],
   "source": [
    "compare_level: int = 4\n",
    "level4_ref_certs = referencing_certs[referencing_certs[\"level\"] == compare_level]\n",
    "total_level4_certs: int = df[df[\"level\"] == 4].shape[0]\n",
    "certificates_referencing_lower_level: list[int] = get_certs_referencing_lower_level(refs_df, level4_ref_certs, compare_level)\n",
    "\n",
    "# TODO - implement the analysis and function needs to cope with empty df or something like that\n",
    "print(f\"Total amount of certificates with level {compare_level} referencing at least one certificate: {level4_ref_certs.shape[0]}\")\n"
   ]
  },
  {
   "cell_type": "markdown",
   "id": "5c2fca19",
   "metadata": {},
   "source": [
    "### Distribution of references among embodiments"
   ]
  },
  {
   "cell_type": "code",
   "execution_count": 18,
   "id": "34b5c83b",
   "metadata": {},
   "outputs": [],
   "source": [
    "def get_embodiment_references(refs_df: DataFrame, embodiment: str) -> dict[str, int]:\n",
    "    result: dict[str, int] = {}\n",
    "    sub_df = refs_df[(refs_df[\"embodiment\"] == embodiment) & (refs_df[\"module_directly_referencing\"].notna())]\n",
    "    \n",
    "    for references in sub_df[\"module_directly_referencing\"]:\n",
    "        for cert_id in references:\n",
    "            referenced_embodiment: str = get_cert_property(refs_df, cert_id, \"embodiment\")\n",
    "            result[referenced_embodiment] = result.get(referenced_embodiment, 0) + 1\n",
    "    \n",
    "    return result"
   ]
  },
  {
   "cell_type": "code",
   "execution_count": 19,
   "id": "6e69410d",
   "metadata": {
    "scrolled": true
   },
   "outputs": [
    {
     "name": "stdout",
     "output_type": "stream",
     "text": [
      "{'Multi-Chip Embedded': {'Multi-Chip Embedded': 13, 'Single Chip': 2},\n",
      " 'Multi-Chip Stand Alone': {'Multi-Chip Embedded': 7,\n",
      "                            'Multi-Chip Stand Alone': 546,\n",
      "                            'Single Chip': 28},\n",
      " 'Single Chip': {'Multi-Chip Embedded': 2,\n",
      "                 'Multi-Chip Stand Alone': 1,\n",
      "                 'Single Chip': 28}}\n"
     ]
    }
   ],
   "source": [
    "final_embodiment_statistics: dict[str, dict[str, int]] = {} \n",
    "\n",
    "for embodiment in refs_df[\"embodiment\"].unique():\n",
    "    final_embodiment_statistics[embodiment] = get_embodiment_references(refs_df, embodiment)\n",
    "\n",
    "pprint(final_embodiment_statistics)"
   ]
  },
  {
   "cell_type": "code",
   "execution_count": 51,
   "id": "1d9c9d4b",
   "metadata": {},
   "outputs": [
    {
     "data": {
      "text/plain": [
       "Text(0.5, 1.0, 'Direct references among FIPS embodiments')"
      ]
     },
     "execution_count": 51,
     "metadata": {},
     "output_type": "execute_result"
    },
    {
     "data": {
      "image/png": "[encoded data removed]",
      "text/plain": [
       "<Figure size 640x480 with 1 Axes>"
      ]
     },
     "metadata": {},
     "output_type": "display_data"
    }
   ],
   "source": [
    "embodiment_df = pd.DataFrame(final_embodiment_statistics).fillna(0).astype(int).transpose()\n",
    "embodiment_df.plot(kind='bar', stacked=True)\n",
    "\n",
    "plt.xlabel(\"Referencing cert embodiment\")\n",
    "plt.ylabel(\"Number of referenced certificates\")\n",
    "plt.title(\"Direct references among FIPS embodiments\")"
   ]
  },
  {
   "cell_type": "markdown",
   "id": "d1743560",
   "metadata": {},
   "source": [
    "### Distribution of references among types"
   ]
  },
  {
   "cell_type": "code",
   "execution_count": 52,
   "id": "72fb288b",
   "metadata": {},
   "outputs": [],
   "source": [
    "def get_type_references(refs_df: DataFrame, cert_type: str) -> dict[str, int]:\n",
    "    result = {}\n",
    "    sub_df = refs_df[(refs_df[\"type\"] == cert_type) & (refs_df[\"module_directly_referencing\"].notna())]\n",
    "    \n",
    "    for references in sub_df[\"module_directly_referencing\"]:\n",
    "        for cert_id in references:\n",
    "            referenced_type: str = get_cert_property(refs_df, cert_id, \"type\")\n",
    "            result[referenced_type] =result.get(referenced_type, 0) + 1\n",
    "\n",
    "    return result"
   ]
  },
  {
   "cell_type": "code",
   "execution_count": 53,
   "id": "79c3b7c8",
   "metadata": {
    "scrolled": false
   },
   "outputs": [
    {
     "name": "stdout",
     "output_type": "stream",
     "text": [
      "{'Firmware': {'Firmware': 1, 'Hardware': 1},\n",
      " 'Firmware-Hybrid': {'Hardware': 2},\n",
      " 'Hardware': {'Firmware': 2,\n",
      "              'Firmware-Hybrid': 2,\n",
      "              'Hardware': 76,\n",
      "              'Software': 9},\n",
      " 'Hybrid': {},\n",
      " 'Software': {'Firmware': 1,\n",
      "              'Hardware': 1,\n",
      "              'Software': 502,\n",
      "              'Software-Hybrid': 3},\n",
      " 'Software hybrid': {},\n",
      " 'Software-Hybrid': {'Hardware': 5, 'Software': 6, 'Software-Hybrid': 16}}\n"
     ]
    }
   ],
   "source": [
    "final_type_statistics: dict[str, dict[str, int]] = {}\n",
    "\n",
    "for cert_type in refs_df[\"type\"].unique():\n",
    "    final_type_statistics[cert_type] = get_type_references(refs_df, cert_type)\n",
    "\n",
    "pprint(final_type_statistics)"
   ]
  },
  {
   "cell_type": "code",
   "execution_count": 23,
   "id": "24a8576f",
   "metadata": {},
   "outputs": [],
   "source": [
    "# TODO - Some countplot - stacked plot or smth like that\n",
    "cert_type_df = pd.DataFrame(final_type_statistics).fillna(0).astype(int).transpose()\n",
    "embodiment_df.plot(kind='bar', stacked=True)\n",
    "\n",
    "plt.xlabel(\"Referencing cert embodiment\")\n",
    "plt.ylabel(\"Number of referenced certificates\")\n",
    "plt.title(\"Direct references among FIPS embodiments\")"
   ]
  },
  {
   "cell_type": "markdown",
   "id": "628b8947",
   "metadata": {},
   "source": [
    "### Cross-references among certificates\n",
    "\n",
    "Certificate A directly references certificate B and at the same time certificate B directly references certificate A.\n",
    "In other words intersection of `module_directly_referenced_by` and `module_directly_referencing` results into discovery of cross references in the dataset."
   ]
  },
  {
   "cell_type": "code",
   "execution_count": 24,
   "id": "6fc9a951",
   "metadata": {
    "scrolled": false
   },
   "outputs": [
    {
     "name": "stdout",
     "output_type": "stream",
     "text": [
      "[(3384, 3382), (3382, 3383), (80, 63)]\n"
     ]
    }
   ],
   "source": [
    "result: list[tuple[int, int]] = []\n",
    "cross_references_df: DataFrame = df[(df[\"module_directly_referenced_by\"].notna()) & (df[\"module_directly_referencing\"].notna())]\n",
    "\n",
    "\n",
    "for _, cert in cross_references_df.iterrows():\n",
    "    referenced_by = cert[\"module_directly_referenced_by\"]\n",
    "    referencing = cert[\"module_directly_referencing\"]\n",
    "    cert_id = cert[\"cert_id\"]\n",
    "    \n",
    "    intersection: set[str] = referenced_by & referencing\n",
    "    \n",
    "    \n",
    "    for another_cert_id in intersection:\n",
    "        another_cert_id_int = int(another_cert_id)\n",
    "        \n",
    "        if not (another_cert_id_int, cert_id) in result:\n",
    "            result.append((cert_id, int(another_cert_id)))\n",
    "\n",
    "print(result)\n",
    "# TODO - Investigate how are 3382, 3383, 3384 related"
   ]
  }
 ],
 "metadata": {
  "kernelspec": {
   "display_name": "Python 3 (ipykernel)",
   "language": "python",
   "name": "python3"
  },
  "language_info": {
   "codemirror_mode": {
    "name": "ipython",
    "version": 3
   },
   "file_extension": ".py",
   "mimetype": "text/x-python",
   "name": "python",
   "nbconvert_exporter": "python",
   "pygments_lexer": "ipython3",
   "version": "3.10.6"
  }
 },
 "nbformat": 4,
 "nbformat_minor": 5
}
