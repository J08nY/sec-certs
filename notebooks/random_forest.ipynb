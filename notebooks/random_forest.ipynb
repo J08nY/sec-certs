{
 "cells": [
  {
   "cell_type": "code",
   "execution_count": null,
   "metadata": {},
   "outputs": [],
   "source": [
    "import pandas as pd\n",
    "import numpy as np\n",
    "from sklearn.ensemble import RandomForestClassifier, RandomForestRegressor\n",
    "from sklearn.metrics import accuracy_score, confusion_matrix\n",
    "import matplotlib.pyplot as plt\n",
    "from sklearn.inspection import permutation_importance\n",
    "from sklearn.model_selection import cross_validate, StratifiedKFold\n",
    "\n",
    "import import_ipynb\n",
    "from visualizations import *\n",
    "\n",
    "plt.style.use('seaborn')\n",
    "\n",
    "def plot_feature_importances(model, x_test, y_test):\n",
    "    result = permutation_importance(model, x_test, y_test, n_repeats=20,\n",
    "                                random_state=42, n_jobs=8)\n",
    "    sorted_idx = result.importances_mean.argsort()\n",
    "\n",
    "    fig, ax = plt.subplots(figsize=(12,8))\n",
    "    ax.boxplot(result.importances[sorted_idx].T,\n",
    "               vert=False, labels=x_test.columns[sorted_idx])\n",
    "    ax.set_title(\"Permutation Importances (test set)\")\n",
    "    fig.tight_layout()\n",
    "    plt.show()"
   ]
  },
  {
   "cell_type": "markdown",
   "metadata": {},
   "source": [
    "## Load dataset"
   ]
  },
  {
   "cell_type": "code",
   "execution_count": null,
   "metadata": {},
   "outputs": [],
   "source": [
    "train = pd.read_csv('/Users/adam/phd/projects/certificates/dataset/train.csv', index_col='index')\n",
    "target_variable = 'sec_level_cat'\n",
    "y_train = train[target_variable]\n",
    "x_train = train.drop(columns=target_variable)"
   ]
  },
  {
   "cell_type": "markdown",
   "metadata": {},
   "source": [
    "## Train classifier"
   ]
  },
  {
   "cell_type": "code",
   "execution_count": null,
   "metadata": {},
   "outputs": [],
   "source": [
    "rf = RandomForestClassifier(n_estimators = 100)\n",
    "rf.fit(x_train, y_train)"
   ]
  },
  {
   "cell_type": "markdown",
   "metadata": {},
   "source": [
    "## Evaluate accuracy, precision and recall"
   ]
  },
  {
   "cell_type": "code",
   "execution_count": null,
   "metadata": {},
   "outputs": [],
   "source": [
    "# WARNING: Realize that when using NN or something where data is scaled to (0,1), it must be fit via pipe on training set and only transofmred on validation set!\n",
    "# Pipeline should handle this well, as it applies fit on training data and transform on test data (which is the specific fold).\n",
    "\n",
    "# Will raise some warnings because of dividing by 0 during precision count. Still, it acts correctly (taking 0).\n",
    "score = cross_validate(rf, x_train, y_train, scoring=['accuracy', 'recall_macro', 'precision_macro'], n_jobs=8, cv=10)\n",
    "acc, precision, recall = score['test_accuracy'], score['test_precision_macro'], score['test_recall_macro']\n",
    "print(f'Validation accuracy: {np.mean(acc):.2f} +/- {np.std(acc):.2f}')\n",
    "print(f'Validation precision: {np.mean(precision):.2f} +/- {np.std(precision):.2f}')\n",
    "print(f'Validation recall: {np.mean(recall):.2f} +/- {np.std(recall):.2f}')"
   ]
  },
  {
   "cell_type": "markdown",
   "metadata": {},
   "source": [
    "## Plot feature importances"
   ]
  },
  {
   "cell_type": "code",
   "execution_count": null,
   "metadata": {},
   "outputs": [],
   "source": [
    "plot_feature_importances(rf, x_test, y_test)"
   ]
  },
  {
   "cell_type": "markdown",
   "metadata": {},
   "source": [
    "## Plot confusion matrix"
   ]
  },
  {
   "cell_type": "code",
   "execution_count": null,
   "metadata": {},
   "outputs": [],
   "source": [
    "sec_level_dict = {'EAL1': 0, 'EAL1+': 1, 'EAL2': 2, 'EAL2+': 3, 'EAL3': 4, 'EAL3+': 5, 'EAL4': 6, 'EAL4+': 7, 'EAL5': 8, 'EAL5+': 9, 'EAL6': 10, 'EAL6+': 11, 'EAL7': 12, 'EAL7+': 13}\n",
    "labels = list(sec_level_dict.keys())\n",
    "range_labels = list(sec_level_dict.values())\n",
    "\n",
    "kf = StratifiedKFold(n_splits=10, random_state=42)\n",
    "cm_dim = len(range_labels)\n",
    "cm_sum = np.zeros((cm_dim,cm_dim))\n",
    "for train_index, test_index in kf.split(x_train, y_train):\n",
    "    rf.fit(x_train.iloc[train_index], y_train.iloc[train_index])\n",
    "    cm = confusion_matrix(y_train.iloc[test_index], rf.predict(x_train.iloc[test_index]), labels=range_labels)\n",
    "    cm_sum = np.add(cm_sum, cm)\n",
    "    \n",
    "# normalize\n",
    "cm_sum = cm_sum.astype('float') / cm_sum.sum(axis=1)[:, np.newaxis]\n",
    "# fill-in missing values (if class with 0 instances)\n",
    "cm_sum = np.nan_to_num(cm_sum)\n",
    "\n",
    "print_confusion_matrix(cm_sum, labels)"
   ]
  },
  {
   "cell_type": "code",
   "execution_count": null,
   "metadata": {},
   "outputs": [],
   "source": []
  }
 ],
 "metadata": {
  "kernelspec": {
   "display_name": "Python 3",
   "language": "python",
   "name": "python3"
  },
  "language_info": {
   "codemirror_mode": {
    "name": "ipython",
    "version": 3
   },
   "file_extension": ".py",
   "mimetype": "text/x-python",
   "name": "python",
   "nbconvert_exporter": "python",
   "pygments_lexer": "ipython3",
   "version": "3.6.10"
  }
 },
 "nbformat": 4,
 "nbformat_minor": 4
}
