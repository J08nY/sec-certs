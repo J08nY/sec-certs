{
 "cells": [
  {
   "cell_type": "code",
   "execution_count": null,
   "source": [
    "from sec_certs.dataset.fips import FIPSDataset\n",
    "\n",
    "dset: FIPSDataset\n",
    "dset = FIPSDataset.from_web_latest()"
   ],
   "outputs": [],
   "metadata": {}
  },
  {
   "cell_type": "markdown",
   "source": [
    "Dataset is now ready for exploration. Feel free to explore the data."
   ],
   "metadata": {}
  }
 ],
 "metadata": {
  "orig_nbformat": 4,
  "language_info": {
   "name": "python"
  }
 },
 "nbformat": 4,
 "nbformat_minor": 2
}