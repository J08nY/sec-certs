{
 "cells": [
  {
   "cell_type": "code",
   "execution_count": 1,
   "metadata": {},
   "outputs": [],
   "source": [
    "from sec_certs.dataset import CCDataset\n",
    "from pathlib import Path\n",
    "import shutil\n",
    "import subprocess"
   ]
  },
  {
   "cell_type": "code",
   "execution_count": 2,
   "metadata": {
    "pycharm": {
     "name": "#%%\n"
    }
   },
   "outputs": [
    {
     "name": "stdout",
     "output_type": "stream",
     "text": [
      "True\n",
      "False\n"
     ]
    }
   ],
   "source": [
    "# A directory with a dump of the documents that will enrich the dataset.\n",
    "doc_dump_dir = Path(\"cc_certs_04_10_2022\")\n",
    "print(doc_dump_dir.exists())\n",
    "\n",
    "# An output directory for the dataset.\n",
    "dataset_dir = Path(\"cc_04_10_2022\")\n",
    "print(dataset_dir.exists())"
   ]
  },
  {
   "cell_type": "code",
   "execution_count": 3,
   "metadata": {
    "pycharm": {
     "name": "#%%\n"
    }
   },
   "outputs": [
    {
     "name": "stdout",
     "output_type": "stream",
     "text": [
      "tesseract 5.2.0\n",
      " leptonica-1.82.0\n",
      "  libgif 5.2.1 : libjpeg 8d (libjpeg-turbo 2.1.3) : libpng 1.6.38 : libtiff 4.4.0 : zlib 1.2.12 : libwebp 1.2.4 : libopenjp2 2.5.0\n",
      " Found AVX2\n",
      " Found AVX\n",
      " Found FMA\n",
      " Found SSE4.1\n",
      " Found OpenMP 201511\n",
      " Found libarchive 3.6.1 zlib/1.2.12 liblzma/5.2.5 bz2lib/1.0.8 liblz4/1.9.3 libzstd/1.5.2\n",
      " Found libcurl/7.85.0 OpenSSL/1.1.1q zlib/1.2.12 brotli/1.0.9 zstd/1.5.2 libidn2/2.3.3 libpsl/0.21.1 (+libidn2/2.3.0) libssh2/1.10.0 nghttp2/1.50.0\n"
     ]
    },
    {
     "name": "stderr",
     "output_type": "stream",
     "text": [
      "pdftotext version 22.09.0\n",
      "Copyright 2005-2022 The Poppler Developers - http://poppler.freedesktop.org\n",
      "Copyright 1996-2011, 2022 Glyph & Cog, LLC\n"
     ]
    }
   ],
   "source": [
    "# Print tool versions\n",
    "subprocess.run([\"pdftotext\", \"-v\"])\n",
    "subprocess.run([\"tesseract\", \"-v\"]);"
   ]
  },
  {
   "cell_type": "code",
   "execution_count": 4,
   "metadata": {
    "pycharm": {
     "name": "#%%\n"
    }
   },
   "outputs": [],
   "source": [
    "# Create the dataset\n",
    "dset = CCDataset(root_dir=dataset_dir, name=\"cc\", description=\"Final run on 04.10.2022\")"
   ]
  },
  {
   "cell_type": "code",
   "execution_count": 5,
   "metadata": {
    "pycharm": {
     "name": "#%%\n"
    }
   },
   "outputs": [
    {
     "name": "stderr",
     "output_type": "stream",
     "text": [
      "100%|███████████████████████████████████████████████████████████████████████████████████████████████████████████████████████████| 2/2 [00:04<00:00,  2.00s/it]\n",
      "100%|███████████████████████████████████████████████████████████████████████████████████████████████████████████████████████████| 2/2 [00:02<00:00,  1.00s/it]\n",
      "The CSV cc_04_10_2022/web/cc_products_active.csv contains 8 duplicates by the primary key.\n",
      "The CSV cc_04_10_2022/web/cc_products_archived.csv contains 10 duplicates by the primary key.\n",
      "When merging certificates with dgst b26ce64e0c677e3d, the following mismatch occured: Attribute=security_level, self[security_level]={'ALC_DVS.1', 'EAL2+'}, other[security_level]={'EAL2'}\n",
      "When merging certificates with dgst 7f043162f88a1c3a, the following mismatch occured: Attribute=not_valid_after, self[not_valid_after]=2024-09-19, other[not_valid_after]=2024-09-18\n",
      "When merging certificates with dgst 109eb2158ca6a2f9, the following mismatch occured: Attribute=security_level, self[security_level]={'EAL4+', 'AVA_MSU.3', 'ATE_DPT.2', 'ADV_IMP.2', 'AVA_VLA.4'}, other[security_level]={'ADV_DVS.2', 'EAL5+', 'AVA_MSU.3', 'AVA_VLA.4'}\n",
      "When merging certificates with dgst c437d26a62a22c39, the following mismatch occured: Attribute=not_valid_after, self[not_valid_after]=2019-11-19, other[not_valid_after]=2018-05-07\n"
     ]
    }
   ],
   "source": [
    "# Get the metadata\n",
    "dset.get_certs_from_web()"
   ]
  },
  {
   "cell_type": "code",
   "execution_count": 8,
   "metadata": {},
   "outputs": [
    {
     "name": "stderr",
     "output_type": "stream",
     "text": [
      "Duplicate entry in PP dataset: ('Protection Profile for Enterprise Security Management Policy Management', 'https://www.commoncriteriaportal.org/files/ppfiles/PP_ESM_PM_V1.4.pdf')\n",
      "Duplicate entry in PP dataset: ('Stateful Traffic Filter Firewall Extended Package for Network Device Protection Profile', 'https://www.commoncriteriaportal.org/files/ppfiles/PP_ND_TFFWEP_V1.0.pdf')\n",
      "Duplicate entry in PP dataset: ('Stateful Traffic Filter Firewall Extended Package for Network Device Protection Profile', 'https://www.commoncriteriaportal.org/files/ppfiles/PP_ND_TFFWEP_V1.0.pdf')\n",
      "Duplicate entry in PP dataset: ('Public Key-Enabled Application Family of Protection Profiles', 'https://www.commoncriteriaportal.org/files/ppfiles/PP_VID3004-PP.pdf')\n",
      "Duplicate entry in PP dataset: ('Protection Profile for Wireless Local Area Network (WLAN) Access Systems', 'https://www.commoncriteriaportal.org/files/ppfiles/PP_WLAN_AS_V1.0.pdf')\n",
      "Duplicate entry in PP dataset: ('PC Client Specific Trusted Platform Module Family 1.2; Level 2, Version 1.1', 'https://www.commoncriteriaportal.org/files/ppfiles/pp0030b.pdf')\n",
      "Duplicate entry in PP dataset: ('Protection Profile for Enterprise Security Management Access Control', 'https://www.commoncriteriaportal.org/files/ppfiles/pp_esm_ac_v2.1.pdf')\n",
      "Duplicate entry in PP dataset: ('U.S. Government Protection Profile Intrusion Detection System - System for Basic Robustness Environments, Version 1.7', 'https://www.commoncriteriaportal.org/files/ppfiles/pp_ids_sys_br_v1.7.pdf')\n",
      "Duplicate entry in PP dataset: ('Network Device Protection Profile Extended Package SIP Server', 'https://www.commoncriteriaportal.org/files/ppfiles/pp_nd_sip_ep_v1.1.pdf')\n",
      "Duplicate entry in PP dataset: ('Network Device Protection Profile Extended Package VPN Gateway', 'https://www.commoncriteriaportal.org/files/ppfiles/pp_nd_vpn_gw_ep_v1.1.pdf')\n",
      "Duplicate entry in PP dataset: ('Extended Package for Secure Shell (SSH), Version 1.0', 'https://www.commoncriteriaportal.org/files/ppfiles/pp_ssh_ep_v1.0.pdf')\n",
      "Duplicate entry in PP dataset: ('Protection Profile for Software Full Disk Encryption', 'https://www.commoncriteriaportal.org/files/ppfiles/pp_swfde_v1.1.pdf')\n",
      "Duplicate entry in PP dataset: ('Smart Card Security User Group - Smart Card Protection Profile, Version 3.0', 'https://www.commoncriteriaportal.org/files/ppfiles/scsugpp.pdf')\n"
     ]
    }
   ],
   "source": [
    "# Process the profiles?\n",
    "dset.process_protection_profiles()"
   ]
  },
  {
   "cell_type": "code",
   "execution_count": 9,
   "metadata": {
    "pycharm": {
     "name": "#%%\n"
    }
   },
   "outputs": [],
   "source": [
    "# Enrich the dataset with the pre-downloaded PDFs (collected over multiple runs to fill in the timeouts and disappearances).\n",
    "dset.reports_pdf_dir.mkdir(parents=True, exist_ok=True)\n",
    "dset.targets_pdf_dir.mkdir(parents=True, exist_ok=True)\n",
    "for cert in dset:\n",
    "    report_pdf = doc_dump_dir / \"report\" / \"pdf\" / f\"{cert.dgst}.pdf\"\n",
    "    if report_pdf.exists():\n",
    "        shutil.copy(report_pdf, cert.state.report_pdf_path)\n",
    "        cert.state.report_download_ok = True\n",
    "    target_pdf = doc_dump_dir / \"target\" / \"pdf\" / f\"{cert.dgst}.pdf\"\n",
    "    if target_pdf.exists():\n",
    "        shutil.copy(target_pdf, cert.state.st_pdf_path)\n",
    "        cert.state.st_download_ok = True"
   ]
  },
  {
   "cell_type": "code",
   "execution_count": 10,
   "metadata": {
    "pycharm": {
     "name": "#%%\n"
    }
   },
   "outputs": [
    {
     "name": "stderr",
     "output_type": "stream",
     "text": [
      "Downloading reports:   0%|                                                                                                             | 0/20 [00:00<?, ?it/s]Cert dgst: 82fcce2db9ef6063 failed to download report from https://www.commoncriteriaportal.org/files/epfiles/emCA%20Certification%20Report%20v1.0.pdf, code: nok\n",
      "Cert dgst: e27eb9efbd67c4f7 failed to download report from https://www.commoncriteriaportal.org/files/epfiles/Document%20SAFER%20Blue%202%20Security%20Target%20V1.10_???.pdf, code: nok\n",
      "Downloading reports:  10%|██████████                                                                                           | 2/20 [00:01<00:09,  2.00it/s]Cert dgst: 305af0eec85bb856 failed to download report from https://www.commoncriteriaportal.org/files/epfiles/[KECS-CR-13-28]%20AhnLab%20TrusGuard%20V2.2(??).pdf, code: nok\n",
      "Cert dgst: d79ecebfe21f2144 failed to download report from https://www.commoncriteriaportal.org/files/epfiles/st_vid10024a-vr.pdf, code: nok\n",
      "Cert dgst: 8ac22970bd8042d2 failed to download report from https://www.commoncriteriaportal.org/files/epfiles/st_vid4016b-vr.pdf, code: nok\n",
      "Cert dgst: 02482228eb547c15 failed to download report from https://www.commoncriteriaportal.org/files/epfiles/st_vid4016a-vr.pdf, code: nok\n",
      "Cert dgst: a90d78924e91dc6c failed to download report from https://www.commoncriteriaportal.org/files/epfiles/ANSSI-CC_2010-03en1.pdf, code: nok\n",
      "Cert dgst: ace7ea6d7f58dbb1 failed to download report from https://www.commoncriteriaportal.org/files/epfiles/0308a_pdf.pdf, code: nok\n",
      "Cert dgst: 811ca609aebe2e96 failed to download report from https://www.commoncriteriaportal.org/files/epfiles/st_vid10355-vr.pdf, code: nok\n",
      "Cert dgst: 391c8b9254ed6ed9 failed to download report from https://www.commoncriteriaportal.org/files/epfiles/silverpeak-v31-cert-eng.pdf, code: nok\n",
      "Cert dgst: d0d0dfe4860db6be failed to download report from https://www.commoncriteriaportal.org/files/epfiles/st_vid1023-vr.pdf, code: nok\n",
      "Cert dgst: 7d074a56ee50aec4 failed to download report from https://www.commoncriteriaportal.org/files/epfiles/st_vid3012a-vr.pdf, code: nok\n",
      "Downloading reports:  90%|██████████████████████████████████████████████████████████████████████████████████████████          | 18/20 [00:02<00:00, 10.22it/s]Cert dgst: 6af4a27251001715 failed to download report from https://www.commoncriteriaportal.org/files/epfiles/st_vid10491-vr, code: nok\n",
      "Cert dgst: 1a8ac8fbe5bfcda9 failed to download report from https://www.commoncriteriaportal.org/files/epfiles/SERTIT-017_CR_Thinklogical_VX160_KVM_Matrix_switch_v1.01.pdf, code: nok\n",
      "Downloading reports: 100%|████████████████████████████████████████████████████████████████████████████████████████████████████| 20/20 [00:03<00:00,  6.65it/s]\n",
      "Downloading targets:   0%|                                                                                                             | 0/14 [00:00<?, ?it/s]Cert dgst: e27eb9efbd67c4f7 failed to download ST from https://www.commoncriteriaportal.org/files/epfiles/Document%20SAFER%20Blue%202%20Security%20Target%20V1.10_???.pdf, code: nok\n",
      "Cert dgst: a90d78924e91dc6c failed to download ST from https://www.commoncriteriaportal.org/files/epfiles/ANSSI-CC-cible_2010-03en1.pdf, code: nok\n",
      "Cert dgst: 305af0eec85bb856 failed to download ST from https://www.commoncriteriaportal.org/files/epfiles/CC-TG22-???????_??.pdf, code: nok\n",
      "Cert dgst: 02482228eb547c15 failed to download ST from https://www.commoncriteriaportal.org/files/epfiles/st_vid4016a-st.pdf, code: nok\n",
      "Downloading targets:  29%|████████████████████████████▊                                                                        | 4/14 [00:01<00:02,  3.99it/s]Cert dgst: 811ca609aebe2e96 failed to download ST from https://www.commoncriteriaportal.org/files/epfiles/st_vid10355-st.pdf, code: nok\n",
      "Cert dgst: 391c8b9254ed6ed9 failed to download ST from https://www.commoncriteriaportal.org/files/epfiles/silverpeak-v31-sec-eng.pdf, code: nok\n",
      "Cert dgst: 6af4a27251001715 failed to download ST from https://www.commoncriteriaportal.org/files/epfiles/st_vid10491-st, code: nok\n",
      "Cert dgst: 1a8ac8fbe5bfcda9 failed to download ST from https://www.commoncriteriaportal.org/files/epfiles/ThinklogicalSecurityTarget_3_6_VX1601.pdf, code: nok\n",
      "Downloading targets: 100%|████████████████████████████████████████████████████████████████████████████████████████████████████| 14/14 [00:03<00:00,  4.65it/s]\n"
     ]
    }
   ],
   "source": [
    "# Try to download last missing (or ones not present in the pre-downloaded)\n",
    "dset.download_all_pdfs(fresh=False)"
   ]
  },
  {
   "cell_type": "code",
   "execution_count": 11,
   "metadata": {
    "pycharm": {
     "name": "#%%\n"
    },
    "scrolled": true
   },
   "outputs": [
    {
     "name": "stderr",
     "output_type": "stream",
     "text": [
      "Converting reports to txt:   2%|█▋                                                                                          | 96/5115 [00:07<06:29, 12.89it/s]Error when converting pdf->txt: poppler error creating document\n",
      "Detected garbage during conversion of cc_04_10_2022/certs/reports/pdf/bfc86f14e2484335.pdf\n",
      "Converting reports to txt:   2%|██                                                                                         | 114/5115 [00:09<06:14, 13.36it/s]Error during OCR of cc_04_10_2022/certs/reports/pdf/bfc86f14e2484335.pdf, using garbage: pdftoppm failed: 1\n",
      "Cert dgst: bfc86f14e2484335 failed to convert report pdf->txt\n",
      "Converting reports to txt:   3%|███                                                                                        | 173/5115 [00:12<05:17, 15.55it/s]Detected garbage during conversion of cc_04_10_2022/certs/reports/pdf/1ee7ecee9e7e131c.pdf\n",
      "Converting reports to txt:   4%|███▎                                                                                       | 189/5115 [00:13<05:16, 15.54it/s]Detected garbage during conversion of cc_04_10_2022/certs/reports/pdf/d8c205b4924f91b3.pdf\n",
      "Converting reports to txt:   4%|███▋                                                                                       | 204/5115 [00:14<05:30, 14.87it/s]Detected garbage during conversion of cc_04_10_2022/certs/reports/pdf/20874d4fa6e4c878.pdf\n",
      "Detected garbage during conversion of cc_04_10_2022/certs/reports/pdf/3477723044183b31.pdf\n",
      "Detected garbage during conversion of cc_04_10_2022/certs/reports/pdf/f8a79eb20ade29af.pdf\n",
      "Detected garbage during conversion of cc_04_10_2022/certs/reports/pdf/0f9468a2e263d3a3.pdf\n",
      "Detected garbage during conversion of cc_04_10_2022/certs/reports/pdf/82c24f729c2e0092.pdf\n",
      "Detected garbage during conversion of cc_04_10_2022/certs/reports/pdf/b3757b6bb5f884d4.pdf\n",
      "Converting reports to txt:   4%|███▋                                                                                       | 209/5115 [00:29<07:04, 11.57it/s]Detected garbage during conversion of cc_04_10_2022/certs/reports/pdf/66bbd8fb83f0abbb.pdf\n",
      "Converting reports to txt:   4%|███▋                                                                                       | 210/5115 [00:35<58:42,  1.39it/s]Detected garbage during conversion of cc_04_10_2022/certs/reports/pdf/e1daa354ae5a61fd.pdf\n",
      "Converting reports to txt:   4%|███▋                                                                                     | 211/5115 [02:52<8:57:46,  6.58s/it]Detected garbage during conversion of cc_04_10_2022/certs/reports/pdf/7a0e44767b51f0c4.pdf\n",
      "Converting reports to txt:   4%|███▋                                                                                     | 213/5115 [03:10<9:28:06,  6.95s/it]Detected garbage during conversion of cc_04_10_2022/certs/reports/pdf/051066781c36ad55.pdf\n",
      "Converting reports to txt:   4%|███▋                                                                                     | 214/5115 [03:11<8:41:14,  6.38s/it]Detected garbage during conversion of cc_04_10_2022/certs/reports/pdf/03bce905b71945aa.pdf\n",
      "Converting reports to txt:   4%|███▋                                                                                     | 215/5115 [03:14<8:02:35,  5.91s/it]Detected garbage during conversion of cc_04_10_2022/certs/reports/pdf/0286c223fc4e626a.pdf\n",
      "Detected garbage during conversion of cc_04_10_2022/certs/reports/pdf/559e4549a852aab2.pdf\n",
      "Converting reports to txt:   4%|███▊                                                                                     | 220/5115 [03:40<7:24:20,  5.45s/it]Detected garbage during conversion of cc_04_10_2022/certs/reports/pdf/c5e25f90c7006546.pdf\n",
      "Converting reports to txt:   4%|███▊                                                                                    | 221/5115 [04:38<17:34:45, 12.93s/it]Detected garbage during conversion of cc_04_10_2022/certs/reports/pdf/744a7a202d909323.pdf\n",
      "Converting reports to txt:   4%|███▊                                                                                    | 222/5115 [06:18<37:23:01, 27.50s/it]Detected garbage during conversion of cc_04_10_2022/certs/reports/pdf/449c74a92ebb61a4.pdf\n",
      "Converting reports to txt:   4%|███▊                                                                                    | 223/5115 [06:26<32:20:55, 23.81s/it]Detected garbage during conversion of cc_04_10_2022/certs/reports/pdf/c80801f9a71b030e.pdf\n",
      "Converting reports to txt:   7%|██████▏                                                                                    | 345/5115 [06:38<11:53,  6.69it/s]Detected garbage during conversion of cc_04_10_2022/certs/reports/pdf/852cad2f53bda148.pdf\n",
      "Detected garbage during conversion of cc_04_10_2022/certs/reports/pdf/b0deb8e9d0026b64.pdf\n",
      "Detected garbage during conversion of cc_04_10_2022/certs/reports/pdf/56be1d745bbb4994.pdf\n",
      "Converting reports to txt:   9%|███████▉                                                                                   | 448/5115 [06:55<07:16, 10.69it/s]Detected garbage during conversion of cc_04_10_2022/certs/reports/pdf/af6767c887ae930a.pdf\n",
      "Converting reports to txt:   9%|████████                                                                                   | 455/5115 [07:09<07:56,  9.77it/s]Detected garbage during conversion of cc_04_10_2022/certs/reports/pdf/d2f75cdaeb322e7f.pdf\n",
      "Converting reports to txt:   9%|███████▉                                                                                 | 457/5115 [08:37<5:32:23,  4.28s/it]Detected garbage during conversion of cc_04_10_2022/certs/reports/pdf/d7300e1bfafed26e.pdf\n",
      "Converting reports to txt:   9%|████████                                                                                 | 460/5115 [09:06<7:22:02,  5.70s/it]Detected garbage during conversion of cc_04_10_2022/certs/reports/pdf/7015af58766db091.pdf\n",
      "Detected garbage during conversion of cc_04_10_2022/certs/reports/pdf/85328590c0d7273f.pdf\n",
      "Converting reports to txt:   9%|████████▏                                                                                | 467/5115 [10:09<9:08:17,  7.08s/it]Detected garbage during conversion of cc_04_10_2022/certs/reports/pdf/e56e14e8cbf89e3c.pdf\n",
      "Converting reports to txt:   9%|████████▏                                                                                | 474/5115 [10:18<6:16:36,  4.87s/it]Detected garbage during conversion of cc_04_10_2022/certs/reports/pdf/4844355021ea22f1.pdf\n",
      "Converting reports to txt:   9%|████████▎                                                                                | 476/5115 [10:21<5:41:24,  4.42s/it]Detected garbage during conversion of cc_04_10_2022/certs/reports/pdf/21a1deda31c3e213.pdf\n",
      "Converting reports to txt:   9%|████████▎                                                                                | 477/5115 [10:28<5:59:05,  4.65s/it]Detected garbage during conversion of cc_04_10_2022/certs/reports/pdf/d8aff63d56506605.pdf\n",
      "Converting reports to txt:   9%|████████▎                                                                                | 478/5115 [10:32<5:53:35,  4.58s/it]Detected garbage during conversion of cc_04_10_2022/certs/reports/pdf/aca070da96add3b6.pdf\n",
      "Converting reports to txt:   9%|████████▍                                                                                | 483/5115 [11:23<8:43:35,  6.78s/it]Detected garbage during conversion of cc_04_10_2022/certs/reports/pdf/c8982f2e8de39b22.pdf\n",
      "Converting reports to txt:  10%|████████▌                                                                                | 490/5115 [12:03<9:20:15,  7.27s/it]Detected garbage during conversion of cc_04_10_2022/certs/reports/pdf/977b04d04def60a7.pdf\n",
      "Converting reports to txt:  10%|████████▌                                                                                | 494/5115 [12:04<5:58:51,  4.66s/it]Detected garbage during conversion of cc_04_10_2022/certs/reports/pdf/6eeed6fefb1f0243.pdf\n",
      "Converting reports to txt:  10%|████████▌                                                                               | 496/5115 [13:26<15:06:59, 11.78s/it]Detected garbage during conversion of cc_04_10_2022/certs/reports/pdf/62313881916550ca.pdf\n"
     ]
    },
    {
     "name": "stderr",
     "output_type": "stream",
     "text": [
      "Converting reports to txt:  10%|████████▌                                                                               | 497/5115 [13:38<15:10:43, 11.83s/it]Detected garbage during conversion of cc_04_10_2022/certs/reports/pdf/6f8d7a6a1dea6a3a.pdf\n",
      "Detected garbage during conversion of cc_04_10_2022/certs/reports/pdf/e6cffd14e732a030.pdf\n",
      "Converting reports to txt:  10%|████████▌                                                                               | 498/5115 [13:57<16:59:25, 13.25s/it]Detected garbage during conversion of cc_04_10_2022/certs/reports/pdf/47913a485c3c8a18.pdf\n",
      "Converting reports to txt:  10%|████████▊                                                                                | 503/5115 [14:01<7:40:59,  6.00s/it]Detected garbage during conversion of cc_04_10_2022/certs/reports/pdf/b0b7b073ca2dfe5f.pdf\n",
      "Converting reports to txt:  10%|████████▋                                                                               | 504/5115 [14:27<11:21:27,  8.87s/it]Detected garbage during conversion of cc_04_10_2022/certs/reports/pdf/60f3bd10ee9be85b.pdf\n",
      "Converting reports to txt:  10%|████████▋                                                                               | 505/5115 [15:07<18:08:17, 14.16s/it]Detected garbage during conversion of cc_04_10_2022/certs/reports/pdf/5c3806bf79eeab7f.pdf\n",
      "Converting reports to txt:  10%|████████▊                                                                               | 515/5115 [16:20<11:26:38,  8.96s/it]Detected garbage during conversion of cc_04_10_2022/certs/reports/pdf/4c9468f20fdb04f7.pdf\n",
      "Converting reports to txt:  10%|█████████                                                                                | 518/5115 [16:21<8:38:28,  6.77s/it]Detected garbage during conversion of cc_04_10_2022/certs/reports/pdf/9ee9f3c598318ae5.pdf\n",
      "Converting reports to txt:  11%|█████████▍                                                                               | 542/5115 [17:08<2:22:59,  1.88s/it]Detected garbage during conversion of cc_04_10_2022/certs/reports/pdf/afde7a688dcc5c83.pdf\n",
      "Converting reports to txt:  17%|███████████████                                                                            | 850/5115 [18:10<09:48,  7.24it/s]Error when converting pdf->txt: poppler error creating document\n",
      "Error when converting pdf->txt: poppler error creating document\n",
      "Detected garbage during conversion of cc_04_10_2022/certs/reports/pdf/4de4a9f436958574.pdf\n",
      "Error when converting pdf->txt: poppler error creating document\n",
      "Detected garbage during conversion of cc_04_10_2022/certs/reports/pdf/02958808b57334f0.pdf\n",
      "Detected garbage during conversion of cc_04_10_2022/certs/reports/pdf/98668cafb8dda26f.pdf\n",
      "Error during OCR of cc_04_10_2022/certs/reports/pdf/98668cafb8dda26f.pdf, using garbage: pdftoppm failed: 1\n",
      "Cert dgst: 98668cafb8dda26f failed to convert report pdf->txt\n",
      "Error during OCR of cc_04_10_2022/certs/reports/pdf/02958808b57334f0.pdf, using garbage: pdftoppm failed: 1\n",
      "Error during OCR of cc_04_10_2022/certs/reports/pdf/4de4a9f436958574.pdf, using garbage: pdftoppm failed: 1\n",
      "Cert dgst: 02958808b57334f0 failed to convert report pdf->txt\n",
      "Cert dgst: 4de4a9f436958574 failed to convert report pdf->txt\n",
      "Converting reports to txt:  22%|███████████████████▉                                                                      | 1133/5115 [18:33<04:55, 13.49it/s]Detected garbage during conversion of cc_04_10_2022/certs/reports/pdf/9903c89cbb35eec1.pdf\n",
      "Converting reports to txt:  24%|█████████████████████▊                                                                    | 1238/5115 [18:41<05:01, 12.85it/s]Detected garbage during conversion of cc_04_10_2022/certs/reports/pdf/1faf7bf1f74a1851.pdf\n",
      "Converting reports to txt:  28%|█████████████████████████                                                                 | 1422/5115 [18:56<04:48, 12.81it/s]Error when converting pdf->txt: poppler error creating document\n",
      "Detected garbage during conversion of cc_04_10_2022/certs/reports/pdf/422dc5758723c7d1.pdf\n",
      "Error during OCR of cc_04_10_2022/certs/reports/pdf/422dc5758723c7d1.pdf, using garbage: pdftoppm failed: 1\n",
      "Cert dgst: 422dc5758723c7d1 failed to convert report pdf->txt\n",
      "Converting reports to txt:  31%|████████████████████████████▏                                                             | 1604/5115 [19:10<04:21, 13.41it/s]Detected garbage during conversion of cc_04_10_2022/certs/reports/pdf/209e2d18e1fa0cca.pdf\n",
      "Detected garbage during conversion of cc_04_10_2022/certs/reports/pdf/b93dfa0a8ec3609c.pdf\n",
      "Converting reports to txt:  32%|████████████████████████████▌                                                             | 1624/5115 [19:11<03:53, 14.93it/s]Detected garbage during conversion of cc_04_10_2022/certs/reports/pdf/6ed5861434d5fed9.pdf\n",
      "Detected garbage during conversion of cc_04_10_2022/certs/reports/pdf/3df01446a2b92093.pdf\n",
      "Converting reports to txt:  35%|███████████████████████████████▏                                                          | 1773/5115 [19:28<06:59,  7.96it/s]Detected garbage during conversion of cc_04_10_2022/certs/reports/pdf/3e5591d086a54905.pdf\n",
      "Converting reports to txt:  36%|████████████████████████████████▋                                                         | 1859/5115 [19:35<04:54, 11.07it/s]Detected garbage during conversion of cc_04_10_2022/certs/reports/pdf/d3568613c552f9e8.pdf\n",
      "Error during OCR of cc_04_10_2022/certs/reports/pdf/d3568613c552f9e8.pdf, using garbage: pdftoppm failed: 99\n",
      "Converting reports to txt:  38%|██████████████████████████████████▏                                                       | 1945/5115 [19:44<04:56, 10.69it/s]Detected garbage during conversion of cc_04_10_2022/certs/reports/pdf/822e5f25e7c4631e.pdf\n",
      "Converting reports to txt:  39%|██████████████████████████████████▋                                                       | 1973/5115 [19:49<07:26,  7.04it/s]Error when converting pdf->txt: poppler error creating document\n",
      "Detected garbage during conversion of cc_04_10_2022/certs/reports/pdf/2d05e976e1adf696.pdf\n",
      "Error during OCR of cc_04_10_2022/certs/reports/pdf/2d05e976e1adf696.pdf, using garbage: pdftoppm failed: 1\n",
      "Cert dgst: 2d05e976e1adf696 failed to convert report pdf->txt\n",
      "Converting reports to txt:  41%|█████████████████████████████████████▏                                                    | 2115/5115 [20:01<05:10,  9.65it/s]Detected garbage during conversion of cc_04_10_2022/certs/reports/pdf/69d373903e9635ef.pdf\n",
      "Converting reports to txt:  42%|█████████████████████████████████████▋                                                    | 2143/5115 [20:04<05:15,  9.43it/s]Detected garbage during conversion of cc_04_10_2022/certs/reports/pdf/ae1b80e9cccec491.pdf\n",
      "Converting reports to txt:  43%|██████████████████████████████████████▎                                                   | 2176/5115 [20:16<14:12,  3.45it/s]Detected garbage during conversion of cc_04_10_2022/certs/reports/pdf/21d5f1b05e1ba491.pdf\n",
      "Converting reports to txt:  47%|██████████████████████████████████████████▏                                               | 2396/5115 [20:46<03:57, 11.46it/s]Detected garbage during conversion of cc_04_10_2022/certs/reports/pdf/3f8cee6d5bee5397.pdf\n",
      "Converting reports to txt:  56%|██████████████████████████████████████████████████▋                                       | 2881/5115 [21:41<04:35,  8.10it/s]Detected garbage during conversion of cc_04_10_2022/certs/reports/pdf/7e32023021d5aad2.pdf\n",
      "Converting reports to txt:  59%|█████████████████████████████████████████████████████                                     | 3017/5115 [22:16<03:37,  9.65it/s]Detected garbage during conversion of cc_04_10_2022/certs/reports/pdf/b43100f226a61f53.pdf\n",
      "Converting reports to txt:  59%|█████████████████████████████████████████████████████▎                                    | 3031/5115 [22:17<03:21, 10.35it/s]Error during OCR of cc_04_10_2022/certs/reports/pdf/b43100f226a61f53.pdf, using garbage: pdftoppm failed: 99\n",
      "Converting reports to txt:  75%|███████████████████████████████████████████████████████████████████▌                      | 3840/5115 [23:32<01:42, 12.38it/s]Detected garbage during conversion of cc_04_10_2022/certs/reports/pdf/03cc150ce40cf816.pdf\n"
     ]
    },
    {
     "name": "stderr",
     "output_type": "stream",
     "text": [
      "Detected garbage during conversion of cc_04_10_2022/certs/reports/pdf/6db03eff148934a4.pdf\n",
      "Error when converting pdf->txt: poppler error creating document\n",
      "Detected garbage during conversion of cc_04_10_2022/certs/reports/pdf/f9c8da9deff77ab5.pdf\n",
      "Error during OCR of cc_04_10_2022/certs/reports/pdf/f9c8da9deff77ab5.pdf, using garbage: pdftoppm failed: 1\n",
      "Cert dgst: f9c8da9deff77ab5 failed to convert report pdf->txt\n",
      "Converting reports to txt:  77%|████████████████████████████████████████████████████████████████████▊                     | 3913/5115 [23:36<01:23, 14.40it/s]Detected garbage during conversion of cc_04_10_2022/certs/reports/pdf/3570791ff9c92912.pdf\n",
      "Converting reports to txt:  77%|█████████████████████████████████████████████████████████████████████▌                    | 3955/5115 [23:40<01:42, 11.27it/s]Detected garbage during conversion of cc_04_10_2022/certs/reports/pdf/ed886279d0d61096.pdf\n",
      "Converting reports to txt:  86%|█████████████████████████████████████████████████████████████████████████████▌            | 4408/5115 [24:29<00:57, 12.26it/s]Detected garbage during conversion of cc_04_10_2022/certs/reports/pdf/c763b37bb95517e9.pdf\n",
      "Converting reports to txt:  86%|█████████████████████████████████████████████████████████████████████████████▊            | 4422/5115 [24:30<00:55, 12.39it/s]Detected garbage during conversion of cc_04_10_2022/certs/reports/pdf/40640508ac3a37f2.pdf\n",
      "Converting reports to txt:  87%|██████████████████████████████████████████████████████████████████████████████            | 4433/5115 [24:32<00:58, 11.59it/s]Error when converting pdf->txt: poppler error creating document\n",
      "Detected garbage during conversion of cc_04_10_2022/certs/reports/pdf/7147c2f70d983d57.pdf\n",
      "Converting reports to txt:  87%|██████████████████████████████████████████████████████████████████████████████▏           | 4447/5115 [24:33<00:54, 12.18it/s]Error during OCR of cc_04_10_2022/certs/reports/pdf/7147c2f70d983d57.pdf, using garbage: pdftoppm failed: 1\n",
      "Cert dgst: 7147c2f70d983d57 failed to convert report pdf->txt\n",
      "Converting reports to txt:  94%|████████████████████████████████████████████████████████████████████████████████████▉     | 4830/5115 [25:07<00:26, 10.62it/s]Detected garbage during conversion of cc_04_10_2022/certs/reports/pdf/3ad7749ef678ce95.pdf\n",
      "Converting reports to txt:  96%|█████████████████████████████████████████████████████████████████████████████████████▉    | 4887/5115 [25:10<00:15, 15.18it/s]Detected garbage during conversion of cc_04_10_2022/certs/reports/pdf/b762fcb2983aa148.pdf\n",
      "Detected garbage during conversion of cc_04_10_2022/certs/reports/pdf/1683817e5db17d9c.pdf\n",
      "Converting reports to txt:  96%|██████████████████████████████████████████████████████████████████████████████████████▍   | 4915/5115 [25:12<00:16, 12.31it/s]Detected garbage during conversion of cc_04_10_2022/certs/reports/pdf/cc681ca95621a6db.pdf\n",
      "Converting reports to txt:  96%|██████████████████████████████████████████████████████████████████████████████████████▋   | 4928/5115 [25:14<00:15, 11.81it/s]Detected garbage during conversion of cc_04_10_2022/certs/reports/pdf/889693d2b11bdfaf.pdf\n",
      "Converting reports to txt:  97%|███████████████████████████████████████████████████████████████████████████████████████   | 4951/5115 [25:16<00:15, 10.92it/s]Detected garbage during conversion of cc_04_10_2022/certs/reports/pdf/876cb2fe02017f3f.pdf\n",
      "Converting reports to txt: 100%|██████████████████████████████████████████████████████████████████████████████████████████| 5115/5115 [25:33<00:00,  3.34it/s]\n",
      "Converting targets to txt:   2%|██                                                                                         | 114/5032 [00:25<18:24,  4.45it/s]Error when converting pdf->txt: poppler error creating document\n",
      "Detected garbage during conversion of cc_04_10_2022/certs/targets/pdf/bfc86f14e2484335.pdf\n",
      "Error during OCR of cc_04_10_2022/certs/targets/pdf/bfc86f14e2484335.pdf, using garbage: pdftoppm failed: 1\n",
      "Converting targets to txt:   2%|██▏                                                                                        | 121/5032 [00:27<18:58,  4.31it/s]Cert dgst: bfc86f14e2484335 failed to convert security target pdf->txt\n",
      "Converting targets to txt:  10%|█████████▍                                                                                 | 521/5032 [02:41<24:58,  3.01it/s]Error when converting pdf->txt: poppler error creating document\n",
      "Detected garbage during conversion of cc_04_10_2022/certs/targets/pdf/4c9468f20fdb04f7.pdf\n",
      "Converting targets to txt:  10%|█████████▌                                                                                 | 528/5032 [02:47<34:23,  2.18it/s]Error during OCR of cc_04_10_2022/certs/targets/pdf/4c9468f20fdb04f7.pdf, using garbage: pdftoppm failed: 1\n",
      "Cert dgst: 4c9468f20fdb04f7 failed to convert security target pdf->txt\n",
      "Converting targets to txt:  21%|██████████████████▉                                                                       | 1059/5032 [05:08<11:45,  5.63it/s]Error when converting pdf->txt: poppler error creating document\n",
      "Converting targets to txt:  21%|███████████████████                                                                       | 1067/5032 [05:09<12:12,  5.42it/s]Detected garbage during conversion of cc_04_10_2022/certs/targets/pdf/a2b962c7f1d2bc56.pdf\n",
      "Error during OCR of cc_04_10_2022/certs/targets/pdf/a2b962c7f1d2bc56.pdf, using garbage: pdftoppm failed: 1\n",
      "Converting targets to txt:  21%|███████████████████▏                                                                      | 1074/5032 [05:11<12:00,  5.50it/s]Cert dgst: a2b962c7f1d2bc56 failed to convert security target pdf->txt\n",
      "Converting targets to txt:  28%|█████████████████████████▎                                                                | 1417/5032 [06:43<15:03,  4.00it/s]Error when converting pdf->txt: poppler error creating document\n",
      "Detected garbage during conversion of cc_04_10_2022/certs/targets/pdf/422dc5758723c7d1.pdf\n",
      "Converting targets to txt:  28%|█████████████████████████▍                                                                | 1424/5032 [06:46<17:46,  3.38it/s]Error during OCR of cc_04_10_2022/certs/targets/pdf/422dc5758723c7d1.pdf, using garbage: pdftoppm failed: 1\n",
      "Cert dgst: 422dc5758723c7d1 failed to convert security target pdf->txt\n",
      "Converting targets to txt:  31%|████████████████████████████                                                              | 1572/5032 [07:26<18:40,  3.09it/s]Detected garbage during conversion of cc_04_10_2022/certs/targets/pdf/063d3805a3b12930.pdf\n",
      "Converting targets to txt:  33%|█████████████████████████████▌                                                            | 1651/5032 [07:45<12:10,  4.63it/s]Detected garbage during conversion of cc_04_10_2022/certs/targets/pdf/2f4a41e8a5dfac6a.pdf\n",
      "Converting targets to txt:  33%|█████████████████████████████▉                                                            | 1676/5032 [07:50<11:36,  4.82it/s]Detected garbage during conversion of cc_04_10_2022/certs/targets/pdf/504258938266b87f.pdf\n",
      "Converting targets to txt:  35%|███████████████████████████████▊                                                          | 1781/5032 [08:18<13:29,  4.02it/s]Detected garbage during conversion of cc_04_10_2022/certs/targets/pdf/de85ff4c31069f12.pdf\n",
      "Converting targets to txt:  37%|█████████████████████████████████                                                         | 1850/5032 [08:37<13:22,  3.96it/s]Detected garbage during conversion of cc_04_10_2022/certs/targets/pdf/d3568613c552f9e8.pdf\n",
      "Converting targets to txt:  37%|█████████████████████████████████▏                                                        | 1858/5032 [08:42<22:28,  2.35it/s]Error during OCR of cc_04_10_2022/certs/targets/pdf/d3568613c552f9e8.pdf, using garbage: pdftoppm failed: 99\n",
      "Converting targets to txt:  40%|████████████████████████████████████                                                      | 2014/5032 [09:20<13:10,  3.82it/s]Detected garbage during conversion of cc_04_10_2022/certs/targets/pdf/b4bc79d8a558c7cf.pdf\n",
      "Converting targets to txt:  40%|████████████████████████████████████                                                      | 2017/5032 [09:22<16:54,  2.97it/s]Detected garbage during conversion of cc_04_10_2022/certs/targets/pdf/09b43147f1307352.pdf\n"
     ]
    },
    {
     "name": "stderr",
     "output_type": "stream",
     "text": [
      "Detected garbage during conversion of cc_04_10_2022/certs/targets/pdf/ce987167d42db722.pdf\n",
      "Converting targets to txt:  40%|████████████████████████████████████▏                                                     | 2020/5032 [09:23<17:00,  2.95it/s]Detected garbage during conversion of cc_04_10_2022/certs/targets/pdf/c16a92b40550193d.pdf\n",
      "Converting targets to txt:  40%|███████████████████████████████████▌                                                    | 2032/5032 [10:42<2:44:41,  3.29s/it]Detected garbage during conversion of cc_04_10_2022/certs/targets/pdf/2ff761edd4ed9b72.pdf\n",
      "Converting targets to txt:  41%|███████████████████████████████████▊                                                    | 2050/5032 [12:33<2:34:26,  3.11s/it]Detected garbage during conversion of cc_04_10_2022/certs/targets/pdf/9e4d3347efd95ec9.pdf\n",
      "Converting targets to txt:  43%|███████████████████████████████████████                                                   | 2182/5032 [13:38<14:26,  3.29it/s]Detected garbage during conversion of cc_04_10_2022/certs/targets/pdf/ad9ea5a4acf9ac53.pdf\n",
      "Converting targets to txt:  44%|██████████████████████████████████████▎                                                 | 2192/5032 [16:39<6:57:28,  8.82s/it]Detected garbage during conversion of cc_04_10_2022/certs/targets/pdf/28922ef97b2dfaa0.pdf\n",
      "Converting targets to txt:  44%|█████████████████████████████████████▉                                                 | 2194/5032 [20:07<29:34:31, 37.52s/it]Detected garbage during conversion of cc_04_10_2022/certs/targets/pdf/5c715225c805354f.pdf\n",
      "Converting targets to txt:  68%|█████████████████████████████████████████████████████████████▍                            | 3437/5032 [27:19<06:05,  4.36it/s]Detected garbage during conversion of cc_04_10_2022/certs/targets/pdf/863d91c6a2b8e77a.pdf\n",
      "Converting targets to txt:  68%|█████████████████████████████████████████████████████████████▌                            | 3445/5032 [27:21<06:55,  3.82it/s]Detected garbage during conversion of cc_04_10_2022/certs/targets/pdf/f65cab49ea5422dd.pdf\n",
      "Detected garbage during conversion of cc_04_10_2022/certs/targets/pdf/731102b849e8d104.pdf\n",
      "Converting targets to txt:  77%|████████████████████████████████████████████████████████████████████▉                     | 3856/5032 [29:22<04:34,  4.28it/s]Detected garbage during conversion of cc_04_10_2022/certs/targets/pdf/bc31fd0273ab72f8.pdf\n",
      "Detected garbage during conversion of cc_04_10_2022/certs/targets/pdf/18e5179ba124af1d.pdf\n",
      "Converting targets to txt:  79%|██████████████████████████████████████████████████████████████████████▉                   | 3968/5032 [29:56<05:36,  3.16it/s]Detected garbage during conversion of cc_04_10_2022/certs/targets/pdf/5dfeb0219325989b.pdf\n",
      "Converting targets to txt:  79%|███████████████████████████████████████████████████████████████████████                   | 3974/5032 [29:59<06:06,  2.89it/s]Detected garbage during conversion of cc_04_10_2022/certs/targets/pdf/22617e916bad6f53.pdf\n",
      "Detected garbage during conversion of cc_04_10_2022/certs/targets/pdf/6344672e3178f63e.pdf\n",
      "Converting targets to txt:  80%|███████████████████████████████████████████████████████████████████████▊                  | 4016/5032 [38:07<29:43,  1.76s/it]Detected garbage during conversion of cc_04_10_2022/certs/targets/pdf/483dc36fcf11b257.pdf\n",
      "Converting targets to txt:  80%|██████████████████████████████████████████████████████████████████████▎                 | 4022/5032 [39:24<1:31:32,  5.44s/it]Detected garbage during conversion of cc_04_10_2022/certs/targets/pdf/5885f28f042038c1.pdf\n",
      "Converting targets to txt:  80%|████████████████████████████████████████████████████████████████████████▎                 | 4046/5032 [39:36<14:33,  1.13it/s]Detected garbage during conversion of cc_04_10_2022/certs/targets/pdf/7b08ad74a882337c.pdf\n",
      "Converting targets to txt:  87%|██████████████████████████████████████████████████████████████████████████████▎           | 4378/5032 [42:42<02:31,  4.31it/s]Error when converting pdf->txt: poppler error creating document\n",
      "Converting targets to txt:  87%|██████████████████████████████████████████████████████████████████████████████▍           | 4383/5032 [42:44<02:33,  4.22it/s]Detected garbage during conversion of cc_04_10_2022/certs/targets/pdf/7147c2f70d983d57.pdf\n",
      "Error during OCR of cc_04_10_2022/certs/targets/pdf/7147c2f70d983d57.pdf, using garbage: pdftoppm failed: 1\n",
      "Cert dgst: 7147c2f70d983d57 failed to convert security target pdf->txt\n",
      "Converting targets to txt:  90%|████████████████████████████████████████████████████████████████████████████████▉         | 4523/5032 [43:33<03:02,  2.79it/s]Detected garbage during conversion of cc_04_10_2022/certs/targets/pdf/931e1b2a68a1bcd2.pdf\n",
      "Converting targets to txt:  92%|██████████████████████████████████████████████████████████████████████████████████▍       | 4612/5032 [43:54<01:46,  3.93it/s]Detected garbage during conversion of cc_04_10_2022/certs/targets/pdf/16229c97ce083e8c.pdf\n",
      "Converting targets to txt:  99%|████████████████████████████████████████████████████████████████████████████████████████▉ | 4973/5032 [45:28<00:13,  4.30it/s]Error when converting pdf->txt: poppler error creating page\n",
      "Detected garbage during conversion of cc_04_10_2022/certs/targets/pdf/a552244ec3ca8f60.pdf\n",
      "Converting targets to txt: 100%|██████████████████████████████████████████████████████████████████████████████████████████| 5032/5032 [47:33<00:00,  1.76it/s]\n",
      "Converting reports to txt:   0%|                                                                                                        | 0/8 [00:00<?, ?it/s]Error when converting pdf->txt: poppler error creating document\n",
      "Error when converting pdf->txt: poppler error creating document\n",
      "Error when converting pdf->txt: poppler error creating document\n",
      "Error when converting pdf->txt: poppler error creating document\n",
      "Error when converting pdf->txt: poppler error creating document\n",
      "Error when converting pdf->txt: poppler error creating document\n",
      "Detected garbage during conversion of cc_04_10_2022/certs/reports/pdf/7147c2f70d983d57.pdf\n",
      "Error when converting pdf->txt: poppler error creating document\n",
      "Detected garbage during conversion of cc_04_10_2022/certs/reports/pdf/2d05e976e1adf696.pdf\n",
      "Error when converting pdf->txt: poppler error creating document\n",
      "Detected garbage during conversion of cc_04_10_2022/certs/reports/pdf/bfc86f14e2484335.pdf\n",
      "Detected garbage during conversion of cc_04_10_2022/certs/reports/pdf/4de4a9f436958574.pdf\n",
      "Detected garbage during conversion of cc_04_10_2022/certs/reports/pdf/02958808b57334f0.pdf\n",
      "Detected garbage during conversion of cc_04_10_2022/certs/reports/pdf/f9c8da9deff77ab5.pdf\n",
      "Detected garbage during conversion of cc_04_10_2022/certs/reports/pdf/422dc5758723c7d1.pdf\n",
      "Detected garbage during conversion of cc_04_10_2022/certs/reports/pdf/98668cafb8dda26f.pdf\n",
      "Error during OCR of cc_04_10_2022/certs/reports/pdf/7147c2f70d983d57.pdf, using garbage: pdftoppm failed: 1\n",
      "Error during OCR of cc_04_10_2022/certs/reports/pdf/2d05e976e1adf696.pdf, using garbage: pdftoppm failed: 1\n",
      "Cert dgst: 7147c2f70d983d57 failed to convert report pdf->txt\n",
      "Cert dgst: 2d05e976e1adf696 failed to convert report pdf->txt\n",
      "Error during OCR of cc_04_10_2022/certs/reports/pdf/98668cafb8dda26f.pdf, using garbage: pdftoppm failed: 1\n",
      "Cert dgst: 98668cafb8dda26f failed to convert report pdf->txt\n",
      "Error during OCR of cc_04_10_2022/certs/reports/pdf/02958808b57334f0.pdf, using garbage: pdftoppm failed: 1\n",
      "Cert dgst: 02958808b57334f0 failed to convert report pdf->txt\n",
      "Error during OCR of cc_04_10_2022/certs/reports/pdf/422dc5758723c7d1.pdf, using garbage: pdftoppm failed: 1\n",
      "Cert dgst: 422dc5758723c7d1 failed to convert report pdf->txt\n",
      "Error during OCR of cc_04_10_2022/certs/reports/pdf/bfc86f14e2484335.pdf, using garbage: pdftoppm failed: 1\n",
      "Error during OCR of cc_04_10_2022/certs/reports/pdf/f9c8da9deff77ab5.pdf, using garbage: pdftoppm failed: 1\n",
      "Cert dgst: bfc86f14e2484335 failed to convert report pdf->txt\n",
      "Cert dgst: f9c8da9deff77ab5 failed to convert report pdf->txt\n",
      "Error during OCR of cc_04_10_2022/certs/reports/pdf/4de4a9f436958574.pdf, using garbage: pdftoppm failed: 1\n",
      "Cert dgst: 4de4a9f436958574 failed to convert report pdf->txt\n"
     ]
    },
    {
     "name": "stderr",
     "output_type": "stream",
     "text": [
      "Converting reports to txt: 100%|████████████████████████████████████████████████████████████████████████████████████████████████| 8/8 [00:01<00:00,  7.98it/s]\n",
      "Converting targets to txt:   0%|                                                                                                        | 0/5 [00:00<?, ?it/s]Error when converting pdf->txt: poppler error creating document\n",
      "Detected garbage during conversion of cc_04_10_2022/certs/targets/pdf/7147c2f70d983d57.pdf\n",
      "Error when converting pdf->txt: poppler error creating document\n",
      "Error when converting pdf->txt: poppler error creating document\n",
      "Error when converting pdf->txt: poppler error creating document\n",
      "Error when converting pdf->txt: poppler error creating document\n",
      "Error during OCR of cc_04_10_2022/certs/targets/pdf/7147c2f70d983d57.pdf, using garbage: pdftoppm failed: 1\n",
      "Detected garbage during conversion of cc_04_10_2022/certs/targets/pdf/a2b962c7f1d2bc56.pdf\n",
      "Detected garbage during conversion of cc_04_10_2022/certs/targets/pdf/bfc86f14e2484335.pdf\n",
      "Detected garbage during conversion of cc_04_10_2022/certs/targets/pdf/422dc5758723c7d1.pdf\n",
      "Detected garbage during conversion of cc_04_10_2022/certs/targets/pdf/4c9468f20fdb04f7.pdf\n",
      "Cert dgst: 7147c2f70d983d57 failed to convert security target pdf->txt\n",
      "Error during OCR of cc_04_10_2022/certs/targets/pdf/a2b962c7f1d2bc56.pdf, using garbage: pdftoppm failed: 1\n",
      "Cert dgst: a2b962c7f1d2bc56 failed to convert security target pdf->txt\n",
      "Error during OCR of cc_04_10_2022/certs/targets/pdf/bfc86f14e2484335.pdf, using garbage: pdftoppm failed: 1\n",
      "Cert dgst: bfc86f14e2484335 failed to convert security target pdf->txt\n",
      "Error during OCR of cc_04_10_2022/certs/targets/pdf/422dc5758723c7d1.pdf, using garbage: pdftoppm failed: 1\n",
      "Cert dgst: 422dc5758723c7d1 failed to convert security target pdf->txt\n",
      "Error during OCR of cc_04_10_2022/certs/targets/pdf/4c9468f20fdb04f7.pdf, using garbage: pdftoppm failed: 1\n",
      "Cert dgst: 4c9468f20fdb04f7 failed to convert security target pdf->txt\n",
      "Converting targets to txt: 100%|████████████████████████████████████████████████████████████████████████████████████████████████| 5/5 [00:01<00:00,  4.99it/s]\n"
     ]
    }
   ],
   "source": [
    "# Convert all\n",
    "dset.convert_all_pdfs()"
   ]
  },
  {
   "cell_type": "code",
   "execution_count": 12,
   "metadata": {
    "pycharm": {
     "name": "#%%\n"
    },
    "scrolled": false
   },
   "outputs": [
    {
     "name": "stderr",
     "output_type": "stream",
     "text": [
      "Extracting report metadata:   0%|                                                                                                    | 0/5107 [00:00<?, ?it/s]Failed to read metadata of certs/reports/pdf/1e91595cd5e7fece.pdf, error: Unexpected escaped string: b'\\x83'\n",
      "Failed to read metadata of certs/reports/pdf/451e0806dfcfd29d.pdf, error: PDF metadata unavailable\n",
      "Extracting report metadata:  14%|████████████▌                                                                            | 720/5107 [00:03<00:20, 217.24it/s]Failed to read metadata of certs/reports/pdf/e51bbdd7e3705d61.pdf, error: PDF metadata unavailable\n",
      "Extracting report metadata:  17%|███████████████▋                                                                          | 889/5107 [00:09<01:48, 38.76it/s]PdfReadWarning: Multiple definitions in dictionary at byte 0x59564 for key /Im21 [generic.py:590]\n",
      "PdfReadWarning: Multiple definitions in dictionary at byte 0x59571 for key /Im21 [generic.py:590]\n",
      "PdfReadWarning: Multiple definitions in dictionary at byte 0x5957e for key /Im21 [generic.py:590]\n",
      "PdfReadWarning: Multiple definitions in dictionary at byte 0x5a3f9 for key /Im21 [generic.py:590]\n",
      "PdfReadWarning: Multiple definitions in dictionary at byte 0x5a406 for key /Im21 [generic.py:590]\n",
      "PdfReadWarning: Multiple definitions in dictionary at byte 0x5a413 for key /Im21 [generic.py:590]\n",
      "PdfReadWarning: Multiple definitions in dictionary at byte 0x5b802 for key /Im21 [generic.py:590]\n",
      "PdfReadWarning: Multiple definitions in dictionary at byte 0x5b80f for key /Im21 [generic.py:590]\n",
      "PdfReadWarning: Multiple definitions in dictionary at byte 0x5b81c for key /Im21 [generic.py:590]\n",
      "PdfReadWarning: Multiple definitions in dictionary at byte 0x5c501 for key /Im21 [generic.py:590]\n",
      "PdfReadWarning: Multiple definitions in dictionary at byte 0x5c50e for key /Im21 [generic.py:590]\n",
      "PdfReadWarning: Multiple definitions in dictionary at byte 0x5c51b for key /Im21 [generic.py:590]\n",
      "PdfReadWarning: Multiple definitions in dictionary at byte 0x5e732 for key /Im21 [generic.py:590]\n",
      "PdfReadWarning: Multiple definitions in dictionary at byte 0x5e73f for key /Im21 [generic.py:590]\n",
      "PdfReadWarning: Multiple definitions in dictionary at byte 0x5e74c for key /Im21 [generic.py:590]\n",
      "PdfReadWarning: Multiple definitions in dictionary at byte 0x610ef for key /Im21 [generic.py:590]\n",
      "PdfReadWarning: Multiple definitions in dictionary at byte 0x610fc for key /Im21 [generic.py:590]\n",
      "PdfReadWarning: Multiple definitions in dictionary at byte 0x61109 for key /Im21 [generic.py:590]\n",
      "PdfReadWarning: Multiple definitions in dictionary at byte 0x75219 for key /Im21 [generic.py:590]\n",
      "PdfReadWarning: Multiple definitions in dictionary at byte 0x75226 for key /Im21 [generic.py:590]\n",
      "PdfReadWarning: Multiple definitions in dictionary at byte 0x75233 for key /Im21 [generic.py:590]\n",
      "PdfReadWarning: Multiple definitions in dictionary at byte 0x78a0e for key /Im21 [generic.py:590]\n",
      "PdfReadWarning: Multiple definitions in dictionary at byte 0x78a1b for key /Im21 [generic.py:590]\n",
      "PdfReadWarning: Multiple definitions in dictionary at byte 0x78a28 for key /Im21 [generic.py:590]\n",
      "PdfReadWarning: Multiple definitions in dictionary at byte 0x798c6 for key /Im21 [generic.py:590]\n",
      "PdfReadWarning: Multiple definitions in dictionary at byte 0x798d3 for key /Im21 [generic.py:590]\n",
      "PdfReadWarning: Multiple definitions in dictionary at byte 0x798e0 for key /Im21 [generic.py:590]\n",
      "PdfReadWarning: Multiple definitions in dictionary at byte 0x7d599 for key /Im21 [generic.py:590]\n",
      "PdfReadWarning: Multiple definitions in dictionary at byte 0x7d5a6 for key /Im21 [generic.py:590]\n",
      "PdfReadWarning: Multiple definitions in dictionary at byte 0x7d5b3 for key /Im21 [generic.py:590]\n",
      "PdfReadWarning: Multiple definitions in dictionary at byte 0x7e69a for key /Im21 [generic.py:590]\n",
      "PdfReadWarning: Multiple definitions in dictionary at byte 0x7e6a7 for key /Im21 [generic.py:590]\n",
      "PdfReadWarning: Multiple definitions in dictionary at byte 0x7e6b4 for key /Im21 [generic.py:590]\n",
      "PdfReadWarning: Multiple definitions in dictionary at byte 0x7f838 for key /Im21 [generic.py:590]\n",
      "PdfReadWarning: Multiple definitions in dictionary at byte 0x7f845 for key /Im21 [generic.py:590]\n",
      "PdfReadWarning: Multiple definitions in dictionary at byte 0x7f852 for key /Im21 [generic.py:590]\n",
      "PdfReadWarning: Multiple definitions in dictionary at byte 0x80238 for key /Im21 [generic.py:590]\n",
      "PdfReadWarning: Multiple definitions in dictionary at byte 0x80245 for key /Im21 [generic.py:590]\n",
      "PdfReadWarning: Multiple definitions in dictionary at byte 0x80252 for key /Im21 [generic.py:590]\n",
      "PdfReadWarning: Multiple definitions in dictionary at byte 0x810a5 for key /Im21 [generic.py:590]\n",
      "PdfReadWarning: Multiple definitions in dictionary at byte 0x810b2 for key /Im21 [generic.py:590]\n",
      "PdfReadWarning: Multiple definitions in dictionary at byte 0x810bf for key /Im21 [generic.py:590]\n",
      "PdfReadWarning: Multiple definitions in dictionary at byte 0x82211 for key /Im21 [generic.py:590]\n",
      "PdfReadWarning: Multiple definitions in dictionary at byte 0x8221e for key /Im21 [generic.py:590]\n",
      "PdfReadWarning: Multiple definitions in dictionary at byte 0x8222b for key /Im21 [generic.py:590]\n",
      "Extracting report metadata:  28%|████████████████████████▋                                                               | 1430/5107 [00:13<00:28, 128.36it/s]Failed to read metadata of certs/reports/pdf/dc54e899ab191a2a.pdf, error: PDF metadata unavailable\n",
      "Extracting report metadata:  35%|██████████████████████████████▊                                                         | 1786/5107 [00:15<00:22, 146.12it/s]Failed to read metadata of certs/reports/pdf/a62c55533f4e1636.pdf, error: PDF metadata unavailable\n",
      "Failed to read metadata of certs/reports/pdf/d3568613c552f9e8.pdf, error: EOF marker not found\n",
      "Extracting report metadata:  38%|█████████████████████████████████▋                                                      | 1956/5107 [00:16<00:20, 151.10it/s]Failed to read metadata of certs/reports/pdf/ea5ffdcf17f6ecf4.pdf, error: PDF metadata unavailable\n",
      "Extracting report metadata:  45%|████████████████████████████████████████                                                | 2323/5107 [00:18<00:16, 165.54it/s]Failed to read metadata of certs/reports/pdf/1c5deb472a197eb6.pdf, error: PDF metadata unavailable\n",
      "Failed to read metadata of certs/reports/pdf/0f3295c420339dd2.pdf, error: PDF metadata unavailable\n",
      "Extracting report metadata:  50%|████████████████████████████████████████████                                            | 2560/5107 [00:19<00:13, 184.46it/s]Failed to read metadata of certs/reports/pdf/6be07dff9c4ed819.pdf, error: PDF metadata unavailable\n",
      "Extracting report metadata:  55%|████████████████████████████████████████████████▍                                       | 2814/5107 [00:20<00:11, 202.18it/s]Failed to read metadata of certs/reports/pdf/b43100f226a61f53.pdf, error: EOF marker not found\n",
      "Extracting report metadata:  63%|███████████████████████████████████████████████████████▌                                | 3225/5107 [00:22<00:09, 196.09it/s]Failed to read metadata of certs/reports/pdf/be0806db6fd6bbe8.pdf, error: 'NumberObject' object is not subscriptable\n",
      "Failed to read metadata of certs/reports/pdf/35ac4cfd1f62df75.pdf, error: 'NumberObject' object is not subscriptable\n",
      "Failed to read metadata of certs/reports/pdf/aaf48074ea1b4bf4.pdf, error: invalid literal for int() with base 10: b'n'\n",
      "Failed to read metadata of certs/reports/pdf/206662b82595265b.pdf, error: 'NumberObject' object is not subscriptable\n",
      "Failed to read metadata of certs/reports/pdf/989b106f5e63b4d1.pdf, error: invalid literal for int() with base 10: b'n'\n",
      "Failed to read metadata of certs/reports/pdf/0160f6becf137107.pdf, error: 'NumberObject' object is not subscriptable\n",
      "Failed to read metadata of certs/reports/pdf/9558a9eaadae855e.pdf, error: PDF metadata unavailable\n",
      "Extracting report metadata:  74%|████████████████████████████████████████████████████████████████▉                       | 3772/5107 [00:29<00:12, 107.74it/s]Failed to read metadata of certs/reports/pdf/9114f0f9938e558c.pdf, error: PDF metadata unavailable\n",
      "Failed to read metadata of certs/reports/pdf/08b09322ee9df0af.pdf, error: PDF metadata unavailable\n"
     ]
    },
    {
     "name": "stderr",
     "output_type": "stream",
     "text": [
      "Failed to read metadata of certs/reports/pdf/518b3066ebfabcd3.pdf, error: PDF metadata unavailable\n",
      "Extracting report metadata:  87%|████████████████████████████████████████████████████████████████████████████▊           | 4459/5107 [00:32<00:03, 181.19it/s]Failed to read metadata of certs/reports/pdf/d455e5408b744b44.pdf, error: PDF metadata unavailable\n",
      "Extracting report metadata: 100%|████████████████████████████████████████████████████████████████████████████████████████| 5107/5107 [00:38<00:00, 133.02it/s]\n",
      "Extracting target metadata:   1%|▊                                                                                          | 45/5027 [00:01<01:58, 42.14it/s]PdfReadWarning: Multiple definitions in dictionary at byte 0x724b1 for key /Im312 [generic.py:590]\n",
      "PdfReadWarning: Multiple definitions in dictionary at byte 0x724cf for key /Im312 [generic.py:590]\n",
      "PdfReadWarning: Multiple definitions in dictionary at byte 0x724de for key /Im312 [generic.py:590]\n",
      "Failed to read metadata of certs/targets/pdf/d47a03be1cb342b1.pdf, error: PDF metadata unavailable\n",
      "Extracting target metadata:   2%|██▏                                                                                       | 120/5027 [00:02<01:23, 58.92it/s]Failed to read metadata of certs/targets/pdf/5af5a1b535422b51.pdf, error: PDF metadata unavailable\n",
      "Failed to read metadata of certs/targets/pdf/21d6eff0bfe3971f.pdf, error: PDF metadata unavailable\n",
      "Extracting target metadata:   4%|███▊                                                                                      | 212/5027 [00:05<02:24, 33.42it/s]Failed to read metadata of certs/targets/pdf/eee469bd6d07f8db.pdf, error: PDF metadata unavailable\n",
      "Extracting target metadata:   6%|█████▋                                                                                    | 320/5027 [00:10<03:30, 22.32it/s]Failed to read metadata of certs/targets/pdf/c62b878b1ac43df9.pdf, error: PDF metadata unavailable\n",
      "Extracting target metadata:   7%|█████▉                                                                                    | 331/5027 [00:11<04:10, 18.73it/s]Failed to read metadata of certs/targets/pdf/4c017087976d05eb.pdf, error: EOF marker not found\n",
      "Failed to read metadata of certs/targets/pdf/e676143c80802a59.pdf, error: EOF marker not found\n",
      "Failed to read metadata of certs/targets/pdf/e6e8add5e4db2d9d.pdf, error: EOF marker not found\n",
      "Failed to read metadata of certs/targets/pdf/1c9bd4db3d8388f7.pdf, error: EOF marker not found\n",
      "Failed to read metadata of certs/targets/pdf/4bede5d2af4cb11f.pdf, error: PDF metadata unavailable\n",
      "Failed to read metadata of certs/targets/pdf/0dc53ac916660b90.pdf, error: PDF metadata unavailable\n",
      "Extracting target metadata:   9%|████████▎                                                                                 | 461/5027 [00:16<03:27, 21.96it/s]Failed to read metadata of certs/targets/pdf/af6767c887ae930a.pdf, error: PDF metadata unavailable\n",
      "Failed to read metadata of certs/targets/pdf/d2f75cdaeb322e7f.pdf, error: PDF metadata unavailable\n",
      "Failed to read metadata of certs/targets/pdf/c9b0cae8b5784d2d.pdf, error: PDF metadata unavailable\n",
      "Extracting target metadata:  10%|█████████▏                                                                                | 513/5027 [00:18<03:15, 23.09it/s]Failed to read metadata of certs/targets/pdf/42d2e68c29d9eef7.pdf, error: PDF metadata unavailable\n",
      "Extracting target metadata:  12%|██████████▌                                                                               | 593/5027 [00:20<02:23, 30.81it/s]Failed to read metadata of certs/targets/pdf/44f1f74c09e634cb.pdf, error: PDF metadata unavailable\n",
      "Extracting target metadata:  13%|███████████▎                                                                              | 633/5027 [00:21<02:12, 33.13it/s]PdfReadWarning: Multiple definitions in dictionary at byte 0x2ee44 for key /Im59 [generic.py:590]\n",
      "PdfReadWarning: Multiple definitions in dictionary at byte 0x6f7cf for key /Im215 [generic.py:590]\n",
      "Extracting target metadata:  19%|████████████████▉                                                                         | 946/5027 [00:37<03:25, 19.90it/s]Failed to read metadata of certs/targets/pdf/3183166f4cb1c37c.pdf, error: PDF metadata unavailable\n",
      "Extracting target metadata:  20%|█████████████████▊                                                                        | 995/5027 [00:38<02:23, 28.08it/s]Failed to read metadata of certs/targets/pdf/b224a05ad0f1ec6b.pdf, error: PDF metadata unavailable\n",
      "Failed to read metadata of certs/targets/pdf/0cb80431100b4bd4.pdf, error: PDF metadata unavailable\n",
      "Extracting target metadata:  21%|██████████████████▊                                                                      | 1064/5027 [00:39<01:40, 39.60it/s]Failed to read metadata of certs/targets/pdf/14ddeb255e0a1cd2.pdf, error: PDF metadata unavailable\n",
      "Extracting target metadata:  23%|████████████████████▍                                                                    | 1155/5027 [00:40<01:11, 54.04it/s]Failed to read metadata of certs/targets/pdf/0c5a0893bb4f17dc.pdf, error: PDF metadata unavailable\n",
      "Extracting target metadata:  24%|█████████████████████▋                                                                   | 1227/5027 [00:41<01:04, 58.58it/s]Failed to read metadata of certs/targets/pdf/c13a0ff38bf1cf86.pdf, error: PDF metadata unavailable\n",
      "Failed to read metadata of certs/targets/pdf/e84d854109fc9e59.pdf, error: PDF metadata unavailable\n",
      "Failed to read metadata of certs/targets/pdf/e39bcd3ef3ba2f00.pdf, error: PDF metadata unavailable\n",
      "Extracting target metadata:  26%|███████████████████████▏                                                                 | 1308/5027 [00:43<01:16, 48.60it/s]Failed to read metadata of certs/targets/pdf/af478678c6464da0.pdf, error: PDF metadata unavailable\n",
      "Extracting target metadata:  31%|███████████████████████████▌                                                             | 1556/5027 [00:50<01:27, 39.64it/s]PdfReadWarning: Multiple definitions in dictionary at byte 0x21033 for key /Im67 [generic.py:590]\n",
      "PdfReadWarning: Multiple definitions in dictionary at byte 0x21067 for key /Im67 [generic.py:590]\n",
      "Extracting target metadata:  31%|███████████████████████████▉                                                             | 1578/5027 [00:51<01:40, 34.18it/s]PdfReadWarning: Multiple definitions in dictionary at byte 0x21074 for key /Im68 [generic.py:590]\n",
      "PdfReadWarning: Multiple definitions in dictionary at byte 0x21081 for key /Im69 [generic.py:590]\n",
      "PdfReadWarning: Multiple definitions in dictionary at byte 0x2108e for key /Im67 [generic.py:590]\n",
      "PdfReadWarning: Multiple definitions in dictionary at byte 0x210b5 for key /Im67 [generic.py:590]\n",
      "PdfReadWarning: Multiple definitions in dictionary at byte 0x210cf for key /Im67 [generic.py:590]\n",
      "PdfReadWarning: Multiple definitions in dictionary at byte 0x2111d for key /Im91 [generic.py:590]\n",
      "PdfReadWarning: Multiple definitions in dictionary at byte 0x3eb3f for key /Im111 [generic.py:590]\n",
      "PdfReadWarning: Multiple definitions in dictionary at byte 0x3eb4e for key /Im111 [generic.py:590]\n",
      "PdfReadWarning: Multiple definitions in dictionary at byte 0x3ebf3 for key /Im121 [generic.py:590]\n",
      "PdfReadWarning: Multiple definitions in dictionary at byte 0x3ec3e for key /Im133 [generic.py:590]\n",
      "PdfReadWarning: Multiple definitions in dictionary at byte 0x3ec4d for key /Im135 [generic.py:590]\n",
      "PdfReadWarning: Multiple definitions in dictionary at byte 0x3ec5c for key /Im137 [generic.py:590]\n",
      "PdfReadWarning: Multiple definitions in dictionary at byte 0x3ec89 for key /Im135 [generic.py:590]\n",
      "PdfReadWarning: Multiple definitions in dictionary at byte 0x3eca7 for key /Im145 [generic.py:590]\n",
      "PdfReadWarning: Multiple definitions in dictionary at byte 0x3ed10 for key /Im143 [generic.py:590]\n",
      "PdfReadWarning: Multiple definitions in dictionary at byte 0x3ed1f for key /Im149 [generic.py:590]\n",
      "PdfReadWarning: Multiple definitions in dictionary at byte 0x61908 for key /Im173 [generic.py:590]\n",
      "PdfReadWarning: Multiple definitions in dictionary at byte 0x619e9 for key /Im200 [generic.py:590]\n",
      "PdfReadWarning: Multiple definitions in dictionary at byte 0x61a16 for key /Im205 [generic.py:590]\n"
     ]
    },
    {
     "name": "stderr",
     "output_type": "stream",
     "text": [
      "PdfReadWarning: Multiple definitions in dictionary at byte 0x61b7e for key /Im220 [generic.py:590]\n",
      "PdfReadWarning: Multiple definitions in dictionary at byte 0x9146a for key /Im324 [generic.py:590]\n",
      "PdfReadWarning: Multiple definitions in dictionary at byte 0x91479 for key /Im324 [generic.py:590]\n",
      "PdfReadWarning: Multiple definitions in dictionary at byte 0x91488 for key /Im325 [generic.py:590]\n",
      "PdfReadWarning: Multiple definitions in dictionary at byte 0x91497 for key /Im324 [generic.py:590]\n",
      "PdfReadWarning: Multiple definitions in dictionary at byte 0x915e1 for key /Im299 [generic.py:590]\n",
      "PdfReadWarning: Multiple definitions in dictionary at byte 0x9160e for key /Im299 [generic.py:590]\n",
      "PdfReadWarning: Multiple definitions in dictionary at byte 0x9161d for key /Im365 [generic.py:590]\n",
      "PdfReadWarning: Multiple definitions in dictionary at byte 0xad9f8 for key /Im324 [generic.py:590]\n",
      "PdfReadWarning: Multiple definitions in dictionary at byte 0xada07 for key /Im324 [generic.py:590]\n",
      "PdfReadWarning: Multiple definitions in dictionary at byte 0xada25 for key /Im324 [generic.py:590]\n",
      "PdfReadWarning: Multiple definitions in dictionary at byte 0xadb24 for key /Im365 [generic.py:590]\n",
      "PdfReadWarning: Multiple definitions in dictionary at byte 0xadb42 for key /Im299 [generic.py:590]\n",
      "PdfReadWarning: Multiple definitions in dictionary at byte 0xadb51 for key /Im365 [generic.py:590]\n",
      "PdfReadWarning: Multiple definitions in dictionary at byte 0xadb9c for key /Im364 [generic.py:590]\n",
      "Failed to read metadata of certs/targets/pdf/bbcfe0aee7ea78ea.pdf, error: PDF metadata unavailable\n",
      "Failed to read metadata of certs/targets/pdf/f0bd6a29eee94a2c.pdf, error: PDF metadata unavailable\n",
      "Failed to read metadata of certs/targets/pdf/463ecd64b7506048.pdf, error: PDF metadata unavailable\n",
      "Extracting target metadata:  35%|███████████████████████████████▌                                                         | 1784/5027 [00:55<00:59, 54.46it/s]Failed to read metadata of certs/targets/pdf/d3568613c552f9e8.pdf, error: EOF marker not found\n",
      "Extracting target metadata:  42%|█████████████████████████████████████▍                                                   | 2114/5027 [00:59<00:40, 72.39it/s]UserWarning: startxref on same line as offset [pdf.py:1787]\n",
      "Extracting target metadata:  45%|████████████████████████████████████████                                                 | 2263/5027 [01:02<00:48, 56.91it/s]Failed to read metadata of certs/targets/pdf/4d2a177384b23fd6.pdf, error: PDF metadata unavailable\n",
      "Extracting target metadata:  59%|████████████████████████████████████████████████████▏                                    | 2950/5027 [01:25<00:56, 36.82it/s]Failed to read metadata of certs/targets/pdf/a83fe0ea2f391ee8.pdf, error: too many values to unpack (expected 2)\n",
      "Extracting target metadata:  63%|███████████████████████████████████████████████████████▉                                 | 3158/5027 [01:30<00:49, 37.54it/s]Failed to read metadata of certs/targets/pdf/907433fbf9e00ce3.pdf, error: Could not find xref table at specified location\n",
      "Extracting target metadata:  83%|██████████████████████████████████████████████████████████████████████████▏              | 4193/5027 [01:48<00:14, 59.32it/s]UserWarning: startxref on same line as offset [pdf.py:1787]\n",
      "Extracting target metadata:  97%|██████████████████████████████████████████████████████████████████████████████████████▏  | 4871/5027 [01:58<00:02, 73.51it/s]Failed to read metadata of certs/targets/pdf/fc8d2eade14aa446.pdf, error: 'NumberObject' object is not subscriptable\n",
      "Extracting target metadata:  98%|███████████████████████████████████████████████████████████████████████████████████████▌ | 4947/5027 [02:00<00:01, 54.78it/s]Failed to read metadata of certs/targets/pdf/a334142059d865a2.pdf, error: PDF metadata unavailable\n",
      "Extracting target metadata: 100%|████████████████████████████████████████████████████████████████████████████████████████▉| 5026/5027 [02:02<00:00, 44.40it/s]Failed to read metadata of certs/targets/pdf/a552244ec3ca8f60.pdf, error: EOF marker not found\n",
      "Extracting target metadata: 100%|█████████████████████████████████████████████████████████████████████████████████████████| 5027/5027 [02:03<00:00, 40.74it/s]\n",
      "Extracting report frontpages:   8%|███████                                                                                | 412/5107 [00:01<00:12, 390.40it/s]WARNING: multiple rules are matching same certification document: cc_04_10_2022/certs/reports/txt/21a1deda31c3e213.txt\n",
      "WARNING: multiple rules are matching same certification document: cc_04_10_2022/certs/reports/txt/d8aff63d56506605.txt\n",
      "WARNING: multiple rules are matching same certification document: cc_04_10_2022/certs/reports/txt/aca070da96add3b6.txt\n",
      "WARNING: multiple rules are matching same certification document: cc_04_10_2022/certs/reports/txt/4844355021ea22f1.txt\n",
      "WARNING: multiple rules are matching same certification document: cc_04_10_2022/certs/reports/txt/21a1deda31c3e213.txt\n",
      "WARNING: multiple rules are matching same certification document: cc_04_10_2022/certs/reports/txt/d8aff63d56506605.txt\n",
      "WARNING: multiple rules are matching same certification document: cc_04_10_2022/certs/reports/txt/aca070da96add3b6.txt\n",
      "WARNING: multiple rules are matching same certification document: cc_04_10_2022/certs/reports/txt/4844355021ea22f1.txt\n",
      "WARNING: multiple rules are matching same certification document: cc_04_10_2022/certs/reports/txt/977b04d04def60a7.txt\n",
      "WARNING: multiple rules are matching same certification document: cc_04_10_2022/certs/reports/txt/6eeed6fefb1f0243.txt\n",
      "WARNING: multiple rules are matching same certification document: cc_04_10_2022/certs/reports/txt/977b04d04def60a7.txt\n",
      "WARNING: multiple rules are matching same certification document: cc_04_10_2022/certs/reports/txt/6eeed6fefb1f0243.txt\n",
      "WARNING: multiple rules are matching same certification document: cc_04_10_2022/certs/reports/txt/6f8d7a6a1dea6a3a.txt\n",
      "WARNING: multiple rules are matching same certification document: cc_04_10_2022/certs/reports/txt/6f8d7a6a1dea6a3a.txt\n",
      "WARNING: multiple rules are matching same certification document: cc_04_10_2022/certs/reports/txt/62313881916550ca.txt\n",
      "WARNING: multiple rules are matching same certification document: cc_04_10_2022/certs/reports/txt/62313881916550ca.txt\n",
      "WARNING: multiple rules are matching same certification document: cc_04_10_2022/certs/reports/txt/47913a485c3c8a18.txt\n",
      "WARNING: multiple rules are matching same certification document: cc_04_10_2022/certs/reports/txt/47913a485c3c8a18.txt\n",
      "WARNING: multiple rules are matching same certification document: cc_04_10_2022/certs/reports/txt/60f3bd10ee9be85b.txt\n",
      "WARNING: multiple rules are matching same certification document: cc_04_10_2022/certs/reports/txt/b0b7b073ca2dfe5f.txt\n",
      "WARNING: multiple rules are matching same certification document: cc_04_10_2022/certs/reports/txt/5c3806bf79eeab7f.txt\n",
      "WARNING: multiple rules are matching same certification document: cc_04_10_2022/certs/reports/txt/b0b7b073ca2dfe5f.txt\n",
      "WARNING: multiple rules are matching same certification document: cc_04_10_2022/certs/reports/txt/60f3bd10ee9be85b.txt\n",
      "WARNING: multiple rules are matching same certification document: cc_04_10_2022/certs/reports/txt/5c3806bf79eeab7f.txt\n",
      "Extracting report frontpages: 100%|██████████████████████████████████████████████████████████████████████████████████████| 5107/5107 [00:14<00:00, 351.07it/s]\n",
      "Extracting target frontpages: 100%|██████████████████████████████████████████████████████████████████████████████████████| 5027/5027 [00:22<00:00, 228.40it/s]\n",
      "Extracting report keywords: 100%|█████████████████████████████████████████████████████████████████████████████████████████| 5107/5107 [10:53<00:00,  7.81it/s]\n",
      "Extracting target keywords: 100%|█████████████████████████████████████████████████████████████████████████████████████████| 5027/5027 [39:51<00:00,  2.10it/s]\n",
      "Fitting the CPE classifier: 100%|█████████████████████████████████████████████████████████████████████████████████| 888900/888900 [00:01<00:00, 855040.09it/s]\n",
      "Predicting CPE matches with the classifier: 100%|█████████████████████████████████████████████████████████████████████████| 5129/5129 [03:20<00:00, 25.64it/s]\n"
     ]
    },
    {
     "name": "stderr",
     "output_type": "stream",
     "text": [
      "100%|█████████████████████████████████████████████████████████████████████████████████████████████████████████████████████████| 21/21 [00:11<00:00,  1.81it/s]\n",
      "Building CVEDataset from jsons: 100%|█████████████████████████████████████████████████████████████████████████████████████████| 21/21 [01:25<00:00,  4.09s/it]\n",
      "parsing cpe matching (by NIST) dictionary: 100%|███████████████████████████████████████████████████████████████████| 398394/398394 [00:27<00:00, 14339.71it/s]\n",
      "Building-up lookup dictionaries for fast CVE matching: 100%|███████████████████████████████████████████████████████| 196907/196907 [00:12<00:00, 16078.76it/s]\n",
      "Computing related CVES: 100%|████████████████████████████████████████████████████████████████████████████████████████████| 698/698 [00:00<00:00, 82482.23it/s]\n",
      "WARNING:root:There were total of 153 certificates skipped due to duplicity\n"
     ]
    }
   ],
   "source": [
    "# Analyze all\n",
    "dset.analyze_certificates()"
   ]
  },
  {
   "cell_type": "code",
   "execution_count": 13,
   "metadata": {
    "pycharm": {
     "name": "#%%\n"
    }
   },
   "outputs": [
    {
     "name": "stderr",
     "output_type": "stream",
     "text": [
      "Downloading reports: 100%|██████████████████████████████████████████████████████████████████████████████████████████████████| 457/457 [01:12<00:00,  6.33it/s]\n",
      "Downloading targets:  74%|████████████████████████████████████████████████████████████████████████▋                         | 339/457 [01:08<00:24,  4.89it/s]ERROR:sec_certs.sample.certificate:Cert dgst: cert_5ab17f47ec6820f3_update_0cbfc8dd71545605 failed to download ST from https://www.commoncriteriaportal.org/files/epfiles/[ST]%20Samsung%20Multifunction%20MultiXpress%20X4300%20K4350_v1.4(???).pdf, code: nok\n",
      "Downloading targets:  92%|██████████████████████████████████████████████████████████████████████████████████████████▎       | 421/457 [01:24<00:06,  5.25it/s]ERROR:sec_certs.sample.certificate:Cert dgst: cert_d07cacdb732c0b0f_update_9dad882431047687 failed to download ST from https://www.commoncriteriaportal.org/files/epfiles/Senetas%20CN%20series%20STv1.1%20Dec%2014.pdf, code: 408\n",
      "Downloading targets: 100%|██████████████████████████████████████████████████████████████████████████████████████████████████| 457/457 [01:32<00:00,  4.95it/s]\n",
      "Converting reports to txt:   0%|                                                                                                      | 0/457 [00:00<?, ?it/s]WARNING:sec_certs.utils.pdf:Detected garbage during conversion of cc_04_10_2022/certs/maintenances/reports/pdf/cert_6785be05d030779b_update_bec315e0f592c9c3.pdf\n",
      "WARNING:sec_certs.utils.pdf:Detected garbage during conversion of cc_04_10_2022/certs/maintenances/reports/pdf/cert_dbaf9789160ca414_update_05b659f9e1f5e5a6.pdf\n",
      "Converting reports to txt:  18%|█████████████████                                                                            | 84/457 [00:03<00:14, 26.11it/s]WARNING:sec_certs.utils.pdf:Detected garbage during conversion of cc_04_10_2022/certs/maintenances/reports/pdf/cert_b891647233f3f188_update_66d87388520b9048.pdf\n",
      "Converting reports to txt:  91%|███████████████████████████████████████████████████████████████████████████████████▎        | 414/457 [00:11<00:01, 38.81it/s]ERROR:sec_certs.utils.pdf:Error when converting pdf->txt: poppler error creating document\n",
      "WARNING:sec_certs.utils.pdf:Detected garbage during conversion of cc_04_10_2022/certs/maintenances/reports/pdf/cert_8ba5d4d02ea73d3d_update_d879046e9be61396.pdf\n",
      "ERROR:sec_certs.utils.pdf:Error during OCR of cc_04_10_2022/certs/maintenances/reports/pdf/cert_8ba5d4d02ea73d3d_update_d879046e9be61396.pdf, using garbage: pdftoppm failed: 1\n",
      "ERROR:sec_certs.sample.certificate:Cert dgst: cert_8ba5d4d02ea73d3d_update_d879046e9be61396 failed to convert report pdf->txt\n",
      "Converting reports to txt: 100%|████████████████████████████████████████████████████████████████████████████████████████████| 457/457 [00:26<00:00, 17.33it/s]\n",
      "Converting targets to txt:  35%|████████████████████████████████▏                                                           | 159/455 [00:47<00:52,  5.61it/s]WARNING:sec_certs.utils.pdf:Detected garbage during conversion of cc_04_10_2022/certs/maintenances/targets/pdf/cert_09b43147f1307352_update_a1ff8f3d472941f7.pdf\n",
      "Converting targets to txt:  75%|████████████████████████████████████████████████████████████████████▉                       | 341/455 [01:36<00:31,  3.62it/s]WARNING:sec_certs.utils.pdf:Detected garbage during conversion of cc_04_10_2022/certs/maintenances/targets/pdf/cert_bd5c7bb29151de01_update_070f8e523f3deba1.pdf\n",
      "WARNING:sec_certs.utils.pdf:Detected garbage during conversion of cc_04_10_2022/certs/maintenances/targets/pdf/cert_ef9565620c399b7e_update_b169fd5fee2eb72b.pdf\n",
      "Converting targets to txt: 100%|████████████████████████████████████████████████████████████████████████████████████████████| 455/455 [05:48<00:00,  1.31it/s]\n",
      "ERROR:sec_certs.utils.pdf:Error when converting pdf->txt: poppler error creating document\n",
      "Converting reports to txt:   0%|                                                                                                        | 0/1 [00:00<?, ?it/s]WARNING:sec_certs.utils.pdf:Detected garbage during conversion of cc_04_10_2022/certs/maintenances/reports/pdf/cert_8ba5d4d02ea73d3d_update_d879046e9be61396.pdf\n",
      "ERROR:sec_certs.utils.pdf:Error during OCR of cc_04_10_2022/certs/maintenances/reports/pdf/cert_8ba5d4d02ea73d3d_update_d879046e9be61396.pdf, using garbage: pdftoppm failed: 1\n",
      "ERROR:sec_certs.sample.certificate:Cert dgst: cert_8ba5d4d02ea73d3d_update_d879046e9be61396 failed to convert report pdf->txt\n",
      "Converting reports to txt: 100%|████████████████████████████████████████████████████████████████████████████████████████████████| 1/1 [00:01<00:00,  1.00s/it]\n",
      "Extracting report metadata:   0%|                                                                                                     | 0/456 [00:00<?, ?it/s]ERROR:sec_certs.utils.pdf:Failed to read metadata of maintenances/reports/pdf/cert_d455e5408b744b44_update_16f77dbd34439401.pdf, error: PDF metadata unavailable\n",
      "Extracting report metadata: 100%|██████████████████████████████████████████████████████████████████████████████████████████| 456/456 [00:02<00:00, 227.01it/s]\n",
      "Extracting target metadata:  64%|██████████████████████████████████████████████████████████▌                                | 293/455 [00:09<00:05, 32.35it/s]ERROR:sec_certs.utils.pdf:Failed to read metadata of maintenances/targets/pdf/cert_bbc41d7d09e40c0c_update_784535cca61b58a7.pdf, error: too many values to unpack (expected 2)\n",
      "Extracting target metadata: 100%|███████████████████████████████████████████████████████████████████████████████████████████| 455/455 [00:12<00:00, 37.69it/s]\n",
      "Extracting report frontpages: 100%|████████████████████████████████████████████████████████████████████████████████████████| 456/456 [00:01<00:00, 453.46it/s]\n",
      "Extracting target frontpages: 100%|████████████████████████████████████████████████████████████████████████████████████████| 455/455 [00:02<00:00, 226.05it/s]\n",
      "Extracting report keywords: 100%|███████████████████████████████████████████████████████████████████████████████████████████| 456/456 [00:15<00:00, 30.26it/s]\n",
      "Extracting target keywords: 100%|███████████████████████████████████████████████████████████████████████████████████████████| 455/455 [03:55<00:00,  1.94it/s]\n"
     ]
    },
    {
     "data": {
      "text/plain": [
       "<sec_certs.dataset.common_criteria.CCDatasetMaintenanceUpdates at 0x7fa02b720250>"
      ]
     },
     "execution_count": 13,
     "metadata": {},
     "output_type": "execute_result"
    }
   ],
   "source": [
    "# And do maintenance updates as well\n",
    "dset.process_maintenance_updates()"
   ]
  },
  {
   "cell_type": "code",
   "execution_count": 14,
   "metadata": {
    "pycharm": {
     "name": "#%%\n"
    }
   },
   "outputs": [],
   "source": [
    "# Finally, dump it all\n",
    "dset.to_json()"
   ]
  },
  {
   "cell_type": "code",
   "execution_count": null,
   "metadata": {},
   "outputs": [],
   "source": []
  }
 ],
 "metadata": {
  "kernelspec": {
   "display_name": "Python 3 (ipykernel)",
   "language": "python",
   "name": "python3"
  },
  "language_info": {
   "codemirror_mode": {
    "name": "ipython",
    "version": 3
   },
   "file_extension": ".py",
   "mimetype": "text/x-python",
   "name": "python",
   "nbconvert_exporter": "python",
   "pygments_lexer": "ipython3",
   "version": "3.10.7"
  }
 },
 "nbformat": 4,
 "nbformat_minor": 1
}
