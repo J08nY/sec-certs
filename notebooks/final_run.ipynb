{
 "cells": [
  {
   "cell_type": "code",
   "execution_count": 1,
   "metadata": {},
   "outputs": [],
   "source": [
    "from sec_certs.dataset import CCDataset\n",
    "from pathlib import Path\n",
    "import shutil\n",
    "import subprocess"
   ]
  },
  {
   "cell_type": "code",
   "execution_count": 2,
   "metadata": {
    "pycharm": {
     "name": "#%%\n"
    }
   },
   "outputs": [
    {
     "name": "stdout",
     "output_type": "stream",
     "text": [
      "True\n",
      "True\n"
     ]
    }
   ],
   "source": [
    "# A directory with a dump of the documents that will enrich the dataset.\n",
    "doc_dump_dir = Path(\"cc_certs_03_10_2022\")\n",
    "print(doc_dump_dir.exists())\n",
    "\n",
    "# An output directory for the dataset.\n",
    "dataset_dir = Path(\"cc_03_10_2022\")\n",
    "print(dataset_dir.exists())"
   ]
  },
  {
   "cell_type": "code",
   "execution_count": 3,
   "metadata": {
    "pycharm": {
     "name": "#%%\n"
    }
   },
   "outputs": [
    {
     "name": "stdout",
     "output_type": "stream",
     "text": [
      "tesseract 5.2.0\n",
      " leptonica-1.82.0\n",
      "  libgif 5.2.1 : libjpeg 8d (libjpeg-turbo 2.1.3) : libpng 1.6.38 : libtiff 4.4.0 : zlib 1.2.12 : libwebp 1.2.4 : libopenjp2 2.5.0\n",
      " Found AVX2\n",
      " Found AVX\n",
      " Found FMA\n",
      " Found SSE4.1\n",
      " Found OpenMP 201511\n",
      " Found libarchive 3.6.1 zlib/1.2.12 liblzma/5.2.5 bz2lib/1.0.8 liblz4/1.9.3 libzstd/1.5.2\n",
      " Found libcurl/7.85.0 OpenSSL/1.1.1q zlib/1.2.12 brotli/1.0.9 zstd/1.5.2 libidn2/2.3.3 libpsl/0.21.1 (+libidn2/2.3.0) libssh2/1.10.0 nghttp2/1.50.0\n"
     ]
    },
    {
     "name": "stderr",
     "output_type": "stream",
     "text": [
      "pdftotext version 22.09.0\n",
      "Copyright 2005-2022 The Poppler Developers - http://poppler.freedesktop.org\n",
      "Copyright 1996-2011, 2022 Glyph & Cog, LLC\n"
     ]
    }
   ],
   "source": [
    "# Print tool versions\n",
    "subprocess.run([\"pdftotext\", \"-v\"])\n",
    "subprocess.run([\"tesseract\", \"-v\"]);"
   ]
  },
  {
   "cell_type": "code",
   "execution_count": 4,
   "metadata": {
    "pycharm": {
     "name": "#%%\n"
    }
   },
   "outputs": [],
   "source": [
    "# Create the dataset\n",
    "dset = CCDataset(root_dir=dataset_dir, name=\"cc\", description=\"Final run on 03.10.2022\")"
   ]
  },
  {
   "cell_type": "code",
   "execution_count": 5,
   "metadata": {
    "pycharm": {
     "name": "#%%\n"
    }
   },
   "outputs": [
    {
     "name": "stderr",
     "output_type": "stream",
     "text": [
      "100%|███████████████████████████████████████████████████████████████████████████████████████████████████████████████████████████| 2/2 [00:06<00:00,  3.01s/it]\n",
      "100%|███████████████████████████████████████████████████████████████████████████████████████████████████████████████████████████| 2/2 [00:02<00:00,  1.00s/it]\n",
      "The CSV cc_03_10_2022/web/cc_products_active.csv contains 8 duplicates by the primary key.\n",
      "The CSV cc_03_10_2022/web/cc_products_archived.csv contains 10 duplicates by the primary key.\n",
      "When merging certificates with dgst b26ce64e0c677e3d, the following mismatch occured: Attribute=security_level, self[security_level]={'ALC_DVS.1', 'EAL2+'}, other[security_level]={'EAL2'}\n",
      "When merging certificates with dgst 7f043162f88a1c3a, the following mismatch occured: Attribute=not_valid_after, self[not_valid_after]=2024-09-19, other[not_valid_after]=2024-09-18\n",
      "When merging certificates with dgst 109eb2158ca6a2f9, the following mismatch occured: Attribute=security_level, self[security_level]={'ADV_IMP.2', 'EAL4+', 'AVA_VLA.4', 'ATE_DPT.2', 'AVA_MSU.3'}, other[security_level]={'ADV_DVS.2', 'AVA_MSU.3', 'EAL5+', 'AVA_VLA.4'}\n",
      "When merging certificates with dgst c437d26a62a22c39, the following mismatch occured: Attribute=not_valid_after, self[not_valid_after]=2019-11-19, other[not_valid_after]=2018-05-07\n"
     ]
    }
   ],
   "source": [
    "# Get the metadata\n",
    "dset.get_certs_from_web()"
   ]
  },
  {
   "cell_type": "code",
   "execution_count": 6,
   "metadata": {},
   "outputs": [
    {
     "name": "stderr",
     "output_type": "stream",
     "text": [
      "Duplicate entry in PP dataset: ('Protection Profile for Enterprise Security Management Policy Management', 'https://www.commoncriteriaportal.org/files/ppfiles/PP_ESM_PM_V1.4.pdf')\n",
      "Duplicate entry in PP dataset: ('Stateful Traffic Filter Firewall Extended Package for Network Device Protection Profile', 'https://www.commoncriteriaportal.org/files/ppfiles/PP_ND_TFFWEP_V1.0.pdf')\n",
      "Duplicate entry in PP dataset: ('Stateful Traffic Filter Firewall Extended Package for Network Device Protection Profile', 'https://www.commoncriteriaportal.org/files/ppfiles/PP_ND_TFFWEP_V1.0.pdf')\n",
      "Duplicate entry in PP dataset: ('Public Key-Enabled Application Family of Protection Profiles', 'https://www.commoncriteriaportal.org/files/ppfiles/PP_VID3004-PP.pdf')\n",
      "Duplicate entry in PP dataset: ('Protection Profile for Wireless Local Area Network (WLAN) Access Systems', 'https://www.commoncriteriaportal.org/files/ppfiles/PP_WLAN_AS_V1.0.pdf')\n",
      "Duplicate entry in PP dataset: ('PC Client Specific Trusted Platform Module Family 1.2; Level 2, Version 1.1', 'https://www.commoncriteriaportal.org/files/ppfiles/pp0030b.pdf')\n",
      "Duplicate entry in PP dataset: ('Protection Profile for Enterprise Security Management Access Control', 'https://www.commoncriteriaportal.org/files/ppfiles/pp_esm_ac_v2.1.pdf')\n",
      "Duplicate entry in PP dataset: ('U.S. Government Protection Profile Intrusion Detection System - System for Basic Robustness Environments, Version 1.7', 'https://www.commoncriteriaportal.org/files/ppfiles/pp_ids_sys_br_v1.7.pdf')\n",
      "Duplicate entry in PP dataset: ('Network Device Protection Profile Extended Package SIP Server', 'https://www.commoncriteriaportal.org/files/ppfiles/pp_nd_sip_ep_v1.1.pdf')\n",
      "Duplicate entry in PP dataset: ('Network Device Protection Profile Extended Package VPN Gateway', 'https://www.commoncriteriaportal.org/files/ppfiles/pp_nd_vpn_gw_ep_v1.1.pdf')\n",
      "Duplicate entry in PP dataset: ('Extended Package for Secure Shell (SSH), Version 1.0', 'https://www.commoncriteriaportal.org/files/ppfiles/pp_ssh_ep_v1.0.pdf')\n",
      "Duplicate entry in PP dataset: ('Protection Profile for Software Full Disk Encryption', 'https://www.commoncriteriaportal.org/files/ppfiles/pp_swfde_v1.1.pdf')\n",
      "Duplicate entry in PP dataset: ('Smart Card Security User Group - Smart Card Protection Profile, Version 3.0', 'https://www.commoncriteriaportal.org/files/ppfiles/scsugpp.pdf')\n"
     ]
    }
   ],
   "source": [
    "# Process the profiles?\n",
    "dset.process_protection_profiles()"
   ]
  },
  {
   "cell_type": "code",
   "execution_count": 7,
   "metadata": {
    "pycharm": {
     "name": "#%%\n"
    }
   },
   "outputs": [],
   "source": [
    "# Enrich the dataset with the pre-downloaded PDFs (collected over multiple runs to fill in the timeouts and disappearances).\n",
    "dset.reports_pdf_dir.mkdir(parents=True, exist_ok=True)\n",
    "dset.targets_pdf_dir.mkdir(parents=True, exist_ok=True)\n",
    "for cert in dset:\n",
    "    report_pdf = doc_dump_dir / \"report\" / \"pdf\" / f\"{cert.dgst}.pdf\"\n",
    "    if report_pdf.exists():\n",
    "        shutil.copy(report_pdf, cert.state.report_pdf_path)\n",
    "        cert.state.report_download_ok = True\n",
    "    target_pdf = doc_dump_dir / \"target\" / \"pdf\" / f\"{cert.dgst}.pdf\"\n",
    "    if target_pdf.exists():\n",
    "        shutil.copy(target_pdf, cert.state.st_pdf_path)\n",
    "        cert.state.st_download_ok = True"
   ]
  },
  {
   "cell_type": "code",
   "execution_count": 8,
   "metadata": {
    "pycharm": {
     "name": "#%%\n"
    }
   },
   "outputs": [
    {
     "name": "stderr",
     "output_type": "stream",
     "text": [
      "Downloading reports:   0%|                                                                                                             | 0/15 [00:00<?, ?it/s]Cert dgst: e27eb9efbd67c4f7 failed to download report from https://www.commoncriteriaportal.org/files/epfiles/Document%20SAFER%20Blue%202%20Security%20Target%20V1.10_???.pdf, code: nok\n",
      "Cert dgst: 8ac22970bd8042d2 failed to download report from https://www.commoncriteriaportal.org/files/epfiles/st_vid4016b-vr.pdf, code: nok\n",
      "Cert dgst: 82fcce2db9ef6063 failed to download report from https://www.commoncriteriaportal.org/files/epfiles/emCA%20Certification%20Report%20v1.0.pdf, code: nok\n",
      "Cert dgst: d79ecebfe21f2144 failed to download report from https://www.commoncriteriaportal.org/files/epfiles/st_vid10024a-vr.pdf, code: nok\n",
      "Cert dgst: 305af0eec85bb856 failed to download report from https://www.commoncriteriaportal.org/files/epfiles/[KECS-CR-13-28]%20AhnLab%20TrusGuard%20V2.2(??).pdf, code: nok\n",
      "Cert dgst: a90d78924e91dc6c failed to download report from https://www.commoncriteriaportal.org/files/epfiles/ANSSI-CC_2010-03en1.pdf, code: nok\n",
      "Cert dgst: 02482228eb547c15 failed to download report from https://www.commoncriteriaportal.org/files/epfiles/st_vid4016a-vr.pdf, code: nok\n",
      "Downloading reports:  47%|███████████████████████████████████████████████▏                                                     | 7/15 [00:01<00:01,  6.99it/s]Cert dgst: ace7ea6d7f58dbb1 failed to download report from https://www.commoncriteriaportal.org/files/epfiles/0308a_pdf.pdf, code: nok\n",
      "Cert dgst: 391c8b9254ed6ed9 failed to download report from https://www.commoncriteriaportal.org/files/epfiles/silverpeak-v31-cert-eng.pdf, code: nok\n",
      "Cert dgst: 811ca609aebe2e96 failed to download report from https://www.commoncriteriaportal.org/files/epfiles/st_vid10355-vr.pdf, code: nok\n",
      "Cert dgst: d0d0dfe4860db6be failed to download report from https://www.commoncriteriaportal.org/files/epfiles/st_vid1023-vr.pdf, code: nok\n",
      "Cert dgst: 6af4a27251001715 failed to download report from https://www.commoncriteriaportal.org/files/epfiles/st_vid10491-vr, code: nok\n",
      "Cert dgst: 7d074a56ee50aec4 failed to download report from https://www.commoncriteriaportal.org/files/epfiles/st_vid3012a-vr.pdf, code: nok\n",
      "Cert dgst: 1a8ac8fbe5bfcda9 failed to download report from https://www.commoncriteriaportal.org/files/epfiles/SERTIT-017_CR_Thinklogical_VX160_KVM_Matrix_switch_v1.01.pdf, code: nok\n",
      "Downloading reports: 100%|████████████████████████████████████████████████████████████████████████████████████████████████████| 15/15 [00:03<00:00,  4.99it/s]\n",
      "Downloading targets:   0%|                                                                                                             | 0/14 [00:00<?, ?it/s]Cert dgst: e27eb9efbd67c4f7 failed to download ST from https://www.commoncriteriaportal.org/files/epfiles/Document%20SAFER%20Blue%202%20Security%20Target%20V1.10_???.pdf, code: nok\n",
      "Cert dgst: 305af0eec85bb856 failed to download ST from https://www.commoncriteriaportal.org/files/epfiles/CC-TG22-???????_??.pdf, code: nok\n",
      "Cert dgst: a90d78924e91dc6c failed to download ST from https://www.commoncriteriaportal.org/files/epfiles/ANSSI-CC-cible_2010-03en1.pdf, code: nok\n",
      "Cert dgst: 02482228eb547c15 failed to download ST from https://www.commoncriteriaportal.org/files/epfiles/st_vid4016a-st.pdf, code: nok\n",
      "Downloading targets:  29%|████████████████████████████▊                                                                        | 4/14 [00:01<00:02,  3.99it/s]Cert dgst: 811ca609aebe2e96 failed to download ST from https://www.commoncriteriaportal.org/files/epfiles/st_vid10355-st.pdf, code: nok\n",
      "Cert dgst: 391c8b9254ed6ed9 failed to download ST from https://www.commoncriteriaportal.org/files/epfiles/silverpeak-v31-sec-eng.pdf, code: nok\n",
      "Cert dgst: 6af4a27251001715 failed to download ST from https://www.commoncriteriaportal.org/files/epfiles/st_vid10491-st, code: nok\n",
      "Cert dgst: 1a8ac8fbe5bfcda9 failed to download ST from https://www.commoncriteriaportal.org/files/epfiles/ThinklogicalSecurityTarget_3_6_VX1601.pdf, code: nok\n",
      "Downloading targets: 100%|████████████████████████████████████████████████████████████████████████████████████████████████████| 14/14 [00:03<00:00,  4.65it/s]\n"
     ]
    }
   ],
   "source": [
    "# Try to download last missing (or ones not present in the pre-downloaded)\n",
    "dset.download_all_pdfs(fresh=False)"
   ]
  },
  {
   "cell_type": "code",
   "execution_count": 9,
   "metadata": {
    "pycharm": {
     "name": "#%%\n"
    },
    "scrolled": true
   },
   "outputs": [
    {
     "name": "stderr",
     "output_type": "stream",
     "text": [
      "Converting reports to txt:   2%|█▋                                                                                          | 95/5112 [00:07<06:21, 13.17it/s]Error when converting pdf->txt: poppler error creating document\n",
      "Converting reports to txt:   2%|██                                                                                         | 115/5112 [00:08<06:00, 13.86it/s]Detected garbage during conversion of cc_03_10_2022/certs/reports/pdf/bfc86f14e2484335.pdf\n",
      "Error during OCR of cc_03_10_2022/certs/reports/pdf/bfc86f14e2484335.pdf, using garbage: pdftoppm failed: 1\n",
      "Cert dgst: bfc86f14e2484335 failed to convert report pdf->txt\n",
      "Converting reports to txt:   4%|███▏                                                                                       | 181/5112 [00:11<04:31, 18.14it/s]Detected garbage during conversion of cc_03_10_2022/certs/reports/pdf/1ee7ecee9e7e131c.pdf\n",
      "Converting reports to txt:   4%|███▍                                                                                       | 194/5112 [00:12<05:14, 15.65it/s]Detected garbage during conversion of cc_03_10_2022/certs/reports/pdf/d8c205b4924f91b3.pdf\n",
      "Detected garbage during conversion of cc_03_10_2022/certs/reports/pdf/20874d4fa6e4c878.pdf\n",
      "Detected garbage during conversion of cc_03_10_2022/certs/reports/pdf/f8a79eb20ade29af.pdf\n",
      "Detected garbage during conversion of cc_03_10_2022/certs/reports/pdf/3477723044183b31.pdf\n",
      "Detected garbage during conversion of cc_03_10_2022/certs/reports/pdf/82c24f729c2e0092.pdf\n",
      "Detected garbage during conversion of cc_03_10_2022/certs/reports/pdf/b3757b6bb5f884d4.pdf\n",
      "Detected garbage during conversion of cc_03_10_2022/certs/reports/pdf/0f9468a2e263d3a3.pdf\n",
      "Converting reports to txt:   4%|███▋                                                                                       | 206/5112 [00:27<05:55, 13.79it/s]Detected garbage during conversion of cc_03_10_2022/certs/reports/pdf/66bbd8fb83f0abbb.pdf\n",
      "Converting reports to txt:   4%|███▌                                                                                     | 207/5112 [00:48<1:18:01,  1.05it/s]Detected garbage during conversion of cc_03_10_2022/certs/reports/pdf/e1daa354ae5a61fd.pdf\n",
      "Converting reports to txt:   4%|███▌                                                                                    | 208/5112 [04:37<12:22:36,  9.09s/it]Detected garbage during conversion of cc_03_10_2022/certs/reports/pdf/7a0e44767b51f0c4.pdf\n",
      "Converting reports to txt:   4%|███▌                                                                                    | 210/5112 [04:50<11:56:08,  8.77s/it]Detected garbage during conversion of cc_03_10_2022/certs/reports/pdf/051066781c36ad55.pdf\n",
      "Converting reports to txt:   4%|███▋                                                                                    | 211/5112 [05:08<12:55:52,  9.50s/it]Detected garbage during conversion of cc_03_10_2022/certs/reports/pdf/03bce905b71945aa.pdf\n",
      "Converting reports to txt:   4%|███▋                                                                                    | 212/5112 [05:09<11:42:39,  8.60s/it]Detected garbage during conversion of cc_03_10_2022/certs/reports/pdf/0286c223fc4e626a.pdf\n",
      "Detected garbage during conversion of cc_03_10_2022/certs/reports/pdf/559e4549a852aab2.pdf\n",
      "Converting reports to txt:   4%|███▊                                                                                     | 216/5112 [05:19<7:48:52,  5.75s/it]Detected garbage during conversion of cc_03_10_2022/certs/reports/pdf/c5e25f90c7006546.pdf\n",
      "Converting reports to txt:   4%|███▊                                                                                    | 218/5112 [06:39<24:17:02, 17.86s/it]Detected garbage during conversion of cc_03_10_2022/certs/reports/pdf/744a7a202d909323.pdf\n",
      "Detected garbage during conversion of cc_03_10_2022/certs/reports/pdf/449c74a92ebb61a4.pdf\n",
      "Converting reports to txt:   4%|███▋                                                                                  | 220/5112 [41:28<455:51:29, 335.46s/it]Detected garbage during conversion of cc_03_10_2022/certs/reports/pdf/c80801f9a71b030e.pdf\n",
      "Converting reports to txt:   6%|█████▊                                                                                   | 332/5112 [41:37<2:39:36,  2.00s/it]Detected garbage during conversion of cc_03_10_2022/certs/reports/pdf/852cad2f53bda148.pdf\n",
      "Converting reports to txt:   7%|██████                                                                                   | 347/5112 [41:38<1:49:37,  1.38s/it]Detected garbage during conversion of cc_03_10_2022/certs/reports/pdf/b0deb8e9d0026b64.pdf\n",
      "Converting reports to txt:   7%|██████                                                                                   | 348/5112 [41:53<2:21:55,  1.79s/it]Detected garbage during conversion of cc_03_10_2022/certs/reports/pdf/56be1d745bbb4994.pdf\n",
      "Converting reports to txt:   9%|███████▊                                                                                   | 438/5112 [42:04<14:48,  5.26it/s]Detected garbage during conversion of cc_03_10_2022/certs/reports/pdf/af6767c887ae930a.pdf\n",
      "Converting reports to txt:   9%|████████                                                                                   | 453/5112 [42:22<11:43,  6.62it/s]Detected garbage during conversion of cc_03_10_2022/certs/reports/pdf/d2f75cdaeb322e7f.pdf\n",
      "Converting reports to txt:   9%|███████▉                                                                                 | 454/5112 [42:34<1:17:44,  1.00s/it]Detected garbage during conversion of cc_03_10_2022/certs/reports/pdf/d7300e1bfafed26e.pdf\n",
      "Converting reports to txt:   9%|███████▉                                                                                 | 457/5112 [44:00<5:15:52,  4.07s/it]Detected garbage during conversion of cc_03_10_2022/certs/reports/pdf/7015af58766db091.pdf\n",
      "Converting reports to txt:   9%|███████▉                                                                                | 463/5112 [45:54<10:28:38,  8.11s/it]Detected garbage during conversion of cc_03_10_2022/certs/reports/pdf/85328590c0d7273f.pdf\n",
      "Converting reports to txt:   9%|████████▏                                                                                | 472/5112 [45:59<5:49:23,  4.52s/it]Detected garbage during conversion of cc_03_10_2022/certs/reports/pdf/e56e14e8cbf89e3c.pdf\n",
      "Converting reports to txt:   9%|████████▎                                                                                | 474/5112 [46:03<5:22:17,  4.17s/it]Detected garbage during conversion of cc_03_10_2022/certs/reports/pdf/4844355021ea22f1.pdf\n",
      "Detected garbage during conversion of cc_03_10_2022/certs/reports/pdf/21a1deda31c3e213.pdf\n",
      "Converting reports to txt:   9%|████████▎                                                                                | 475/5112 [46:09<5:35:16,  4.34s/it]Detected garbage during conversion of cc_03_10_2022/certs/reports/pdf/d8aff63d56506605.pdf\n",
      "Converting reports to txt:   9%|████████▏                                                                               | 476/5112 [46:47<10:25:46,  8.10s/it]Detected garbage during conversion of cc_03_10_2022/certs/reports/pdf/aca070da96add3b6.pdf\n",
      "Converting reports to txt:   9%|████████▍                                                                                | 485/5112 [47:21<6:41:42,  5.21s/it]Detected garbage during conversion of cc_03_10_2022/certs/reports/pdf/c8982f2e8de39b22.pdf\n",
      "Converting reports to txt:  10%|████████▍                                                                                | 487/5112 [47:22<5:36:04,  4.36s/it]Detected garbage during conversion of cc_03_10_2022/certs/reports/pdf/977b04d04def60a7.pdf\n",
      "Converting reports to txt:  10%|████████▌                                                                                | 492/5112 [47:56<6:50:08,  5.33s/it]Detected garbage during conversion of cc_03_10_2022/certs/reports/pdf/6eeed6fefb1f0243.pdf\n",
      "Detected garbage during conversion of cc_03_10_2022/certs/reports/pdf/62313881916550ca.pdf\n",
      "Detected garbage during conversion of cc_03_10_2022/certs/reports/pdf/6f8d7a6a1dea6a3a.pdf\n",
      "Converting reports to txt:  10%|████████▌                                                                               | 495/5112 [49:13<13:25:37, 10.47s/it]Detected garbage during conversion of cc_03_10_2022/certs/reports/pdf/e6cffd14e732a030.pdf\n",
      "Converting reports to txt:  10%|████████▌                                                                               | 499/5112 [50:08<15:02:09, 11.73s/it]Detected garbage during conversion of cc_03_10_2022/certs/reports/pdf/47913a485c3c8a18.pdf\n",
      "Converting reports to txt:  10%|████████▌                                                                               | 501/5112 [50:09<11:42:57,  9.15s/it]Detected garbage during conversion of cc_03_10_2022/certs/reports/pdf/b0b7b073ca2dfe5f.pdf\n",
      "Converting reports to txt:  10%|████████▋                                                                               | 502/5112 [50:14<10:47:14,  8.42s/it]Detected garbage during conversion of cc_03_10_2022/certs/reports/pdf/60f3bd10ee9be85b.pdf\n",
      "Converting reports to txt:  10%|████████▋                                                                               | 503/5112 [50:54<17:36:40, 13.76s/it]Detected garbage during conversion of cc_03_10_2022/certs/reports/pdf/5c3806bf79eeab7f.pdf\n",
      "Converting reports to txt:  10%|████████▊                                                                               | 511/5112 [52:08<13:44:26, 10.75s/it]Detected garbage during conversion of cc_03_10_2022/certs/reports/pdf/4c9468f20fdb04f7.pdf\n",
      "Converting reports to txt:  10%|████████▉                                                                                | 516/5112 [52:09<8:18:32,  6.51s/it]Detected garbage during conversion of cc_03_10_2022/certs/reports/pdf/9ee9f3c598318ae5.pdf\n",
      "Converting reports to txt:  11%|█████████▍                                                                               | 543/5112 [52:29<1:56:00,  1.52s/it]Detected garbage during conversion of cc_03_10_2022/certs/reports/pdf/afde7a688dcc5c83.pdf\n",
      "Converting reports to txt:  17%|███████████████▏                                                                           | 850/5112 [53:26<07:47,  9.11it/s]Error when converting pdf->txt: poppler error creating document\n",
      "Error when converting pdf->txt: poppler error creating document\n",
      "Detected garbage during conversion of cc_03_10_2022/certs/reports/pdf/98668cafb8dda26f.pdf\n",
      "Detected garbage during conversion of cc_03_10_2022/certs/reports/pdf/4de4a9f436958574.pdf\n",
      "Error when converting pdf->txt: poppler error creating document\n",
      "Detected garbage during conversion of cc_03_10_2022/certs/reports/pdf/02958808b57334f0.pdf\n",
      "Error during OCR of cc_03_10_2022/certs/reports/pdf/98668cafb8dda26f.pdf, using garbage: pdftoppm failed: 1\n",
      "Cert dgst: 98668cafb8dda26f failed to convert report pdf->txt\n",
      "Error during OCR of cc_03_10_2022/certs/reports/pdf/4de4a9f436958574.pdf, using garbage: pdftoppm failed: 1\n",
      "Error during OCR of cc_03_10_2022/certs/reports/pdf/02958808b57334f0.pdf, using garbage: pdftoppm failed: 1\n",
      "Cert dgst: 02958808b57334f0 failed to convert report pdf->txt\n",
      "Cert dgst: 4de4a9f436958574 failed to convert report pdf->txt\n",
      "Converting reports to txt:  22%|████████████████████                                                                      | 1139/5112 [53:48<04:11, 15.78it/s]Detected garbage during conversion of cc_03_10_2022/certs/reports/pdf/9903c89cbb35eec1.pdf\n",
      "Converting reports to txt:  24%|█████████████████████▋                                                                    | 1234/5112 [53:55<04:44, 13.62it/s]Detected garbage during conversion of cc_03_10_2022/certs/reports/pdf/1faf7bf1f74a1851.pdf\n",
      "Converting reports to txt:  28%|████████████████████████▊                                                                 | 1409/5112 [54:08<04:12, 14.66it/s]Error when converting pdf->txt: poppler error creating document\n",
      "Converting reports to txt:  28%|█████████████████████████                                                                 | 1427/5112 [54:09<04:11, 14.66it/s]Detected garbage during conversion of cc_03_10_2022/certs/reports/pdf/422dc5758723c7d1.pdf\n",
      "Error during OCR of cc_03_10_2022/certs/reports/pdf/422dc5758723c7d1.pdf, using garbage: pdftoppm failed: 1\n",
      "Cert dgst: 422dc5758723c7d1 failed to convert report pdf->txt\n",
      "Converting reports to txt:  32%|████████████████████████████▍                                                             | 1615/5112 [54:22<03:35, 16.21it/s]Detected garbage during conversion of cc_03_10_2022/certs/reports/pdf/b93dfa0a8ec3609c.pdf\n",
      "Detected garbage during conversion of cc_03_10_2022/certs/reports/pdf/6ed5861434d5fed9.pdf\n",
      "Detected garbage during conversion of cc_03_10_2022/certs/reports/pdf/209e2d18e1fa0cca.pdf\n",
      "Detected garbage during conversion of cc_03_10_2022/certs/reports/pdf/3df01446a2b92093.pdf\n",
      "Converting reports to txt:  35%|███████████████████████████████▏                                                          | 1770/5112 [54:38<06:44,  8.26it/s]Detected garbage during conversion of cc_03_10_2022/certs/reports/pdf/3e5591d086a54905.pdf\n",
      "Converting reports to txt:  36%|████████████████████████████████▌                                                         | 1852/5112 [54:44<04:35, 11.85it/s]Detected garbage during conversion of cc_03_10_2022/certs/reports/pdf/d3568613c552f9e8.pdf\n",
      "Error during OCR of cc_03_10_2022/certs/reports/pdf/d3568613c552f9e8.pdf, using garbage: pdftoppm failed: 99\n",
      "Converting reports to txt:  38%|██████████████████████████████████▏                                                       | 1941/5112 [54:53<04:42, 11.24it/s]Detected garbage during conversion of cc_03_10_2022/certs/reports/pdf/822e5f25e7c4631e.pdf\n",
      "Converting reports to txt:  38%|██████████████████████████████████▌                                                       | 1965/5112 [55:00<11:07,  4.71it/s]Error when converting pdf->txt: poppler error creating document\n",
      "Detected garbage during conversion of cc_03_10_2022/certs/reports/pdf/2d05e976e1adf696.pdf\n",
      "Error during OCR of cc_03_10_2022/certs/reports/pdf/2d05e976e1adf696.pdf, using garbage: pdftoppm failed: 1\n",
      "Cert dgst: 2d05e976e1adf696 failed to convert report pdf->txt\n",
      "Converting reports to txt:  41%|█████████████████████████████████████▏                                                    | 2112/5112 [55:09<03:26, 14.54it/s]Detected garbage during conversion of cc_03_10_2022/certs/reports/pdf/69d373903e9635ef.pdf\n",
      "Converting reports to txt:  42%|█████████████████████████████████████▊                                                    | 2146/5112 [55:13<04:25, 11.18it/s]Detected garbage during conversion of cc_03_10_2022/certs/reports/pdf/ae1b80e9cccec491.pdf\n",
      "Converting reports to txt:  43%|██████████████████████████████████████▎                                                   | 2178/5112 [55:25<11:34,  4.22it/s]Detected garbage during conversion of cc_03_10_2022/certs/reports/pdf/21d5f1b05e1ba491.pdf\n",
      "Converting reports to txt:  47%|█████████████████████████████████████████▉                                                | 2383/5112 [55:53<03:52, 11.72it/s]Detected garbage during conversion of cc_03_10_2022/certs/reports/pdf/3f8cee6d5bee5397.pdf\n",
      "Converting reports to txt:  56%|██████████████████████████████████████████████████▋                                       | 2879/5112 [56:42<04:16,  8.72it/s]Detected garbage during conversion of cc_03_10_2022/certs/reports/pdf/7e32023021d5aad2.pdf\n",
      "Converting reports to txt:  59%|████████████████████████████████████████████████████▉                                     | 3010/5112 [56:58<03:20, 10.50it/s]Detected garbage during conversion of cc_03_10_2022/certs/reports/pdf/b43100f226a61f53.pdf\n",
      "Error during OCR of cc_03_10_2022/certs/reports/pdf/b43100f226a61f53.pdf, using garbage: pdftoppm failed: 99\n",
      "Converting reports to txt:  75%|███████████████████████████████████████████████████████████████████▌                      | 3836/5112 [58:04<01:24, 15.13it/s]Detected garbage during conversion of cc_03_10_2022/certs/reports/pdf/6db03eff148934a4.pdf\n",
      "Error when converting pdf->txt: poppler error creating document\n",
      "Detected garbage during conversion of cc_03_10_2022/certs/reports/pdf/f9c8da9deff77ab5.pdf\n",
      "Detected garbage during conversion of cc_03_10_2022/certs/reports/pdf/03cc150ce40cf816.pdf\n"
     ]
    },
    {
     "name": "stderr",
     "output_type": "stream",
     "text": [
      "Error during OCR of cc_03_10_2022/certs/reports/pdf/f9c8da9deff77ab5.pdf, using garbage: pdftoppm failed: 1\n",
      "Cert dgst: f9c8da9deff77ab5 failed to convert report pdf->txt\n",
      "Converting reports to txt:  76%|████████████████████████████████████████████████████████████████████▌                     | 3896/5112 [58:08<01:13, 16.65it/s]Detected garbage during conversion of cc_03_10_2022/certs/reports/pdf/3570791ff9c92912.pdf\n",
      "Converting reports to txt:  77%|█████████████████████████████████████████████████████████████████████▍                    | 3947/5112 [58:11<01:21, 14.22it/s]Detected garbage during conversion of cc_03_10_2022/certs/reports/pdf/ed886279d0d61096.pdf\n",
      "Converting reports to txt:  86%|█████████████████████████████████████████████████████████████████████████████▍            | 4399/5112 [58:56<00:59, 11.91it/s]Detected garbage during conversion of cc_03_10_2022/certs/reports/pdf/c763b37bb95517e9.pdf\n",
      "Converting reports to txt:  86%|█████████████████████████████████████████████████████████████████████████████▋            | 4416/5112 [58:57<00:54, 12.77it/s]Detected garbage during conversion of cc_03_10_2022/certs/reports/pdf/40640508ac3a37f2.pdf\n",
      "Converting reports to txt:  87%|██████████████████████████████████████████████████████████████████████████████            | 4433/5112 [58:59<00:50, 13.40it/s]Error when converting pdf->txt: poppler error creating document\n",
      "Detected garbage during conversion of cc_03_10_2022/certs/reports/pdf/7147c2f70d983d57.pdf\n",
      "Error during OCR of cc_03_10_2022/certs/reports/pdf/7147c2f70d983d57.pdf, using garbage: pdftoppm failed: 1\n",
      "Cert dgst: 7147c2f70d983d57 failed to convert report pdf->txt\n",
      "Converting reports to txt:  95%|█████████████████████████████████████████████████████████████████████████████████████▎    | 4843/5112 [59:31<00:22, 12.22it/s]Detected garbage during conversion of cc_03_10_2022/certs/reports/pdf/3ad7749ef678ce95.pdf\n",
      "Converting reports to txt:  96%|██████████████████████████████████████████████████████████████████████████████████████    | 4888/5112 [59:34<00:14, 15.80it/s]Detected garbage during conversion of cc_03_10_2022/certs/reports/pdf/1683817e5db17d9c.pdf\n",
      "Detected garbage during conversion of cc_03_10_2022/certs/reports/pdf/b762fcb2983aa148.pdf\n",
      "Converting reports to txt:  96%|██████████████████████████████████████████████████████████████████████████████████████▍   | 4911/5112 [59:36<00:15, 12.93it/s]Detected garbage during conversion of cc_03_10_2022/certs/reports/pdf/cc681ca95621a6db.pdf\n",
      "Converting reports to txt:  96%|██████████████████████████████████████████████████████████████████████████████████████▋   | 4924/5112 [59:37<00:14, 12.83it/s]Detected garbage during conversion of cc_03_10_2022/certs/reports/pdf/889693d2b11bdfaf.pdf\n",
      "Converting reports to txt:  97%|██████████████████████████████████████████████████████████████████████████████████████▉   | 4941/5112 [59:38<00:13, 12.37it/s]Detected garbage during conversion of cc_03_10_2022/certs/reports/pdf/876cb2fe02017f3f.pdf\n",
      "Converting reports to txt: 100%|██████████████████████████████████████████████████████████████████████████████████████████| 5112/5112 [59:57<00:00,  1.42it/s]\n",
      "Converting targets to txt:   2%|██                                                                                         | 116/5034 [00:26<18:20,  4.47it/s]Error when converting pdf->txt: poppler error creating document\n",
      "Detected garbage during conversion of cc_03_10_2022/certs/targets/pdf/bfc86f14e2484335.pdf\n",
      "Error during OCR of cc_03_10_2022/certs/targets/pdf/bfc86f14e2484335.pdf, using garbage: pdftoppm failed: 1\n",
      "Cert dgst: bfc86f14e2484335 failed to convert security target pdf->txt\n",
      "Converting targets to txt:  10%|█████████▎                                                                                 | 518/5034 [02:36<21:29,  3.50it/s]Error when converting pdf->txt: poppler error creating document\n",
      "Detected garbage during conversion of cc_03_10_2022/certs/targets/pdf/4c9468f20fdb04f7.pdf\n",
      "Converting targets to txt:  10%|█████████▍                                                                                 | 525/5034 [02:41<32:08,  2.34it/s]Error during OCR of cc_03_10_2022/certs/targets/pdf/4c9468f20fdb04f7.pdf, using garbage: pdftoppm failed: 1\n",
      "Cert dgst: 4c9468f20fdb04f7 failed to convert security target pdf->txt\n",
      "Converting targets to txt:  21%|███████████████████                                                                       | 1066/5034 [05:00<10:51,  6.09it/s]Error when converting pdf->txt: poppler error creating document\n",
      "Converting targets to txt:  21%|███████████████████▏                                                                      | 1074/5034 [05:01<10:50,  6.08it/s]Detected garbage during conversion of cc_03_10_2022/certs/targets/pdf/a2b962c7f1d2bc56.pdf\n",
      "Converting targets to txt:  21%|███████████████████▎                                                                      | 1081/5034 [05:02<10:34,  6.23it/s]Error during OCR of cc_03_10_2022/certs/targets/pdf/a2b962c7f1d2bc56.pdf, using garbage: pdftoppm failed: 1\n",
      "Cert dgst: a2b962c7f1d2bc56 failed to convert security target pdf->txt\n",
      "Converting targets to txt:  28%|█████████████████████████▎                                                                | 1414/5034 [06:30<13:27,  4.48it/s]Error when converting pdf->txt: poppler error creating document\n",
      "Converting targets to txt:  28%|█████████████████████████▍                                                                | 1422/5034 [06:33<17:06,  3.52it/s]Detected garbage during conversion of cc_03_10_2022/certs/targets/pdf/422dc5758723c7d1.pdf\n",
      "Converting targets to txt:  28%|█████████████████████████▌                                                                | 1429/5034 [06:35<15:29,  3.88it/s]Error during OCR of cc_03_10_2022/certs/targets/pdf/422dc5758723c7d1.pdf, using garbage: pdftoppm failed: 1\n",
      "Cert dgst: 422dc5758723c7d1 failed to convert security target pdf->txt\n",
      "Converting targets to txt:  31%|████████████████████████████▎                                                             | 1583/5034 [07:15<16:44,  3.44it/s]Detected garbage during conversion of cc_03_10_2022/certs/targets/pdf/063d3805a3b12930.pdf\n",
      "Converting targets to txt:  33%|█████████████████████████████▌                                                            | 1653/5034 [07:31<11:11,  5.03it/s]Detected garbage during conversion of cc_03_10_2022/certs/targets/pdf/2f4a41e8a5dfac6a.pdf\n",
      "Converting targets to txt:  33%|██████████████████████████████                                                            | 1684/5034 [07:36<10:06,  5.52it/s]Detected garbage during conversion of cc_03_10_2022/certs/targets/pdf/504258938266b87f.pdf\n",
      "Converting targets to txt:  36%|███████████████████████████████▉                                                          | 1789/5034 [08:01<11:47,  4.59it/s]Detected garbage during conversion of cc_03_10_2022/certs/targets/pdf/de85ff4c31069f12.pdf\n",
      "Converting targets to txt:  37%|█████████████████████████████████                                                         | 1851/5034 [08:16<12:16,  4.32it/s]Detected garbage during conversion of cc_03_10_2022/certs/targets/pdf/d3568613c552f9e8.pdf\n",
      "Converting targets to txt:  37%|█████████████████████████████████▏                                                        | 1855/5034 [08:17<12:45,  4.15it/s]Error during OCR of cc_03_10_2022/certs/targets/pdf/d3568613c552f9e8.pdf, using garbage: pdftoppm failed: 99\n",
      "Converting targets to txt:  40%|████████████████████████████████████                                                      | 2018/5034 [08:56<13:00,  3.86it/s]Detected garbage during conversion of cc_03_10_2022/certs/targets/pdf/b4bc79d8a558c7cf.pdf\n",
      "Detected garbage during conversion of cc_03_10_2022/certs/targets/pdf/09b43147f1307352.pdf\n",
      "Detected garbage during conversion of cc_03_10_2022/certs/targets/pdf/ce987167d42db722.pdf\n",
      "Converting targets to txt:  40%|████████████████████████████████████▏                                                     | 2022/5034 [08:58<13:34,  3.70it/s]Detected garbage during conversion of cc_03_10_2022/certs/targets/pdf/c16a92b40550193d.pdf\n",
      "Converting targets to txt:  40%|███████████████████████████████████▌                                                    | 2034/5034 [10:13<2:34:56,  3.10s/it]Detected garbage during conversion of cc_03_10_2022/certs/targets/pdf/2ff761edd4ed9b72.pdf\n",
      "Converting targets to txt:  41%|███████████████████████████████████▉                                                    | 2054/5034 [12:03<2:20:59,  2.84s/it]Detected garbage during conversion of cc_03_10_2022/certs/targets/pdf/9e4d3347efd95ec9.pdf\n",
      "Converting targets to txt:  43%|███████████████████████████████████████                                                   | 2185/5034 [12:42<13:25,  3.54it/s]Detected garbage during conversion of cc_03_10_2022/certs/targets/pdf/ad9ea5a4acf9ac53.pdf\n",
      "Converting targets to txt:  44%|██████████████████████████████████████▎                                                 | 2194/5034 [14:51<4:20:08,  5.50s/it]Detected garbage during conversion of cc_03_10_2022/certs/targets/pdf/28922ef97b2dfaa0.pdf\n",
      "Converting targets to txt:  44%|█████████████████████████████████████▉                                                 | 2196/5034 [17:07<17:33:53, 22.28s/it]Detected garbage during conversion of cc_03_10_2022/certs/targets/pdf/5c715225c805354f.pdf\n",
      "Converting targets to txt:  68%|█████████████████████████████████████████████████████████████▌                            | 3446/5034 [23:37<06:33,  4.04it/s]Detected garbage during conversion of cc_03_10_2022/certs/targets/pdf/731102b849e8d104.pdf\n",
      "Detected garbage during conversion of cc_03_10_2022/certs/targets/pdf/f65cab49ea5422dd.pdf\n",
      "Detected garbage during conversion of cc_03_10_2022/certs/targets/pdf/863d91c6a2b8e77a.pdf\n",
      "Converting targets to txt:  77%|█████████████████████████████████████████████████████████████████████                     | 3862/5034 [25:32<04:09,  4.69it/s]Detected garbage during conversion of cc_03_10_2022/certs/targets/pdf/18e5179ba124af1d.pdf\n",
      "Detected garbage during conversion of cc_03_10_2022/certs/targets/pdf/bc31fd0273ab72f8.pdf\n",
      "Converting targets to txt:  79%|██████████████████████████████████████████████████████████████████████▉                   | 3971/5034 [26:03<05:13,  3.39it/s]Detected garbage during conversion of cc_03_10_2022/certs/targets/pdf/5dfeb0219325989b.pdf\n",
      "Converting targets to txt:  79%|███████████████████████████████████████████████████████████████████████                   | 3975/5034 [26:05<05:21,  3.29it/s]Detected garbage during conversion of cc_03_10_2022/certs/targets/pdf/22617e916bad6f53.pdf\n",
      "Converting targets to txt:  79%|███████████████████████████████████████████████████████████████████████                   | 3978/5034 [26:06<05:33,  3.17it/s]Detected garbage during conversion of cc_03_10_2022/certs/targets/pdf/6344672e3178f63e.pdf\n",
      "Converting targets to txt:  80%|███████████████████████████████████████████████████████████████████████▊                  | 4014/5034 [32:17<44:48,  2.64s/it]Detected garbage during conversion of cc_03_10_2022/certs/targets/pdf/483dc36fcf11b257.pdf\n",
      "Converting targets to txt:  80%|██████████████████████████████████████████████████████████████████████▎                 | 4024/5034 [33:13<1:15:50,  4.51s/it]Detected garbage during conversion of cc_03_10_2022/certs/targets/pdf/5885f28f042038c1.pdf\n",
      "Converting targets to txt:  80%|████████████████████████████████████████████████████████████████████████▎                 | 4048/5034 [33:36<16:35,  1.01s/it]Detected garbage during conversion of cc_03_10_2022/certs/targets/pdf/7b08ad74a882337c.pdf\n",
      "Converting targets to txt:  87%|██████████████████████████████████████████████████████████████████████████████▎           | 4380/5034 [36:12<02:11,  4.97it/s]Error when converting pdf->txt: poppler error creating document\n",
      "Detected garbage during conversion of cc_03_10_2022/certs/targets/pdf/7147c2f70d983d57.pdf\n",
      "Error during OCR of cc_03_10_2022/certs/targets/pdf/7147c2f70d983d57.pdf, using garbage: pdftoppm failed: 1\n",
      "Cert dgst: 7147c2f70d983d57 failed to convert security target pdf->txt\n",
      "Converting targets to txt:  90%|████████████████████████████████████████████████████████████████████████████████▉         | 4525/5034 [36:56<02:32,  3.33it/s]Detected garbage during conversion of cc_03_10_2022/certs/targets/pdf/931e1b2a68a1bcd2.pdf\n",
      "Converting targets to txt:  92%|██████████████████████████████████████████████████████████████████████████████████▌       | 4615/5034 [37:15<01:37,  4.31it/s]Detected garbage during conversion of cc_03_10_2022/certs/targets/pdf/16229c97ce083e8c.pdf\n",
      "Converting targets to txt:  99%|████████████████████████████████████████████████████████████████████████████████████████▉ | 4977/5034 [38:46<00:13,  4.22it/s]Error when converting pdf->txt: poppler error creating page\n",
      "Detected garbage during conversion of cc_03_10_2022/certs/targets/pdf/a552244ec3ca8f60.pdf\n",
      "Converting targets to txt: 100%|██████████████████████████████████████████████████████████████████████████████████████████| 5034/5034 [40:44<00:00,  2.06it/s]\n",
      "Converting reports to txt:   0%|                                                                                                        | 0/8 [00:00<?, ?it/s]Error when converting pdf->txt: poppler error creating document\n",
      "Error when converting pdf->txt: poppler error creating document\n",
      "Error when converting pdf->txt: poppler error creating document\n",
      "Detected garbage during conversion of cc_03_10_2022/certs/reports/pdf/4de4a9f436958574.pdf\n",
      "Error when converting pdf->txt: poppler error creating document\n",
      "Error when converting pdf->txt: poppler error creating document\n",
      "Error when converting pdf->txt: poppler error creating document\n",
      "Error when converting pdf->txt: poppler error creating document\n",
      "Error when converting pdf->txt: poppler error creating document\n",
      "Detected garbage during conversion of cc_03_10_2022/certs/reports/pdf/02958808b57334f0.pdf\n",
      "Detected garbage during conversion of cc_03_10_2022/certs/reports/pdf/bfc86f14e2484335.pdf\n",
      "Detected garbage during conversion of cc_03_10_2022/certs/reports/pdf/2d05e976e1adf696.pdf\n",
      "Detected garbage during conversion of cc_03_10_2022/certs/reports/pdf/f9c8da9deff77ab5.pdf\n",
      "Detected garbage during conversion of cc_03_10_2022/certs/reports/pdf/98668cafb8dda26f.pdf\n",
      "Detected garbage during conversion of cc_03_10_2022/certs/reports/pdf/422dc5758723c7d1.pdf\n",
      "Detected garbage during conversion of cc_03_10_2022/certs/reports/pdf/7147c2f70d983d57.pdf\n",
      "Error during OCR of cc_03_10_2022/certs/reports/pdf/02958808b57334f0.pdf, using garbage: pdftoppm failed: 1\n",
      "Cert dgst: 02958808b57334f0 failed to convert report pdf->txt\n",
      "Error during OCR of cc_03_10_2022/certs/reports/pdf/bfc86f14e2484335.pdf, using garbage: pdftoppm failed: 1\n",
      "Cert dgst: bfc86f14e2484335 failed to convert report pdf->txt\n",
      "Error during OCR of cc_03_10_2022/certs/reports/pdf/f9c8da9deff77ab5.pdf, using garbage: pdftoppm failed: 1\n",
      "Cert dgst: f9c8da9deff77ab5 failed to convert report pdf->txt\n",
      "Error during OCR of cc_03_10_2022/certs/reports/pdf/422dc5758723c7d1.pdf, using garbage: pdftoppm failed: 1\n",
      "Cert dgst: 422dc5758723c7d1 failed to convert report pdf->txt\n",
      "Error during OCR of cc_03_10_2022/certs/reports/pdf/7147c2f70d983d57.pdf, using garbage: pdftoppm failed: 1\n",
      "Cert dgst: 7147c2f70d983d57 failed to convert report pdf->txt\n",
      "Error during OCR of cc_03_10_2022/certs/reports/pdf/98668cafb8dda26f.pdf, using garbage: pdftoppm failed: 1\n",
      "Cert dgst: 98668cafb8dda26f failed to convert report pdf->txt\n",
      "Error during OCR of cc_03_10_2022/certs/reports/pdf/2d05e976e1adf696.pdf, using garbage: pdftoppm failed: 1\n",
      "Cert dgst: 2d05e976e1adf696 failed to convert report pdf->txt\n",
      "Error during OCR of cc_03_10_2022/certs/reports/pdf/4de4a9f436958574.pdf, using garbage: pdftoppm failed: 1\n",
      "Cert dgst: 4de4a9f436958574 failed to convert report pdf->txt\n",
      "Converting reports to txt: 100%|████████████████████████████████████████████████████████████████████████████████████████████████| 8/8 [00:01<00:00,  7.98it/s]\n",
      "Error when converting pdf->txt: poppler error creating document\n",
      "Converting targets to txt:   0%|                                                                                                        | 0/5 [00:00<?, ?it/s]Detected garbage during conversion of cc_03_10_2022/certs/targets/pdf/bfc86f14e2484335.pdf\n"
     ]
    },
    {
     "name": "stderr",
     "output_type": "stream",
     "text": [
      "Error when converting pdf->txt: poppler error creating document\n",
      "Detected garbage during conversion of cc_03_10_2022/certs/targets/pdf/422dc5758723c7d1.pdf\n",
      "Error when converting pdf->txt: poppler error creating document\n",
      "Error when converting pdf->txt: poppler error creating document\n",
      "Error when converting pdf->txt: poppler error creating document\n",
      "Detected garbage during conversion of cc_03_10_2022/certs/targets/pdf/4c9468f20fdb04f7.pdf\n",
      "Detected garbage during conversion of cc_03_10_2022/certs/targets/pdf/a2b962c7f1d2bc56.pdf\n",
      "Detected garbage during conversion of cc_03_10_2022/certs/targets/pdf/7147c2f70d983d57.pdf\n",
      "Error during OCR of cc_03_10_2022/certs/targets/pdf/a2b962c7f1d2bc56.pdf, using garbage: pdftoppm failed: 1\n",
      "Cert dgst: a2b962c7f1d2bc56 failed to convert security target pdf->txt\n",
      "Error during OCR of cc_03_10_2022/certs/targets/pdf/7147c2f70d983d57.pdf, using garbage: pdftoppm failed: 1\n",
      "Cert dgst: 7147c2f70d983d57 failed to convert security target pdf->txt\n",
      "Error during OCR of cc_03_10_2022/certs/targets/pdf/bfc86f14e2484335.pdf, using garbage: pdftoppm failed: 1\n",
      "Cert dgst: bfc86f14e2484335 failed to convert security target pdf->txt\n",
      "Error during OCR of cc_03_10_2022/certs/targets/pdf/422dc5758723c7d1.pdf, using garbage: pdftoppm failed: 1\n",
      "Cert dgst: 422dc5758723c7d1 failed to convert security target pdf->txt\n",
      "Error during OCR of cc_03_10_2022/certs/targets/pdf/4c9468f20fdb04f7.pdf, using garbage: pdftoppm failed: 1\n",
      "Cert dgst: 4c9468f20fdb04f7 failed to convert security target pdf->txt\n",
      "Converting targets to txt: 100%|████████████████████████████████████████████████████████████████████████████████████████████████| 5/5 [00:01<00:00,  4.99it/s]\n"
     ]
    }
   ],
   "source": [
    "# Convert all\n",
    "dset.convert_all_pdfs()"
   ]
  },
  {
   "cell_type": "code",
   "execution_count": 5,
   "metadata": {
    "pycharm": {
     "name": "#%%\n"
    },
    "scrolled": false
   },
   "outputs": [
    {
     "name": "stderr",
     "output_type": "stream",
     "text": [
      "Extracting report metadata:   0%|                                                                                                    | 0/5104 [00:00<?, ?it/s]Failed to read metadata of certs/reports/pdf/1e91595cd5e7fece.pdf, error: Unexpected escaped string: b'\\x83'\n",
      "Failed to read metadata of certs/reports/pdf/451e0806dfcfd29d.pdf, error: PDF metadata unavailable\n",
      "Extracting report metadata:  11%|██████████                                                                               | 574/5104 [00:02<00:15, 288.04it/s]Failed to read metadata of certs/reports/pdf/e51bbdd7e3705d61.pdf, error: PDF metadata unavailable\n",
      "Extracting report metadata:  17%|███████████████▍                                                                          | 879/5104 [00:06<00:48, 86.25it/s]PdfReadWarning: Multiple definitions in dictionary at byte 0x59564 for key /Im21 [generic.py:590]\n",
      "PdfReadWarning: Multiple definitions in dictionary at byte 0x59571 for key /Im21 [generic.py:590]\n",
      "PdfReadWarning: Multiple definitions in dictionary at byte 0x5957e for key /Im21 [generic.py:590]\n",
      "PdfReadWarning: Multiple definitions in dictionary at byte 0x5a3f9 for key /Im21 [generic.py:590]\n",
      "PdfReadWarning: Multiple definitions in dictionary at byte 0x5a406 for key /Im21 [generic.py:590]\n",
      "PdfReadWarning: Multiple definitions in dictionary at byte 0x5a413 for key /Im21 [generic.py:590]\n",
      "PdfReadWarning: Multiple definitions in dictionary at byte 0x5b802 for key /Im21 [generic.py:590]\n",
      "PdfReadWarning: Multiple definitions in dictionary at byte 0x5b80f for key /Im21 [generic.py:590]\n",
      "PdfReadWarning: Multiple definitions in dictionary at byte 0x5b81c for key /Im21 [generic.py:590]\n",
      "PdfReadWarning: Multiple definitions in dictionary at byte 0x5c501 for key /Im21 [generic.py:590]\n",
      "PdfReadWarning: Multiple definitions in dictionary at byte 0x5c50e for key /Im21 [generic.py:590]\n",
      "PdfReadWarning: Multiple definitions in dictionary at byte 0x5c51b for key /Im21 [generic.py:590]\n",
      "PdfReadWarning: Multiple definitions in dictionary at byte 0x5e732 for key /Im21 [generic.py:590]\n",
      "PdfReadWarning: Multiple definitions in dictionary at byte 0x5e73f for key /Im21 [generic.py:590]\n",
      "PdfReadWarning: Multiple definitions in dictionary at byte 0x5e74c for key /Im21 [generic.py:590]\n",
      "PdfReadWarning: Multiple definitions in dictionary at byte 0x610ef for key /Im21 [generic.py:590]\n",
      "PdfReadWarning: Multiple definitions in dictionary at byte 0x610fc for key /Im21 [generic.py:590]\n",
      "PdfReadWarning: Multiple definitions in dictionary at byte 0x61109 for key /Im21 [generic.py:590]\n",
      "PdfReadWarning: Multiple definitions in dictionary at byte 0x75219 for key /Im21 [generic.py:590]\n",
      "PdfReadWarning: Multiple definitions in dictionary at byte 0x75226 for key /Im21 [generic.py:590]\n",
      "PdfReadWarning: Multiple definitions in dictionary at byte 0x75233 for key /Im21 [generic.py:590]\n",
      "PdfReadWarning: Multiple definitions in dictionary at byte 0x78a0e for key /Im21 [generic.py:590]\n",
      "PdfReadWarning: Multiple definitions in dictionary at byte 0x78a1b for key /Im21 [generic.py:590]\n",
      "PdfReadWarning: Multiple definitions in dictionary at byte 0x78a28 for key /Im21 [generic.py:590]\n",
      "PdfReadWarning: Multiple definitions in dictionary at byte 0x798c6 for key /Im21 [generic.py:590]\n",
      "PdfReadWarning: Multiple definitions in dictionary at byte 0x798d3 for key /Im21 [generic.py:590]\n",
      "PdfReadWarning: Multiple definitions in dictionary at byte 0x798e0 for key /Im21 [generic.py:590]\n",
      "PdfReadWarning: Multiple definitions in dictionary at byte 0x7d599 for key /Im21 [generic.py:590]\n",
      "PdfReadWarning: Multiple definitions in dictionary at byte 0x7d5a6 for key /Im21 [generic.py:590]\n",
      "PdfReadWarning: Multiple definitions in dictionary at byte 0x7d5b3 for key /Im21 [generic.py:590]\n",
      "PdfReadWarning: Multiple definitions in dictionary at byte 0x7e69a for key /Im21 [generic.py:590]\n",
      "PdfReadWarning: Multiple definitions in dictionary at byte 0x7e6a7 for key /Im21 [generic.py:590]\n",
      "PdfReadWarning: Multiple definitions in dictionary at byte 0x7e6b4 for key /Im21 [generic.py:590]\n",
      "PdfReadWarning: Multiple definitions in dictionary at byte 0x7f838 for key /Im21 [generic.py:590]\n",
      "PdfReadWarning: Multiple definitions in dictionary at byte 0x7f845 for key /Im21 [generic.py:590]\n",
      "PdfReadWarning: Multiple definitions in dictionary at byte 0x7f852 for key /Im21 [generic.py:590]\n",
      "PdfReadWarning: Multiple definitions in dictionary at byte 0x80238 for key /Im21 [generic.py:590]\n",
      "PdfReadWarning: Multiple definitions in dictionary at byte 0x80245 for key /Im21 [generic.py:590]\n",
      "PdfReadWarning: Multiple definitions in dictionary at byte 0x80252 for key /Im21 [generic.py:590]\n",
      "PdfReadWarning: Multiple definitions in dictionary at byte 0x810a5 for key /Im21 [generic.py:590]\n",
      "PdfReadWarning: Multiple definitions in dictionary at byte 0x810b2 for key /Im21 [generic.py:590]\n",
      "PdfReadWarning: Multiple definitions in dictionary at byte 0x810bf for key /Im21 [generic.py:590]\n",
      "PdfReadWarning: Multiple definitions in dictionary at byte 0x82211 for key /Im21 [generic.py:590]\n",
      "PdfReadWarning: Multiple definitions in dictionary at byte 0x8221e for key /Im21 [generic.py:590]\n",
      "PdfReadWarning: Multiple definitions in dictionary at byte 0x8222b for key /Im21 [generic.py:590]\n",
      "Extracting report metadata:  26%|███████████████████████                                                                 | 1339/5104 [00:09<00:25, 147.71it/s]Failed to read metadata of certs/reports/pdf/dc54e899ab191a2a.pdf, error: PDF metadata unavailable\n",
      "Extracting report metadata:  34%|██████████████████████████████                                                          | 1742/5104 [00:11<00:20, 165.40it/s]Failed to read metadata of certs/reports/pdf/a62c55533f4e1636.pdf, error: PDF metadata unavailable\n",
      "Failed to read metadata of certs/reports/pdf/d3568613c552f9e8.pdf, error: EOF marker not found\n",
      "Extracting report metadata:  37%|████████████████████████████████▉                                                       | 1912/5104 [00:12<00:19, 165.35it/s]Failed to read metadata of certs/reports/pdf/ea5ffdcf17f6ecf4.pdf, error: PDF metadata unavailable\n",
      "Extracting report metadata:  45%|███████████████████████████████████████▍                                                | 2290/5104 [00:14<00:16, 173.82it/s]Failed to read metadata of certs/reports/pdf/1c5deb472a197eb6.pdf, error: PDF metadata unavailable\n",
      "Failed to read metadata of certs/reports/pdf/0f3295c420339dd2.pdf, error: PDF metadata unavailable\n",
      "Extracting report metadata:  50%|███████████████████████████████████████████▉                                            | 2551/5104 [00:15<00:12, 197.33it/s]Failed to read metadata of certs/reports/pdf/6be07dff9c4ed819.pdf, error: PDF metadata unavailable\n",
      "Extracting report metadata:  56%|█████████████████████████████████████████████████                                       | 2849/5104 [00:16<00:10, 224.61it/s]Failed to read metadata of certs/reports/pdf/b43100f226a61f53.pdf, error: EOF marker not found\n",
      "Extracting report metadata:  61%|█████████████████████████████████████████████████████▋                                  | 3115/5104 [00:17<00:08, 233.73it/s]Failed to read metadata of certs/reports/pdf/be0806db6fd6bbe8.pdf, error: 'NumberObject' object is not subscriptable\n",
      "Failed to read metadata of certs/reports/pdf/35ac4cfd1f62df75.pdf, error: 'NumberObject' object is not subscriptable\n",
      "Failed to read metadata of certs/reports/pdf/aaf48074ea1b4bf4.pdf, error: invalid literal for int() with base 10: b'n'\n",
      "Failed to read metadata of certs/reports/pdf/206662b82595265b.pdf, error: 'NumberObject' object is not subscriptable\n",
      "Failed to read metadata of certs/reports/pdf/989b106f5e63b4d1.pdf, error: invalid literal for int() with base 10: b'n'\n",
      "Failed to read metadata of certs/reports/pdf/0160f6becf137107.pdf, error: 'NumberObject' object is not subscriptable\n",
      "Extracting report metadata:  65%|████████████████████████████████████████████████████████▊                               | 3294/5104 [00:18<00:08, 215.65it/s]Failed to read metadata of certs/reports/pdf/9558a9eaadae855e.pdf, error: PDF metadata unavailable\n"
     ]
    },
    {
     "name": "stderr",
     "output_type": "stream",
     "text": [
      "Extracting report metadata:  72%|███████████████████████████████████████████████████████████████                         | 3657/5104 [00:22<00:12, 118.13it/s]Failed to read metadata of certs/reports/pdf/9114f0f9938e558c.pdf, error: PDF metadata unavailable\n",
      "Failed to read metadata of certs/reports/pdf/08b09322ee9df0af.pdf, error: PDF metadata unavailable\n",
      "Extracting report metadata:  77%|███████████████████████████████████████████████████████████████████▊                    | 3935/5104 [00:23<00:07, 163.39it/s]Failed to read metadata of certs/reports/pdf/518b3066ebfabcd3.pdf, error: PDF metadata unavailable\n",
      "Extracting report metadata:  85%|██████████████████████████████████████████████████████████████████████████▊             | 4339/5104 [00:25<00:04, 180.47it/s]Failed to read metadata of certs/reports/pdf/d455e5408b744b44.pdf, error: PDF metadata unavailable\n",
      "Extracting report metadata: 100%|████████████████████████████████████████████████████████████████████████████████████████| 5104/5104 [00:32<00:00, 158.98it/s]\n",
      "Extracting target metadata:   2%|█▍                                                                                         | 78/5029 [00:01<01:06, 74.44it/s]PdfReadWarning: Multiple definitions in dictionary at byte 0x724b1 for key /Im312 [generic.py:590]\n",
      "PdfReadWarning: Multiple definitions in dictionary at byte 0x724cf for key /Im312 [generic.py:590]\n",
      "PdfReadWarning: Multiple definitions in dictionary at byte 0x724de for key /Im312 [generic.py:590]\n",
      "Failed to read metadata of certs/targets/pdf/d47a03be1cb342b1.pdf, error: PDF metadata unavailable\n",
      "Failed to read metadata of certs/targets/pdf/5af5a1b535422b51.pdf, error: PDF metadata unavailable\n",
      "Failed to read metadata of certs/targets/pdf/21d6eff0bfe3971f.pdf, error: PDF metadata unavailable\n",
      "Extracting target metadata:   4%|███▉                                                                                      | 219/5029 [00:04<01:47, 44.54it/s]Failed to read metadata of certs/targets/pdf/eee469bd6d07f8db.pdf, error: PDF metadata unavailable\n",
      "Extracting target metadata:   6%|█████▋                                                                                    | 317/5029 [00:08<02:52, 27.27it/s]Failed to read metadata of certs/targets/pdf/c62b878b1ac43df9.pdf, error: PDF metadata unavailable\n",
      "Failed to read metadata of certs/targets/pdf/4c017087976d05eb.pdf, error: EOF marker not found\n",
      "Extracting target metadata:   7%|██████                                                                                    | 339/5029 [00:09<03:04, 25.42it/s]Failed to read metadata of certs/targets/pdf/0dc53ac916660b90.pdf, error: PDF metadata unavailable\n",
      "Failed to read metadata of certs/targets/pdf/e676143c80802a59.pdf, error: EOF marker not found\n",
      "Failed to read metadata of certs/targets/pdf/e6e8add5e4db2d9d.pdf, error: EOF marker not found\n",
      "Failed to read metadata of certs/targets/pdf/1c9bd4db3d8388f7.pdf, error: EOF marker not found\n",
      "Extracting target metadata:   7%|██████▌                                                                                   | 364/5029 [00:10<03:06, 25.06it/s]Failed to read metadata of certs/targets/pdf/4bede5d2af4cb11f.pdf, error: PDF metadata unavailable\n",
      "Extracting target metadata:   9%|████████                                                                                  | 452/5029 [00:13<02:44, 27.77it/s]Failed to read metadata of certs/targets/pdf/d2f75cdaeb322e7f.pdf, error: PDF metadata unavailable\n",
      "Extracting target metadata:  10%|████████▌                                                                                 | 478/5029 [00:14<02:48, 26.97it/s]Failed to read metadata of certs/targets/pdf/c9b0cae8b5784d2d.pdf, error: PDF metadata unavailable\n",
      "Failed to read metadata of certs/targets/pdf/af6767c887ae930a.pdf, error: PDF metadata unavailable\n",
      "Extracting target metadata:  10%|█████████▏                                                                                | 515/5029 [00:15<02:32, 29.60it/s]Failed to read metadata of certs/targets/pdf/42d2e68c29d9eef7.pdf, error: PDF metadata unavailable\n",
      "Extracting target metadata:  12%|██████████▊                                                                               | 605/5029 [00:17<02:00, 36.65it/s]Failed to read metadata of certs/targets/pdf/44f1f74c09e634cb.pdf, error: PDF metadata unavailable\n",
      "Extracting target metadata:  13%|███████████▌                                                                              | 648/5029 [00:18<01:54, 38.12it/s]PdfReadWarning: Multiple definitions in dictionary at byte 0x2ee44 for key /Im59 [generic.py:590]\n",
      "PdfReadWarning: Multiple definitions in dictionary at byte 0x6f7cf for key /Im215 [generic.py:590]\n",
      "Extracting target metadata:  19%|█████████████████▍                                                                        | 975/5029 [00:32<02:32, 26.58it/s]Failed to read metadata of certs/targets/pdf/3183166f4cb1c37c.pdf, error: PDF metadata unavailable\n",
      "Failed to read metadata of certs/targets/pdf/b224a05ad0f1ec6b.pdf, error: PDF metadata unavailable\n",
      "Failed to read metadata of certs/targets/pdf/0cb80431100b4bd4.pdf, error: PDF metadata unavailable\n",
      "Extracting target metadata:  21%|██████████████████▊                                                                      | 1060/5029 [00:33<01:32, 43.08it/s]Failed to read metadata of certs/targets/pdf/14ddeb255e0a1cd2.pdf, error: PDF metadata unavailable\n",
      "Extracting target metadata:  23%|████████████████████▍                                                                    | 1157/5029 [00:34<01:06, 58.27it/s]Failed to read metadata of certs/targets/pdf/0c5a0893bb4f17dc.pdf, error: PDF metadata unavailable\n",
      "Failed to read metadata of certs/targets/pdf/c13a0ff38bf1cf86.pdf, error: PDF metadata unavailable\n",
      "Extracting target metadata:  25%|█████████████████████▉                                                                   | 1237/5029 [00:35<00:59, 64.22it/s]Failed to read metadata of certs/targets/pdf/e84d854109fc9e59.pdf, error: PDF metadata unavailable\n",
      "Failed to read metadata of certs/targets/pdf/e39bcd3ef3ba2f00.pdf, error: PDF metadata unavailable\n",
      "Extracting target metadata:  26%|███████████████████████▍                                                                 | 1321/5029 [00:37<01:12, 51.45it/s]Failed to read metadata of certs/targets/pdf/af478678c6464da0.pdf, error: PDF metadata unavailable\n",
      "Extracting target metadata:  31%|███████████████████████████▉                                                             | 1581/5029 [00:44<01:24, 40.86it/s]PdfReadWarning: Multiple definitions in dictionary at byte 0x21033 for key /Im67 [generic.py:590]\n",
      "PdfReadWarning: Multiple definitions in dictionary at byte 0x21067 for key /Im67 [generic.py:590]\n",
      "PdfReadWarning: Multiple definitions in dictionary at byte 0x21074 for key /Im68 [generic.py:590]\n",
      "PdfReadWarning: Multiple definitions in dictionary at byte 0x21081 for key /Im69 [generic.py:590]\n",
      "PdfReadWarning: Multiple definitions in dictionary at byte 0x2108e for key /Im67 [generic.py:590]\n",
      "PdfReadWarning: Multiple definitions in dictionary at byte 0x210b5 for key /Im67 [generic.py:590]\n",
      "PdfReadWarning: Multiple definitions in dictionary at byte 0x210cf for key /Im67 [generic.py:590]\n",
      "PdfReadWarning: Multiple definitions in dictionary at byte 0x2111d for key /Im91 [generic.py:590]\n",
      "PdfReadWarning: Multiple definitions in dictionary at byte 0x3eb3f for key /Im111 [generic.py:590]\n",
      "PdfReadWarning: Multiple definitions in dictionary at byte 0x3eb4e for key /Im111 [generic.py:590]\n",
      "PdfReadWarning: Multiple definitions in dictionary at byte 0x3ebf3 for key /Im121 [generic.py:590]\n",
      "PdfReadWarning: Multiple definitions in dictionary at byte 0x3ec3e for key /Im133 [generic.py:590]\n",
      "PdfReadWarning: Multiple definitions in dictionary at byte 0x3ec4d for key /Im135 [generic.py:590]\n",
      "PdfReadWarning: Multiple definitions in dictionary at byte 0x3ec5c for key /Im137 [generic.py:590]\n",
      "PdfReadWarning: Multiple definitions in dictionary at byte 0x3ec89 for key /Im135 [generic.py:590]\n",
      "PdfReadWarning: Multiple definitions in dictionary at byte 0x3eca7 for key /Im145 [generic.py:590]\n",
      "PdfReadWarning: Multiple definitions in dictionary at byte 0x3ed10 for key /Im143 [generic.py:590]\n",
      "PdfReadWarning: Multiple definitions in dictionary at byte 0x3ed1f for key /Im149 [generic.py:590]\n"
     ]
    },
    {
     "name": "stderr",
     "output_type": "stream",
     "text": [
      "PdfReadWarning: Multiple definitions in dictionary at byte 0x61908 for key /Im173 [generic.py:590]\n",
      "PdfReadWarning: Multiple definitions in dictionary at byte 0x619e9 for key /Im200 [generic.py:590]\n",
      "PdfReadWarning: Multiple definitions in dictionary at byte 0x61a16 for key /Im205 [generic.py:590]\n",
      "PdfReadWarning: Multiple definitions in dictionary at byte 0x61b7e for key /Im220 [generic.py:590]\n",
      "PdfReadWarning: Multiple definitions in dictionary at byte 0x9146a for key /Im324 [generic.py:590]\n",
      "PdfReadWarning: Multiple definitions in dictionary at byte 0x91479 for key /Im324 [generic.py:590]\n",
      "PdfReadWarning: Multiple definitions in dictionary at byte 0x91488 for key /Im325 [generic.py:590]\n",
      "PdfReadWarning: Multiple definitions in dictionary at byte 0x91497 for key /Im324 [generic.py:590]\n",
      "PdfReadWarning: Multiple definitions in dictionary at byte 0x915e1 for key /Im299 [generic.py:590]\n",
      "PdfReadWarning: Multiple definitions in dictionary at byte 0x9160e for key /Im299 [generic.py:590]\n",
      "PdfReadWarning: Multiple definitions in dictionary at byte 0x9161d for key /Im365 [generic.py:590]\n",
      "PdfReadWarning: Multiple definitions in dictionary at byte 0xad9f8 for key /Im324 [generic.py:590]\n",
      "PdfReadWarning: Multiple definitions in dictionary at byte 0xada07 for key /Im324 [generic.py:590]\n",
      "PdfReadWarning: Multiple definitions in dictionary at byte 0xada25 for key /Im324 [generic.py:590]\n",
      "PdfReadWarning: Multiple definitions in dictionary at byte 0xadb24 for key /Im365 [generic.py:590]\n",
      "PdfReadWarning: Multiple definitions in dictionary at byte 0xadb42 for key /Im299 [generic.py:590]\n",
      "PdfReadWarning: Multiple definitions in dictionary at byte 0xadb51 for key /Im365 [generic.py:590]\n",
      "PdfReadWarning: Multiple definitions in dictionary at byte 0xadb9c for key /Im364 [generic.py:590]\n",
      "Failed to read metadata of certs/targets/pdf/bbcfe0aee7ea78ea.pdf, error: PDF metadata unavailable\n",
      "Failed to read metadata of certs/targets/pdf/f0bd6a29eee94a2c.pdf, error: PDF metadata unavailable\n",
      "Failed to read metadata of certs/targets/pdf/463ecd64b7506048.pdf, error: PDF metadata unavailable\n",
      "Extracting target metadata:  36%|████████████████████████████████                                                         | 1815/5029 [00:47<00:49, 64.98it/s]Failed to read metadata of certs/targets/pdf/d3568613c552f9e8.pdf, error: EOF marker not found\n",
      "Extracting target metadata:  42%|████████████████████████████████████▉                                                    | 2089/5029 [00:50<00:36, 79.70it/s]UserWarning: startxref on same line as offset [pdf.py:1787]\n",
      "Extracting target metadata:  44%|███████████████████████████████████████▎                                                 | 2223/5029 [00:52<00:38, 73.68it/s]Failed to read metadata of certs/targets/pdf/4d2a177384b23fd6.pdf, error: PDF metadata unavailable\n",
      "Extracting target metadata:  59%|████████████████████████████████████████████████████                                     | 2945/5029 [01:12<00:46, 44.62it/s]Failed to read metadata of certs/targets/pdf/a83fe0ea2f391ee8.pdf, error: too many values to unpack (expected 2)\n",
      "Extracting target metadata:  63%|████████████████████████████████████████████████████████▏                                | 3178/5029 [01:17<00:43, 42.20it/s]Failed to read metadata of certs/targets/pdf/907433fbf9e00ce3.pdf, error: Could not find xref table at specified location\n",
      "Extracting target metadata:  96%|█████████████████████████████████████████████████████████████████████████████████████▌   | 4837/5029 [01:40<00:02, 95.37it/s]Failed to read metadata of certs/targets/pdf/fc8d2eade14aa446.pdf, error: 'NumberObject' object is not subscriptable\n",
      "Extracting target metadata:  98%|███████████████████████████████████████████████████████████████████████████████████████▌ | 4946/5029 [01:42<00:01, 72.77it/s]Failed to read metadata of certs/targets/pdf/a334142059d865a2.pdf, error: PDF metadata unavailable\n",
      "Extracting target metadata: 100%|████████████████████████████████████████████████████████████████████████████████████████▊| 5021/5029 [01:43<00:00, 72.76it/s]Failed to read metadata of certs/targets/pdf/a552244ec3ca8f60.pdf, error: EOF marker not found\n",
      "Extracting target metadata: 100%|█████████████████████████████████████████████████████████████████████████████████████████| 5029/5029 [01:45<00:00, 47.68it/s]\n",
      "Extracting report frontpages:   8%|██████▉                                                                                | 404/5104 [00:01<00:12, 384.61it/s]WARNING: multiple rules are matching same certification document: /home/jjan/dev/sec-certs/notebooks/cc_03_10_2022/certs/reports/txt/4844355021ea22f1.txt\n",
      "WARNING: multiple rules are matching same certification document: /home/jjan/dev/sec-certs/notebooks/cc_03_10_2022/certs/reports/txt/4844355021ea22f1.txt\n",
      "WARNING: multiple rules are matching same certification document: /home/jjan/dev/sec-certs/notebooks/cc_03_10_2022/certs/reports/txt/d8aff63d56506605.txt\n",
      "WARNING: multiple rules are matching same certification document: /home/jjan/dev/sec-certs/notebooks/cc_03_10_2022/certs/reports/txt/21a1deda31c3e213.txt\n",
      "WARNING: multiple rules are matching same certification document: /home/jjan/dev/sec-certs/notebooks/cc_03_10_2022/certs/reports/txt/aca070da96add3b6.txt\n",
      "WARNING: multiple rules are matching same certification document: /home/jjan/dev/sec-certs/notebooks/cc_03_10_2022/certs/reports/txt/d8aff63d56506605.txt\n",
      "WARNING: multiple rules are matching same certification document: /home/jjan/dev/sec-certs/notebooks/cc_03_10_2022/certs/reports/txt/aca070da96add3b6.txt\n",
      "WARNING: multiple rules are matching same certification document: /home/jjan/dev/sec-certs/notebooks/cc_03_10_2022/certs/reports/txt/21a1deda31c3e213.txt\n",
      "WARNING: multiple rules are matching same certification document: /home/jjan/dev/sec-certs/notebooks/cc_03_10_2022/certs/reports/txt/977b04d04def60a7.txt\n",
      "WARNING: multiple rules are matching same certification document: /home/jjan/dev/sec-certs/notebooks/cc_03_10_2022/certs/reports/txt/977b04d04def60a7.txt\n",
      "WARNING: multiple rules are matching same certification document: /home/jjan/dev/sec-certs/notebooks/cc_03_10_2022/certs/reports/txt/6eeed6fefb1f0243.txt\n",
      "WARNING: multiple rules are matching same certification document: /home/jjan/dev/sec-certs/notebooks/cc_03_10_2022/certs/reports/txt/6eeed6fefb1f0243.txt\n",
      "WARNING: multiple rules are matching same certification document: /home/jjan/dev/sec-certs/notebooks/cc_03_10_2022/certs/reports/txt/62313881916550ca.txt\n",
      "WARNING: multiple rules are matching same certification document: /home/jjan/dev/sec-certs/notebooks/cc_03_10_2022/certs/reports/txt/6f8d7a6a1dea6a3a.txt\n",
      "WARNING: multiple rules are matching same certification document: /home/jjan/dev/sec-certs/notebooks/cc_03_10_2022/certs/reports/txt/62313881916550ca.txt\n",
      "WARNING: multiple rules are matching same certification document: /home/jjan/dev/sec-certs/notebooks/cc_03_10_2022/certs/reports/txt/6f8d7a6a1dea6a3a.txt\n",
      "WARNING: multiple rules are matching same certification document: /home/jjan/dev/sec-certs/notebooks/cc_03_10_2022/certs/reports/txt/b0b7b073ca2dfe5f.txt\n",
      "WARNING: multiple rules are matching same certification document: /home/jjan/dev/sec-certs/notebooks/cc_03_10_2022/certs/reports/txt/47913a485c3c8a18.txt\n",
      "WARNING: multiple rules are matching same certification document: /home/jjan/dev/sec-certs/notebooks/cc_03_10_2022/certs/reports/txt/60f3bd10ee9be85b.txt\n",
      "WARNING: multiple rules are matching same certification document: /home/jjan/dev/sec-certs/notebooks/cc_03_10_2022/certs/reports/txt/47913a485c3c8a18.txt\n",
      "WARNING: multiple rules are matching same certification document: /home/jjan/dev/sec-certs/notebooks/cc_03_10_2022/certs/reports/txt/b0b7b073ca2dfe5f.txt\n",
      "WARNING: multiple rules are matching same certification document: /home/jjan/dev/sec-certs/notebooks/cc_03_10_2022/certs/reports/txt/60f3bd10ee9be85b.txt\n",
      "WARNING: multiple rules are matching same certification document: /home/jjan/dev/sec-certs/notebooks/cc_03_10_2022/certs/reports/txt/5c3806bf79eeab7f.txt\n",
      "WARNING: multiple rules are matching same certification document: /home/jjan/dev/sec-certs/notebooks/cc_03_10_2022/certs/reports/txt/5c3806bf79eeab7f.txt\n"
     ]
    },
    {
     "name": "stderr",
     "output_type": "stream",
     "text": [
      "Extracting report frontpages: 100%|██████████████████████████████████████████████████████████████████████████████████████| 5104/5104 [00:13<00:00, 374.77it/s]\n",
      "Extracting target frontpages: 100%|██████████████████████████████████████████████████████████████████████████████████████| 5029/5029 [00:18<00:00, 269.71it/s]\n",
      "Extracting report keywords: 100%|█████████████████████████████████████████████████████████████████████████████████████████| 5104/5104 [08:49<00:00,  9.64it/s]\n",
      "Extracting target keywords: 100%|██████████████████████████████████████████████████████████████████████████████████████████████████████████████████████████████████████████████| 5029/5029 [32:59<00:00,  2.54it/s]\n",
      "Fitting the CPE classifier: 100%|██████████████████████████████████████████████████████████████████████████████████████████████████████████████████████████████████████| 888243/888243 [00:02<00:00, 413368.35it/s]\n",
      "Predicting CPE matches with the classifier: 100%|██████████████████████████████████████████████████████████████████████████████████████████████████████████████████████████████| 5126/5126 [02:53<00:00, 29.56it/s]\n",
      "parsing cpe matching (by NIST) dictionary: 100%|████████████████████████████████████████████████████████████████████████████████████████████████████████████████████████| 397693/397693 [00:26<00:00, 15145.61it/s]\n",
      "Building-up lookup dictionaries for fast CVE matching: 100%|████████████████████████████████████████████████████████████████████████████████████████████████████████████| 196860/196860 [00:09<00:00, 19964.38it/s]\n",
      "Computing related CVES: 100%|█████████████████████████████████████████████████████████████████████████████████████████████████████████████████████████████████████████████████| 704/704 [00:00<00:00, 79643.70it/s]\n",
      "WARNING:root:There were total of 153 certificates skipped due to duplicity\n"
     ]
    }
   ],
   "source": [
    "# Analyze all\n",
    "dset.analyze_certificates()"
   ]
  },
  {
   "cell_type": "code",
   "execution_count": 6,
   "metadata": {
    "pycharm": {
     "name": "#%%\n"
    }
   },
   "outputs": [
    {
     "name": "stderr",
     "output_type": "stream",
     "text": [
      "Downloading reports: 100%|███████████████████████████████████████████████████████████████████████████████████████████████████████████████████████████████████████████████████████| 457/457 [01:40<00:00,  4.56it/s]\n",
      "Downloading targets:  41%|██████████████████████████████████████████████████████████████▌                                                                                         | 188/457 [01:13<03:08,  1.43it/s]ERROR:sec_certs.sample.certificate:Cert dgst: cert_4d38305c4a2ee035_update_d37e22d00eafccc0 failed to download ST from https://www.commoncriteriaportal.org/files/epfiles/0976ra1b_pdf.pdf, code: 408\n",
      "ERROR:sec_certs.sample.certificate:Cert dgst: cert_bcac7e3f9f614ec6_update_531b2055de9b34f2 failed to download ST from https://www.commoncriteriaportal.org/files/epfiles/XSMART%20e-Passport%20V1.3_R4_ASE_LITE(ENG)_v1.0.1.pdf, code: 408\n",
      "Downloading targets:  42%|███████████████████████████████████████████████████████████████▏                                                                                        | 190/457 [01:22<08:11,  1.84s/it]ERROR:sec_certs.sample.certificate:Cert dgst: cert_a9004216663480de_update_f11191787e65fa44 failed to download ST from https://www.commoncriteriaportal.org/files/epfiles/0938ma1b_pdf.pdf, code: 408\n",
      "ERROR:sec_certs.utils.helpers:Failed to download from https://www.commoncriteriaportal.org/files/epfiles/0915ma3b_pdf.pdf; HTTPSConnectionPool(host='www.commoncriteriaportal.org', port=443): Read timed out.\n",
      "ERROR:sec_certs.sample.certificate:Cert dgst: cert_73632a66aceeb90e_update_c6e93ff837a633e2 failed to download ST from https://www.commoncriteriaportal.org/files/epfiles/0915ma3b_pdf.pdf, code: nok\n",
      "ERROR:sec_certs.sample.certificate:Cert dgst: cert_2a91f42389fda90d_update_475e73ebad1af7a2 failed to download ST from https://www.commoncriteriaportal.org/files/epfiles/XSMART%20e-Passport%20V1.4_ASE(BAC%20with%20AA)_ENG_V1.7.pdf, code: 408\n",
      "ERROR:sec_certs.utils.helpers:Failed to download from https://www.commoncriteriaportal.org/files/epfiles/0945V2ma2b_pdf.pdf; HTTPSConnectionPool(host='www.commoncriteriaportal.org', port=443): Read timed out.\n",
      "ERROR:sec_certs.sample.certificate:Cert dgst: cert_5103648897ba1b3a_update_a05293df88927dad failed to download ST from https://www.commoncriteriaportal.org/files/epfiles/0945V2ma2b_pdf.pdf, code: nok\n",
      "ERROR:sec_certs.utils.helpers:Failed to download from https://www.commoncriteriaportal.org/files/epfiles/0915ma1b_pdf.pdf; HTTPSConnectionPool(host='www.commoncriteriaportal.org', port=443): Read timed out.\n",
      "ERROR:sec_certs.sample.certificate:Cert dgst: cert_73632a66aceeb90e_update_8ce0c847737c2de3 failed to download ST from https://www.commoncriteriaportal.org/files/epfiles/0915ma1b_pdf.pdf, code: nok\n",
      "ERROR:sec_certs.utils.helpers:Failed to download from https://www.commoncriteriaportal.org/files/epfiles/anssi_cible_2016_20_lite.pdf; HTTPSConnectionPool(host='www.commoncriteriaportal.org', port=443): Read timed out.\n",
      "ERROR:sec_certs.sample.certificate:Cert dgst: cert_fe46772a18258cb2_update_90d86c50dc8c1166 failed to download ST from https://www.commoncriteriaportal.org/files/epfiles/anssi_cible_2016_20_lite.pdf, code: nok\n",
      "Downloading targets:  75%|█████████████████████████████████████████████████████████████████████████████████████████████████████████████████▊                                      | 342/457 [02:44<00:38,  2.99it/s]ERROR:sec_certs.sample.certificate:Cert dgst: cert_5ab17f47ec6820f3_update_0cbfc8dd71545605 failed to download ST from https://www.commoncriteriaportal.org/files/epfiles/[ST]%20Samsung%20Multifunction%20MultiXpress%20X4300%20K4350_v1.4(???).pdf, code: nok\n",
      "Downloading targets: 100%|████████████████████████████████████████████████████████████████████████████████████████████████████████████████████████████████████████████████████████| 457/457 [03:24<00:00,  2.23it/s]\n",
      "Converting reports to txt:   0%|                                                                                                                                                            | 0/457 [00:00<?, ?it/s]WARNING:sec_certs.utils.pdf:Detected garbage during conversion of /home/jjan/dev/sec-certs/notebooks/cc_03_10_2022/certs/maintenances/reports/pdf/cert_dbaf9789160ca414_update_05b659f9e1f5e5a6.pdf\n",
      "WARNING:sec_certs.utils.pdf:Detected garbage during conversion of /home/jjan/dev/sec-certs/notebooks/cc_03_10_2022/certs/maintenances/reports/pdf/cert_6785be05d030779b_update_bec315e0f592c9c3.pdf\n",
      "Converting reports to txt:  16%|███████████████████████▊                                                                                                                           | 74/457 [00:02<00:10, 35.50it/s]WARNING:sec_certs.utils.pdf:Detected garbage during conversion of /home/jjan/dev/sec-certs/notebooks/cc_03_10_2022/certs/maintenances/reports/pdf/cert_b891647233f3f188_update_66d87388520b9048.pdf\n",
      "Converting reports to txt:  90%|██████████████████████████████████████████████████████████████████████████████████████████████████████████████████████████████████▉               | 410/457 [00:08<00:00, 47.76it/s]ERROR:sec_certs.utils.pdf:Error when converting pdf->txt: poppler error creating document\n",
      "WARNING:sec_certs.utils.pdf:Detected garbage during conversion of /home/jjan/dev/sec-certs/notebooks/cc_03_10_2022/certs/maintenances/reports/pdf/cert_8ba5d4d02ea73d3d_update_d879046e9be61396.pdf\n",
      "ERROR:sec_certs.utils.pdf:Error during OCR of /home/jjan/dev/sec-certs/notebooks/cc_03_10_2022/certs/maintenances/reports/pdf/cert_8ba5d4d02ea73d3d_update_d879046e9be61396.pdf, using garbage: pdftoppm failed: 1\n",
      "ERROR:sec_certs.sample.certificate:Cert dgst: cert_8ba5d4d02ea73d3d_update_d879046e9be61396 failed to convert report pdf->txt\n",
      "Converting reports to txt: 100%|██████████████████████████████████████████████████████████████████████████████████████████████████████████████████████████████████████████████████| 457/457 [00:21<00:00, 21.21it/s]\n",
      "Converting targets to txt:  36%|█████████████████████████████████████████████████████                                                                                             | 163/448 [00:42<00:42,  6.71it/s]WARNING:sec_certs.utils.pdf:Detected garbage during conversion of /home/jjan/dev/sec-certs/notebooks/cc_03_10_2022/certs/maintenances/targets/pdf/cert_09b43147f1307352_update_a1ff8f3d472941f7.pdf\n",
      "Converting targets to txt:  74%|████████████████████████████████████████████████████████████████████████████████████████████████████████████▌                                     | 333/448 [01:21<00:20,  5.51it/s]WARNING:sec_certs.utils.pdf:Detected garbage during conversion of /home/jjan/dev/sec-certs/notebooks/cc_03_10_2022/certs/maintenances/targets/pdf/cert_bd5c7bb29151de01_update_070f8e523f3deba1.pdf\n",
      "WARNING:sec_certs.utils.pdf:Detected garbage during conversion of /home/jjan/dev/sec-certs/notebooks/cc_03_10_2022/certs/maintenances/targets/pdf/cert_ef9565620c399b7e_update_b169fd5fee2eb72b.pdf\n",
      "Converting targets to txt: 100%|██████████████████████████████████████████████████████████████████████████████████████████████████████████████████████████████████████████████████| 448/448 [04:58<00:00,  1.50it/s]\n",
      "ERROR:sec_certs.utils.pdf:Error when converting pdf->txt: poppler error creating document\n",
      "Converting reports to txt:   0%|                                                                                                                                                              | 0/1 [00:00<?, ?it/s]WARNING:sec_certs.utils.pdf:Detected garbage during conversion of /home/jjan/dev/sec-certs/notebooks/cc_03_10_2022/certs/maintenances/reports/pdf/cert_8ba5d4d02ea73d3d_update_d879046e9be61396.pdf\n",
      "ERROR:sec_certs.utils.pdf:Error during OCR of /home/jjan/dev/sec-certs/notebooks/cc_03_10_2022/certs/maintenances/reports/pdf/cert_8ba5d4d02ea73d3d_update_d879046e9be61396.pdf, using garbage: pdftoppm failed: 1\n",
      "ERROR:sec_certs.sample.certificate:Cert dgst: cert_8ba5d4d02ea73d3d_update_d879046e9be61396 failed to convert report pdf->txt\n",
      "Converting reports to txt: 100%|██████████████████████████████████████████████████████████████████████████████████████████████████████████████████████████████████████████████████████| 1/1 [00:01<00:00,  1.00s/it]\n"
     ]
    },
    {
     "name": "stderr",
     "output_type": "stream",
     "text": [
      "Extracting report metadata:   0%|                                                                                                                                                           | 0/456 [00:00<?, ?it/s]ERROR:sec_certs.utils.pdf:Failed to read metadata of maintenances/reports/pdf/cert_d455e5408b744b44_update_16f77dbd34439401.pdf, error: PDF metadata unavailable\n",
      "Extracting report metadata: 100%|████████████████████████████████████████████████████████████████████████████████████████████████████████████████████████████████████████████████| 456/456 [00:01<00:00, 452.87it/s]\n",
      "Extracting target metadata:  56%|█████████████████████████████████████████████████████████████████████████████████▉                                                               | 253/448 [00:06<00:04, 39.48it/s]ERROR:sec_certs.utils.pdf:Failed to read metadata of maintenances/targets/pdf/cert_bbc41d7d09e40c0c_update_784535cca61b58a7.pdf, error: too many values to unpack (expected 2)\n",
      "Extracting target metadata: 100%|█████████████████████████████████████████████████████████████████████████████████████████████████████████████████████████████████████████████████| 448/448 [00:09<00:00, 49.53it/s]\n",
      "Extracting report frontpages: 100%|██████████████████████████████████████████████████████████████████████████████████████████████████████████████████████████████████████████████| 456/456 [00:01<00:00, 453.32it/s]\n",
      "Extracting target frontpages: 100%|██████████████████████████████████████████████████████████████████████████████████████████████████████████████████████████████████████████████| 448/448 [00:02<00:00, 222.61it/s]\n",
      "Extracting report keywords: 100%|█████████████████████████████████████████████████████████████████████████████████████████████████████████████████████████████████████████████████| 456/456 [00:13<00:00, 34.93it/s]\n",
      "Extracting target keywords: 100%|█████████████████████████████████████████████████████████████████████████████████████████████████████████████████████████████████████████████████| 448/448 [03:05<00:00,  2.41it/s]\n"
     ]
    },
    {
     "data": {
      "text/plain": [
       "<sec_certs.dataset.common_criteria.CCDatasetMaintenanceUpdates at 0x7fcd979bb400>"
      ]
     },
     "execution_count": 6,
     "metadata": {},
     "output_type": "execute_result"
    }
   ],
   "source": [
    "# And do maintenance updates as well\n",
    "dset.process_maintenance_updates()"
   ]
  },
  {
   "cell_type": "code",
   "execution_count": 7,
   "metadata": {
    "pycharm": {
     "name": "#%%\n"
    }
   },
   "outputs": [],
   "source": [
    "# Finally, dump it all\n",
    "dset.to_json()"
   ]
  },
  {
   "cell_type": "code",
   "execution_count": null,
   "metadata": {},
   "outputs": [],
   "source": []
  }
 ],
 "metadata": {
  "kernelspec": {
   "display_name": "Python 3 (ipykernel)",
   "language": "python",
   "name": "python3"
  },
  "language_info": {
   "codemirror_mode": {
    "name": "ipython",
    "version": 3
   },
   "file_extension": ".py",
   "mimetype": "text/x-python",
   "name": "python",
   "nbconvert_exporter": "python",
   "pygments_lexer": "ipython3",
   "version": "3.10.7"
  }
 },
 "nbformat": 4,
 "nbformat_minor": 1
}
