{
 "cells": [
  {
   "cell_type": "code",
   "execution_count": null,
   "metadata": {},
   "outputs": [],
   "source": [
    "import pandas as pd\n",
    "import numpy as np\n",
    "import os\n",
    "import tensorflow as tf\n",
    "from tensorflow.contrib.tensorboard.plugins import projector\n",
    "from sklearn.preprocessing import StandardScaler\n",
    "from sklearn.decomposition import PCA"
   ]
  },
  {
   "cell_type": "code",
   "execution_count": null,
   "metadata": {},
   "outputs": [],
   "source": [
    "working_dir = '/Users/adam/phd/projects/certificates/data_dir/'\n",
    "\n",
    "df = pd.read_csv('/Users/adam/phd/projects/certificates/dataframe.csv')\n",
    "df.scheme = df.scheme.astype('category').cat.codes\n",
    "df.cert_lab = df.cert_lab.astype('category').cat.codes\n",
    "df.category = df.category.astype('category').cat.codes\n",
    "df.drop(columns=['Unnamed: 0', 'sec_level', 'cert_date', 'n_updates', 'n_pages', 'manufacturer', 'archived_date'], inplace=True)"
   ]
  },
  {
   "cell_type": "code",
   "execution_count": null,
   "metadata": {},
   "outputs": [],
   "source": [
    "data = df.loc[:, ['category', 'scheme', 'cert_lab', 'n_pages_cat', 'n_updates_cat', 'cert_year']]\n",
    "tf_data = tf.Variable(data.values)\n",
    "labels = df.sec_level_cat.tolist()\n",
    "np.savetxt(os.path.join(working_dir, 'metadata.tsv'), labels, delimiter='\\t')"
   ]
  },
  {
   "cell_type": "code",
   "execution_count": null,
   "metadata": {},
   "outputs": [],
   "source": [
    "with tf.Session() as sess:\n",
    "    saver = tf.train.Saver([tf_data])\n",
    "    sess.run(tf_data.initializer)\n",
    "    saver.save(sess, os.path.join(working_dir, 'tf_data.cpkt'))\n",
    "    config = projector.ProjectorConfig()\n",
    "    \n",
    "    embedding = config.embeddings.add()\n",
    "    embedding.tensor_name = tf_data.name\n",
    "\n",
    "    # Link this tensor to its metadata(Labels) file\n",
    "    embedding.metadata_path = 'metadata.tsv'\n",
    "        \n",
    "    # Saves a config file that TensorBoard will read during startup.\n",
    "    projector.visualize_embeddings(tf.summary.FileWriter(working_dir), config)\n"
   ]
  },
  {
   "cell_type": "code",
   "execution_count": null,
   "metadata": {},
   "outputs": [],
   "source": [
    "data.columns"
   ]
  },
  {
   "cell_type": "code",
   "execution_count": null,
   "metadata": {},
   "outputs": [],
   "source": []
  }
 ],
 "metadata": {
  "kernelspec": {
   "display_name": "Python 3",
   "language": "python",
   "name": "python3"
  },
  "language_info": {
   "codemirror_mode": {
    "name": "ipython",
    "version": 3
   },
   "file_extension": ".py",
   "mimetype": "text/x-python",
   "name": "python",
   "nbconvert_exporter": "python",
   "pygments_lexer": "ipython3",
   "version": "3.6.10"
  }
 },
 "nbformat": 4,
 "nbformat_minor": 4
}
