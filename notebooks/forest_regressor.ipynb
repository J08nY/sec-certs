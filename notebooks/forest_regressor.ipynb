{
 "cells": [
  {
   "cell_type": "code",
   "execution_count": 56,
   "metadata": {},
   "outputs": [],
   "source": [
    "import pandas as pd\n",
    "import json\n",
    "import numpy as np\n",
    "from collections import defaultdict\n",
    "from sklearn.model_selection import train_test_split\n",
    "from sklearn.ensemble import RandomForestClassifier, RandomForestRegressor\n",
    "from sklearn.preprocessing import LabelEncoder\n",
    "from sklearn.metrics import accuracy_score, mean_squared_error, mean_absolute_error"
   ]
  },
  {
   "cell_type": "code",
   "execution_count": 2,
   "metadata": {},
   "outputs": [],
   "source": [
    "with open('/Users/adam/phd/projects/certificates/certificate_data_complete_processed.json', 'r') as json_file:\n",
    "    data = json.load(json_file)"
   ]
  },
  {
   "cell_type": "markdown",
   "metadata": {},
   "source": [
    "### Load json features into pandas dataframe"
   ]
  },
  {
   "cell_type": "code",
   "execution_count": 3,
   "metadata": {},
   "outputs": [],
   "source": [
    "# Create all features and fill a dataframe with them\n",
    "feature_dict = {x: [] for x in ['category', 'scheme', 'n_updates', 'sec_level', 'cert_lab', 'n_pages',\n",
    "                           'cert_date', 'archived_date', 'manufacturer']}\n",
    "for key, val in data.items():\n",
    "    cert = data[key]\n",
    "    feature_dict['category'].append(cert['csv_scan'].get('cc_category', np.nan))\n",
    "    feature_dict['scheme'].append(cert['csv_scan'].get('cc_scheme', np.nan))\n",
    "    feature_dict['n_updates'].append(len(cert['csv_scan'].get('maintainance_updates', np.nan)))\n",
    "    feature_dict['sec_level'].append(cert['csv_scan'].get('cc_security_level', np.nan))\n",
    "    feature_dict['cert_lab'].append(cert['processed'].get('cert_lab', np.nan))\n",
    "    feature_dict['cert_date'].append(cert['csv_scan'].get('cc_certification_date', np.nan))\n",
    "    feature_dict['archived_date'].append(cert['csv_scan'].get('cc_archived_date', np.nan))\n",
    "    feature_dict['manufacturer'].append(cert['processed'].get('cc_manufacturer_simple', np.nan))\n",
    "\n",
    "    meta_scan = cert.get('pdfmeta_scan') or {}\n",
    "    n_pages = meta_scan.get('pdf_number_of_pages', -1)\n",
    "    feature_dict['n_pages'].append(n_pages)\n",
    "df = pd.DataFrame(data=feature_dict)"
   ]
  },
  {
   "cell_type": "markdown",
   "metadata": {},
   "source": [
    "### Pre-process features"
   ]
  },
  {
   "cell_type": "code",
   "execution_count": 27,
   "metadata": {},
   "outputs": [],
   "source": [
    "# Convert date features to datetime data type\n",
    "df.cert_date = pd.to_datetime(df.cert_date)\n",
    "df.archived_date = pd.to_datetime(df.archived_date)\n",
    "df['cert_year'] = df.cert_date.dt.year\n",
    "\n",
    "# Drop rows that didn't yet been archived\n",
    "df = df.loc[~df.archived_date.isnull(), :]\n",
    "\n",
    "# Select timedelta in months between cert date and archived date\n",
    "df['n_days_valid'] = df.archived_date - df.cert_date\n",
    "\n",
    "df.sec_level = df.sec_level.map(lambda x: x.split(',')[0])"
   ]
  },
  {
   "cell_type": "markdown",
   "metadata": {},
   "source": [
    "### Prepare training and test set"
   ]
  },
  {
   "cell_type": "code",
   "execution_count": 39,
   "metadata": {},
   "outputs": [
    {
     "name": "stdout",
     "output_type": "stream",
     "text": [
      "Training Features Shape: (2679, 6)\n",
      "Training Labels Shape: (2679,)\n",
      "Testing Features Shape: (670, 6)\n",
      "Testing Labels Shape: (670,)\n"
     ]
    }
   ],
   "source": [
    "features = df.loc[:, ['category', 'scheme', 'n_updates', 'sec_level', 'n_pages', 'cert_year', 'n_days_valid']]\n",
    "\n",
    "features.category = features.category.astype('category').cat.codes\n",
    "features.scheme = features.scheme.astype('category').cat.codes\n",
    "features.sec_level = features.sec_level.astype('category').cat.codes\n",
    "features.n_days_valid = features.n_days_valid.apply(lambda x: float(x.days))\n",
    "\n",
    "labels = np.array(features['n_days_valid']) # we can also predict sec_level for instance\n",
    "features.drop('sec_level', axis=1, inplace=True)\n",
    "train_features, test_features, train_labels, test_labels = train_test_split(features, labels, test_size = 0.2)\n",
    "print('Training Features Shape:', train_features.shape)\n",
    "print('Training Labels Shape:', train_labels.shape)\n",
    "print('Testing Features Shape:', test_features.shape)\n",
    "print('Testing Labels Shape:', test_labels.shape)"
   ]
  },
  {
   "cell_type": "markdown",
   "metadata": {},
   "source": [
    "### Build RandomForest classifier / regressor"
   ]
  },
  {
   "cell_type": "code",
   "execution_count": 37,
   "metadata": {},
   "outputs": [
    {
     "name": "stdout",
     "output_type": "stream",
     "text": [
      "0.491044776119403\n"
     ]
    }
   ],
   "source": [
    "rf = RandomForestClassifier(n_estimators = 100)\n",
    "rf.fit(train_features, train_labels)\n",
    "predictions = rf.predict(test_features)\n",
    "acc = accuracy_score(predictions, test_labels, normalize=True)\n",
    "print(acc)"
   ]
  },
  {
   "cell_type": "code",
   "execution_count": 58,
   "metadata": {},
   "outputs": [
    {
     "name": "stdout",
     "output_type": "stream",
     "text": [
      "MAE: 2.2754797441364496\n",
      "MSE: 80.11295278708458\n"
     ]
    }
   ],
   "source": [
    "rf = RandomForestRegressor(n_estimators=70)\n",
    "rf.fit(train_features, train_labels)\n",
    "predictions = rf.predict(test_features)\n",
    "mae = mean_absolute_error(predictions, test_labels)\n",
    "mse = mean_squared_error(predictions, test_labels)\n",
    "print(f'MAE: {mae}\\nMSE: {mse}')"
   ]
  },
  {
   "cell_type": "code",
   "execution_count": 62,
   "metadata": {},
   "outputs": [
    {
     "data": {
      "text/plain": [
       "[7.189824593529989e-06,\n",
       " 4.314906116538629e-06,\n",
       " 4.602625812677683e-07,\n",
       " 1.359120774200665e-05,\n",
       " 9.330495569624062e-05,\n",
       " 0.9998811388432708]"
      ]
     },
     "execution_count": 62,
     "metadata": {},
     "output_type": "execute_result"
    }
   ],
   "source": [
    "list(rf.feature_importances_)"
   ]
  }
 ],
 "metadata": {
  "kernelspec": {
   "display_name": "Python 3",
   "language": "python",
   "name": "python3"
  },
  "language_info": {
   "codemirror_mode": {
    "name": "ipython",
    "version": 3
   },
   "file_extension": ".py",
   "mimetype": "text/x-python",
   "name": "python",
   "nbconvert_exporter": "python",
   "pygments_lexer": "ipython3",
   "version": "3.7.5"
  }
 },
 "nbformat": 4,
 "nbformat_minor": 2
}
