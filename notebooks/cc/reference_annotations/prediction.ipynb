{
 "cells": [
  {
   "attachments": {},
   "cell_type": "markdown",
   "metadata": {},
   "source": [
    "# Prediction of reference annotations in CC Certificates (Raw)\n",
    "\n",
    "This notebook:\n",
    "- loads dataframe of a dataset with `(dgst, cert_id, sentences, label)`\n",
    "- Trains a model to classify the sentences related to certificate reference to their common sentiment (meaning of reference)"
   ]
  },
  {
   "cell_type": "code",
   "execution_count": 8,
   "metadata": {},
   "outputs": [
    {
     "name": "stdout",
     "output_type": "stream",
     "text": [
      "MIG-a5459e6a-b26d-5985-874c-528458a7728b\n"
     ]
    }
   ],
   "source": [
    "# When on Aura, it is important to first set CUDA_VISIBLE_DEVICES environment variable directly from notebook\n",
    "# For available GPUs, see https://www.fi.muni.cz/tech/unix/aura.html.cs\n",
    "\n",
    "import os\n",
    "\n",
    "os.environ[\"CUDA_VISIBLE_DEVICES\"] = \"MIG-a5459e6a-b26d-5985-874c-528458a7728b\"\n",
    "print(os.getenv(\"CUDA_VISIBLE_DEVICES\"))\n",
    "\n",
    "import pandas as pd\n",
    "from sec_certs.utils.nlp import prec_recall_metric\n",
    "from ast import literal_eval\n",
    "from pathlib import Path\n",
    "from sec_certs.model.reference_classification import ReferenceClassifierTrainer\n",
    "import numpy as np\n",
    "\n",
    "REPO_ROOT = Path(\"../../../\").resolve()\n",
    "\n",
    "\n",
    "def predict_and_fill_df(clf, df, label_mapping):\n",
    "    \"\"\"\n",
    "    Given the classifier, dataframe and label mapping, will populate dataframe with predictions for simple inspection.\n",
    "    \"\"\"\n",
    "    df_new = df.copy()\n",
    "    y_proba = clf.predict_proba(df_new.sentences)\n",
    "    df_new[\"y_proba\"] = y_proba\n",
    "    df_new[\"y_pred\"] = df_new.y_proba.map(lambda x: label_mapping[np.argmax(x)])\n",
    "    df_new[\"correct\"] = df_new.label == df_new.y_pred\n",
    "    return df_new"
   ]
  },
  {
   "cell_type": "code",
   "execution_count": 9,
   "metadata": {},
   "outputs": [],
   "source": [
    "# Prepare dataset\n",
    "\n",
    "df = pd.read_csv(REPO_ROOT / \"datasets/reference_classification_dataset_merged.csv\", sep=\";\")\n",
    "df = df.loc[(df.label.notnull())]\n",
    "df = df.loc[df.label.isin({\"COMPONENT_USED\", \"BASIS_OF_RECERTIFICATION\", \"BASIS_FOR\"})]  # only the most popular labels\n",
    "df.sentences = df.sentences.map(lambda x: list(literal_eval(x)))\n",
    "\n",
    "# # Split into train/valid\n",
    "df_train = df.loc[df.split == \"train\"].drop(columns=\"split\")\n",
    "df_valid = df.loc[df.split == \"valid\"].drop(columns=\"split\")\n",
    "\n",
    "# Use just few examples for learning\n",
    "df_train = df_train.sample(n=10)"
   ]
  },
  {
   "cell_type": "code",
   "execution_count": 10,
   "metadata": {},
   "outputs": [
    {
     "data": {
      "text/html": [
       "<div>\n",
       "<style scoped>\n",
       "    .dataframe tbody tr th:only-of-type {\n",
       "        vertical-align: middle;\n",
       "    }\n",
       "\n",
       "    .dataframe tbody tr th {\n",
       "        vertical-align: top;\n",
       "    }\n",
       "\n",
       "    .dataframe thead th {\n",
       "        text-align: right;\n",
       "    }\n",
       "</style>\n",
       "<table border=\"1\" class=\"dataframe\">\n",
       "  <thead>\n",
       "    <tr style=\"text-align: right;\">\n",
       "      <th></th>\n",
       "      <th>dgst</th>\n",
       "      <th>cert_id</th>\n",
       "      <th>label</th>\n",
       "      <th>sentences</th>\n",
       "    </tr>\n",
       "  </thead>\n",
       "  <tbody>\n",
       "    <tr>\n",
       "      <th>12</th>\n",
       "      <td>99223aca5d9eb3b3</td>\n",
       "      <td>DCSSI-2009/11</td>\n",
       "      <td>COMPONENT_USED</td>\n",
       "      <td>[Toolbox Certificate DCSSI-2009/11\\nTable 1:]</td>\n",
       "    </tr>\n",
       "    <tr>\n",
       "      <th>4</th>\n",
       "      <td>0f3900cdcd0c7f3e</td>\n",
       "      <td>BSI-DSZ-CC-1072-V4-2021-MA-01</td>\n",
       "      <td>COMPONENT_USED</td>\n",
       "      <td>[Certification Report NXP Secure Smart Card Co...</td>\n",
       "    </tr>\n",
       "    <tr>\n",
       "      <th>9</th>\n",
       "      <td>6d6ade44dcc497dd</td>\n",
       "      <td>BSI-DSZ-CC-0227-2004</td>\n",
       "      <td>BASIS_OF_RECERTIFICATION</td>\n",
       "      <td>[This is a\\nre-certification based on BSI-DSZ-...</td>\n",
       "    </tr>\n",
       "    <tr>\n",
       "      <th>5</th>\n",
       "      <td>0f3900cdcd0c7f3e</td>\n",
       "      <td>NSCIB-CC-66030-CR5</td>\n",
       "      <td>COMPONENT_USED</td>\n",
       "      <td>[certificate identification NSCIB-CC-66030-CR5...</td>\n",
       "    </tr>\n",
       "    <tr>\n",
       "      <th>6</th>\n",
       "      <td>1fb1564dfb0f0b04</td>\n",
       "      <td>ANSSI-CC-2020/34</td>\n",
       "      <td>COMPONENT_USED</td>\n",
       "      <td>[[CER_IC] Rapport de certification ANSSI-CC-20...</td>\n",
       "    </tr>\n",
       "  </tbody>\n",
       "</table>\n",
       "</div>"
      ],
      "text/plain": [
       "                dgst                        cert_id                     label  \\\n",
       "12  99223aca5d9eb3b3                  DCSSI-2009/11            COMPONENT_USED   \n",
       "4   0f3900cdcd0c7f3e  BSI-DSZ-CC-1072-V4-2021-MA-01            COMPONENT_USED   \n",
       "9   6d6ade44dcc497dd           BSI-DSZ-CC-0227-2004  BASIS_OF_RECERTIFICATION   \n",
       "5   0f3900cdcd0c7f3e             NSCIB-CC-66030-CR5            COMPONENT_USED   \n",
       "6   1fb1564dfb0f0b04               ANSSI-CC-2020/34            COMPONENT_USED   \n",
       "\n",
       "                                            sentences  \n",
       "12      [Toolbox Certificate DCSSI-2009/11\\nTable 1:]  \n",
       "4   [Certification Report NXP Secure Smart Card Co...  \n",
       "9   [This is a\\nre-certification based on BSI-DSZ-...  \n",
       "5   [certificate identification NSCIB-CC-66030-CR5...  \n",
       "6   [[CER_IC] Rapport de certification ANSSI-CC-20...  "
      ]
     },
     "execution_count": 10,
     "metadata": {},
     "output_type": "execute_result"
    }
   ],
   "source": [
    "df_train.head()"
   ]
  },
  {
   "cell_type": "code",
   "execution_count": 11,
   "metadata": {},
   "outputs": [
    {
     "name": "stderr",
     "output_type": "stream",
     "text": [
      "config.json not found in HuggingFace Hub\n",
      "model_head.pkl not found on HuggingFace Hub, initialising classification head with random weights. You should TRAIN this model on a downstream task to use it for predictions and inference.\n",
      "Applying column mapping to training dataset\n",
      "***** Running training *****\n",
      "  Num examples = 1760\n",
      "  Num epochs = 1\n",
      "  Total optimization steps = 110\n",
      "  Total train batch size = 16\n"
     ]
    },
    {
     "data": {
      "application/vnd.jupyter.widget-view+json": {
       "model_id": "96e469ad1f984bf6ba2c819884a1c231",
       "version_major": 2,
       "version_minor": 0
      },
      "text/plain": [
       "Epoch:   0%|          | 0/1 [00:00<?, ?it/s]"
      ]
     },
     "metadata": {},
     "output_type": "display_data"
    },
    {
     "data": {
      "application/vnd.jupyter.widget-view+json": {
       "model_id": "a9ef28c8c0314e7f831e6e35c2af75db",
       "version_major": 2,
       "version_minor": 0
      },
      "text/plain": [
       "Iteration:   0%|          | 0/110 [00:00<?, ?it/s]"
      ]
     },
     "metadata": {},
     "output_type": "display_data"
    },
    {
     "name": "stderr",
     "output_type": "stream",
     "text": [
      "Applying column mapping to evaluation dataset\n",
      "***** Running evaluation *****\n"
     ]
    },
    {
     "name": "stdout",
     "output_type": "stream",
     "text": [
      "Internal evaluation (of model working on individual sentences)\n",
      "{'precision': 0.45454545454545453, 'recall': 0.45454545454545453}\n",
      "Actual evaluation after ensemble soft voting\n",
      "{'precision': 0.2857142857142857, 'recall': 0.2857142857142857}\n"
     ]
    }
   ],
   "source": [
    "trainer = ReferenceClassifierTrainer(df_train, df_valid, prec_recall_metric, \"transformer\")\n",
    "trainer.train()\n",
    "trainer.evaluate()"
   ]
  },
  {
   "cell_type": "code",
   "execution_count": 12,
   "metadata": {},
   "outputs": [],
   "source": [
    "# Take a look at misclassified instances\n",
    "df_train = predict_and_fill_df(trainer.clf, df_train, trainer.label_mapping)\n",
    "df_valid = predict_and_fill_df(trainer.clf, df_valid, trainer.label_mapping)"
   ]
  },
  {
   "cell_type": "code",
   "execution_count": 13,
   "metadata": {},
   "outputs": [
    {
     "data": {
      "text/html": [
       "<div>\n",
       "<style scoped>\n",
       "    .dataframe tbody tr th:only-of-type {\n",
       "        vertical-align: middle;\n",
       "    }\n",
       "\n",
       "    .dataframe tbody tr th {\n",
       "        vertical-align: top;\n",
       "    }\n",
       "\n",
       "    .dataframe thead th {\n",
       "        text-align: right;\n",
       "    }\n",
       "</style>\n",
       "<table border=\"1\" class=\"dataframe\">\n",
       "  <thead>\n",
       "    <tr style=\"text-align: right;\">\n",
       "      <th></th>\n",
       "      <th>dgst</th>\n",
       "      <th>cert_id</th>\n",
       "      <th>label</th>\n",
       "      <th>sentences</th>\n",
       "      <th>y_proba</th>\n",
       "      <th>y_pred</th>\n",
       "      <th>correct</th>\n",
       "    </tr>\n",
       "  </thead>\n",
       "  <tbody>\n",
       "    <tr>\n",
       "      <th>9</th>\n",
       "      <td>6d6ade44dcc497dd</td>\n",
       "      <td>BSI-DSZ-CC-0227-2004</td>\n",
       "      <td>BASIS_OF_RECERTIFICATION</td>\n",
       "      <td>[This is a\\nre-certification based on BSI-DSZ-...</td>\n",
       "      <td>[0.5461188093773812, 0.45388119062261884]</td>\n",
       "      <td>COMPONENT_USED</td>\n",
       "      <td>False</td>\n",
       "    </tr>\n",
       "    <tr>\n",
       "      <th>19</th>\n",
       "      <td>ca5da2fe138af656</td>\n",
       "      <td>BSI-DSZ-CC-0413-2007</td>\n",
       "      <td>BASIS_OF_RECERTIFICATION</td>\n",
       "      <td>[This is a re-certification based on\\nBSI-DSZ-...</td>\n",
       "      <td>[0.5465589745598575, 0.4534410254401425]</td>\n",
       "      <td>COMPONENT_USED</td>\n",
       "      <td>False</td>\n",
       "    </tr>\n",
       "  </tbody>\n",
       "</table>\n",
       "</div>"
      ],
      "text/plain": [
       "                dgst               cert_id                     label  \\\n",
       "9   6d6ade44dcc497dd  BSI-DSZ-CC-0227-2004  BASIS_OF_RECERTIFICATION   \n",
       "19  ca5da2fe138af656  BSI-DSZ-CC-0413-2007  BASIS_OF_RECERTIFICATION   \n",
       "\n",
       "                                            sentences  \\\n",
       "9   [This is a\\nre-certification based on BSI-DSZ-...   \n",
       "19  [This is a re-certification based on\\nBSI-DSZ-...   \n",
       "\n",
       "                                      y_proba          y_pred  correct  \n",
       "9   [0.5461188093773812, 0.45388119062261884]  COMPONENT_USED    False  \n",
       "19   [0.5465589745598575, 0.4534410254401425]  COMPONENT_USED    False  "
      ]
     },
     "execution_count": 13,
     "metadata": {},
     "output_type": "execute_result"
    }
   ],
   "source": [
    "df_train.loc[~df_train.correct]"
   ]
  },
  {
   "cell_type": "code",
   "execution_count": 14,
   "metadata": {},
   "outputs": [
    {
     "data": {
      "text/html": [
       "<div>\n",
       "<style scoped>\n",
       "    .dataframe tbody tr th:only-of-type {\n",
       "        vertical-align: middle;\n",
       "    }\n",
       "\n",
       "    .dataframe tbody tr th {\n",
       "        vertical-align: top;\n",
       "    }\n",
       "\n",
       "    .dataframe thead th {\n",
       "        text-align: right;\n",
       "    }\n",
       "</style>\n",
       "<table border=\"1\" class=\"dataframe\">\n",
       "  <thead>\n",
       "    <tr style=\"text-align: right;\">\n",
       "      <th></th>\n",
       "      <th>dgst</th>\n",
       "      <th>cert_id</th>\n",
       "      <th>label</th>\n",
       "      <th>sentences</th>\n",
       "      <th>y_proba</th>\n",
       "      <th>y_pred</th>\n",
       "      <th>correct</th>\n",
       "    </tr>\n",
       "  </thead>\n",
       "  <tbody>\n",
       "    <tr>\n",
       "      <th>1</th>\n",
       "      <td>0c7ef6c32cbdee47</td>\n",
       "      <td>BSI-DSZ-CC-1074-2019</td>\n",
       "      <td>BASIS_FOR</td>\n",
       "      <td>[The BAC+PACE configuration is subject of the ...</td>\n",
       "      <td>[0.9330686268852108, 0.06693137311478929]</td>\n",
       "      <td>COMPONENT_USED</td>\n",
       "      <td>False</td>\n",
       "    </tr>\n",
       "    <tr>\n",
       "      <th>2</th>\n",
       "      <td>0e22fe4e4e58faf4</td>\n",
       "      <td>BSI-DSZ-CC-1052-V4-2021</td>\n",
       "      <td>BASIS_OF_RECERTIFICATION</td>\n",
       "      <td>[basierend auf BSI-DSZ-CC-1052-V4-2021.]</td>\n",
       "      <td>[0.7070543956916182, 0.2929456043083818]</td>\n",
       "      <td>COMPONENT_USED</td>\n",
       "      <td>False</td>\n",
       "    </tr>\n",
       "    <tr>\n",
       "      <th>7</th>\n",
       "      <td>238f8edc5eda1358</td>\n",
       "      <td>BSI-DSZ-CC-0222-2003</td>\n",
       "      <td>BASIS_OF_RECERTIFICATION</td>\n",
       "      <td>[This certification is a re-certification of B...</td>\n",
       "      <td>[0.5998535578550636, 0.4001464421449364]</td>\n",
       "      <td>COMPONENT_USED</td>\n",
       "      <td>False</td>\n",
       "    </tr>\n",
       "    <tr>\n",
       "      <th>8</th>\n",
       "      <td>29964f32c68b0ce8</td>\n",
       "      <td>BSI-DSZ-CC-0519-V3-2021</td>\n",
       "      <td>BASIS_OF_RECERTIFICATION</td>\n",
       "      <td>[This is a re-certification based on BSI-DSZ-C...</td>\n",
       "      <td>[0.8727371952470533, 0.12726280475294682]</td>\n",
       "      <td>COMPONENT_USED</td>\n",
       "      <td>False</td>\n",
       "    </tr>\n",
       "    <tr>\n",
       "      <th>13</th>\n",
       "      <td>a6fac58198296194</td>\n",
       "      <td>BSI-DSZ-CC-0555-2009</td>\n",
       "      <td>BASIS_OF_RECERTIFICATION</td>\n",
       "      <td>[Specific results from the evaluation process\\...</td>\n",
       "      <td>[0.8670438280210987, 0.13295617197890133]</td>\n",
       "      <td>COMPONENT_USED</td>\n",
       "      <td>False</td>\n",
       "    </tr>\n",
       "  </tbody>\n",
       "</table>\n",
       "</div>"
      ],
      "text/plain": [
       "                dgst                  cert_id                     label  \\\n",
       "1   0c7ef6c32cbdee47     BSI-DSZ-CC-1074-2019                 BASIS_FOR   \n",
       "2   0e22fe4e4e58faf4  BSI-DSZ-CC-1052-V4-2021  BASIS_OF_RECERTIFICATION   \n",
       "7   238f8edc5eda1358     BSI-DSZ-CC-0222-2003  BASIS_OF_RECERTIFICATION   \n",
       "8   29964f32c68b0ce8  BSI-DSZ-CC-0519-V3-2021  BASIS_OF_RECERTIFICATION   \n",
       "13  a6fac58198296194     BSI-DSZ-CC-0555-2009  BASIS_OF_RECERTIFICATION   \n",
       "\n",
       "                                            sentences  \\\n",
       "1   [The BAC+PACE configuration is subject of the ...   \n",
       "2            [basierend auf BSI-DSZ-CC-1052-V4-2021.]   \n",
       "7   [This certification is a re-certification of B...   \n",
       "8   [This is a re-certification based on BSI-DSZ-C...   \n",
       "13  [Specific results from the evaluation process\\...   \n",
       "\n",
       "                                      y_proba          y_pred  correct  \n",
       "1   [0.9330686268852108, 0.06693137311478929]  COMPONENT_USED    False  \n",
       "2    [0.7070543956916182, 0.2929456043083818]  COMPONENT_USED    False  \n",
       "7    [0.5998535578550636, 0.4001464421449364]  COMPONENT_USED    False  \n",
       "8   [0.8727371952470533, 0.12726280475294682]  COMPONENT_USED    False  \n",
       "13  [0.8670438280210987, 0.13295617197890133]  COMPONENT_USED    False  "
      ]
     },
     "execution_count": 14,
     "metadata": {},
     "output_type": "execute_result"
    }
   ],
   "source": [
    "df_valid.loc[~df_valid.correct]"
   ]
  }
 ],
 "metadata": {
  "kernelspec": {
   "display_name": "venv",
   "language": "python",
   "name": "python3"
  },
  "language_info": {
   "codemirror_mode": {
    "name": "ipython",
    "version": 3
   },
   "file_extension": ".py",
   "mimetype": "text/x-python",
   "name": "python",
   "nbconvert_exporter": "python",
   "pygments_lexer": "ipython3",
   "version": "3.8.13"
  },
  "orig_nbformat": 4,
  "vscode": {
   "interpreter": {
    "hash": "a2ed43df31f510d0b358bd0625493376557b0c4d37aa99c09b398809f951b6a5"
   }
  }
 },
 "nbformat": 4,
 "nbformat_minor": 2
}
