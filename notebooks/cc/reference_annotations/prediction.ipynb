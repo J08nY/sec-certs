{
 "cells": [
  {
   "attachments": {},
   "cell_type": "markdown",
   "metadata": {},
   "source": [
    "# Prediction of reference annotations in CC Certificates (Raw)\n",
    "\n",
    "This notebook:\n",
    "- loads dataframe of a dataset with `(dgst, cert_id, sentences, label)`\n",
    "- Trains a model to classify the sentences related to certificate reference to their common sentiment (meaning of reference)"
   ]
  },
  {
   "cell_type": "code",
   "execution_count": 1,
   "metadata": {},
   "outputs": [
    {
     "name": "stdout",
     "output_type": "stream",
     "text": [
      "MIG-a5459e6a-b26d-5985-874c-528458a7728b\n"
     ]
    }
   ],
   "source": [
    "# When on Aura, it is important to first set CUDA_VISIBLE_DEVICES environment variable directly from notebook\n",
    "# For available GPUs, see https://www.fi.muni.cz/tech/unix/aura.html.cs\n",
    "\n",
    "import os\n",
    "\n",
    "os.environ[\"CUDA_VISIBLE_DEVICES\"] = \"MIG-a5459e6a-b26d-5985-874c-528458a7728b\"\n",
    "print(os.getenv(\"CUDA_VISIBLE_DEVICES\"))\n",
    "\n",
    "import pandas as pd\n",
    "from sec_certs.utils.nlp import prec_recall_metric\n",
    "from ast import literal_eval\n",
    "from pathlib import Path\n",
    "from sec_certs.model.reference_classification import ReferenceClassifierTrainer\n",
    "import numpy as np\n",
    "\n",
    "REPO_ROOT = Path(\"../../../\").resolve()\n",
    "\n",
    "\n",
    "def predict_and_fill_df(clf, df, label_mapping):\n",
    "    \"\"\"\n",
    "    Given the classifier, dataframe and label mapping, will populate dataframe with predictions for simple inspection.\n",
    "    \"\"\"\n",
    "    df_new = df.copy()\n",
    "    y_proba = clf.predict_proba(df_new.sentences)\n",
    "    df_new[\"y_proba\"] = y_proba\n",
    "    df_new[\"y_pred\"] = df_new.y_proba.map(lambda x: label_mapping[np.argmax(x)])\n",
    "    df_new[\"correct\"] = df_new.label == df_new.y_pred\n",
    "    return df_new\n",
    "\n",
    "def eval_strings(series):\n",
    "    return [list(literal_eval(x)) for x in series]"
   ]
  },
  {
   "cell_type": "code",
   "execution_count": 14,
   "metadata": {},
   "outputs": [],
   "source": [
    "# Prepare dataset\n",
    "\n",
    "df = pd.read_csv(REPO_ROOT / \"datasets/reference_classification_dataset.csv\").loc[\n",
    "    lambda df_: (df_.label.notnull()) & (df_.label.isin({\"COMPONENT_USED\", \"RECERTIFICATION\", \"ON_PLATFORM\"}))\n",
    "].assign(sentences=lambda df_: eval_strings(df_.sentences))\n",
    "df.label = df.label.map(lambda x: x if x != \"ON_PLATFORM\" else \"COMPONENT_USED\")\n",
    "\n",
    "# Split into train/valid\n",
    "df_train = df.loc[df.split == \"train\"].drop(columns=\"split\")\n",
    "df_valid = df.loc[df.split == \"valid\"].drop(columns=\"split\")\n",
    "\n",
    "# Use just few examples for learning\n",
    "df_train = df_train.sample(n=30)"
   ]
  },
  {
   "cell_type": "code",
   "execution_count": 15,
   "metadata": {},
   "outputs": [
    {
     "name": "stderr",
     "output_type": "stream",
     "text": [
      "config.json not found in HuggingFace Hub\n",
      "model_head.pkl not found on HuggingFace Hub, initialising classification head with random weights. You should TRAIN this model on a downstream task to use it for predictions and inference.\n",
      "Applying column mapping to training dataset\n",
      "***** Running training *****\n",
      "  Num examples = 7200\n",
      "  Num epochs = 1\n",
      "  Total optimization steps = 450\n",
      "  Total train batch size = 16\n"
     ]
    },
    {
     "data": {
      "application/vnd.jupyter.widget-view+json": {
       "model_id": "26e2525767364e3eba9c9881cd1982be",
       "version_major": 2,
       "version_minor": 0
      },
      "text/plain": [
       "Epoch:   0%|          | 0/1 [00:00<?, ?it/s]"
      ]
     },
     "metadata": {},
     "output_type": "display_data"
    },
    {
     "data": {
      "application/vnd.jupyter.widget-view+json": {
       "model_id": "d62be3272ebd4654b2adcfedee9b9b6a",
       "version_major": 2,
       "version_minor": 0
      },
      "text/plain": [
       "Iteration:   0%|          | 0/450 [00:00<?, ?it/s]"
      ]
     },
     "metadata": {},
     "output_type": "display_data"
    },
    {
     "name": "stderr",
     "output_type": "stream",
     "text": [
      "Applying column mapping to evaluation dataset\n",
      "***** Running evaluation *****\n"
     ]
    },
    {
     "name": "stdout",
     "output_type": "stream",
     "text": [
      "Internal evaluation (of model working on individual sentences)\n",
      "{'precision': 0.08035714285714286, 'recall': 0.08035714285714286}\n",
      "Actual evaluation after ensemble soft voting\n",
      "{'precision': 0.9014084507042254, 'recall': 0.9014084507042254}\n"
     ]
    }
   ],
   "source": [
    "trainer = ReferenceClassifierTrainer(df_train, df_valid, prec_recall_metric, \"transformer\")\n",
    "trainer.train()\n",
    "trainer.evaluate()"
   ]
  },
  {
   "cell_type": "code",
   "execution_count": 16,
   "metadata": {},
   "outputs": [],
   "source": [
    "# Take a look at misclassified instances\n",
    "df_train = predict_and_fill_df(trainer.clf, df_train, trainer.label_mapping)\n",
    "df_valid = predict_and_fill_df(trainer.clf, df_valid, trainer.label_mapping)"
   ]
  },
  {
   "cell_type": "code",
   "execution_count": 17,
   "metadata": {},
   "outputs": [
    {
     "data": {
      "text/html": [
       "<div>\n",
       "<style scoped>\n",
       "    .dataframe tbody tr th:only-of-type {\n",
       "        vertical-align: middle;\n",
       "    }\n",
       "\n",
       "    .dataframe tbody tr th {\n",
       "        vertical-align: top;\n",
       "    }\n",
       "\n",
       "    .dataframe thead th {\n",
       "        text-align: right;\n",
       "    }\n",
       "</style>\n",
       "<table border=\"1\" class=\"dataframe\">\n",
       "  <thead>\n",
       "    <tr style=\"text-align: right;\">\n",
       "      <th></th>\n",
       "      <th>dgst</th>\n",
       "      <th>referenced_cert_id</th>\n",
       "      <th>label</th>\n",
       "      <th>sentences</th>\n",
       "      <th>y_proba</th>\n",
       "      <th>y_pred</th>\n",
       "      <th>correct</th>\n",
       "    </tr>\n",
       "  </thead>\n",
       "  <tbody>\n",
       "  </tbody>\n",
       "</table>\n",
       "</div>"
      ],
      "text/plain": [
       "Empty DataFrame\n",
       "Columns: [dgst, referenced_cert_id, label, sentences, y_proba, y_pred, correct]\n",
       "Index: []"
      ]
     },
     "execution_count": 17,
     "metadata": {},
     "output_type": "execute_result"
    }
   ],
   "source": [
    "df_train.loc[~df_train.correct]"
   ]
  },
  {
   "cell_type": "code",
   "execution_count": 20,
   "metadata": {},
   "outputs": [
    {
     "data": {
      "text/html": [
       "<div>\n",
       "<style scoped>\n",
       "    .dataframe tbody tr th:only-of-type {\n",
       "        vertical-align: middle;\n",
       "    }\n",
       "\n",
       "    .dataframe tbody tr th {\n",
       "        vertical-align: top;\n",
       "    }\n",
       "\n",
       "    .dataframe thead th {\n",
       "        text-align: right;\n",
       "    }\n",
       "</style>\n",
       "<table border=\"1\" class=\"dataframe\">\n",
       "  <thead>\n",
       "    <tr style=\"text-align: right;\">\n",
       "      <th></th>\n",
       "      <th>dgst</th>\n",
       "      <th>referenced_cert_id</th>\n",
       "      <th>label</th>\n",
       "      <th>sentences</th>\n",
       "      <th>y_proba</th>\n",
       "      <th>y_pred</th>\n",
       "      <th>correct</th>\n",
       "    </tr>\n",
       "  </thead>\n",
       "  <tbody>\n",
       "    <tr>\n",
       "      <th>251</th>\n",
       "      <td>2c2244c35d126bfb</td>\n",
       "      <td>BSI-DSZ-CC-0794-2011</td>\n",
       "      <td>RECERTIFICATION</td>\n",
       "      <td>[This is a re-certification based on BSI-DSZ-C...</td>\n",
       "      <td>[0.47754689036832726, 0.5224531096316728]</td>\n",
       "      <td>COMPONENT_USED</td>\n",
       "      <td>False</td>\n",
       "    </tr>\n",
       "    <tr>\n",
       "      <th>364</th>\n",
       "      <td>4489bfc781a82281</td>\n",
       "      <td>BSI-DSZ-CC-0817-2013</td>\n",
       "      <td>RECERTIFICATION</td>\n",
       "      <td>[This is a re-certification based on BSI-DSZ-C...</td>\n",
       "      <td>[0.11195564561722356, 0.8880443543827765]</td>\n",
       "      <td>COMPONENT_USED</td>\n",
       "      <td>False</td>\n",
       "    </tr>\n",
       "    <tr>\n",
       "      <th>505</th>\n",
       "      <td>647d17d44745a532</td>\n",
       "      <td>BSI-DSZ-CC-0904-2015</td>\n",
       "      <td>RECERTIFICATION</td>\n",
       "      <td>[and BSI-DSZ-CC-0904-2015-\\n, This is a re-cer...</td>\n",
       "      <td>[0.16312949852765818, 0.8368705014723418]</td>\n",
       "      <td>COMPONENT_USED</td>\n",
       "      <td>False</td>\n",
       "    </tr>\n",
       "    <tr>\n",
       "      <th>616</th>\n",
       "      <td>7e58bfc14edf68e4</td>\n",
       "      <td>OCSI/CERT/TEC/01/2013/RC</td>\n",
       "      <td>RECERTIFICATION</td>\n",
       "      <td>[OCSI/CERT/TEC/01/2013/RC, versione 1.0,]</td>\n",
       "      <td>[0.2810731555375018, 0.7189268444624982]</td>\n",
       "      <td>COMPONENT_USED</td>\n",
       "      <td>False</td>\n",
       "    </tr>\n",
       "    <tr>\n",
       "      <th>628</th>\n",
       "      <td>81273108dd167b98</td>\n",
       "      <td>BSI-DSZ-CC-0523-2008</td>\n",
       "      <td>RECERTIFICATION</td>\n",
       "      <td>[Specific results from the\\nevaluation process...</td>\n",
       "      <td>[0.4308279930268643, 0.5691720069731356]</td>\n",
       "      <td>COMPONENT_USED</td>\n",
       "      <td>False</td>\n",
       "    </tr>\n",
       "    <tr>\n",
       "      <th>709</th>\n",
       "      <td>9664c0f0ec6401b9</td>\n",
       "      <td>BSI-DSZ-CC-0891-V2-2016</td>\n",
       "      <td>RECERTIFICATION</td>\n",
       "      <td>[This is a re-certification based on BSI-DSZ-C...</td>\n",
       "      <td>[0.4303467603163502, 0.5696532396836499]</td>\n",
       "      <td>COMPONENT_USED</td>\n",
       "      <td>False</td>\n",
       "    </tr>\n",
       "    <tr>\n",
       "      <th>719</th>\n",
       "      <td>983d16512ae92d46</td>\n",
       "      <td>BSI-DSZ-CC-0891-V3-2018</td>\n",
       "      <td>RECERTIFICATION</td>\n",
       "      <td>[The updated documents in compare to the forer...</td>\n",
       "      <td>[0.48619060832541505, 0.513809391674585]</td>\n",
       "      <td>COMPONENT_USED</td>\n",
       "      <td>False</td>\n",
       "    </tr>\n",
       "  </tbody>\n",
       "</table>\n",
       "</div>"
      ],
      "text/plain": [
       "                 dgst        referenced_cert_id            label  \\\n",
       "251  2c2244c35d126bfb      BSI-DSZ-CC-0794-2011  RECERTIFICATION   \n",
       "364  4489bfc781a82281      BSI-DSZ-CC-0817-2013  RECERTIFICATION   \n",
       "505  647d17d44745a532      BSI-DSZ-CC-0904-2015  RECERTIFICATION   \n",
       "616  7e58bfc14edf68e4  OCSI/CERT/TEC/01/2013/RC  RECERTIFICATION   \n",
       "628  81273108dd167b98      BSI-DSZ-CC-0523-2008  RECERTIFICATION   \n",
       "709  9664c0f0ec6401b9   BSI-DSZ-CC-0891-V2-2016  RECERTIFICATION   \n",
       "719  983d16512ae92d46   BSI-DSZ-CC-0891-V3-2018  RECERTIFICATION   \n",
       "\n",
       "                                             sentences  \\\n",
       "251  [This is a re-certification based on BSI-DSZ-C...   \n",
       "364  [This is a re-certification based on BSI-DSZ-C...   \n",
       "505  [and BSI-DSZ-CC-0904-2015-\\n, This is a re-cer...   \n",
       "616          [OCSI/CERT/TEC/01/2013/RC, versione 1.0,]   \n",
       "628  [Specific results from the\\nevaluation process...   \n",
       "709  [This is a re-certification based on BSI-DSZ-C...   \n",
       "719  [The updated documents in compare to the forer...   \n",
       "\n",
       "                                       y_proba          y_pred  correct  \n",
       "251  [0.47754689036832726, 0.5224531096316728]  COMPONENT_USED    False  \n",
       "364  [0.11195564561722356, 0.8880443543827765]  COMPONENT_USED    False  \n",
       "505  [0.16312949852765818, 0.8368705014723418]  COMPONENT_USED    False  \n",
       "616   [0.2810731555375018, 0.7189268444624982]  COMPONENT_USED    False  \n",
       "628   [0.4308279930268643, 0.5691720069731356]  COMPONENT_USED    False  \n",
       "709   [0.4303467603163502, 0.5696532396836499]  COMPONENT_USED    False  \n",
       "719   [0.48619060832541505, 0.513809391674585]  COMPONENT_USED    False  "
      ]
     },
     "execution_count": 20,
     "metadata": {},
     "output_type": "execute_result"
    }
   ],
   "source": [
    "df_valid.loc[~df_valid.correct]"
   ]
  }
 ],
 "metadata": {
  "kernelspec": {
   "display_name": "venv",
   "language": "python",
   "name": "python3"
  },
  "language_info": {
   "codemirror_mode": {
    "name": "ipython",
    "version": 3
   },
   "file_extension": ".py",
   "mimetype": "text/x-python",
   "name": "python",
   "nbconvert_exporter": "python",
   "pygments_lexer": "ipython3",
   "version": "3.8.13"
  },
  "orig_nbformat": 4,
  "vscode": {
   "interpreter": {
    "hash": "a2ed43df31f510d0b358bd0625493376557b0c4d37aa99c09b398809f951b6a5"
   }
  }
 },
 "nbformat": 4,
 "nbformat_minor": 2
}
