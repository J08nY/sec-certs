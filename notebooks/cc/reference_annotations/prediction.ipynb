{
 "cells": [
  {
   "cell_type": "code",
   "execution_count": 1,
   "metadata": {},
   "outputs": [
    {
     "name": "stdout",
     "output_type": "stream",
     "text": [
      "GPU available: True\n"
     ]
    }
   ],
   "source": [
    "from __future__ import annotations\n",
    "import os\n",
    "\n",
    "# When on Aura, it is important to first set CUDA_VISIBLE_DEVICES environment variable directly from notebook\n",
    "# For available GPUs, see https://www.fi.muni.cz/tech/unix/aura.html.cs\n",
    "# Must be done before any related package that leverages cuda is imported\n",
    "os.environ[\"CUDA_VISIBLE_DEVICES\"] = \"MIG-56c53afb-6f08-5e5b-83fa-32fc6f09eeb0\"\n",
    "os.environ[\"TOKENIZERS_PARALLELISM\"] = \"FALSE\"\n",
    "\n",
    "import pandas as pd\n",
    "from sec_certs.dataset import CCDataset\n",
    "from shutil import copy\n",
    "from pathlib import Path\n",
    "from sec_certs.model.references.segment_extractor import ReferenceSegmentExtractor\n",
    "from sec_certs.utils.nlp import prec_recall_metric\n",
    "from sklearn.dummy import DummyClassifier\n",
    "from sec_certs.utils.nlp import prec_recall_metric\n",
    "from sec_certs.model.references.annotator_trainer import ReferenceAnnotatorTrainer\n",
    "from sklearn.metrics import ConfusionMatrixDisplay\n",
    "from sec_certs.utils.helpers import compute_heuristics_version\n",
    "from rapidfuzz import fuzz\n",
    "from sklearn.ensemble import RandomForestClassifier\n",
    "from sklearn.metrics import classification_report\n",
    "import torch\n",
    "\n",
    "\n",
    "REPO_ROOT = Path(\".\").resolve()\n",
    "DATASET_PATH = REPO_ROOT / \"dataset/cc_final_run_may_23/dataset.json\"\n",
    "ANNOTATIONS_PATH = REPO_ROOT / \"src/sec_certs/data/reference_annotations/manual_annotations/\"\n",
    "\n",
    "def replace_all(text: str, to_replce: set[str]) -> str:\n",
    "    for i in to_replce:\n",
    "        text = text.replace(i, \"\")\n",
    "    return text\n",
    "\n",
    "print(f\"GPU available: {torch.cuda.is_available()}\")"
   ]
  },
  {
   "cell_type": "markdown",
   "metadata": {},
   "source": [
    "# Load data\n",
    "\n",
    "Enrich annotations with string similarity of cert. and referenced cert."
   ]
  },
  {
   "cell_type": "code",
   "execution_count": 2,
   "metadata": {},
   "outputs": [],
   "source": [
    "train_annotations = pd.read_csv(ANNOTATIONS_PATH / \"train.csv\")\n",
    "valid_annotations = pd.read_csv(ANNOTATIONS_PATH / \"valid.csv\")\n",
    "all_annotations = pd.concat([train_annotations, valid_annotations])\n",
    "all_annotations = all_annotations[all_annotations.label != \"None\"].assign(label=lambda df: df.label.str.upper())\n",
    "\n",
    "dset = CCDataset.from_json(DATASET_PATH)\n",
    "all_certs = {x.dgst: x for x in dset.certs.values()}\n",
    "dset.certs = {x.dgst: x for x in dset.certs.values() if x.dgst in all_annotations.dgst.unique()}\n",
    "\n",
    "cert_id_to_name_mapping = {x.heuristics.cert_id: x.name for x in all_certs.values()}\n",
    "all_annotations[\"referenced_cert_name\"] = all_annotations[\"referenced_cert_id\"].map(cert_id_to_name_mapping)\n",
    "all_annotations[\"cert_name\"] = all_annotations[\"dgst\"].map(lambda x: dset[x].name)\n",
    "all_annotations[\"cert_versions\"] = all_annotations[\"cert_name\"].map(compute_heuristics_version)\n",
    "all_annotations = all_annotations.loc[all_annotations[\"referenced_cert_name\"].notnull()].copy()\n",
    "all_annotations[\"referenced_cert_versions\"] = all_annotations[\"referenced_cert_name\"].map(compute_heuristics_version)\n",
    "all_annotations[\"cert_name_stripped_version\"] = all_annotations.apply(lambda x: replace_all(x[\"cert_name\"], x[\"cert_versions\"]), axis=1)\n",
    "all_annotations[\"referenced_cert_name_stripped_version\"] = all_annotations.apply(lambda x: replace_all(x[\"referenced_cert_name\"], x[\"referenced_cert_versions\"]), axis=1)\n",
    "all_annotations[\"name_similarity\"] = all_annotations.apply(lambda x: fuzz.token_set_ratio(x[\"cert_name\"], x[\"referenced_cert_name\"]), axis=1)\n",
    "all_annotations[\"name_similarity_stripped_version\"] = all_annotations.apply(lambda x: fuzz.token_set_ratio(x[\"cert_name_stripped_version\"], x[\"referenced_cert_name_stripped_version\"]), axis=1)"
   ]
  },
  {
   "cell_type": "markdown",
   "metadata": {},
   "source": [
    "## Retrieve segments"
   ]
  },
  {
   "cell_type": "code",
   "execution_count": 3,
   "metadata": {},
   "outputs": [
    {
     "name": "stderr",
     "output_type": "stream",
     "text": [
      "Preprocessing data: 100%|██████████| 151/151 [00:15<00:00, 10.02it/s]\n",
      "Recovering reference segments: 100%|██████████| 151/151 [00:15<00:00, 10.05it/s]\n"
     ]
    },
    {
     "name": "stdout",
     "output_type": "stream",
     "text": [
      "I now have 151 in target mode\n"
     ]
    },
    {
     "name": "stderr",
     "output_type": "stream",
     "text": [
      "Preprocessing data: 100%|██████████| 330/330 [00:06<00:00, 54.89it/s]\n",
      "Recovering reference segments: 100%|██████████| 330/330 [00:06<00:00, 53.82it/s] \n"
     ]
    },
    {
     "name": "stdout",
     "output_type": "stream",
     "text": [
      "I now have 330 in report mode\n",
      "df_targets shape: (151, 4)\n",
      "df_reports shape: (330, 4)\n"
     ]
    }
   ],
   "source": [
    "df = ReferenceSegmentExtractor()(dset.certs.values())\n",
    "df = df.loc[df.label.notnull()].copy()\n",
    "# label_mapping = {\"COMPONENT_USED\": \"COMPONENT_SHARED\", \"RECERTIFICATION\": \"PREVIOUS_VERSION\"}\n",
    "# df.label = df.label.map(lambda x: label_mapping[x] if x in label_mapping else x)"
   ]
  },
  {
   "cell_type": "markdown",
   "metadata": {},
   "source": [
    "## Segment post-processing"
   ]
  },
  {
   "cell_type": "code",
   "execution_count": 4,
   "metadata": {},
   "outputs": [],
   "source": [
    "def process_segment(segment: str, referenced_cert_id: str) -> str:\n",
    "    segment = segment.replace(referenced_cert_id, \"referenced product\")\n",
    "    return segment\n",
    "\n",
    "df.segments = df.apply(lambda row: [process_segment(x, row.referenced_cert_id) for x in row.segments], axis=1)"
   ]
  },
  {
   "cell_type": "markdown",
   "metadata": {},
   "source": [
    "## Train & evaluate the baseline classifier (majority class)"
   ]
  },
  {
   "cell_type": "code",
   "execution_count": 5,
   "metadata": {},
   "outputs": [
    {
     "name": "stdout",
     "output_type": "stream",
     "text": [
      "                   precision    recall  f1-score   support\n",
      "\n",
      " COMPONENT_SHARED       0.00      0.00      0.00         2\n",
      "   COMPONENT_USED       0.58      1.00      0.73        54\n",
      "EVALUATION_REUSED       0.00      0.00      0.00        12\n",
      " PREVIOUS_VERSION       0.00      0.00      0.00         7\n",
      "  RECERTIFICATION       0.00      0.00      0.00        18\n",
      "\n",
      "         accuracy                           0.58        93\n",
      "        macro avg       0.12      0.20      0.15        93\n",
      "     weighted avg       0.34      0.58      0.43        93\n",
      "\n"
     ]
    }
   ],
   "source": [
    "dummy_clf = DummyClassifier()\n",
    "dummy_clf.fit(df.loc[df.split == \"train\", [\"segments\"]], df.loc[df.split == \"train\"].label)\n",
    "y_pred_dummy = dummy_clf.predict(df.loc[df.split == \"valid\", [\"segments\"]])\n",
    "print(classification_report(df.loc[df.split == \"valid\"].label, y_pred_dummy, zero_division=0))"
   ]
  },
  {
   "cell_type": "markdown",
   "metadata": {},
   "source": [
    "## Train & evaluate the transformer"
   ]
  },
  {
   "cell_type": "code",
   "execution_count": 6,
   "metadata": {},
   "outputs": [
    {
     "name": "stderr",
     "output_type": "stream",
     "text": [
      "config.json not found in HuggingFace Hub.\n",
      "model_head.pkl not found on HuggingFace Hub, initialising classification head with random weights. You should TRAIN this model on a downstream task to use it for predictions and inference.\n",
      "Applying column mapping to training dataset\n",
      "***** Running training *****\n",
      "  Num examples = 29360\n",
      "  Num epochs = 1\n",
      "  Total optimization steps = 1835\n",
      "  Total train batch size = 16\n"
     ]
    },
    {
     "data": {
      "application/vnd.jupyter.widget-view+json": {
       "model_id": "dd12efc9d41f4dde956d3d0f6a3e13b3",
       "version_major": 2,
       "version_minor": 0
      },
      "text/plain": [
       "Epoch:   0%|          | 0/1 [00:00<?, ?it/s]"
      ]
     },
     "metadata": {},
     "output_type": "display_data"
    },
    {
     "data": {
      "application/vnd.jupyter.widget-view+json": {
       "model_id": "965024f363914b2f8ab5f8e8c48872cf",
       "version_major": 2,
       "version_minor": 0
      },
      "text/plain": [
       "Iteration:   0%|          | 0/1835 [00:00<?, ?it/s]"
      ]
     },
     "metadata": {},
     "output_type": "display_data"
    },
    {
     "name": "stderr",
     "output_type": "stream",
     "text": [
      "Applying column mapping to evaluation dataset\n",
      "***** Running evaluation *****\n"
     ]
    },
    {
     "name": "stdout",
     "output_type": "stream",
     "text": [
      "Internal evaluation (of model working on individual segments)\n",
      "{'precision': 0.6876790830945558, 'recall': 0.6876790830945558}\n",
      "Actual evaluation after ensemble soft voting\n",
      "{'precision': 0.8021978021978022, 'recall': 0.8021978021978022}\n",
      "                   precision    recall  f1-score   support\n",
      "\n",
      " COMPONENT_SHARED       0.00      0.00      0.00         0\n",
      "   COMPONENT_USED       0.94      0.88      0.91        58\n",
      "EVALUATION_REUSED       0.25      0.75      0.38         4\n",
      " PREVIOUS_VERSION       0.86      0.50      0.63        12\n",
      "  RECERTIFICATION       0.94      0.89      0.92        19\n",
      "\n",
      "         accuracy                           0.83        93\n",
      "        macro avg       0.60      0.60      0.57        93\n",
      "     weighted avg       0.90      0.83      0.85        93\n",
      "\n"
     ]
    },
    {
     "data": {
      "text/plain": [
       "<sklearn.metrics._plot.confusion_matrix.ConfusionMatrixDisplay at 0x7f9276537110>"
      ]
     },
     "execution_count": 6,
     "metadata": {},
     "output_type": "execute_result"
    },
    {
     "data": {
      "image/png": "[encoded data removed]",
      "text/plain": [
       "<Figure size 640x480 with 2 Axes>"
      ]
     },
     "metadata": {},
     "output_type": "display_data"
    }
   ],
   "source": [
    "trainer = ReferenceAnnotatorTrainer.from_df(df, prec_recall_metric, mode=\"training\")\n",
    "trainer.train()\n",
    "trainer.evaluate()\n",
    "\n",
    "annotator = trainer.clf\n",
    "df_predicted = annotator.predict_df(df)\n",
    "\n",
    "# # Refine predictions with rule that transforms labels to PREVIOUS_VERSION if name_similarity_stripped_version > 95 and y_pred is not PREVIOUS_VERSION or RECERTIFICATION\n",
    "# # TODO: This should be moved to the model layer\n",
    "df_predicted = df_predicted.merge(all_annotations.loc[:, [\"dgst\", \"referenced_cert_id\", \"name_similarity_stripped_version\"]], on=[\"dgst\", \"referenced_cert_id\"])\n",
    "df_predicted.loc[(df_predicted.name_similarity_stripped_version > 95) & ((df_predicted.y_pred != \"RECERTIFICATION\") & (df_predicted.y_pred != \"PREVIOUS_VERSION\")), [\"y_pred\"]] = \"PREVIOUS_VERSION\"\n",
    "df_predicted[\"correct\"] = df_predicted[\"label\"] == df_predicted[\"y_pred\"]\n",
    "\n",
    "# Dump bad predictions to json\n",
    "df_predicted.loc[df_predicted.correct == False].to_json(\"/var/tmp/xjanovsk/certs/sec-certs/dataset/annotator_errors.json\", orient=\"records\", indent=4)\n",
    "\n",
    "print(classification_report(df_predicted.loc[df_predicted.split == \"valid\", [\"y_pred\"]], df_predicted.loc[df_predicted.split == \"valid\", [\"label\"]], zero_division=0))\n",
    "\n",
    "# Print confusion matrix\n",
    "ConfusionMatrixDisplay.from_predictions(df_predicted.loc[df_predicted.split == \"valid\", [\"label\"]], df_predicted.loc[df_predicted.split == \"valid\", [\"y_pred\"]], labels=df_predicted.label.unique(), display_labels=df_predicted.label.unique(), xticks_rotation=90)"
   ]
  },
  {
   "cell_type": "markdown",
   "metadata": {},
   "source": [
    "## Train classifier enhanced with feature of name similarity"
   ]
  },
  {
   "cell_type": "code",
   "execution_count": 7,
   "metadata": {},
   "outputs": [
    {
     "name": "stdout",
     "output_type": "stream",
     "text": [
      "                   precision    recall  f1-score   support\n",
      "\n",
      " COMPONENT_SHARED       0.00      0.00      0.00         2\n",
      "   COMPONENT_USED       0.85      0.93      0.88        54\n",
      "EVALUATION_REUSED       0.75      0.25      0.38        12\n",
      " PREVIOUS_VERSION       0.36      0.57      0.44         7\n",
      "  RECERTIFICATION       0.89      0.94      0.92        18\n",
      "\n",
      "         accuracy                           0.80        93\n",
      "        macro avg       0.57      0.54      0.52        93\n",
      "     weighted avg       0.79      0.80      0.77        93\n",
      "\n"
     ]
    }
   ],
   "source": [
    "df_predicted = df_predicted.join(pd.DataFrame(df_predicted.y_proba.tolist(), index=df_predicted.index))\n",
    "df_predicted = df_predicted.rename(columns={i: f\"proba_{i}\" for i in range(0, 5)})\n",
    "\n",
    "clf = RandomForestClassifier()\n",
    "clf.fit(df_predicted[df_predicted.split == \"train\"][[\"proba_0\", \"proba_1\", \"proba_2\", \"proba_3\", \"proba_4\", \"name_similarity_stripped_version\"]], df_predicted[df_predicted.split == \"train\"].label)\n",
    "df_predicted[\"clf_name_similarity_label\"] = clf.predict(df_predicted[[\"proba_0\", \"proba_1\", \"proba_2\", \"proba_3\", \"proba_4\", \"name_similarity_stripped_version\"]])\n",
    "print(classification_report(df_predicted[df_predicted.split == \"valid\"].label, df_predicted[df_predicted.split == \"valid\"].clf_name_similarity_label, zero_division=0))"
   ]
  }
 ],
 "metadata": {
  "kernelspec": {
   "display_name": "venv",
   "language": "python",
   "name": "python3"
  },
  "language_info": {
   "codemirror_mode": {
    "name": "ipython",
    "version": 3
   },
   "file_extension": ".py",
   "mimetype": "text/x-python",
   "name": "python",
   "nbconvert_exporter": "python",
   "pygments_lexer": "ipython3",
   "version": "3.11.1"
  },
  "orig_nbformat": 4
 },
 "nbformat": 4,
 "nbformat_minor": 2
}
