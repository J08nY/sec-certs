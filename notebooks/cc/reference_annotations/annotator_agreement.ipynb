{
 "cells": [
  {
   "cell_type": "code",
   "execution_count": 5,
   "metadata": {},
   "outputs": [],
   "source": [
    "import pandas as pd\n",
    "from sklearn.metrics import cohen_kappa_score\n",
    "from sec_certs.dataset import CCDataset\n",
    "from pathlib import Path\n",
    "\n",
    "REPO_ROOT = Path(\"./../../../\").resolve()\n",
    "REF_ANNOTATIONS_PATH = REPO_ROOT / \"dataset/reference_annotations\"\n",
    "\n",
    "def get_agreement_df(adam_df_path, jano_df_path):\n",
    "    df_adam = pd.read_csv(adam_df_path)\n",
    "    df_jano = pd.read_csv(jano_df_path)\n",
    "    df_jano.label = df_jano.label.map(lambda x: x.upper())\n",
    "    df = pd.merge(df_adam, df_jano, on=[\"dgst\", \"referenced_cert_id\"], suffixes=(\"_adam\", \"_jano\"))\n",
    "    df[\"agreement\"] = df.label_adam == df.label_jano\n",
    "    return df"
   ]
  },
  {
   "cell_type": "code",
   "execution_count": 10,
   "metadata": {},
   "outputs": [],
   "source": [
    "# Load dataframes with individual labels and create new `agreement` column\n",
    "agreement_train = get_agreement_df(REF_ANNOTATIONS_PATH / \"adam_train.csv\", REF_ANNOTATIONS_PATH / \"jano_train.csv\")\n",
    "agreement_valid = get_agreement_df(REF_ANNOTATIONS_PATH / \"adam_valid.csv\", REF_ANNOTATIONS_PATH / \"jano_valid.csv\")\n",
    "agreement_all = pd.concat([agreement_train, agreement_valid])\n",
    "conflicting_df = agreement_all.loc[~agreement_all.agreement].copy()"
   ]
  },
  {
   "cell_type": "code",
   "execution_count": 7,
   "metadata": {},
   "outputs": [
    {
     "data": {
      "text/plain": [
       "0.7617784008411355"
      ]
     },
     "execution_count": 7,
     "metadata": {},
     "output_type": "execute_result"
    }
   ],
   "source": [
    "# Measure Cohen's kappa\n",
    "# For interpretation, see https://hrcak.srce.hr/file/132393.\n",
    "# We're aiming for 0.9+.\n",
    "cohen_kappa_score(agreement_all.label_adam, agreement_all.label_jano)"
   ]
  },
  {
   "cell_type": "code",
   "execution_count": 11,
   "metadata": {},
   "outputs": [],
   "source": [
    "# Load CC dataset and fill-in paths to pdfs of conflicting instances\n",
    "dset = CCDataset.from_json(REPO_ROOT / \"dataset/cc_final_run_may_23/dataset.json\")\n",
    "conflicting_df[\"report_path\"] = conflicting_df.dgst.map(lambda x: \"file:/\" + str(dset[x].state.report_pdf_path))\n",
    "conflicting_df[\"st_path\"] = conflicting_df.dgst.map(lambda x: \"file:/\" + str(dset[x].state.st_pdf_path))\n",
    "conflicting_df.loc[:, [\"referenced_cert_id\", \"label_adam\", \"label_jano\", \"comment\", \"report_path\", \"st_path\"]].to_csv(REF_ANNOTATIONS_PATH / \"conflicting.csv\", index=False)"
   ]
  }
 ],
 "metadata": {
  "kernelspec": {
   "display_name": "venv",
   "language": "python",
   "name": "python3"
  },
  "language_info": {
   "codemirror_mode": {
    "name": "ipython",
    "version": 3
   },
   "file_extension": ".py",
   "mimetype": "text/x-python",
   "name": "python",
   "nbconvert_exporter": "python",
   "pygments_lexer": "ipython3",
   "version": "3.8.16"
  },
  "orig_nbformat": 4
 },
 "nbformat": 4,
 "nbformat_minor": 2
}
