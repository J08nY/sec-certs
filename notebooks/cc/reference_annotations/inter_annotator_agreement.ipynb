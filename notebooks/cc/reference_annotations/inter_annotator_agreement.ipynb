{
 "cells": [
  {
   "cell_type": "code",
   "execution_count": 5,
   "metadata": {},
   "outputs": [
    {
     "name": "stdout",
     "output_type": "stream",
     "text": [
      "Cohen's Kappa: 0.7101271765978729\n",
      "Percentage agreement: 0.8225\n"
     ]
    }
   ],
   "source": [
    "import pandas as pd\n",
    "from pathlib import Path\n",
    "from sklearn.metrics import cohen_kappa_score\n",
    "\n",
    "\n",
    "def load_all_dataframes(base_folder: Path) -> pd.DataFrame:\n",
    "    splits = [\"train\", \"valid\", \"test\"]\n",
    "\n",
    "    df_train, df_valid, df_test = pd.DataFrame(), pd.DataFrame(), pd.DataFrame()\n",
    "    for split in splits:\n",
    "        df = pd.read_csv(base_folder / f\"{split}.csv\")\n",
    "        if split == \"train\":\n",
    "            df_train = df\n",
    "        elif split == \"valid\":\n",
    "            df_valid = df\n",
    "        else:\n",
    "            df_test = df\n",
    "\n",
    "    return pd.concat([df_train, df_valid, df_test])\n",
    "\n",
    "\n",
    "REPO_ROOT = Path(\".\")\n",
    "\n",
    "adam_df = load_all_dataframes(REPO_ROOT / \"src/sec_certs/data/reference_annotations/adam\")\n",
    "jano_df = load_all_dataframes(REPO_ROOT / \"src/sec_certs/data/reference_annotations/jano\")\n",
    "agreement_series = adam_df.label == jano_df.label\n",
    "\n",
    "print(f\"Cohen's Kappa: {cohen_kappa_score(adam_df.label, jano_df.label)}\")\n",
    "print(f\"Percentage agreement: {agreement_series.loc[agreement_series == True].count() / agreement_series.count()}\")\n"
   ]
  }
 ],
 "metadata": {
  "kernelspec": {
   "display_name": "venv",
   "language": "python",
   "name": "python3"
  },
  "language_info": {
   "codemirror_mode": {
    "name": "ipython",
    "version": 3
   },
   "file_extension": ".py",
   "mimetype": "text/x-python",
   "name": "python",
   "nbconvert_exporter": "python",
   "pygments_lexer": "ipython3",
   "version": "3.10.13"
  },
  "orig_nbformat": 4
 },
 "nbformat": 4,
 "nbformat_minor": 2
}
