{
 "cells": [
  {
   "attachments": {},
   "cell_type": "markdown",
   "metadata": {
    "collapsed": true,
    "pycharm": {
     "name": "#%% md\n"
    }
   },
   "source": [
    "# References\n",
    "\n",
    "This notebook contains analysis of certificate references in Common Criteria certificates.\n",
    "\n",
    "The notebook has two parts, an analysis part and a network visualization part.\n",
    "But first some common initialization and data loading."
   ]
  },
  {
   "cell_type": "code",
   "execution_count": 29,
   "metadata": {
    "pycharm": {
     "name": "#%%\n"
    }
   },
   "outputs": [],
   "source": [
    "from __future__ import annotations\n",
    "import networkx as nx\n",
    "import networkx.algorithms.community as nx_comm\n",
    "import matplotlib\n",
    "import matplotlib.pyplot as plt\n",
    "import matplotlib.ticker as mtick\n",
    "from sec_certs.dataset.cc import CCDataset\n",
    "from sec_certs.model.references.reference_finder import ReferenceFinder\n",
    "from sec_certs.sample.cc_certificate_id import CertificateId\n",
    "import pandas as pd\n",
    "import seaborn as sns\n",
    "import numpy as np\n",
    "import sys\n",
    "from tqdm import tqdm\n",
    "from pathlib import Path\n",
    "\n",
    "\n",
    "sys.path.insert(0, \"./../\")\n",
    "from fixed_sankey_plot import sankey\n",
    "\n",
    "%matplotlib inline\n",
    "\n",
    "# matplotlib.use(\"pgf\")\n",
    "sns.set_theme(style='white')\n",
    "plt.rcParams[\"axes.linewidth\"] = 0.5\n",
    "plt.rcParams[\"legend.fontsize\"] = 6.5\n",
    "plt.rcParams[\"xtick.labelsize\"] = 8\n",
    "plt.rcParams[\"ytick.labelsize\"] = 8\n",
    "plt.rcParams[\"ytick.left\"] = True\n",
    "plt.rcParams['ytick.major.size'] = 5\n",
    "plt.rcParams['ytick.major.width'] = 0.5\n",
    "plt.rcParams['ytick.major.pad'] = 0\n",
    "plt.rcParams[\"xtick.bottom\"] = True\n",
    "plt.rcParams['xtick.major.size'] = 5\n",
    "plt.rcParams['xtick.major.width'] = 0.5\n",
    "plt.rcParams['xtick.major.pad'] = 0\n",
    "plt.rcParams[\"pgf.texsystem\"] = \"pdflatex\"\n",
    "plt.rcParams[\"font.family\"] = \"serif\"\n",
    "plt.rcParams[\"text.usetex\"] = True\n",
    "plt.rcParams[\"pgf.rcfonts\"] = False\n",
    "plt.rcParams[\"axes.titlesize\"] = 8\n",
    "plt.rcParams[\"legend.handletextpad\"] = 0.3\n",
    "plt.rcParams['lines.markersize'] = 4\n",
    "plt.rcParams['savefig.pad_inches'] = 0.01\n",
    "sns.set_palette(\"deep\")\n",
    "\n",
    "#plt.style.use(\"seaborn-whitegrid\")\n",
    "#sns.set_palette(\"deep\")\n",
    "#sns.set_context(\"notebook\")  # Set to \"paper\" for use in paper :)\n",
    "\n",
    "#plt.rcParams['figure.figsize'] = (10, 6)\n",
    "\n",
    "RESULTS_DIR = Path(\"./results/references\")\n",
    "RESULTS_DIR.mkdir(exist_ok=True, parents=True)"
   ]
  },
  {
   "cell_type": "code",
   "execution_count": null,
   "metadata": {
    "pycharm": {
     "name": "#%%\n"
    }
   },
   "outputs": [],
   "source": [
    "# Initialize\n",
    "dset = CCDataset.from_web_latest()"
   ]
  },
  {
   "cell_type": "code",
   "execution_count": null,
   "metadata": {},
   "outputs": [],
   "source": [
    "df = dset.to_pandas()\n",
    "df_id_rich = df.loc[df.cert_id.notnull()].copy()"
   ]
  },
  {
   "attachments": {},
   "cell_type": "markdown",
   "metadata": {
    "pycharm": {
     "name": "#%% md\n"
    }
   },
   "source": [
    "## Reference analysis\n"
   ]
  },
  {
   "attachments": {},
   "cell_type": "markdown",
   "metadata": {},
   "source": [
    "### References to certificate with unknown IDs"
   ]
  },
  {
   "cell_type": "code",
   "execution_count": 32,
   "metadata": {},
   "outputs": [],
   "source": [
    "def ref_lookup(kw_attr):\n",
    "            def func(cert):\n",
    "                kws = getattr(cert.pdf_data, kw_attr)\n",
    "                if not kws:\n",
    "                    return set()\n",
    "                res = set()\n",
    "                for scheme, matches in kws[\"cc_cert_id\"].items():\n",
    "                    for match in matches:\n",
    "                        try:\n",
    "                            canonical = CertificateId(scheme, match).canonical\n",
    "                            res.add(canonical)\n",
    "                        except Exception:\n",
    "                            res.add(match)\n",
    "                return res\n",
    "\n",
    "            return func\n",
    "\n",
    "report_finder = ReferenceFinder()\n",
    "report_finder.fit(dset.certs, lambda cert: cert.heuristics.cert_id, ref_lookup(\"report_keywords\"))\n",
    "report_unknown_references = report_finder.unknown_references\n",
    "\n",
    "st_finder = ReferenceFinder()\n",
    "st_finder.fit(dset.certs, lambda cert: cert.heuristics.cert_id, ref_lookup(\"st_keywords\"))\n",
    "st_unknown_references = st_finder.unknown_references\n",
    "\n",
    "# References are stored in `report_unknown_references` and `st_unknown_references` for further analysis"
   ]
  },
  {
   "attachments": {},
   "cell_type": "markdown",
   "metadata": {},
   "source": [
    "### Count numbers of reference-rich certificates\n",
    "\n",
    "- From the numbers follows that whenever a certificate is directly referencing some else, it also indirectly references some else\n",
    "- We have more outgoing references than ingoing references, which kinda makes sense. You don't have to be aware that some other cert references you"
   ]
  },
  {
   "cell_type": "code",
   "execution_count": null,
   "metadata": {
    "pycharm": {
     "name": "#%%\n"
    },
    "scrolled": true
   },
   "outputs": [],
   "source": [
    "df[\"has_outgoing_direct_references\"] = df.directly_referencing.notnull()\n",
    "df[\"has_incoming_direct_references\"] = df.directly_referenced_by.notnull()\n",
    "df[\"has_outgoing_indirect_references\"] = df.indirectly_referencing.notnull()\n",
    "df[\"has_incoming_indirect_references\"] = df.indirectly_referenced_by.notnull()\n",
    "\n",
    "df_id_rich[\"has_outgoing_direct_references\"] = df_id_rich.directly_referencing.notnull()\n",
    "df_id_rich[\"has_incoming_direct_references\"] = df_id_rich.directly_referenced_by.notnull()\n",
    "df_id_rich[\"has_outgoing_indirect_references\"] = df_id_rich.indirectly_referencing.notnull()\n",
    "df_id_rich[\"has_incoming_indirect_references\"] = df_id_rich.indirectly_referenced_by.notnull()\n",
    "\n",
    "archived_cert_id_list = set(df_id_rich[df_id_rich.status == \"archived\"].cert_id)\n",
    "\n",
    "def len_if_exists(x) -> int:\n",
    "    return len(x) if pd.notnull(x) else 0\n",
    "\n",
    "df_id_rich[\"n_references\"] = df_id_rich.directly_referencing.map(len_if_exists)\n",
    "df_id_rich[\"n_trans_references\"] = df_id_rich.indirectly_referencing.map(len_if_exists)\n",
    "df_id_rich[\"n_referenced_by\"] = df_id_rich.directly_referenced_by.map(len_if_exists)\n",
    "df_id_rich[\"n_trans_referenced_by\"] = df_id_rich.indirectly_referenced_by.map(len_if_exists)\n",
    "\n",
    "n_ref_smartcards = df_id_rich.loc[(df_id_rich.directly_referencing.notnull()) & (df_id_rich.category == \"ICs, Smart Cards and Smart Card-Related Devices and Systems\")].shape[0]\n",
    "n_ref_others = df_id_rich.loc[(df_id_rich.directly_referencing.notnull()) & (df_id_rich.category != \"ICs, Smart Cards and Smart Card-Related Devices and Systems\")].shape[0]\n",
    "print(f\"Number of smartcard certificates that reference some other certificate: {n_ref_smartcards}\")\n",
    "print(f\"Number of non-smartcard certificates that reference some other certificate: {n_ref_others}\")"
   ]
  },
  {
   "attachments": {},
   "cell_type": "markdown",
   "metadata": {},
   "source": [
    "## Distribution of references and certificate reach"
   ]
  },
  {
   "cell_type": "code",
   "execution_count": null,
   "metadata": {},
   "outputs": [],
   "source": [
    "df_melted = df_id_rich[[\"n_references\", \"n_trans_references\", \"n_referenced_by\", \"n_trans_referenced_by\"]].melt()\n",
    "df_melted[\"incoming\"] = df_melted.variable.map(lambda x: False if x.endswith(\"by\") else True)\n",
    "sns.catplot(data=df_melted, kind=\"violin\", x=\"variable\", y=\"value\", col=\"incoming\", sharex=False, sharey=False)\n",
    "plt.savefig(RESULTS_DIR / \"violin_n_references.pdf\", bbox_inches=\"tight\")\n",
    "plt.show()"
   ]
  },
  {
   "attachments": {},
   "cell_type": "markdown",
   "metadata": {},
   "source": [
    "## Evolution of certificate reach for top-10 certificates"
   ]
  },
  {
   "cell_type": "code",
   "execution_count": null,
   "metadata": {},
   "outputs": [],
   "source": [
    "top_10 = df_id_rich.n_trans_referenced_by.sort_values(ascending=False).head(10)\n",
    "top_10_cert_ids = df_id_rich.loc[top_10.index].cert_id\n",
    "top_10"
   ]
  },
  {
   "cell_type": "code",
   "execution_count": null,
   "metadata": {},
   "outputs": [],
   "source": [
    "def find_reach_over_time(df: pd.DataFrame, cert_id: str, date_range: pd.DatetimeIndex) -> pd.Series:\n",
    "    df_copy = df.copy()\n",
    "    df_copy[\"is_referenced_by\"] = df_copy.indirectly_referencing.map(lambda x: False if pd.isnull(x) else cert_id in x)\n",
    "    df_subset = df_copy.loc[df_copy.is_referenced_by]\n",
    "    dct = {}\n",
    "    for date in date_range:\n",
    "        dct[date] = df_subset.loc[(date >= df_subset.not_valid_before) & (date <= df_subset.not_valid_after)].shape[0]\n",
    "    return pd.Series(dct, name=cert_id)\n",
    "\n",
    "certs_with_top_reach = top_10_cert_ids.tolist()\n",
    "date_range = pd.date_range(df_id_rich.not_valid_before.min(), df_id_rich.not_valid_before.max())\n",
    "data = [find_reach_over_time(df_id_rich, x, date_range) for x in tqdm(certs_with_top_reach)]\n",
    "df_reach_evolution = pd.concat(data, axis=1)\n",
    "\n",
    "df_reach_evolution.index.name = \"date\"\n",
    "df_reach_evolution = df_reach_evolution.reset_index()\n",
    "\n",
    "\n",
    "df_reach_evolution_melted = df_reach_evolution.melt(id_vars=\"date\", var_name=\"certificate\", value_name=\"reach\")\n",
    "\n",
    "g = sns.lineplot(data=df_reach_evolution_melted, x=\"date\", y=\"reach\", hue=\"certificate\")\n",
    "g.set(title=\"Reach of top-10 certificates in time\", xlabel=\"Time\", ylabel=\"Certificate reach\")\n",
    "plt.savefig(RESULTS_DIR / \"lineplot_top_certificate_reach.pdf\", bbox_inches=\"tight\")\n",
    "plt.show()"
   ]
  },
  {
   "attachments": {},
   "cell_type": "markdown",
   "metadata": {},
   "source": [
    "## Average number of references & certificate reach over time"
   ]
  },
  {
   "cell_type": "code",
   "execution_count": null,
   "metadata": {},
   "outputs": [],
   "source": [
    "def compute_avg_references(df: pd.DataFrame, smartcards: bool, variable: str, date_range: pd.DateTimeIndex) -> dict:\n",
    "    \"\"\"\n",
    "    Computes a dictionary (from which series can be created) where index is date and value is average 'variable' value\n",
    "    for certificates that were valid at that time, coming from either smardcards or other categories.\n",
    "    E.g., variable can be `directly_referencing`.\n",
    "    \"\"\"\n",
    "    df_copy = df.copy()\n",
    "    df_copy[\"target_variable\"] = df[variable].map(lambda x: len(x) if pd.notnull(x) else 0)\n",
    "\n",
    "    dct = {}\n",
    "    for date in date_range:\n",
    "        if smartcards:\n",
    "            dct[date] = df_copy.loc[\n",
    "                (date >= df_copy.not_valid_before)\n",
    "                & (date <= df_copy.not_valid_after)\n",
    "                & (df_copy.category == \"ICs, Smart Cards and Smart Card-Related Devices and Systems\")\n",
    "            ][\"target_variable\"].mean()\n",
    "        else:\n",
    "            dct[date] = df_copy.loc[\n",
    "                (date >= df_copy.not_valid_before)\n",
    "                & (date <= df_copy.not_valid_after)\n",
    "                & (df_copy.category != \"ICs, Smart Cards and Smart Card-Related Devices and Systems\")\n",
    "            ][\"target_variable\"].mean()\n",
    "    return dct\n",
    "\n",
    "date_range =  pd.date_range(df_id_rich.not_valid_before.min(), df_id_rich.not_valid_before.max())\n",
    "\n",
    "refs_smartcards = compute_avg_references(df_id_rich, True, \"directly_referencing\", date_range)\n",
    "trans_refs_smartcards = compute_avg_references(df_id_rich, True, \"indirectly_referencing\", date_range)\n",
    "refs_others = compute_avg_references(df_id_rich, False, \"directly_referencing\", date_range)\n",
    "trans_refs_others = compute_avg_references(df_id_rich, False, \"indirectly_referencing\", date_range)\n",
    "df_avg_num_refs = pd.concat(\n",
    "    [\n",
    "        pd.Series(refs_smartcards, name=\"smartcard references\"),\n",
    "        pd.Series(refs_others, name=\"other references\"),\n",
    "        pd.Series(trans_refs_smartcards, name=\"smartcard transitive references\"),\n",
    "        pd.Series(trans_refs_others, name=\"other transitive references\"),\n",
    "    ],\n",
    "    axis=1,\n",
    ")\n",
    "df_avg_num_refs.index.name = \"date\"\n",
    "df_avg_num_refs = df_avg_num_refs.reset_index()\n",
    "df_avg_num_refs_melted = df_avg_num_refs.melt(id_vars=[\"date\"], var_name=\"category\", value_name=\"n_references\")\n",
    "\n",
    "reach_smartcards = compute_avg_references(df_id_rich, True, \"indirectly_referenced_by\", date_range)\n",
    "reach_others = compute_avg_references(df_id_rich, False, \"indirectly_referenced_by\", date_range)\n",
    "\n",
    "df_vulnerable = df_id_rich.loc[df_id_rich.related_cves.notnull()]\n",
    "reach_vuln_smartcards = compute_avg_references(df_vulnerable, True, \"indirectly_referenced_by\", date_range)\n",
    "reach_vuln_others = compute_avg_references(df_vulnerable, False, \"indirectly_referenced_by\", date_range)\n",
    "\n",
    "df_avg_reach = pd.concat(\n",
    "    [\n",
    "        pd.Series(reach_smartcards, name=\"transitively referenced smartcards\"),\n",
    "        pd.Series(reach_others, name=\"transitively referenced by others\"),\n",
    "        pd.Series(reach_vuln_smartcards, name=\"transitively referenced vulnerable smartcard\"),\n",
    "        pd.Series(reach_vuln_others, name=\"transitively referenced vulnerable other cert.\"),\n",
    "    ],\n",
    "    axis=1,\n",
    ")\n",
    "df_avg_reach.index.name = \"date\"\n",
    "df_avg_reach = df_avg_reach.reset_index()\n",
    "df_avg_reach_melted = df_avg_reach.melt(id_vars=[\"date\"], var_name=\"category\", value_name=\"certificate reach\")\n",
    "\n",
    "g = sns.lineplot(data=df_avg_num_refs_melted, x=\"date\", y=\"n_references\", hue=\"category\")\n",
    "g.set(title=\"Average number of references in certificates\", xlabel=\"Time\", ylabel=\"Number of references\")\n",
    "plt.savefig(RESULTS_DIR / \"lineplot_avg_n_references.pdf\", bbox_inches=\"tight\")\n",
    "plt.show()\n",
    "\n",
    "g = sns.lineplot(data=df_avg_reach_melted, x=\"date\", y=\"certificate reach\", hue=\"category\", errorbar=None)\n",
    "g.set(title=\"Average reach of a certificate in time\", xlabel=\"Time\", ylabel=\"Reach\")\n",
    "plt.savefig(RESULTS_DIR / \"lineplot_avg_reach.pdf\", bbox_inches=\"tight\")\n",
    "plt.show()\n"
   ]
  },
  {
   "attachments": {},
   "cell_type": "markdown",
   "metadata": {},
   "source": [
    "## Number of active vs. number of reference-rich certificates in time"
   ]
  },
  {
   "cell_type": "code",
   "execution_count": null,
   "metadata": {},
   "outputs": [],
   "source": [
    "date_range = pd.date_range(df_id_rich.not_valid_before.min(), df_id_rich.not_valid_before.max())\n",
    "dct_active_all = {}\n",
    "dct_reference_rich_all = {}\n",
    "dct_referenced_all = {}\n",
    "dct_isolated_all = {}\n",
    "dct_active_others = {}\n",
    "dct_reference_rich_others = {}\n",
    "dct_active_smartcards = {}\n",
    "dct_reference_rich_smartcards = {}\n",
    "for date in tqdm(date_range):\n",
    "    active_certs = df_id_rich.loc[(date >= df_id_rich.not_valid_before) & (date <= df_id_rich.not_valid_after)]\n",
    "    dct_active_all[date] = active_certs.shape[0]\n",
    "    dct_isolated_all[date] = active_certs.loc[(active_certs.n_references == 0) & (active_certs.n_referenced_by == 0)].shape[0]\n",
    "    dct_active_others[date] = active_certs.loc[\n",
    "        active_certs.category != \"ICs, Smart Cards and Smart Card-Related Devices and Systems\"\n",
    "    ].shape[0]\n",
    "    dct_active_smartcards[date] = active_certs.loc[\n",
    "        active_certs.category == \"ICs, Smart Cards and Smart Card-Related Devices and Systems\"\n",
    "    ].shape[0]\n",
    "    dct_reference_rich_all[date] = active_certs.loc[active_certs.n_references > 0].shape[0]\n",
    "    dct_referenced_all[date] = active_certs.loc[active_certs.n_referenced_by > 0].shape[0]\n",
    "    dct_reference_rich_others[date] = active_certs.loc[\n",
    "        (active_certs.category != \"ICs, Smart Cards and Smart Card-Related Devices and Systems\")\n",
    "        & (active_certs.n_references > 0)\n",
    "    ].shape[0]\n",
    "    dct_reference_rich_smartcards[date] = active_certs.loc[\n",
    "        (active_certs.category == \"ICs, Smart Cards and Smart Card-Related Devices and Systems\")\n",
    "        & (active_certs.n_references > 0)\n",
    "    ].shape[0]\n",
    "\n",
    "df_active_vs_ref_rich = pd.concat(\n",
    "    [\n",
    "        pd.Series(dct_active_others, name=\"active other categories\"),\n",
    "        pd.Series(dct_active_smartcards, name=\"active smartcards\"),\n",
    "        pd.Series(dct_reference_rich_others, name=\"ref. rich other categories\"),\n",
    "        pd.Series(dct_reference_rich_smartcards, name=\"ref. rich smartcards\"),\n",
    "    ],\n",
    "    axis=1,\n",
    ")\n",
    "\n",
    "df_active_vs_ref_rich.index.name = \"date\"\n",
    "df_active_vs_ref_rich = df_active_vs_ref_rich.reset_index()\n",
    "\n",
    "df_active_vs_ref_rich_melted = df_active_vs_ref_rich.melt(\n",
    "    id_vars=[\"date\"], var_name=\"category\", value_name=\"number of certificates\"\n",
    ")\n",
    "g = sns.lineplot(data=df_active_vs_ref_rich_melted, x=\"date\", y=\"number of certificates\", hue=\"category\")\n",
    "g.set(\n",
    "    title=\"Number of active certificates vs. reference-rich certificates in time\",\n",
    "    xlabel=\"Time\",\n",
    "    ylabel=\"Number of certificates\",\n",
    ")\n",
    "plt.savefig(RESULTS_DIR / \"lienplot_n_active_certs_vs_n_references.pdf\", bbox_inches=\"tight\")\n",
    "plt.show()\n",
    "\n",
    "\n",
    "df_summary_references = pd.concat(\n",
    "    [\n",
    "        pd.Series(dct_active_all, name=\"active certificates\"),\n",
    "        pd.Series(dct_reference_rich_all, name=\"ref. rich certificates\"),\n",
    "        pd.Series(dct_referenced_all, name=\"referenced certificates\"),\n",
    "        pd.Series(dct_isolated_all, name=\"isolated certificates\"),\n",
    "    ], axis=1\n",
    ")\n",
    "df_summary_references.index.name = \"date\"\n",
    "df_summary_references = df_summary_references.reset_index()\n",
    "df_summary_references_melted = df_summary_references.melt(id_vars=[\"date\"], var_name=\"category\", value_name=\"number of certificates\")\n",
    "\n",
    "g = sns.lineplot(data=df_summary_references_melted, x=\"date\", y=\"number of certificates\", hue=\"category\", errorbar=None)\n",
    "g.set(\n",
    "    title=\"Number of active certificates vs. reference-rich vs. referenced certificates in time\",\n",
    "    xlabel=\"Time\",\n",
    "    ylabel=\"Number of certificates\",\n",
    ")\n",
    "plt.savefig(RESULTS_DIR / \"lineplot_references_summary.pdf\", bbox_inches=\"tight\")\n",
    "plt.show()\n"
   ]
  },
  {
   "cell_type": "code",
   "execution_count": null,
   "metadata": {},
   "outputs": [],
   "source": [
    "df_summary_references"
   ]
  },
  {
   "cell_type": "code",
   "execution_count": null,
   "metadata": {},
   "outputs": [],
   "source": [
    "df_ratios = df_summary_references.copy()\n",
    "df_ratios[\"ref. rich certificates\"] = df_ratios[\"ref. rich certificates\"] / df_ratios[\"active certificates\"]\n",
    "df_ratios[\"referenced certificates\"] = df_ratios[\"referenced certificates\"] / df_ratios[\"active certificates\"]\n",
    "df_ratios[\"isolated certificates\"] = df_ratios[\"isolated certificates\"] / df_ratios[\"active certificates\"]\n",
    "df_ratios = df_ratios.drop(columns=[\"active certificates\"])\n",
    "df_ratios_melted = df_ratios.melt(id_vars=[\"date\"], var_name=\"category\", value_name=\"ratio of certificates\")\n",
    "\n",
    "g = sns.lineplot(data=df_ratios_melted, x=\"date\", y=\"ratio of certificates\", hue=\"category\", errorbar=None)\n",
    "g.set(\n",
    "    title=\"ratio of reference-rich vs. referenced vs. isolated certificates in time\",\n",
    "    xlabel=\"Time\",\n",
    "    ylabel=\"Number of certificates\",\n",
    ")\n",
    "plt.savefig(RESULTS_DIR / \"lineplot_reference_ratio.pdf\", bbox_inches=\"tight\")\n",
    "plt.show()"
   ]
  },
  {
   "attachments": {},
   "cell_type": "markdown",
   "metadata": {},
   "source": [
    "## Number of active certificates that reference some archived certificate in time"
   ]
  },
  {
   "cell_type": "code",
   "execution_count": null,
   "metadata": {},
   "outputs": [],
   "source": [
    "date_range = pd.date_range(df_id_rich.not_valid_before.min(), df_id_rich.not_valid_before.max())\n",
    "dct_direct_others = {}\n",
    "dct_direct_smartcards = {}\n",
    "dct_transitive_others = {}\n",
    "dct_transitive_smartcards = {}\n",
    "for date in tqdm(date_range):\n",
    "    active_certs = df_id_rich.loc[(date >= df_id_rich.not_valid_before) & (date <= df_id_rich.not_valid_after)].copy()\n",
    "    active_certs_cert_ids = set(active_certs[\"cert_id\"].tolist())\n",
    "    active_certs[\"no_intersection\"] = active_certs.directly_referencing.map(\n",
    "        lambda x: False if pd.isnull(x) else not x.intersection(active_certs_cert_ids)\n",
    "    )\n",
    "    active_certs[\"no_transitive_intersection\"] = active_certs.indirectly_referencing.map(\n",
    "        lambda x: False if pd.isnull(x) else not x.intersection(active_certs_cert_ids)\n",
    "    )\n",
    "    dct_direct_others[date] = active_certs.loc[\n",
    "        (active_certs.no_intersection)\n",
    "        & (active_certs.category != \"ICs, Smart Cards and Smart Card-Related Devices and Systems\")\n",
    "    ].shape[0]\n",
    "    dct_transitive_others[date] = active_certs.loc[\n",
    "        (active_certs.no_transitive_intersection)\n",
    "        & (active_certs.category != \"ICs, Smart Cards and Smart Card-Related Devices and Systems\")\n",
    "    ].shape[0]\n",
    "    dct_direct_smartcards[date] = active_certs.loc[\n",
    "        (active_certs.no_intersection)\n",
    "        & (active_certs.category == \"ICs, Smart Cards and Smart Card-Related Devices and Systems\")\n",
    "    ].shape[0]\n",
    "    dct_transitive_smartcards[date] = active_certs.loc[\n",
    "        (active_certs.no_transitive_intersection)\n",
    "        & (active_certs.category == \"ICs, Smart Cards and Smart Card-Related Devices and Systems\")\n",
    "    ].shape[0]\n",
    "\n",
    "df_refs_to_archived = pd.concat(\n",
    "    [\n",
    "        pd.Series(dct_direct_others, name=\"direct reference others\"),\n",
    "        pd.Series(dct_transitive_others, name=\"transitive reference others\"),\n",
    "        pd.Series(dct_direct_smartcards, name=\"direct reference smartcards\"),\n",
    "        pd.Series(dct_transitive_smartcards, name=\"transitive reference smartcards\"),\n",
    "    ],\n",
    "    axis=1,\n",
    ")\n",
    "df_refs_to_archived.index.name = \"date\"\n",
    "df_refs_to_archived = df_refs_to_archived.reset_index()\n",
    "df_refs_to_archived_melted = df_refs_to_archived.melt(\n",
    "    id_vars=[\"date\"], var_name=\"reference type\", value_name=\"number of certificates\"\n",
    ")\n",
    "\n",
    "g = sns.lineplot(data=df_refs_to_archived_melted, x=\"date\", y=\"number of certificates\", hue=\"reference type\")\n",
    "g.set(\n",
    "    title=\"Number of active certificates that reference some archived certificate\",\n",
    "    xlabel=\"Time\",\n",
    "    ylabel=\"Number of certificates\",\n",
    ")\n",
    "plt.savefig(RESULTS_DIR / \"lienplot_active_certs_referencing_archived.pdf\", bbox_inches=\"tight\")\n",
    "plt.show()\n"
   ]
  },
  {
   "attachments": {},
   "cell_type": "markdown",
   "metadata": {},
   "source": [
    "## Certificates referencing vulnerable certificates in time"
   ]
  },
  {
   "cell_type": "code",
   "execution_count": null,
   "metadata": {},
   "outputs": [],
   "source": [
    "date_range = pd.date_range(df_id_rich.not_valid_before.min(), df_id_rich.not_valid_before.max())\n",
    "vulnerable_cert_ids = set(df_id_rich.loc[df_id_rich.related_cves.notnull()].cert_id.tolist())\n",
    "dct_direct_others = {}\n",
    "dct_transitive_others = {}\n",
    "dct_direct_smartcards = {}\n",
    "dct_transitive_smartcards = {}\n",
    "for date in tqdm(date_range):\n",
    "    active_certs = df_id_rich.loc[(date >= df_id_rich.not_valid_before) & (date <= df_id_rich.not_valid_after)].copy()\n",
    "    active_certs[\"directly_references_vulnerable_cert\"] = active_certs.directly_referencing.map(\n",
    "        lambda x: False if pd.isnull(x) else bool(x.intersection(vulnerable_cert_ids))\n",
    "    )\n",
    "    active_certs[\"transitively_references_vulnerable_cert\"] = active_certs.indirectly_referencing.map(\n",
    "        lambda x: False if pd.isnull(x) else bool(x.intersection(vulnerable_cert_ids))\n",
    "    )\n",
    "    dct_direct_others[date] = active_certs.loc[\n",
    "        (active_certs.directly_references_vulnerable_cert)\n",
    "        & (active_certs.category != \"ICs, Smart Cards and Smart Card-Related Devices and Systems\")\n",
    "    ].shape[0]\n",
    "    dct_transitive_others[date] = active_certs.loc[\n",
    "        (active_certs.transitively_references_vulnerable_cert)\n",
    "        & (active_certs.category != \"ICs, Smart Cards and Smart Card-Related Devices and Systems\")\n",
    "    ].shape[0]\n",
    "    dct_direct_smartcards[date] = active_certs.loc[\n",
    "        (active_certs.directly_references_vulnerable_cert)\n",
    "        & (active_certs.category == \"ICs, Smart Cards and Smart Card-Related Devices and Systems\")\n",
    "    ].shape[0]\n",
    "    dct_transitive_smartcards[date] = active_certs.loc[\n",
    "        (active_certs.transitively_references_vulnerable_cert)\n",
    "        & (active_certs.category == \"ICs, Smart Cards and Smart Card-Related Devices and Systems\")\n",
    "    ].shape[0]\n",
    "\n",
    "df_references_vuln = pd.concat(\n",
    "    [\n",
    "        pd.Series(dct_direct_others, name=\"direct references others\"),\n",
    "        pd.Series(dct_transitive_others, name=\"transitive references others\"),\n",
    "        pd.Series(dct_direct_smartcards, name=\"direct references smartcards\"),\n",
    "        pd.Series(dct_transitive_smartcards, name=\"transitive references smartcards\"),\n",
    "    ],\n",
    "    axis=1,\n",
    ")\n",
    "df_references_vuln.index.name = \"date\"\n",
    "df_references_vuln = df_references_vuln.reset_index()\n",
    "df_references_vuln_melted = df_references_vuln.melt(\n",
    "    id_vars=\"date\", var_name=\"reference type\", value_name=\"number of certificates\"\n",
    ")\n",
    "\n",
    "g = sns.lineplot(data=df_references_vuln_melted, x=\"date\", y=\"number of certificates\", hue=\"reference type\")\n",
    "g.set(\n",
    "    title=\"Number of active certificates that reference some vulnerable certificate\",\n",
    "    xlabel=\"Time\",\n",
    "    ylabel=\"Number of certificates\",\n",
    ")\n",
    "plt.savefig(RESULTS_DIR / \"lienplot_active_certs_referencing_vulnerable.pdf\", bbox_inches=\"tight\")\n",
    "plt.show()\n"
   ]
  },
  {
   "attachments": {},
   "cell_type": "markdown",
   "metadata": {},
   "source": [
    "### Plot direct references per category (count plot)"
   ]
  },
  {
   "cell_type": "code",
   "execution_count": null,
   "metadata": {
    "pycharm": {
     "name": "#%%\n"
    }
   },
   "outputs": [],
   "source": [
    "figure, axes = plt.subplots(1, 2)\n",
    "figure.set_size_inches(16, 10)\n",
    "figure.set_tight_layout(True)\n",
    "\n",
    "col_to_depict = [\"has_outgoing_direct_references\", \"has_incoming_direct_references\"]\n",
    "\n",
    "for index, col in enumerate(col_to_depict):\n",
    "    countplot = sns.countplot(data=df, x=\"category\", hue=col, ax=axes[index])\n",
    "    countplot.set(\n",
    "        xlabel=\"Category\",\n",
    "        ylabel=\"Outgoing direct references\",\n",
    "        title=f\"Countplot of {' '.join(col.split('_'))}\",\n",
    "    )\n",
    "    countplot.tick_params(axis=\"x\", rotation=90)\n",
    "    countplot.legend(title=' '.join(col.split('_')), bbox_to_anchor=(1.05, 1), loc=2, borderaxespad=0.0)\n",
    "\n",
    "plt.savefig(str(RESULTS_DIR / \"references_countplot.pdf\"), bbox_inches=\"tight\")\n",
    "plt.close(figure)\n"
   ]
  },
  {
   "attachments": {},
   "cell_type": "markdown",
   "metadata": {},
   "source": [
    "### Plot direct references per category (Sankey diagram)"
   ]
  },
  {
   "cell_type": "code",
   "execution_count": null,
   "metadata": {
    "pycharm": {
     "name": "#%%\n"
    }
   },
   "outputs": [],
   "source": [
    "cert_id_to_category_mapping = dict(zip(df.cert_id, df.category))\n",
    "cert_id_to_category_mapping[np.NaN] = \"No references\"\n",
    "\n",
    "exploded = df_id_rich.loc[:, [\"category\", \"directly_referencing\"]].explode(\"directly_referencing\")\n",
    "exploded[\"ref_category\"] = exploded.directly_referencing.map(lambda x: cert_id_to_category_mapping[x] if pd.notnull(x) else np.nan)\n",
    "exploded = exploded.loc[exploded.ref_category.notnull()]\n",
    "\n",
    "exploded_with_refs = exploded.loc[exploded.ref_category != \"No references\"]\n",
    "\n",
    "all_categories = set(exploded.category.unique()) | set(exploded.ref_category.unique())\n",
    "colors = list(sns.color_palette(\"hls\", len(all_categories), as_cmap=False).as_hex())\n",
    "color_dict = dict(zip(all_categories, colors))\n",
    "\n",
    "figure, axes = plt.subplots(1, 1)\n",
    "figure.set_size_inches(24, 10)\n",
    "figure.set_tight_layout(True)\n",
    "\n",
    "sankey(exploded.category, exploded.ref_category, colorDict=color_dict, leftLabels=list(exploded.category.unique()), rightLabels=list(exploded.ref_category.unique()), fontsize=12, ax=axes)\n",
    "\n",
    "figure.savefig(str(RESULTS_DIR / \"category_references.pdf\"), bbox_inches=\"tight\")\n",
    "figure.savefig(str(RESULTS_DIR / \"category_references.pgf\"), bbox_inches=\"tight\")\n",
    "plt.close(figure)"
   ]
  },
  {
   "attachments": {},
   "cell_type": "markdown",
   "metadata": {},
   "source": [
    "### Plot direct references per scheme (count plot)"
   ]
  },
  {
   "cell_type": "code",
   "execution_count": null,
   "metadata": {
    "pycharm": {
     "name": "#%%\n"
    }
   },
   "outputs": [],
   "source": [
    "figure, axes = plt.subplots(1, 2)\n",
    "figure.set_size_inches(14, 4)\n",
    "figure.set_tight_layout(True)\n",
    "\n",
    "col_to_depict = [\"has_outgoing_direct_references\", \"has_incoming_direct_references\"]\n",
    "\n",
    "for index, col in enumerate(col_to_depict):\n",
    "    countplot = sns.countplot(data=df, x=\"scheme\", hue=col, ax=axes[index])\n",
    "    countplot.set(\n",
    "        xlabel=\"Category\",\n",
    "        ylabel=\"Outgoing direct references\",\n",
    "        title=f\"Countplot of {' '.join(col.split('_'))}\",\n",
    "    )\n",
    "    countplot.tick_params(axis=\"x\", rotation=90)\n",
    "    countplot.legend(title=' '.join(col.split('_')), bbox_to_anchor=(1.05, 1), loc=2, borderaxespad=0.0)\n",
    "\n",
    "plt.savefig(str(RESULTS_DIR / \"references_per_scheme_countplot.pdf\"), bbox_inches=\"tight\")\n",
    "plt.close(figure)"
   ]
  },
  {
   "attachments": {},
   "cell_type": "markdown",
   "metadata": {},
   "source": [
    "### Number of certificates referencing archived certificates (count plot)"
   ]
  },
  {
   "cell_type": "code",
   "execution_count": null,
   "metadata": {
    "pycharm": {
     "name": "#%%\n"
    }
   },
   "outputs": [],
   "source": [
    "def references_archived_cert(references):\n",
    "    if pd.isnull(references):\n",
    "        return False\n",
    "\n",
    "    return any([x in cert_ids] for x in references)\n",
    "\n",
    "cert_ids = set(df.loc[((df.cert_id.notnull()) & (df.status == \"archived\")), \"cert_id\"].tolist())\n",
    "df[\"references_archived_cert\"] = df.directly_referenced_by.map(references_archived_cert)\n",
    "\n",
    "# TODO: We should limit on the number of certificates that referenced an archived certificate at some point where they were active as well.\n",
    "print(f\"Number of certificates that reference some archived certificate: {df.loc[df.references_archived_cert].shape[0]}\")\n",
    "\n",
    "col_to_depict = [\"category\", \"scheme\"]\n",
    "\n",
    "figure, axes = plt.subplots(1, 2)\n",
    "figure.set_size_inches(14, 8)\n",
    "figure.set_tight_layout(True)\n",
    "\n",
    "for index, col in enumerate(col_to_depict):\n",
    "    countplot = sns.countplot(data=df, x=col, hue=\"references_archived_cert\", ax=axes[index])\n",
    "    countplot.set(\n",
    "        xlabel=col,\n",
    "        ylabel=\"Outgoing direct references\",\n",
    "        title=\"Countplot of certificates that reference some archived certificate\",\n",
    "    )\n",
    "    countplot.tick_params(axis=\"x\", rotation=90)\n",
    "    countplot.legend(bbox_to_anchor=(1.05, 1), loc=2, borderaxespad=0.0)"
   ]
  },
  {
   "attachments": {},
   "cell_type": "markdown",
   "metadata": {},
   "source": [
    "### Count scheme references (Sankey diagram)"
   ]
  },
  {
   "cell_type": "code",
   "execution_count": null,
   "metadata": {
    "pycharm": {
     "name": "#%%\n"
    }
   },
   "outputs": [],
   "source": [
    "cert_id_to_scheme_mapping = dict(zip(df.cert_id, df.scheme))\n",
    "\n",
    "df_ref_rich = df_id_rich.loc[df.directly_referencing.notnull()]\n",
    "exploded = df_ref_rich.loc[:, [\"scheme\", \"directly_referencing\"]].explode(\"directly_referencing\")\n",
    "\n",
    "exploded[\"ref_scheme\"] = exploded.directly_referencing.map(cert_id_to_scheme_mapping)\n",
    "exploded = exploded.loc[exploded.ref_scheme.notnull()]\n",
    "\n",
    "all_schemes = set(exploded.scheme.unique()) | set(exploded.ref_scheme.unique())\n",
    "colors = list(sns.color_palette(\"hls\", len(all_schemes), as_cmap=False).as_hex())\n",
    "color_dict = dict(zip(all_schemes, colors))\n",
    "\n",
    "figure, axes = plt.subplots(1, 1)\n",
    "figure.set_size_inches(4, 4)\n",
    "figure.set_tight_layout(True)\n",
    "\n",
    "sankey(exploded.scheme, exploded.ref_scheme, colorDict=color_dict, leftLabels=list(exploded.scheme.unique()), rightLabels=list(exploded.ref_scheme.unique()), fontsize=7, ax=axes)\n",
    "\n",
    "figure.savefig(str(RESULTS_DIR / \"scheme_references.pdf\"), bbox_inches=\"tight\")\n",
    "figure.savefig(str(RESULTS_DIR / \"scheme_references.pgf\"), bbox_inches=\"tight\")\n",
    "plt.show()\n",
    "plt.close(figure)"
   ]
  },
  {
   "attachments": {},
   "cell_type": "markdown",
   "metadata": {},
   "source": [
    "## Reference network visualization"
   ]
  },
  {
   "cell_type": "code",
   "execution_count": null,
   "metadata": {
    "pycharm": {
     "name": "#%%\n"
    }
   },
   "outputs": [],
   "source": [
    "certs_with_ids = {cert.heuristics.cert_id: cert for cert in dset if cert.heuristics.cert_id}\n",
    "\n",
    "print(f\"Certificates in dataset: {len(dset)}\")\n",
    "print(f\"Certificates with extracted IDs: {len(certs_with_ids)}\")"
   ]
  },
  {
   "attachments": {},
   "cell_type": "markdown",
   "metadata": {
    "pycharm": {
     "name": "#%% md\n"
    }
   },
   "source": [
    "### Certificate report references"
   ]
  },
  {
   "cell_type": "code",
   "execution_count": null,
   "metadata": {
    "pycharm": {
     "name": "#%%\n"
    }
   },
   "outputs": [],
   "source": [
    "refs_cr = nx.DiGraph()\n",
    "for cert_id, cert in certs_with_ids.items():\n",
    "    refs_cr.add_node(cert_id, cert=cert)\n",
    "for cert_id, cert in certs_with_ids.items():\n",
    "    if cr_refs := cert.heuristics.report_references.directly_referencing:\n",
    "        for ref_id in cr_refs:\n",
    "            if ref_id in certs_with_ids:\n",
    "                refs_cr.add_edge(cert_id, ref_id, type=(\"cr\",))\n",
    "print(f\"References in certificate reports: {len(refs_cr.edges)}\")"
   ]
  },
  {
   "attachments": {},
   "cell_type": "markdown",
   "metadata": {
    "pycharm": {
     "name": "#%% md\n"
    }
   },
   "source": [
    "### Security target references"
   ]
  },
  {
   "cell_type": "code",
   "execution_count": null,
   "metadata": {
    "pycharm": {
     "name": "#%%\n"
    }
   },
   "outputs": [],
   "source": [
    "refs_st = nx.DiGraph()\n",
    "for cert_id, cert in certs_with_ids.items():\n",
    "    refs_st.add_node(cert_id, cert=cert)\n",
    "for cert_id, cert in certs_with_ids.items():\n",
    "    if st_refs := cert.heuristics.st_references.directly_referencing:\n",
    "        for ref_id in st_refs:\n",
    "            if ref_id in certs_with_ids:\n",
    "                refs_st.add_edge(cert_id, ref_id, type=(\"st\",))\n",
    "print(f\"References in security targets: {len(refs_st.edges)}\")"
   ]
  },
  {
   "attachments": {},
   "cell_type": "markdown",
   "metadata": {},
   "source": [
    "### Combined references"
   ]
  },
  {
   "cell_type": "code",
   "execution_count": null,
   "metadata": {
    "scrolled": false
   },
   "outputs": [],
   "source": [
    "refs = nx.DiGraph()\n",
    "for cert_id, cert in certs_with_ids.items():\n",
    "    refs.add_node(cert_id, cert=cert)\n",
    "\n",
    "for cert_id, cert in certs_with_ids.items():\n",
    "    cr_refs = cert.heuristics.report_references.directly_referencing\n",
    "    st_refs = cert.heuristics.st_references.directly_referencing\n",
    "    cr_refs = set(cr_refs) if cr_refs is not None else set()\n",
    "    st_refs = set(st_refs) if st_refs is not None else set()\n",
    "    both = cr_refs.union(st_refs)\n",
    "    for ref in both:\n",
    "        if ref not in certs_with_ids:\n",
    "            continue\n",
    "        if ref in cr_refs and ref not in st_refs:\n",
    "            refs.add_edge(cert_id, ref, type=(\"cr\", ))\n",
    "        elif ref in st_refs and ref not in cr_refs:\n",
    "            refs.add_edge(cert_id, ref, type=(\"st\", ))\n",
    "        else:\n",
    "            refs.add_edge(cert_id, ref, type=(\"cr\", \"st\"))\n",
    "print(f\"Combined references (not double counted): {len(refs.edges)}\")"
   ]
  },
  {
   "attachments": {},
   "cell_type": "markdown",
   "metadata": {},
   "source": [
    "### Certificate overview\n",
    "Enter the certificate you are interested in below and see its reference graph component."
   ]
  },
  {
   "cell_type": "code",
   "execution_count": null,
   "metadata": {},
   "outputs": [],
   "source": [
    "cert_id = \"ANSSI-CC-2019/02\""
   ]
  },
  {
   "cell_type": "code",
   "execution_count": null,
   "metadata": {
    "scrolled": false
   },
   "outputs": [],
   "source": [
    "cert = certs_with_ids.get(cert_id)\n",
    "if cert is None:\n",
    "    print(f\"Certificate with id {cert_id} is not present in the dataset.\")\n",
    "\n",
    "for component in nx.weakly_connected_components(refs):\n",
    "    if cert_id in component:\n",
    "        break\n",
    "\n",
    "view = nx.subgraph_view(refs, lambda node: node in component)\n",
    "print(f\"Certificate with id {cert_id}:\")\n",
    "print(f\" - is in a component with {len(view.nodes)} certificates and {len(view.edges)} references.\")\n",
    "print(f\" - references {list(view[cert_id].keys())}\")\n",
    "print(f\" - is referenced by {list(view.predecessors(cert_id))}\")\n",
    "print(f\" - its page is at https://seccerts.org/cc/{cert.dgst}/\")"
   ]
  },
  {
   "cell_type": "code",
   "execution_count": null,
   "metadata": {},
   "outputs": [],
   "source": [
    "nx.draw(view, pos=nx.planar_layout(view), with_labels=True)"
   ]
  },
  {
   "attachments": {},
   "cell_type": "markdown",
   "metadata": {
    "pycharm": {
     "name": "#%% md\n"
    }
   },
   "source": [
    "## Some graph metrics\n",
    "From <https://dataground.io/2021/09/29/simple-graph-metrics-networkx-for-beginners/> and\n",
    "<https://theslaps.medium.com/centrality-metrics-via-networkx-python-e13e60ba2740>.\n",
    "Also good <https://www.geeksforgeeks.org/network-centrality-measures-in-a-graph-using-networkx-python/>"
   ]
  },
  {
   "cell_type": "code",
   "execution_count": null,
   "metadata": {},
   "outputs": [],
   "source": [
    "print(f\"Density = {nx.density(refs)}\")\n",
    "print(f\"Transitivity = {nx.transitivity(refs)}\")"
   ]
  },
  {
   "cell_type": "code",
   "execution_count": null,
   "metadata": {
    "pycharm": {
     "name": "#%%\n"
    }
   },
   "outputs": [],
   "source": [
    "print(\"Degree centrality <Popularity> (top 20):\")\n",
    "degree_centrality_vals = [(node, val) for node, val in nx.degree_centrality(refs).items()]\n",
    "degree_centrality_vals.sort(key=lambda pair: pair[1], reverse=True)\n",
    "for pair in degree_centrality_vals[:20]:\n",
    "    print(f\"\\t{pair[0]} = {pair[1]}\")"
   ]
  },
  {
   "cell_type": "code",
   "execution_count": null,
   "metadata": {
    "pycharm": {
     "name": "#%%\n"
    }
   },
   "outputs": [],
   "source": [
    "print(\"Eigenvector centrality <Influence> (top 20):\")\n",
    "eigenvector_centrality_vals = [(node, val) for node, val in nx.eigenvector_centrality(refs).items()]\n",
    "eigenvector_centrality_vals.sort(key=lambda pair: pair[1], reverse=True)\n",
    "for pair in eigenvector_centrality_vals[:20]:\n",
    "    print(f\"\\t{pair[0]} = {pair[1]}\")"
   ]
  },
  {
   "cell_type": "code",
   "execution_count": null,
   "metadata": {
    "pycharm": {
     "name": "#%%\n"
    }
   },
   "outputs": [],
   "source": [
    "print(\"Closeness centrality <Centralness> (top 20):\")\n",
    "closeness_centrality_vals = [(node, val) for node, val in nx.closeness_centrality(refs).items()]\n",
    "closeness_centrality_vals.sort(key=lambda pair: pair[1], reverse=True)\n",
    "for pair in closeness_centrality_vals[:20]:\n",
    "    print(f\"\\t{pair[0]} = {pair[1]}\")"
   ]
  },
  {
   "cell_type": "code",
   "execution_count": null,
   "metadata": {
    "pycharm": {
     "name": "#%%\n"
    }
   },
   "outputs": [],
   "source": [
    "print(\"Betweenness centrality <Bridge> (top 20):\")\n",
    "betweenness_centrality_vals = [(node, val) for node, val in nx.betweenness_centrality(refs).items()]\n",
    "betweenness_centrality_vals.sort(key=lambda pair: pair[1], reverse=True)\n",
    "for pair in betweenness_centrality_vals[:20]:\n",
    "    print(f\"\\t{pair[0]} = {pair[1]}\")"
   ]
  },
  {
   "cell_type": "code",
   "execution_count": null,
   "metadata": {
    "pycharm": {
     "name": "#%%\n"
    }
   },
   "outputs": [],
   "source": [
    "component_lengths = list(filter(lambda comp_len: comp_len > 1, map(len, nx.weakly_connected_components(refs))))\n",
    "component_lengths.sort(reverse=True)\n",
    "print(component_lengths)"
   ]
  },
  {
   "cell_type": "code",
   "execution_count": null,
   "metadata": {
    "pycharm": {
     "name": "#%%\n"
    }
   },
   "outputs": [],
   "source": [
    "big_boy = refs.subgraph(max(nx.weakly_connected_components(refs), key=len))\n",
    "communities = list(nx_comm.greedy_modularity_communities(big_boy))\n",
    "print(len(communities))"
   ]
  },
  {
   "cell_type": "code",
   "execution_count": null,
   "metadata": {
    "pycharm": {
     "name": "#%%\n"
    },
    "scrolled": true
   },
   "outputs": [],
   "source": [
    "for com in communities:\n",
    "    for i in sorted(com):\n",
    "        print(f\"\\t{i}\")"
   ]
  },
  {
   "attachments": {},
   "cell_type": "markdown",
   "metadata": {},
   "source": [
    "## LaTeX commands"
   ]
  },
  {
   "cell_type": "code",
   "execution_count": null,
   "metadata": {},
   "outputs": [],
   "source": [
    "def contains_archived_cert_reference(referencing):\n",
    "    if pd.isnull(referencing):\n",
    "        return False\n",
    "    return bool(archived_cert_id_list.intersection(referencing))\n",
    "\n",
    "\n",
    "print(f\"\\\\newcommand{{\\\\numCcAllDirectReferencing}}{{{df.has_outgoing_direct_references.sum()}}}\")\n",
    "print(f\"\\\\newcommand{{\\\\numCcAllNotDirectReferencing}}{{{len(df) - df.has_outgoing_direct_references.sum()}}}\")\n",
    "print(f\"\\\\newcommand{{\\\\numCcWithIdDirectReferencing}}{{{df_id_rich.has_outgoing_direct_references.sum()}}}\")\n",
    "print(f\"\\\\newcommand{{\\\\numCcWithIdNotDirectReferencing}}{{{len(df_id_rich) - df_id_rich.has_outgoing_direct_references.sum()}}}\")\n",
    "print(f\"\\\\newcommand{{\\\\numCCActiveDirectReferencing}}{{{df_id_rich.loc[df_id_rich.status == 'active'].has_outgoing_direct_references.sum()}}}\")\n",
    "print(f\"\\\\newcommand{{\\\\numCCActiveDirectReferencingArchived}}{{{df_id_rich[df_id_rich.status == 'active'].directly_referencing.apply(contains_archived_cert_reference).sum()}}}\")\n",
    "\n",
    "print(\"\")\n",
    "print(f\"\\\\newcommand{{\\\\numCCDirectRefsSameCategory}}{{{(exploded_with_refs.category == exploded_with_refs.ref_category).sum()}}}\")\n",
    "print(f\"\\\\newcommand{{\\\\numCCDirectRefsOtherCategory}}{{{(exploded_with_refs.category != exploded_with_refs.ref_category).sum()}}}\")\n",
    "print(f\"\\\\newcommand{{\\\\numCCDirectRefs}}{{{len(exploded_with_refs)}}}\")\n",
    "print(f\"\\\\newcommand{{\\\\numCCDirectRefsFromSmartcards}}{{{(exploded_with_refs.category == 'ICs, Smart Cards and Smart Card-Related Devices and Systems').sum()}}}\")\n",
    "\n",
    "print(\"\")\n",
    "print(f\"\\\\newcommand{{\\\\numCCUSReferencing}}{{{len(df_id_rich.loc[(df_id_rich.scheme == 'US') & (df_id_rich.directly_referencing.notnull())])}}}\")\n",
    "print(f\"\\\\newcommand{{\\\\numCCUS}}{{{len(df_id_rich.loc[(df_id_rich.scheme == 'US')])}}}\")"
   ]
  }
 ],
 "metadata": {
  "kernelspec": {
   "display_name": "Python 3.8.13 ('venv': venv)",
   "language": "python",
   "name": "python3"
  },
  "language_info": {
   "codemirror_mode": {
    "name": "ipython",
    "version": 3
   },
   "file_extension": ".py",
   "mimetype": "text/x-python",
   "name": "python",
   "nbconvert_exporter": "python",
   "pygments_lexer": "ipython3",
   "version": "3.8.16"
  },
  "vscode": {
   "interpreter": {
    "hash": "a5b8c5b127d2cfe5bc3a1c933e197485eb9eba25154c3661362401503b4ef9d4"
   }
  }
 },
 "nbformat": 4,
 "nbformat_minor": 1
}
