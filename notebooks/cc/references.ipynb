{
 "cells": [
  {
   "cell_type": "markdown",
   "metadata": {
    "collapsed": true,
    "pycharm": {
     "name": "#%% md\n"
    }
   },
   "source": [
    "# References\n",
    "\n",
    "This notebook contains analysis of certificate references in Common Criteria certificates.\n",
    "\n",
    "The notebook has two parts, an analysis part and a network visualization part.\n",
    "But first some common initialization and data loading."
   ]
  },
  {
   "cell_type": "code",
   "execution_count": 1,
   "metadata": {
    "pycharm": {
     "name": "#%%\n"
    }
   },
   "outputs": [],
   "source": [
    "import networkx as nx\n",
    "import networkx.algorithms.community as nx_comm\n",
    "import matplotlib\n",
    "import matplotlib.pyplot as plt\n",
    "import matplotlib.ticker as mtick\n",
    "from sec_certs.dataset.cc import CCDataset\n",
    "import pandas as pd\n",
    "import seaborn as sns\n",
    "import numpy as np\n",
    "from pysankey import sankey\n",
    "\n",
    "%matplotlib inline\n",
    "\n",
    "matplotlib.use(\"pgf\")\n",
    "sns.set_theme(style='white')\n",
    "plt.rcParams[\"axes.linewidth\"] = 0.5\n",
    "plt.rcParams[\"legend.fontsize\"] = 6.5\n",
    "plt.rcParams[\"xtick.labelsize\"] = 8\n",
    "plt.rcParams[\"ytick.labelsize\"] = 8\n",
    "plt.rcParams[\"ytick.left\"] = True\n",
    "plt.rcParams['ytick.major.size'] = 5\n",
    "plt.rcParams['ytick.major.width'] = 0.5\n",
    "plt.rcParams['ytick.major.pad'] = 0\n",
    "plt.rcParams[\"xtick.bottom\"] = True\n",
    "plt.rcParams['xtick.major.size'] = 5\n",
    "plt.rcParams['xtick.major.width'] = 0.5\n",
    "plt.rcParams['xtick.major.pad'] = 0\n",
    "plt.rcParams[\"pgf.texsystem\"] = \"pdflatex\"\n",
    "plt.rcParams[\"font.family\"] = \"serif\"\n",
    "plt.rcParams[\"text.usetex\"] = True\n",
    "plt.rcParams[\"pgf.rcfonts\"] = False\n",
    "plt.rcParams[\"axes.titlesize\"] = 8\n",
    "plt.rcParams[\"legend.handletextpad\"] = 0.3\n",
    "plt.rcParams['lines.markersize'] = 4\n",
    "plt.rcParams['savefig.pad_inches'] = 0.01\n",
    "sns.set_palette(\"deep\")\n",
    "\n",
    "#plt.style.use(\"seaborn-whitegrid\")\n",
    "#sns.set_palette(\"deep\")\n",
    "#sns.set_context(\"notebook\")  # Set to \"paper\" for use in paper :)\n",
    "\n",
    "#plt.rcParams['figure.figsize'] = (10, 6)"
   ]
  },
  {
   "cell_type": "code",
   "execution_count": 2,
   "metadata": {
    "pycharm": {
     "name": "#%%\n"
    }
   },
   "outputs": [
    {
     "name": "stderr",
     "output_type": "stream",
     "text": [
      "Downloading CC Dataset: 100%|███████████████████████████████████████████████████████| 147M/147M [00:18<00:00, 8.41MB/s]\n"
     ]
    }
   ],
   "source": [
    "# Initialize\n",
    "dset = CCDataset.from_web_latest()"
   ]
  },
  {
   "cell_type": "code",
   "execution_count": 3,
   "metadata": {},
   "outputs": [],
   "source": [
    "df = dset.to_pandas()\n",
    "df_id_rich = df.loc[df.cert_id.notnull()].copy()"
   ]
  },
  {
   "cell_type": "markdown",
   "metadata": {
    "pycharm": {
     "name": "#%% md\n"
    }
   },
   "source": [
    "## Reference analysis\n"
   ]
  },
  {
   "cell_type": "markdown",
   "metadata": {},
   "source": [
    "### Count numbers of reference-rich certificates\n",
    "\n",
    "- From the numbers follows that whenever a certificate is directly referencing some else, it also indirectly references some else\n",
    "- We have more outgoing references than ingoing references, which kinda makes sense. You don't have to be aware that some other cert references you"
   ]
  },
  {
   "cell_type": "code",
   "execution_count": 4,
   "metadata": {
    "pycharm": {
     "name": "#%%\n"
    },
    "scrolled": true
   },
   "outputs": [
    {
     "name": "stdout",
     "output_type": "stream",
     "text": [
      "\\newcommand{\\numCcAllDirectReferencing}{1583}\n",
      "\\newcommand{\\numCcAllNotDirectReferencing}{3866}\n",
      "\\newcommand{\\numCcWithIdDirectReferencing}{1583}\n",
      "\\newcommand{\\numCcWithIdNotDirectReferencing}{3788}\n"
     ]
    }
   ],
   "source": [
    "df[\"has_outgoing_direct_references\"] = df.directly_referencing.notnull()\n",
    "df[\"has_incoming_direct_references\"] = df.directly_referenced_by.notnull()\n",
    "df[\"has_outgoing_indirect_references\"] = df.indirectly_referencing.notnull()\n",
    "df[\"has_incoming_indirect_references\"] = df.indirectly_referenced_by.notnull()\n",
    "\n",
    "#df.loc[:, [\"directly_referenced_by\", \"indirectly_referenced_by\", \"directly_referencing\", \"indirectly_referencing\"]].notnull().describe()\n",
    "\n",
    "print(f\"\\\\newcommand{{\\\\numCcAllDirectReferencing}}{{{df.has_outgoing_direct_references.sum()}}}\")\n",
    "print(f\"\\\\newcommand{{\\\\numCcAllNotDirectReferencing}}{{{len(df) - df.has_outgoing_direct_references.sum()}}}\")\n",
    "\n",
    "df_id_rich[\"has_outgoing_direct_references\"] = df_id_rich.directly_referencing.notnull()\n",
    "df_id_rich[\"has_incoming_direct_references\"] = df_id_rich.directly_referenced_by.notnull()\n",
    "df_id_rich[\"has_outgoing_indirect_references\"] = df_id_rich.indirectly_referencing.notnull()\n",
    "df_id_rich[\"has_incoming_indirect_references\"] = df_id_rich.indirectly_referenced_by.notnull()\n",
    "\n",
    "print(f\"\\\\newcommand{{\\\\numCcWithIdDirectReferencing}}{{{df_id_rich.has_outgoing_direct_references.sum()}}}\")\n",
    "print(f\"\\\\newcommand{{\\\\numCcWithIdNotDirectReferencing}}{{{len(df_id_rich) - df_id_rich.has_outgoing_direct_references.sum()}}}\")\n",
    "\n",
    "#df_id_rich.loc[:, [\"directly_referenced_by\", \"indirectly_referenced_by\", \"directly_referencing\", \"indirectly_referencing\"]].notnull().describe()"
   ]
  },
  {
   "cell_type": "code",
   "execution_count": 5,
   "metadata": {},
   "outputs": [
    {
     "name": "stdout",
     "output_type": "stream",
     "text": [
      "\\newcommand{\\numCCActiveDirectReferencing}{540}\n",
      "\\newcommand{\\numCCActiveDirectReferencingArchived}{179}\n"
     ]
    }
   ],
   "source": [
    "print(f\"\\\\newcommand{{\\\\numCCActiveDirectReferencing}}{{{df_id_rich.loc[df_id_rich.status == 'active'].has_outgoing_direct_references.sum()}}}\")\n",
    "\n",
    "archived_cert_id_list = set(df_id_rich[df_id_rich.status == \"archived\"].cert_id)\n",
    "def contains_archived_cert_reference(referencing):\n",
    "    if pd.isnull(referencing):\n",
    "        return False\n",
    "    return bool(archived_cert_id_list.intersection(referencing))\n",
    "print(f\"\\\\newcommand{{\\\\numCCActiveDirectReferencingArchived}}{{{df_id_rich[df_id_rich.status == 'active'].directly_referencing.apply(contains_archived_cert_reference).sum()}}}\")"
   ]
  },
  {
   "cell_type": "markdown",
   "metadata": {},
   "source": [
    "### Plot direct references per category"
   ]
  },
  {
   "cell_type": "code",
   "execution_count": 6,
   "metadata": {
    "pycharm": {
     "name": "#%%\n"
    }
   },
   "outputs": [],
   "source": [
    "figure, axes = plt.subplots(1, 2)\n",
    "figure.set_size_inches(16, 10)\n",
    "figure.set_tight_layout(True)\n",
    "\n",
    "col_to_depict = [\"has_outgoing_direct_references\", \"has_incoming_direct_references\"]\n",
    "\n",
    "for index, col in enumerate(col_to_depict):\n",
    "    countplot = sns.countplot(data=df, x=\"category\", hue=col, ax=axes[index])\n",
    "    countplot.set(\n",
    "        xlabel=\"Category\",\n",
    "        ylabel=\"Outgoing direct references\",\n",
    "        title=f\"Countplot of {' '.join(col.split('_'))}\",\n",
    "    )\n",
    "    countplot.tick_params(axis=\"x\", rotation=90)\n",
    "    countplot.legend(title=' '.join(col.split('_')), bbox_to_anchor=(1.05, 1), loc=2, borderaxespad=0.0)\n"
   ]
  },
  {
   "cell_type": "code",
   "execution_count": 7,
   "metadata": {
    "pycharm": {
     "name": "#%%\n"
    }
   },
   "outputs": [
    {
     "name": "stdout",
     "output_type": "stream",
     "text": [
      "\\newcommand{\\numCCDirectRefsSameCategory}{2257}\n",
      "\\newcommand{\\numCCDirectRefsOtherCategory}{205}\n",
      "\\newcommand{\\numCCDirectRefs}{2462}\n",
      "\\newcommand{\\numCCDirectRefsFromSmartcards}{2007}\n"
     ]
    }
   ],
   "source": [
    "cert_id_to_category_mapping = dict(zip(df.cert_id, df.category))\n",
    "cert_id_to_category_mapping[np.NaN] = \"No references\"\n",
    "\n",
    "exploded = df_id_rich.loc[:, [\"category\", \"directly_referencing\"]].explode(\"directly_referencing\")\n",
    "exploded[\"ref_category\"] = exploded.directly_referencing.map(lambda x: cert_id_to_category_mapping[x] if pd.notnull(x) else np.nan)\n",
    "exploded = exploded.loc[exploded.ref_category.notnull()]\n",
    "\n",
    "exploded_with_refs = exploded.loc[exploded.ref_category != \"No references\"]\n",
    "print(f\"\\\\newcommand{{\\\\numCCDirectRefsSameCategory}}{{{(exploded_with_refs.category == exploded_with_refs.ref_category).sum()}}}\")\n",
    "print(f\"\\\\newcommand{{\\\\numCCDirectRefsOtherCategory}}{{{(exploded_with_refs.category != exploded_with_refs.ref_category).sum()}}}\")\n",
    "print(f\"\\\\newcommand{{\\\\numCCDirectRefs}}{{{len(exploded_with_refs)}}}\")\n",
    "print(f\"\\\\newcommand{{\\\\numCCDirectRefsFromSmartcards}}{{{(exploded_with_refs.category == 'ICs, Smart Cards and Smart Card-Related Devices and Systems').sum()}}}\")\n",
    "\n",
    "all_categories = set(exploded.category.unique()) | set(exploded.ref_category.unique())\n",
    "colors = list(sns.color_palette(\"hls\", len(all_categories), as_cmap=False).as_hex())\n",
    "color_dict = dict(zip(all_categories, colors))\n",
    "\n",
    "figure, axes = plt.subplots(1, 1)\n",
    "figure.set_size_inches(24, 10)\n",
    "figure.set_tight_layout(True)\n",
    "\n",
    "sankey(exploded.category, exploded.ref_category, colorDict=color_dict, leftLabels=list(exploded.category.unique()), rightLabels=list(exploded.ref_category.unique()), fontsize=12, ax=axes)\n",
    "\n",
    "figure.savefig(\"category_references.pdf\", bbox_inches=\"tight\")\n",
    "figure.savefig(\"category_references.pgf\", bbox_inches=\"tight\")\n",
    "plt.close(figure)"
   ]
  },
  {
   "cell_type": "markdown",
   "metadata": {},
   "source": [
    "### Plot direct references per scheme"
   ]
  },
  {
   "cell_type": "code",
   "execution_count": 8,
   "metadata": {
    "pycharm": {
     "name": "#%%\n"
    }
   },
   "outputs": [],
   "source": [
    "figure, axes = plt.subplots(1, 2)\n",
    "figure.set_size_inches(14, 4)\n",
    "figure.set_tight_layout(True)\n",
    "\n",
    "col_to_depict = [\"has_outgoing_direct_references\", \"has_incoming_direct_references\"]\n",
    "\n",
    "for index, col in enumerate(col_to_depict):\n",
    "    countplot = sns.countplot(data=df, x=\"scheme\", hue=col, ax=axes[index])\n",
    "    countplot.set(\n",
    "        xlabel=\"Category\",\n",
    "        ylabel=\"Outgoing direct references\",\n",
    "        title=f\"Countplot of {' '.join(col.split('_'))}\",\n",
    "    )\n",
    "    countplot.tick_params(axis=\"x\", rotation=90)\n",
    "    countplot.legend(title=' '.join(col.split('_')), bbox_to_anchor=(1.05, 1), loc=2, borderaxespad=0.0)"
   ]
  },
  {
   "cell_type": "markdown",
   "metadata": {},
   "source": [
    "### Number of certificates referencing archived certificates"
   ]
  },
  {
   "cell_type": "code",
   "execution_count": 9,
   "metadata": {
    "pycharm": {
     "name": "#%%\n"
    }
   },
   "outputs": [
    {
     "name": "stdout",
     "output_type": "stream",
     "text": [
      "Number of certificates that reference some archived certificate: 983\n"
     ]
    }
   ],
   "source": [
    "def references_archived_cert(references):\n",
    "    if pd.isnull(references):\n",
    "        return False\n",
    "\n",
    "    return any([x in cert_ids] for x in references)\n",
    "\n",
    "cert_ids = set(df.loc[((df.cert_id.notnull()) & (df.status == \"archived\")), \"cert_id\"].tolist())\n",
    "df[\"references_archived_cert\"] = df.directly_referenced_by.map(references_archived_cert)\n",
    "\n",
    "print(f\"Number of certificates that reference some archived certificate: {df.loc[df.references_archived_cert].shape[0]}\")\n",
    "\n",
    "col_to_depict = [\"category\", \"scheme\"]\n",
    "\n",
    "figure, axes = plt.subplots(1, 2)\n",
    "figure.set_size_inches(14, 8)\n",
    "figure.set_tight_layout(True)\n",
    "\n",
    "for index, col in enumerate(col_to_depict):\n",
    "    countplot = sns.countplot(data=df, x=col, hue=\"references_archived_cert\", ax=axes[index])\n",
    "    countplot.set(\n",
    "        xlabel=col,\n",
    "        ylabel=\"Outgoing direct references\",\n",
    "        title=\"Countplot of certificates that reference some archived certificate\",\n",
    "    )\n",
    "    countplot.tick_params(axis=\"x\", rotation=90)\n",
    "    countplot.legend(bbox_to_anchor=(1.05, 1), loc=2, borderaxespad=0.0)"
   ]
  },
  {
   "cell_type": "markdown",
   "metadata": {},
   "source": [
    "### Count scheme references"
   ]
  },
  {
   "cell_type": "code",
   "execution_count": 10,
   "metadata": {
    "pycharm": {
     "name": "#%%\n"
    }
   },
   "outputs": [],
   "source": [
    "cert_id_to_scheme_mapping = dict(zip(df.cert_id, df.scheme))\n",
    "\n",
    "df_ref_rich = df_id_rich.loc[df.directly_referencing.notnull()]\n",
    "exploded = df_ref_rich.loc[:, [\"scheme\", \"directly_referencing\"]].explode(\"directly_referencing\")\n",
    "\n",
    "exploded[\"ref_scheme\"] = exploded.directly_referencing.map(cert_id_to_scheme_mapping)\n",
    "exploded = exploded.loc[exploded.ref_scheme.notnull()]\n",
    "\n",
    "all_schemes = set(exploded.scheme.unique()) | set(exploded.ref_scheme.unique())\n",
    "colors = list(sns.color_palette(\"hls\", len(all_schemes), as_cmap=False).as_hex())\n",
    "color_dict = dict(zip(all_schemes, colors))\n",
    "\n",
    "figure, axes = plt.subplots(1, 1)\n",
    "figure.set_size_inches(4, 4)\n",
    "figure.set_tight_layout(True)\n",
    "\n",
    "sankey(exploded.scheme, exploded.ref_scheme, colorDict=color_dict, leftLabels=list(exploded.scheme.unique()), rightLabels=list(exploded.ref_scheme.unique()), fontsize=7, ax=axes)\n",
    "\n",
    "figure.savefig(\"scheme_references.pdf\", bbox_inches=\"tight\")\n",
    "figure.savefig(\"scheme_references.pgf\", bbox_inches=\"tight\")\n",
    "plt.close(figure)"
   ]
  },
  {
   "cell_type": "code",
   "execution_count": 11,
   "metadata": {},
   "outputs": [
    {
     "name": "stdout",
     "output_type": "stream",
     "text": [
      "\\newcommand{\\numCCUSReferencing}{4}\n",
      "\\newcommand{\\numCCUS}{1027}\n"
     ]
    }
   ],
   "source": [
    "print(f\"\\\\newcommand{{\\\\numCCUSReferencing}}{{{len(df_id_rich.loc[(df_id_rich.scheme == 'US') & (df_id_rich.directly_referencing.notnull())])}}}\")\n",
    "print(f\"\\\\newcommand{{\\\\numCCUS}}{{{len(df_id_rich.loc[(df_id_rich.scheme == 'US')])}}}\")"
   ]
  },
  {
   "cell_type": "markdown",
   "metadata": {},
   "source": [
    "### Temporal evolution of references\n",
    "\n",
    "Shows plot with relative number of certificates for a given year that reference some other certificate"
   ]
  },
  {
   "cell_type": "code",
   "execution_count": 12,
   "metadata": {
    "pycharm": {
     "name": "#%%\n"
    }
   },
   "outputs": [],
   "source": [
    "df_temporal = df.loc[df.year_from < 2022].groupby([\"year_from\"])[\"directly_referencing\"].count().reset_index().set_index(\"year_from\")\n",
    "n_issued_certs = df.groupby(\"year_from\").name.count().reset_index().rename(columns={\"name\": \"n_certs\"}).set_index(\"year_from\")\n",
    "df_temporal.directly_referencing = 100 * df_temporal.directly_referencing / n_issued_certs.n_certs\n",
    "\n",
    "line = sns.lineplot(data=df_temporal, x=\"year_from\", y=\"directly_referencing\")\n",
    "line.yaxis.set_major_formatter(mtick.PercentFormatter())"
   ]
  },
  {
   "cell_type": "markdown",
   "metadata": {},
   "source": [
    "### Cross references"
   ]
  },
  {
   "cell_type": "code",
   "execution_count": 13,
   "metadata": {
    "pycharm": {
     "name": "#%%\n"
    }
   },
   "outputs": [],
   "source": [
    "# Plotting w.r.t. scheme and category (both are interesting)"
   ]
  },
  {
   "cell_type": "markdown",
   "metadata": {},
   "source": [
    "## Reference network visualization"
   ]
  },
  {
   "cell_type": "code",
   "execution_count": 14,
   "metadata": {
    "pycharm": {
     "name": "#%%\n"
    }
   },
   "outputs": [
    {
     "name": "stdout",
     "output_type": "stream",
     "text": [
      "Certificates in dataset: 5449\n",
      "Certificates with extracted IDs: 5292\n"
     ]
    }
   ],
   "source": [
    "certs_with_ids = {cert.heuristics.cert_id: cert for cert in dset if cert.heuristics.cert_id}\n",
    "\n",
    "print(f\"Certificates in dataset: {len(dset)}\")\n",
    "print(f\"Certificates with extracted IDs: {len(certs_with_ids)}\")"
   ]
  },
  {
   "cell_type": "markdown",
   "metadata": {
    "pycharm": {
     "name": "#%% md\n"
    }
   },
   "source": [
    "### Certificate report references"
   ]
  },
  {
   "cell_type": "code",
   "execution_count": 15,
   "metadata": {
    "pycharm": {
     "name": "#%%\n"
    }
   },
   "outputs": [
    {
     "name": "stdout",
     "output_type": "stream",
     "text": [
      "References in certificate reports: 2439\n"
     ]
    }
   ],
   "source": [
    "refs_cr = nx.DiGraph()\n",
    "for cert_id, cert in certs_with_ids.items():\n",
    "    refs_cr.add_node(cert_id, cert=cert)\n",
    "for cert_id, cert in certs_with_ids.items():\n",
    "    if cr_refs := cert.heuristics.report_references.directly_referencing:\n",
    "        for ref_id in cr_refs:\n",
    "            if ref_id in certs_with_ids:\n",
    "                refs_cr.add_edge(cert_id, ref_id, type=(\"cr\",))\n",
    "print(f\"References in certificate reports: {len(refs_cr.edges)}\")"
   ]
  },
  {
   "cell_type": "markdown",
   "metadata": {
    "pycharm": {
     "name": "#%% md\n"
    }
   },
   "source": [
    "### Security target references"
   ]
  },
  {
   "cell_type": "code",
   "execution_count": 16,
   "metadata": {
    "pycharm": {
     "name": "#%%\n"
    }
   },
   "outputs": [
    {
     "name": "stdout",
     "output_type": "stream",
     "text": [
      "References in security targets: 1007\n"
     ]
    }
   ],
   "source": [
    "refs_st = nx.DiGraph()\n",
    "for cert_id, cert in certs_with_ids.items():\n",
    "    refs_st.add_node(cert_id, cert=cert)\n",
    "for cert_id, cert in certs_with_ids.items():\n",
    "    if st_refs := cert.heuristics.st_references.directly_referencing:\n",
    "        for ref_id in st_refs:\n",
    "            if ref_id in certs_with_ids:\n",
    "                refs_st.add_edge(cert_id, ref_id, type=(\"st\",))\n",
    "print(f\"References in security targets: {len(refs_st.edges)}\")"
   ]
  },
  {
   "cell_type": "markdown",
   "metadata": {},
   "source": [
    "### Combined references"
   ]
  },
  {
   "cell_type": "code",
   "execution_count": 17,
   "metadata": {
    "scrolled": false
   },
   "outputs": [
    {
     "name": "stdout",
     "output_type": "stream",
     "text": [
      "Combined references (not double counted): 2704\n"
     ]
    }
   ],
   "source": [
    "refs = nx.DiGraph()\n",
    "for cert_id, cert in certs_with_ids.items():\n",
    "    refs.add_node(cert_id, cert=cert)\n",
    "\n",
    "for cert_id, cert in certs_with_ids.items():\n",
    "    cr_refs = cert.heuristics.report_references.directly_referencing\n",
    "    st_refs = cert.heuristics.st_references.directly_referencing\n",
    "    cr_refs = set(cr_refs) if cr_refs is not None else set()\n",
    "    st_refs = set(st_refs) if st_refs is not None else set()\n",
    "    both = cr_refs.union(st_refs)\n",
    "    for ref in both:\n",
    "        if ref not in certs_with_ids:\n",
    "            continue\n",
    "        if ref in cr_refs and ref not in st_refs:\n",
    "            refs.add_edge(cert_id, ref, type=(\"cr\", ))\n",
    "        elif ref in st_refs and ref not in cr_refs:\n",
    "            refs.add_edge(cert_id, ref, type=(\"st\", ))\n",
    "        else:\n",
    "            refs.add_edge(cert_id, ref, type=(\"cr\", \"st\"))\n",
    "print(f\"Combined references (not double counted): {len(refs.edges)}\")"
   ]
  },
  {
   "cell_type": "markdown",
   "metadata": {},
   "source": [
    "### Certificate overview\n",
    "Enter the certificate you are interested in below and see its reference graph component."
   ]
  },
  {
   "cell_type": "code",
   "execution_count": 18,
   "metadata": {},
   "outputs": [],
   "source": [
    "cert_id = \"ANSSI-CC-2019/02\""
   ]
  },
  {
   "cell_type": "code",
   "execution_count": 19,
   "metadata": {
    "scrolled": false
   },
   "outputs": [
    {
     "name": "stdout",
     "output_type": "stream",
     "text": [
      "Certificate with id ANSSI-CC-2019/02:\n",
      " - is in a component with 21 certificates and 22 references.\n",
      " - references ['ANSSI-CC-2019/01', 'ANSSI-CC-2018/13']\n",
      " - is referenced by ['ANSSI-CC-2019/60']\n",
      " - its page is at https://seccerts.org/cc/102bbdfcd696d7a9/\n"
     ]
    }
   ],
   "source": [
    "cert = certs_with_ids.get(cert_id)\n",
    "if cert is None:\n",
    "    print(f\"Certificate with id {cert_id} is not present in the dataset.\")\n",
    "\n",
    "for component in nx.weakly_connected_components(refs):\n",
    "    if cert_id in component:\n",
    "        break\n",
    "\n",
    "view = nx.subgraph_view(refs, lambda node: node in component)\n",
    "print(f\"Certificate with id {cert_id}:\")\n",
    "print(f\" - is in a component with {len(view.nodes)} certificates and {len(view.edges)} references.\")\n",
    "print(f\" - references {list(view[cert_id].keys())}\")\n",
    "print(f\" - is referenced by {list(view.predecessors(cert_id))}\")\n",
    "print(f\" - its page is at https://seccerts.org/cc/{cert.dgst}/\")"
   ]
  },
  {
   "cell_type": "code",
   "execution_count": 20,
   "metadata": {},
   "outputs": [],
   "source": [
    "nx.draw(view, pos=nx.planar_layout(view), with_labels=True)"
   ]
  },
  {
   "cell_type": "markdown",
   "metadata": {
    "pycharm": {
     "name": "#%% md\n"
    }
   },
   "source": [
    "## Some graph metrics\n",
    "From <https://dataground.io/2021/09/29/simple-graph-metrics-networkx-for-beginners/> and\n",
    "<https://theslaps.medium.com/centrality-metrics-via-networkx-python-e13e60ba2740>.\n",
    "Also good <https://www.geeksforgeeks.org/network-centrality-measures-in-a-graph-using-networkx-python/>"
   ]
  },
  {
   "cell_type": "code",
   "execution_count": 21,
   "metadata": {},
   "outputs": [
    {
     "name": "stdout",
     "output_type": "stream",
     "text": [
      "Density = 9.657152514295372e-05\n",
      "Transitivity = 0.28752821670428896\n"
     ]
    }
   ],
   "source": [
    "print(f\"Density = {nx.density(refs)}\")\n",
    "print(f\"Transitivity = {nx.transitivity(refs)}\")"
   ]
  },
  {
   "cell_type": "code",
   "execution_count": 22,
   "metadata": {
    "pycharm": {
     "name": "#%%\n"
    }
   },
   "outputs": [
    {
     "name": "stdout",
     "output_type": "stream",
     "text": [
      "Degree centrality <Popularity> (top 20):\n",
      "\tBSI-DSZ-CC-0555-2009 = 0.008505008505008505\n",
      "\tBSI-DSZ-CC-0410-2007 = 0.008505008505008505\n",
      "\tANSSI-CC-2010/02 = 0.008127008127008126\n",
      "\tBSI-DSZ-CC-0829-2012 = 0.006048006048006048\n",
      "\tBSI-DSZ-CC-0837-V2-2014 = 0.005859005859005859\n",
      "\tBSI-DSZ-CC-0813-2012 = 0.0056700056700056695\n",
      "\tBSI-DSZ-CC-1059-2018 = 0.005103005103005103\n",
      "\tBSI-DSZ-CC-0891-V2-2016 = 0.004536004536004536\n",
      "\tBSI-DSZ-CC-1040-2019 = 0.004347004347004347\n",
      "\tBSI-DSZ-CC-0782-V2-2015 = 0.004347004347004347\n",
      "\tBSI-DSZ-CC-0645-2010 = 0.004158004158004158\n",
      "\tBSI-DSZ-CC-0266-2005 = 0.00378000378000378\n",
      "\tBSI-DSZ-CC-1110-V2-2019 = 0.003591003591003591\n",
      "\tBSI-DSZ-CC-0322-2005 = 0.003591003591003591\n",
      "\tBSI-DSZ-CC-1107-V3-2022 = 0.0034020034020034017\n",
      "\tBSI-DSZ-CC-0973-V2-2016 = 0.0034020034020034017\n",
      "\tBSI-DSZ-CC-0978-2016 = 0.0034020034020034017\n",
      "\tANSSI-CC-2015/36 = 0.0034020034020034017\n",
      "\tBSI-DSZ-CC-0782-2012 = 0.0034020034020034017\n",
      "\tANSSI-CC-2011/07 = 0.0034020034020034017\n"
     ]
    }
   ],
   "source": [
    "print(\"Degree centrality <Popularity> (top 20):\")\n",
    "degree_centrality_vals = [(node, val) for node, val in nx.degree_centrality(refs).items()]\n",
    "degree_centrality_vals.sort(key=lambda pair: pair[1], reverse=True)\n",
    "for pair in degree_centrality_vals[:20]:\n",
    "    print(f\"\\t{pair[0]} = {pair[1]}\")"
   ]
  },
  {
   "cell_type": "code",
   "execution_count": 23,
   "metadata": {
    "pycharm": {
     "name": "#%%\n"
    }
   },
   "outputs": [
    {
     "name": "stdout",
     "output_type": "stream",
     "text": [
      "Eigenvector centrality <Influence> (top 20):\n",
      "\tBSI-DSZ-CC-0404-2007 = 0.34997916589268285\n",
      "\tBSI-DSZ-CC-0410-2007 = 0.3281366677692413\n",
      "\tBSI-DSZ-CC-0858-2013 = 0.30933798637111454\n",
      "\tBSI-DSZ-CC-0555-2009 = 0.3093378374783434\n",
      "\tBSI-DSZ-CC-0674-2011 = 0.2900032282073668\n",
      "\tBSI-DSZ-CC-0709-2010 = 0.2706698440410895\n",
      "\tBSI-DSZ-CC-0750-V2-2014 = 0.23200295186797337\n",
      "\tBSI-DSZ-CC-0633-2010 = 0.23200271283890217\n",
      "\tBSI-DSZ-CC-0710-2010 = 0.23200252391425\n",
      "\tNSCIB-CC-13-37760-CR2 = 0.17400201952226893\n",
      "\tBSI-DSZ-CC-0675-2011 = 0.17400191027397377\n",
      "\tBSI-DSZ-CC-0730-2011 = 0.17400189296987031\n",
      "\tBSI-DSZ-CC-0913-2014 = 0.1305014197293018\n",
      "\tBSI-DSZ-CC-0911-2014 = 0.1305014197293018\n",
      "\tBSI-DSZ-CC-0912-2014 = 0.1305014197293018\n",
      "\tBSI-DSZ-CC-0798-2012 = 0.1305014197293018\n",
      "\tBSI-DSZ-CC-0797-2012 = 0.1305014197293018\n",
      "\tBSI-DSZ-CC-0799-2012 = 0.1305014197293018\n",
      "\tBSI-DSZ-CC-0914-2014 = 0.1305014197293018\n",
      "\tBSI-DSZ-CC-0804-2012 = 0.1305014197293018\n"
     ]
    }
   ],
   "source": [
    "print(\"Eigenvector centrality <Influence> (top 20):\")\n",
    "eigenvector_centrality_vals = [(node, val) for node, val in nx.eigenvector_centrality(refs).items()]\n",
    "eigenvector_centrality_vals.sort(key=lambda pair: pair[1], reverse=True)\n",
    "for pair in eigenvector_centrality_vals[:20]:\n",
    "    print(f\"\\t{pair[0]} = {pair[1]}\")"
   ]
  },
  {
   "cell_type": "code",
   "execution_count": null,
   "metadata": {
    "pycharm": {
     "name": "#%%\n"
    }
   },
   "outputs": [
    {
     "name": "stdout",
     "output_type": "stream",
     "text": [
      "Closeness centrality <Centralness> (top 20):\n"
     ]
    }
   ],
   "source": [
    "print(\"Closeness centrality <Centralness> (top 20):\")\n",
    "closeness_centrality_vals = [(node, val) for node, val in nx.closeness_centrality(refs).items()]\n",
    "closeness_centrality_vals.sort(key=lambda pair: pair[1], reverse=True)\n",
    "for pair in closeness_centrality_vals[:20]:\n",
    "    print(f\"\\t{pair[0]} = {pair[1]}\")"
   ]
  },
  {
   "cell_type": "code",
   "execution_count": null,
   "metadata": {
    "pycharm": {
     "name": "#%%\n"
    }
   },
   "outputs": [],
   "source": [
    "print(\"Betweenness centrality <Bridge> (top 20):\")\n",
    "betweenness_centrality_vals = [(node, val) for node, val in nx.betweenness_centrality(refs).items()]\n",
    "betweenness_centrality_vals.sort(key=lambda pair: pair[1], reverse=True)\n",
    "for pair in betweenness_centrality_vals[:20]:\n",
    "    print(f\"\\t{pair[0]} = {pair[1]}\")"
   ]
  },
  {
   "cell_type": "code",
   "execution_count": null,
   "metadata": {
    "pycharm": {
     "name": "#%%\n"
    }
   },
   "outputs": [],
   "source": [
    "component_lengths = list(filter(lambda comp_len: comp_len > 1, map(len, nx.weakly_connected_components(refs))))\n",
    "component_lengths.sort(reverse=True)\n",
    "print(component_lengths)"
   ]
  },
  {
   "cell_type": "code",
   "execution_count": null,
   "metadata": {
    "pycharm": {
     "name": "#%%\n"
    }
   },
   "outputs": [],
   "source": [
    "big_boy = refs.subgraph(max(nx.weakly_connected_components(refs), key=len))\n",
    "communities = list(nx_comm.greedy_modularity_communities(big_boy))\n",
    "print(len(communities))"
   ]
  },
  {
   "cell_type": "code",
   "execution_count": null,
   "metadata": {
    "pycharm": {
     "name": "#%%\n"
    },
    "scrolled": true
   },
   "outputs": [],
   "source": [
    "for com in communities:\n",
    "    for i in sorted(com):\n",
    "        print(f\"\\t{i}\")"
   ]
  }
 ],
 "metadata": {
  "kernelspec": {
   "display_name": "Python 3 (ipykernel)",
   "language": "python",
   "name": "python3"
  },
  "language_info": {
   "codemirror_mode": {
    "name": "ipython",
    "version": 3
   },
   "file_extension": ".py",
   "mimetype": "text/x-python",
   "name": "python",
   "nbconvert_exporter": "python",
   "pygments_lexer": "ipython3",
   "version": "3.10.12"
  },
  "vscode": {
   "interpreter": {
    "hash": "a5b8c5b127d2cfe5bc3a1c933e197485eb9eba25154c3661362401503b4ef9d4"
   }
  }
 },
 "nbformat": 4,
 "nbformat_minor": 1
}
